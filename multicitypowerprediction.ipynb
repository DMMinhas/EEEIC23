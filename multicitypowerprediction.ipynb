{
 "cells": [
  {
   "cell_type": "code",
   "execution_count": 37,
   "id": "442240b0",
   "metadata": {
    "vscode": {
     "languageId": "r"
    }
   },
   "outputs": [],
   "source": [
    "# Setup chunk to install and load required packages\n",
    "knitr::opts_chunk$set(warning = FALSE, message = FALSE)\n",
    "suppressWarnings(if(!require(\"pacman\")) install.packages(\"pacman\"))\n",
    "\n",
    "pacman::p_load('tidyverse', 'tidymodels', 'glmnet',\n",
    "               'randomForest', 'xgboost','patchwork',\n",
    "               'paletteer', 'here', 'doParallel', 'summarytools', 'statip')\n"
   ]
  },
  {
   "cell_type": "code",
   "execution_count": 38,
   "id": "957e0115",
   "metadata": {
    "vscode": {
     "languageId": "r"
    }
   },
   "outputs": [],
   "source": [
    "# Initialize library\n",
    "library(tidyverse)\n",
    "library(patchwork)\n",
    "library(statip)\n",
    "library(glue)\n",
    "library(summarytools)\n",
    "library(tidymodels)\n",
    "library(lubridate)\n",
    "library(paletteer)\n",
    "library(ggplot2)\n",
    "#library(dplyr)\n",
    "#library(statsr)\n",
    "#library(GGally)\n",
    "library(ggpubr)"
   ]
  },
  {
   "cell_type": "code",
   "execution_count": 45,
   "id": "fe562356",
   "metadata": {
    "vscode": {
     "languageId": "r"
    }
   },
   "outputs": [
    {
     "data": {
      "text/html": [
       "<table class=\"dataframe\">\n",
       "<caption>A data.frame: 10 × 18</caption>\n",
       "<thead>\n",
       "\t<tr><th scope=col>m</th><th scope=col>dm</th><th scope=col>dy</th><th scope=col>h</th><th scope=col>mi</th><th scope=col>G_Gh</th><th scope=col>hs</th><th scope=col>G_Gex</th><th scope=col>G_Gh_hr</th><th scope=col>G_Dh</th><th scope=col>G_Gk</th><th scope=col>G_Dk</th><th scope=col>G_Bn</th><th scope=col>Ta</th><th scope=col>FF</th><th scope=col>G_Gcs</th><th scope=col>Td</th><th scope=col>PVprod</th></tr>\n",
       "\t<tr><th scope=col>&lt;int&gt;</th><th scope=col>&lt;int&gt;</th><th scope=col>&lt;int&gt;</th><th scope=col>&lt;int&gt;</th><th scope=col>&lt;int&gt;</th><th scope=col>&lt;int&gt;</th><th scope=col>&lt;dbl&gt;</th><th scope=col>&lt;int&gt;</th><th scope=col>&lt;int&gt;</th><th scope=col>&lt;int&gt;</th><th scope=col>&lt;int&gt;</th><th scope=col>&lt;int&gt;</th><th scope=col>&lt;int&gt;</th><th scope=col>&lt;dbl&gt;</th><th scope=col>&lt;dbl&gt;</th><th scope=col>&lt;int&gt;</th><th scope=col>&lt;dbl&gt;</th><th scope=col>&lt;int&gt;</th></tr>\n",
       "</thead>\n",
       "<tbody>\n",
       "\t<tr><td>1</td><td>1</td><td>1</td><td>0</td><td> 1</td><td>0</td><td>-63.0</td><td>0</td><td>0</td><td>0</td><td>0</td><td>0</td><td>0</td><td>8.9</td><td>2.1</td><td>0</td><td>8.2</td><td>0</td></tr>\n",
       "\t<tr><td>1</td><td>1</td><td>1</td><td>0</td><td> 2</td><td>0</td><td>-63.0</td><td>0</td><td>0</td><td>0</td><td>0</td><td>0</td><td>0</td><td>8.9</td><td>2.1</td><td>0</td><td>8.2</td><td>0</td></tr>\n",
       "\t<tr><td>1</td><td>1</td><td>1</td><td>0</td><td> 3</td><td>0</td><td>-63.1</td><td>0</td><td>0</td><td>0</td><td>0</td><td>0</td><td>0</td><td>8.9</td><td>2.1</td><td>0</td><td>8.2</td><td>0</td></tr>\n",
       "\t<tr><td>1</td><td>1</td><td>1</td><td>0</td><td> 4</td><td>0</td><td>-63.1</td><td>0</td><td>0</td><td>0</td><td>0</td><td>0</td><td>0</td><td>8.9</td><td>2.1</td><td>0</td><td>8.2</td><td>0</td></tr>\n",
       "\t<tr><td>1</td><td>1</td><td>1</td><td>0</td><td> 5</td><td>0</td><td>-63.2</td><td>0</td><td>0</td><td>0</td><td>0</td><td>0</td><td>0</td><td>8.9</td><td>2.1</td><td>0</td><td>8.2</td><td>0</td></tr>\n",
       "\t<tr><td>1</td><td>1</td><td>1</td><td>0</td><td> 6</td><td>0</td><td>-63.2</td><td>0</td><td>0</td><td>0</td><td>0</td><td>0</td><td>0</td><td>8.9</td><td>2.1</td><td>0</td><td>8.2</td><td>0</td></tr>\n",
       "\t<tr><td>1</td><td>1</td><td>1</td><td>0</td><td> 7</td><td>0</td><td>-63.2</td><td>0</td><td>0</td><td>0</td><td>0</td><td>0</td><td>0</td><td>8.9</td><td>2.1</td><td>0</td><td>8.2</td><td>0</td></tr>\n",
       "\t<tr><td>1</td><td>1</td><td>1</td><td>0</td><td> 8</td><td>0</td><td>-63.3</td><td>0</td><td>0</td><td>0</td><td>0</td><td>0</td><td>0</td><td>8.9</td><td>2.1</td><td>0</td><td>8.2</td><td>0</td></tr>\n",
       "\t<tr><td>1</td><td>1</td><td>1</td><td>0</td><td> 9</td><td>0</td><td>-63.3</td><td>0</td><td>0</td><td>0</td><td>0</td><td>0</td><td>0</td><td>8.9</td><td>2.1</td><td>0</td><td>8.2</td><td>0</td></tr>\n",
       "\t<tr><td>1</td><td>1</td><td>1</td><td>0</td><td>10</td><td>0</td><td>-63.4</td><td>0</td><td>0</td><td>0</td><td>0</td><td>0</td><td>0</td><td>8.9</td><td>2.1</td><td>0</td><td>8.2</td><td>0</td></tr>\n",
       "</tbody>\n",
       "</table>\n"
      ],
      "text/latex": [
       "A data.frame: 10 × 18\n",
       "\\begin{tabular}{llllllllllllllllll}\n",
       " m & dm & dy & h & mi & G\\_Gh & hs & G\\_Gex & G\\_Gh\\_hr & G\\_Dh & G\\_Gk & G\\_Dk & G\\_Bn & Ta & FF & G\\_Gcs & Td & PVprod\\\\\n",
       " <int> & <int> & <int> & <int> & <int> & <int> & <dbl> & <int> & <int> & <int> & <int> & <int> & <int> & <dbl> & <dbl> & <int> & <dbl> & <int>\\\\\n",
       "\\hline\n",
       "\t 1 & 1 & 1 & 0 &  1 & 0 & -63.0 & 0 & 0 & 0 & 0 & 0 & 0 & 8.9 & 2.1 & 0 & 8.2 & 0\\\\\n",
       "\t 1 & 1 & 1 & 0 &  2 & 0 & -63.0 & 0 & 0 & 0 & 0 & 0 & 0 & 8.9 & 2.1 & 0 & 8.2 & 0\\\\\n",
       "\t 1 & 1 & 1 & 0 &  3 & 0 & -63.1 & 0 & 0 & 0 & 0 & 0 & 0 & 8.9 & 2.1 & 0 & 8.2 & 0\\\\\n",
       "\t 1 & 1 & 1 & 0 &  4 & 0 & -63.1 & 0 & 0 & 0 & 0 & 0 & 0 & 8.9 & 2.1 & 0 & 8.2 & 0\\\\\n",
       "\t 1 & 1 & 1 & 0 &  5 & 0 & -63.2 & 0 & 0 & 0 & 0 & 0 & 0 & 8.9 & 2.1 & 0 & 8.2 & 0\\\\\n",
       "\t 1 & 1 & 1 & 0 &  6 & 0 & -63.2 & 0 & 0 & 0 & 0 & 0 & 0 & 8.9 & 2.1 & 0 & 8.2 & 0\\\\\n",
       "\t 1 & 1 & 1 & 0 &  7 & 0 & -63.2 & 0 & 0 & 0 & 0 & 0 & 0 & 8.9 & 2.1 & 0 & 8.2 & 0\\\\\n",
       "\t 1 & 1 & 1 & 0 &  8 & 0 & -63.3 & 0 & 0 & 0 & 0 & 0 & 0 & 8.9 & 2.1 & 0 & 8.2 & 0\\\\\n",
       "\t 1 & 1 & 1 & 0 &  9 & 0 & -63.3 & 0 & 0 & 0 & 0 & 0 & 0 & 8.9 & 2.1 & 0 & 8.2 & 0\\\\\n",
       "\t 1 & 1 & 1 & 0 & 10 & 0 & -63.4 & 0 & 0 & 0 & 0 & 0 & 0 & 8.9 & 2.1 & 0 & 8.2 & 0\\\\\n",
       "\\end{tabular}\n"
      ],
      "text/markdown": [
       "\n",
       "A data.frame: 10 × 18\n",
       "\n",
       "| m &lt;int&gt; | dm &lt;int&gt; | dy &lt;int&gt; | h &lt;int&gt; | mi &lt;int&gt; | G_Gh &lt;int&gt; | hs &lt;dbl&gt; | G_Gex &lt;int&gt; | G_Gh_hr &lt;int&gt; | G_Dh &lt;int&gt; | G_Gk &lt;int&gt; | G_Dk &lt;int&gt; | G_Bn &lt;int&gt; | Ta &lt;dbl&gt; | FF &lt;dbl&gt; | G_Gcs &lt;int&gt; | Td &lt;dbl&gt; | PVprod &lt;int&gt; |\n",
       "|---|---|---|---|---|---|---|---|---|---|---|---|---|---|---|---|---|---|\n",
       "| 1 | 1 | 1 | 0 |  1 | 0 | -63.0 | 0 | 0 | 0 | 0 | 0 | 0 | 8.9 | 2.1 | 0 | 8.2 | 0 |\n",
       "| 1 | 1 | 1 | 0 |  2 | 0 | -63.0 | 0 | 0 | 0 | 0 | 0 | 0 | 8.9 | 2.1 | 0 | 8.2 | 0 |\n",
       "| 1 | 1 | 1 | 0 |  3 | 0 | -63.1 | 0 | 0 | 0 | 0 | 0 | 0 | 8.9 | 2.1 | 0 | 8.2 | 0 |\n",
       "| 1 | 1 | 1 | 0 |  4 | 0 | -63.1 | 0 | 0 | 0 | 0 | 0 | 0 | 8.9 | 2.1 | 0 | 8.2 | 0 |\n",
       "| 1 | 1 | 1 | 0 |  5 | 0 | -63.2 | 0 | 0 | 0 | 0 | 0 | 0 | 8.9 | 2.1 | 0 | 8.2 | 0 |\n",
       "| 1 | 1 | 1 | 0 |  6 | 0 | -63.2 | 0 | 0 | 0 | 0 | 0 | 0 | 8.9 | 2.1 | 0 | 8.2 | 0 |\n",
       "| 1 | 1 | 1 | 0 |  7 | 0 | -63.2 | 0 | 0 | 0 | 0 | 0 | 0 | 8.9 | 2.1 | 0 | 8.2 | 0 |\n",
       "| 1 | 1 | 1 | 0 |  8 | 0 | -63.3 | 0 | 0 | 0 | 0 | 0 | 0 | 8.9 | 2.1 | 0 | 8.2 | 0 |\n",
       "| 1 | 1 | 1 | 0 |  9 | 0 | -63.3 | 0 | 0 | 0 | 0 | 0 | 0 | 8.9 | 2.1 | 0 | 8.2 | 0 |\n",
       "| 1 | 1 | 1 | 0 | 10 | 0 | -63.4 | 0 | 0 | 0 | 0 | 0 | 0 | 8.9 | 2.1 | 0 | 8.2 | 0 |\n",
       "\n"
      ],
      "text/plain": [
       "   m dm dy h mi G_Gh hs    G_Gex G_Gh_hr G_Dh G_Gk G_Dk G_Bn Ta  FF  G_Gcs Td \n",
       "1  1 1  1  0  1 0    -63.0 0     0       0    0    0    0    8.9 2.1 0     8.2\n",
       "2  1 1  1  0  2 0    -63.0 0     0       0    0    0    0    8.9 2.1 0     8.2\n",
       "3  1 1  1  0  3 0    -63.1 0     0       0    0    0    0    8.9 2.1 0     8.2\n",
       "4  1 1  1  0  4 0    -63.1 0     0       0    0    0    0    8.9 2.1 0     8.2\n",
       "5  1 1  1  0  5 0    -63.2 0     0       0    0    0    0    8.9 2.1 0     8.2\n",
       "6  1 1  1  0  6 0    -63.2 0     0       0    0    0    0    8.9 2.1 0     8.2\n",
       "7  1 1  1  0  7 0    -63.2 0     0       0    0    0    0    8.9 2.1 0     8.2\n",
       "8  1 1  1  0  8 0    -63.3 0     0       0    0    0    0    8.9 2.1 0     8.2\n",
       "9  1 1  1  0  9 0    -63.3 0     0       0    0    0    0    8.9 2.1 0     8.2\n",
       "10 1 1  1  0 10 0    -63.4 0     0       0    0    0    0    8.9 2.1 0     8.2\n",
       "   PVprod\n",
       "1  0     \n",
       "2  0     \n",
       "3  0     \n",
       "4  0     \n",
       "5  0     \n",
       "6  0     \n",
       "7  0     \n",
       "8  0     \n",
       "9  0     \n",
       "10 0     "
      ]
     },
     "metadata": {},
     "output_type": "display_data"
    }
   ],
   "source": [
    "# Import the data into the R session\n",
    "Saar_hour <- read.table(\"C:/Users/Daud/Desktop/01mainrepo/02prml/eeeic23/Saarbruecken-Saar-min.dat\", header = TRUE, sep = \"\\t\")\n",
    "#Irr_data <- read_csv(file = \"C:/Users/Daud/Google Drive/Phd Saarland/Paper by Dd/Phd_Themes/Res.2-Genration modeling (S-01.12.17)/Analysis of weather parameters/Saarbruecken-hour.csv\", sep = \";\")\n",
    "\n",
    "# View first few rows\n",
    "Saar_hour %>% \n",
    "  slice_head(n = 10)"
   ]
  },
  {
   "cell_type": "code",
   "execution_count": 47,
   "id": "167402eb",
   "metadata": {
    "vscode": {
     "languageId": "r"
    }
   },
   "outputs": [
    {
     "name": "stdout",
     "output_type": "stream",
     "text": [
      "Rows: 525,600\n",
      "Columns: 18\n",
      "$ m       \u001b[3m\u001b[90m<int>\u001b[39m\u001b[23m 1, 1, 1, 1, 1, 1, 1, 1, 1, 1, 1, 1, 1, 1, 1, 1, 1, 1, 1, 1, 1,…\n",
      "$ dm      \u001b[3m\u001b[90m<int>\u001b[39m\u001b[23m 1, 1, 1, 1, 1, 1, 1, 1, 1, 1, 1, 1, 1, 1, 1, 1, 1, 1, 1, 1, 1,…\n",
      "$ dy      \u001b[3m\u001b[90m<int>\u001b[39m\u001b[23m 1, 1, 1, 1, 1, 1, 1, 1, 1, 1, 1, 1, 1, 1, 1, 1, 1, 1, 1, 1, 1,…\n",
      "$ h       \u001b[3m\u001b[90m<int>\u001b[39m\u001b[23m 0, 0, 0, 0, 0, 0, 0, 0, 0, 0, 0, 0, 0, 0, 0, 0, 0, 0, 0, 0, 0,…\n",
      "$ mi      \u001b[3m\u001b[90m<int>\u001b[39m\u001b[23m 1, 2, 3, 4, 5, 6, 7, 8, 9, 10, 11, 12, 13, 14, 15, 16, 17, 18,…\n",
      "$ G_Gh    \u001b[3m\u001b[90m<int>\u001b[39m\u001b[23m 0, 0, 0, 0, 0, 0, 0, 0, 0, 0, 0, 0, 0, 0, 0, 0, 0, 0, 0, 0, 0,…\n",
      "$ hs      \u001b[3m\u001b[90m<dbl>\u001b[39m\u001b[23m -63.0, -63.0, -63.1, -63.1, -63.2, -63.2, -63.2, -63.3, -63.3,…\n",
      "$ G_Gex   \u001b[3m\u001b[90m<int>\u001b[39m\u001b[23m 0, 0, 0, 0, 0, 0, 0, 0, 0, 0, 0, 0, 0, 0, 0, 0, 0, 0, 0, 0, 0,…\n",
      "$ G_Gh_hr \u001b[3m\u001b[90m<int>\u001b[39m\u001b[23m 0, 0, 0, 0, 0, 0, 0, 0, 0, 0, 0, 0, 0, 0, 0, 0, 0, 0, 0, 0, 0,…\n",
      "$ G_Dh    \u001b[3m\u001b[90m<int>\u001b[39m\u001b[23m 0, 0, 0, 0, 0, 0, 0, 0, 0, 0, 0, 0, 0, 0, 0, 0, 0, 0, 0, 0, 0,…\n",
      "$ G_Gk    \u001b[3m\u001b[90m<int>\u001b[39m\u001b[23m 0, 0, 0, 0, 0, 0, 0, 0, 0, 0, 0, 0, 0, 0, 0, 0, 0, 0, 0, 0, 0,…\n",
      "$ G_Dk    \u001b[3m\u001b[90m<int>\u001b[39m\u001b[23m 0, 0, 0, 0, 0, 0, 0, 0, 0, 0, 0, 0, 0, 0, 0, 0, 0, 0, 0, 0, 0,…\n",
      "$ G_Bn    \u001b[3m\u001b[90m<int>\u001b[39m\u001b[23m 0, 0, 0, 0, 0, 0, 0, 0, 0, 0, 0, 0, 0, 0, 0, 0, 0, 0, 0, 0, 0,…\n",
      "$ Ta      \u001b[3m\u001b[90m<dbl>\u001b[39m\u001b[23m 8.9, 8.9, 8.9, 8.9, 8.9, 8.9, 8.9, 8.9, 8.9, 8.9, 8.9, 8.9, 8.…\n",
      "$ FF      \u001b[3m\u001b[90m<dbl>\u001b[39m\u001b[23m 2.1, 2.1, 2.1, 2.1, 2.1, 2.1, 2.1, 2.1, 2.1, 2.1, 2.1, 2.1, 2.…\n",
      "$ G_Gcs   \u001b[3m\u001b[90m<int>\u001b[39m\u001b[23m 0, 0, 0, 0, 0, 0, 0, 0, 0, 0, 0, 0, 0, 0, 0, 0, 0, 0, 0, 0, 0,…\n",
      "$ Td      \u001b[3m\u001b[90m<dbl>\u001b[39m\u001b[23m 8.2, 8.2, 8.2, 8.2, 8.2, 8.2, 8.2, 8.2, 8.2, 8.2, 8.2, 8.2, 8.…\n",
      "$ PV      \u001b[3m\u001b[90m<int>\u001b[39m\u001b[23m 0, 0, 0, 0, 0, 0, 0, 0, 0, 0, 0, 0, 0, 0, 0, 0, 0, 0, 0, 0, 0,…\n"
     ]
    }
   ],
   "source": [
    "library(dplyr)\n",
    "Saar_hour <- Saar_hour %>% rename(PV = PVprod)\n",
    "# Take a quick glance at the data\n",
    "glimpse(Saar_hour)"
   ]
  },
  {
   "cell_type": "code",
   "execution_count": 48,
   "id": "e4d3d684",
   "metadata": {
    "vscode": {
     "languageId": "r"
    }
   },
   "outputs": [],
   "source": [
    "# Create a data frame of categorical features & label\n",
    "categorical_features <- Saar_hour %>% \n",
    "  select(c(m, dm, dy, h, mi, PV))\n",
    "\n",
    "# Pivot data to a long format\n",
    "categorical_features <- categorical_features %>% \n",
    "  pivot_longer(!PV, names_to = \"features\", values_to = \"values\") %>%\n",
    "  group_by(features) %>% \n",
    "  mutate(values = factor(values))\n"
   ]
  },
  {
   "cell_type": "code",
   "execution_count": 49,
   "id": "a26cd3b0",
   "metadata": {
    "vscode": {
     "languageId": "r"
    }
   },
   "outputs": [],
   "source": [
    "# Plot a box plot for each feature\n",
    "categorical_features %>%\n",
    "  ggplot() +\n",
    "  geom_boxplot(aes(x = values, y = PV, fill = features), alpha = 0.9, show.legend = F) +\n",
    "  facet_wrap(~ features, scales = 'free') +\n",
    "  paletteer::scale_fill_paletteer_d(\"tvthemes::simpsons\")+\n",
    "  theme(\n",
    "    panel.grid = element_blank(),\n",
    "    axis.text.x = element_text(angle = 90))+\n",
    "  theme(legend.position = c(0.9, 0.9), legend.background = element_blank(),\n",
    "      plot.title = element_text(color=\"red\", size=15, face=\"bold.italic\"),\n",
    "      axis.title.x = element_text(color=\"black\", size=15, face=\"bold\"),\n",
    "      axis.text.x = element_text(face=\"bold\", color=\"black\", size=9, angle = 60),\n",
    "      axis.title.y = element_text(color=\"black\", size=15, face=\"bold\"),\n",
    "      axis.text.y = element_text(face=\"bold\", color=\"black\", size=14),\n",
    "      axis.line = element_line(colour = \"darkblue\", size = 1,\n",
    "                               linetype = \"solid\"))\n",
    "\n",
    "setwd(\"C:/Users/Daud/Google Drive/Phd Saarland/Paper by Dd/Phd_Themes/Res.2-Genration modeling (S-01.12.17)/Analysis of weather parameters/T1_RE_P2_Analysis_of_Solar_radiations-Saarbrucken_jan2018_files/New/\")\n",
    "#ggsave(\"./Pre.png\",Final_m_plt)\n",
    "ggsave(filename = \"PV_cat_dis.png\", width=15, height=5)\n",
    "#plt.plot"
   ]
  },
  {
   "cell_type": "code",
   "execution_count": 7,
   "id": "4c980d20",
   "metadata": {
    "vscode": {
     "languageId": "r"
    }
   },
   "outputs": [
    {
     "name": "stdout",
     "output_type": "stream",
     "text": [
      "Rows: 8,760\n",
      "Columns: 18\n",
      "$ m      \u001b[3m\u001b[90m<fct>\u001b[39m\u001b[23m 1, 1, 1, 1, 1, 1, 1, 1, 1, 1, 1, 1, 1, 1, 1, 1, 1, 1, 1, 1, 1, …\n",
      "$ dm     \u001b[3m\u001b[90m<fct>\u001b[39m\u001b[23m 1, 1, 1, 1, 1, 1, 1, 1, 1, 1, 1, 1, 1, 1, 1, 1, 1, 1, 1, 1, 1, …\n",
      "$ h      \u001b[3m\u001b[90m<fct>\u001b[39m\u001b[23m 1, 2, 3, 4, 5, 6, 7, 8, 9, 10, 11, 12, 13, 14, 15, 16, 17, 18, …\n",
      "$ G_Gk   \u001b[3m\u001b[90m<int>\u001b[39m\u001b[23m 0, 0, 0, 0, 0, 0, 0, 0, 1, 14, 28, 40, 48, 43, 32, 17, 2, 0, 0,…\n",
      "$ Lg     \u001b[3m\u001b[90m<int>\u001b[39m\u001b[23m 0, 0, 0, 0, 0, 0, 0, 0, 124, 1687, 3446, 4917, 5921, 5312, 3906…\n",
      "$ G_Gh   \u001b[3m\u001b[90m<int>\u001b[39m\u001b[23m 0, 0, 0, 0, 0, 0, 0, 0, 1, 14, 28, 41, 49, 44, 32, 17, 2, 0, 0,…\n",
      "$ G_Gref \u001b[3m\u001b[90m<int>\u001b[39m\u001b[23m 0, 0, 0, 0, 0, 0, 0, 0, 0, 3, 6, 8, 10, 9, 6, 3, 0, 0, 0, 0, 0,…\n",
      "$ hs     \u001b[3m\u001b[90m<dbl>\u001b[39m\u001b[23m 0.0, 0.0, 0.0, 0.0, 0.0, 0.0, 0.0, 0.0, 0.0, 6.9, 12.6, 16.3, 1…\n",
      "$ G_Gex  \u001b[3m\u001b[90m<int>\u001b[39m\u001b[23m 0, 0, 0, 0, 0, 0, 0, 0, 9, 169, 308, 396, 430, 405, 324, 193, 1…\n",
      "$ G_Bh   \u001b[3m\u001b[90m<int>\u001b[39m\u001b[23m 0, 0, 0, 0, 0, 0, 0, 0, 0, 0, 0, 0, 0, 0, 0, 0, 0, 0, 0, 0, 0, …\n",
      "$ Sd     \u001b[3m\u001b[90m<int>\u001b[39m\u001b[23m 0, 0, 0, 0, 0, 0, 0, 0, 0, 0, 0, 1, 1, 1, 1, 0, 1, 0, 0, 0, 0, …\n",
      "$ Ld     \u001b[3m\u001b[90m<int>\u001b[39m\u001b[23m 0, 0, 0, 0, 0, 0, 0, 0, 123, 1687, 3446, 4917, 5921, 5312, 3906…\n",
      "$ G_Dk   \u001b[3m\u001b[90m<int>\u001b[39m\u001b[23m 0, 0, 0, 0, 0, 0, 0, 0, 1, 14, 28, 40, 48, 43, 32, 17, 2, 0, 0,…\n",
      "$ G_Dh   \u001b[3m\u001b[90m<int>\u001b[39m\u001b[23m 0, 0, 0, 0, 0, 0, 0, 0, 1, 14, 28, 41, 49, 44, 32, 17, 2, 0, 0,…\n",
      "$ G_Bn   \u001b[3m\u001b[90m<int>\u001b[39m\u001b[23m 0, 0, 0, 0, 0, 0, 0, 0, 0, 0, 0, 0, 0, 0, 0, 0, 0, 0, 0, 0, 0, …\n",
      "$ Ts     \u001b[3m\u001b[90m<dbl>\u001b[39m\u001b[23m 3.5, 3.8, 3.3, 3.5, 3.4, 3.5, 3.1, 3.5, 5.5, 5.9, 6.2, 6.5, 6.8…\n",
      "$ Ta     \u001b[3m\u001b[90m<dbl>\u001b[39m\u001b[23m 6.2, 6.8, 6.6, 6.5, 6.4, 6.2, 6.1, 6.0, 6.1, 6.3, 6.4, 6.7, 6.8…\n",
      "$ PV     \u001b[3m\u001b[90m<int>\u001b[39m\u001b[23m 0, 0, 0, 0, 0, 0, 0, 0, 1, 12, 25, 35, 42, 38, 28, 15, 1, 0, 0,…\n"
     ]
    }
   ],
   "source": [
    "# Select desired features and labels\n",
    "Saar_select <- Saar_hour %>% \n",
    "  select(c(m, dm, h, G_Gk, Lg, G_Gh, G_Gref, hs, G_Gex, G_Bh, Sd, Ld, G_Dk, G_Dh, G_Bn, Ts, Ta, PV)) %>% \n",
    "  # Encode certain features as categorical\n",
    "  mutate(across(1:3, factor))\n",
    "\n",
    "# Get a glimpse of your data\n",
    "glimpse(Saar_select)"
   ]
  },
  {
   "cell_type": "code",
   "execution_count": 8,
   "id": "ffc337e9",
   "metadata": {
    "vscode": {
     "languageId": "r"
    }
   },
   "outputs": [
    {
     "name": "stderr",
     "output_type": "stream",
     "text": [
      "Warning message:\n",
      "\"Too little data to stratify.\n",
      "\u001b[36m•\u001b[39m Resampling will be unstratified.\"\n"
     ]
    },
    {
     "name": "stdout",
     "output_type": "stream",
     "text": [
      "Training Set 6132 rows \n",
      "Test Set 2628 rows"
     ]
    }
   ],
   "source": [
    "# Split 70% of the data for training and the rest for testing\n",
    "set.seed(2056)\n",
    "Saar_split <- Saar_select %>% \n",
    "  initial_split(prop = 0.7,\n",
    "  # splitting data evenly on the holiday variable\n",
    "                strata = m)\n",
    "\n",
    "# Extract the data in each split\n",
    "Saar_train <- training(Saar_split)\n",
    "Saar_test <- testing(Saar_split)\n",
    "\n",
    "\n",
    "cat(\"Training Set\", nrow(Saar_train), \"rows\",\n",
    "    \"\\nTest Set\", nrow(Saar_test), \"rows\")\n"
   ]
  },
  {
   "cell_type": "code",
   "execution_count": 9,
   "id": "1096460b",
   "metadata": {
    "vscode": {
     "languageId": "r"
    }
   },
   "outputs": [],
   "source": [
    "# Build a linear model specification\n",
    "lm_spec <- \n",
    "  # Type\n",
    "  linear_reg() %>% \n",
    "  # Engine\n",
    "  set_engine(\"lm\") %>% \n",
    "  # Mode\n",
    "  set_mode(\"regression\")"
   ]
  },
  {
   "cell_type": "code",
   "execution_count": 10,
   "id": "37146eda",
   "metadata": {
    "vscode": {
     "languageId": "r"
    }
   },
   "outputs": [
    {
     "data": {
      "text/plain": [
       "parsnip model object\n",
       "\n",
       "\n",
       "Call:\n",
       "stats::lm(formula = PV ~ ., data = data)\n",
       "\n",
       "Coefficients:\n",
       "(Intercept)           m2           m3           m4           m5           m6  \n",
       " -0.8940735    0.5771859    2.6202249    4.1001531    4.3920245    3.4268430  \n",
       "         m7           m8           m9          m10          m11          m12  \n",
       "  3.9068180    3.9223581    4.5362605    3.2061253    1.3551970   -0.0447771  \n",
       "        dm2          dm3          dm4          dm5          dm6          dm7  \n",
       " -0.0008075    0.2490136   -0.4041655    0.1304055    0.6885777   -0.4874961  \n",
       "        dm8          dm9         dm10         dm11         dm12         dm13  \n",
       "  0.6430994    0.6750916    0.0147784    0.8669367    0.8363370    0.2102749  \n",
       "       dm14         dm15         dm16         dm17         dm18         dm19  \n",
       "  0.7807903    0.6605024    0.7122450    1.2281179    1.2893233    1.0168588  \n",
       "       dm20         dm21         dm22         dm23         dm24         dm25  \n",
       "  0.7460754    0.5083953    1.1991039    0.5363854    0.6948428    0.6034791  \n",
       "       dm26         dm27         dm28         dm29         dm30         dm31  \n",
       "  0.8326943    0.3834982    0.9717108    0.7672424    0.5916158    0.0543466  \n",
       "         h2           h3           h4           h5           h6           h7  \n",
       " -0.1233830   -0.3278807   -0.3488734   -0.5393319   -0.2963197   -0.0815811  \n",
       "         h8           h9          h10          h11          h12          h13  \n",
       " -0.2968439   -0.3156139   -0.9463256   -0.7698242    0.2934510    0.6622170  \n",
       "        h14          h15          h16          h17          h18          h19  \n",
       " -0.2670178   -1.5419143   -2.5756238   -1.9994093   -1.3989451   -0.5909954  \n",
       "        h20          h21          h22          h23          h24         G_Gk  \n",
       "  0.5434733    0.8747493    0.7390790    0.5201277    0.1496294    0.7739981  \n",
       "         Lg         G_Gh       G_Gref           hs        G_Gex         G_Bh  \n",
       " -0.0019424    0.0448794   -0.0105789   -1.7810442    0.0962550    0.1161122  \n",
       "         Sd           Ld         G_Dk         G_Dh         G_Bn           Ts  \n",
       "  0.0668281   -0.0005661    0.1060765    0.1647664    0.0189782   -0.1360866  \n",
       "         Ta  \n",
       " -0.2143414  \n"
      ]
     },
     "metadata": {},
     "output_type": "display_data"
    }
   ],
   "source": [
    "# Train a linear regression model\n",
    "lm_mod <- lm_spec %>% \n",
    "  fit(PV ~ ., data = Saar_train)\n",
    "\n",
    "# Print the model object\n",
    "lm_mod\n"
   ]
  },
  {
   "cell_type": "code",
   "execution_count": 11,
   "id": "0cb671b8",
   "metadata": {
    "vscode": {
     "languageId": "r"
    }
   },
   "outputs": [
    {
     "data": {
      "text/html": [
       "<table class=\"dataframe\">\n",
       "<caption>A tibble: 5 × 1</caption>\n",
       "<thead>\n",
       "\t<tr><th scope=col>.pred</th></tr>\n",
       "\t<tr><th scope=col>&lt;dbl&gt;</th></tr>\n",
       "</thead>\n",
       "<tbody>\n",
       "\t<tr><td>-2.699293</td></tr>\n",
       "\t<tr><td>-3.085693</td></tr>\n",
       "\t<tr><td>-2.953269</td></tr>\n",
       "\t<tr><td>25.130475</td></tr>\n",
       "\t<tr><td>37.611199</td></tr>\n",
       "</tbody>\n",
       "</table>\n"
      ],
      "text/latex": [
       "A tibble: 5 × 1\n",
       "\\begin{tabular}{l}\n",
       " .pred\\\\\n",
       " <dbl>\\\\\n",
       "\\hline\n",
       "\t -2.699293\\\\\n",
       "\t -3.085693\\\\\n",
       "\t -2.953269\\\\\n",
       "\t 25.130475\\\\\n",
       "\t 37.611199\\\\\n",
       "\\end{tabular}\n"
      ],
      "text/markdown": [
       "\n",
       "A tibble: 5 × 1\n",
       "\n",
       "| .pred &lt;dbl&gt; |\n",
       "|---|\n",
       "| -2.699293 |\n",
       "| -3.085693 |\n",
       "| -2.953269 |\n",
       "| 25.130475 |\n",
       "| 37.611199 |\n",
       "\n"
      ],
      "text/plain": [
       "  .pred    \n",
       "1 -2.699293\n",
       "2 -3.085693\n",
       "3 -2.953269\n",
       "4 25.130475\n",
       "5 37.611199"
      ]
     },
     "metadata": {},
     "output_type": "display_data"
    }
   ],
   "source": [
    "# Make predictions on test set\n",
    "pred <- lm_mod %>% \n",
    "  predict(new_data = Saar_test)\n",
    "\n",
    "# View predictions\n",
    "pred %>% \n",
    "  slice_head(n = 5)"
   ]
  },
  {
   "cell_type": "code",
   "execution_count": 12,
   "id": "8ae34e95",
   "metadata": {
    "vscode": {
     "languageId": "r"
    }
   },
   "outputs": [
    {
     "data": {
      "text/html": [
       "<table class=\"dataframe\">\n",
       "<caption>A data.frame: 10 × 2</caption>\n",
       "<thead>\n",
       "\t<tr><th scope=col>PV</th><th scope=col>predictions</th></tr>\n",
       "\t<tr><th scope=col>&lt;int&gt;</th><th scope=col>&lt;dbl&gt;</th></tr>\n",
       "</thead>\n",
       "<tbody>\n",
       "\t<tr><td> 0</td><td>-2.699293</td></tr>\n",
       "\t<tr><td> 0</td><td>-3.085693</td></tr>\n",
       "\t<tr><td> 0</td><td>-2.953269</td></tr>\n",
       "\t<tr><td>25</td><td>25.130475</td></tr>\n",
       "\t<tr><td>35</td><td>37.611199</td></tr>\n",
       "\t<tr><td> 0</td><td>-4.207108</td></tr>\n",
       "\t<tr><td> 0</td><td>-1.679872</td></tr>\n",
       "\t<tr><td> 0</td><td>-2.109758</td></tr>\n",
       "\t<tr><td> 0</td><td>-1.971613</td></tr>\n",
       "\t<tr><td> 0</td><td>-2.029355</td></tr>\n",
       "</tbody>\n",
       "</table>\n"
      ],
      "text/latex": [
       "A data.frame: 10 × 2\n",
       "\\begin{tabular}{ll}\n",
       " PV & predictions\\\\\n",
       " <int> & <dbl>\\\\\n",
       "\\hline\n",
       "\t  0 & -2.699293\\\\\n",
       "\t  0 & -3.085693\\\\\n",
       "\t  0 & -2.953269\\\\\n",
       "\t 25 & 25.130475\\\\\n",
       "\t 35 & 37.611199\\\\\n",
       "\t  0 & -4.207108\\\\\n",
       "\t  0 & -1.679872\\\\\n",
       "\t  0 & -2.109758\\\\\n",
       "\t  0 & -1.971613\\\\\n",
       "\t  0 & -2.029355\\\\\n",
       "\\end{tabular}\n"
      ],
      "text/markdown": [
       "\n",
       "A data.frame: 10 × 2\n",
       "\n",
       "| PV &lt;int&gt; | predictions &lt;dbl&gt; |\n",
       "|---|---|\n",
       "|  0 | -2.699293 |\n",
       "|  0 | -3.085693 |\n",
       "|  0 | -2.953269 |\n",
       "| 25 | 25.130475 |\n",
       "| 35 | 37.611199 |\n",
       "|  0 | -4.207108 |\n",
       "|  0 | -1.679872 |\n",
       "|  0 | -2.109758 |\n",
       "|  0 | -1.971613 |\n",
       "|  0 | -2.029355 |\n",
       "\n"
      ],
      "text/plain": [
       "   PV predictions\n",
       "1   0 -2.699293  \n",
       "2   0 -3.085693  \n",
       "3   0 -2.953269  \n",
       "4  25 25.130475  \n",
       "5  35 37.611199  \n",
       "6   0 -4.207108  \n",
       "7   0 -1.679872  \n",
       "8   0 -2.109758  \n",
       "9   0 -1.971613  \n",
       "10  0 -2.029355  "
      ]
     },
     "metadata": {},
     "output_type": "display_data"
    }
   ],
   "source": [
    "# Predict rentals for the test set and bind it to the test_set\n",
    "results <- Saar_test %>% \n",
    "  bind_cols(lm_mod %>% \n",
    "    # Predict rentals\n",
    "    predict(new_data = Saar_test) %>% \n",
    "      rename(predictions = .pred))\n",
    "\n",
    "# Compare predictions\n",
    "results %>% \n",
    "  select(c(PV, predictions)) %>% \n",
    "  slice_head(n = 10)\n"
   ]
  },
  {
   "cell_type": "code",
   "execution_count": 13,
   "id": "545c2ba0",
   "metadata": {
    "vscode": {
     "languageId": "r"
    }
   },
   "outputs": [
    {
     "name": "stderr",
     "output_type": "stream",
     "text": [
      "`geom_smooth()` using formula 'y ~ x'\n",
      "\n"
     ]
    },
    {
     "data": {
      "image/png": "[encoded data removed]",
      "text/plain": [
       "plot without title"
      ]
     },
     "metadata": {
      "image/png": {
       "height": 420,
       "width": 420
      }
     },
     "output_type": "display_data"
    }
   ],
   "source": [
    "# Visualise the results\n",
    "results %>% \n",
    "  ggplot(mapping = aes(x = PV, y = predictions)) +\n",
    "  geom_point(size = 1.6, color = \"steelblue\") +\n",
    "  # Overlay a regression line\n",
    "  geom_smooth(method = \"lm\", se = F, color = 'magenta') +\n",
    "  ggtitle(\"Linear Regression Model\") +\n",
    "  xlab(\"Actual PV\") +\n",
    "  ylab(\"Predicted PV\") +\n",
    "  theme(plot.title = element_text(hjust = 0.5))+\n",
    "  theme(legend.position = c(0.9, 0.9), legend.background = element_blank(),\n",
    "      plot.title = element_text(color=\"black\", size=15, face=\"bold.italic\"),\n",
    "      axis.title.x = element_text(color=\"black\", size=15, face=\"bold\"),\n",
    "      axis.text.x = element_text(face=\"bold\", color=\"black\", size=14, angle = 0),\n",
    "      axis.title.y = element_text(color=\"black\", size=15, face=\"bold\"),\n",
    "      axis.text.y = element_text(face=\"bold\", color=\"black\", size=14),\n",
    "      axis.line = element_line(colour = \"darkblue\", size = 1,\n",
    "                               linetype = \"solid\"))\n"
   ]
  },
  {
   "cell_type": "code",
   "execution_count": 14,
   "id": "c6eb8710",
   "metadata": {
    "vscode": {
     "languageId": "r"
    }
   },
   "outputs": [
    {
     "data": {
      "text/html": [
       "<table class=\"dataframe\">\n",
       "<caption>A tibble: 2 × 3</caption>\n",
       "<thead>\n",
       "\t<tr><th scope=col>.metric</th><th scope=col>.estimator</th><th scope=col>.estimate</th></tr>\n",
       "\t<tr><th scope=col>&lt;chr&gt;</th><th scope=col>&lt;chr&gt;</th><th scope=col>&lt;dbl&gt;</th></tr>\n",
       "</thead>\n",
       "<tbody>\n",
       "\t<tr><td>rmse</td><td>standard</td><td>3.6687469</td></tr>\n",
       "\t<tr><td>rsq </td><td>standard</td><td>0.9992511</td></tr>\n",
       "</tbody>\n",
       "</table>\n"
      ],
      "text/latex": [
       "A tibble: 2 × 3\n",
       "\\begin{tabular}{lll}\n",
       " .metric & .estimator & .estimate\\\\\n",
       " <chr> & <chr> & <dbl>\\\\\n",
       "\\hline\n",
       "\t rmse & standard & 3.6687469\\\\\n",
       "\t rsq  & standard & 0.9992511\\\\\n",
       "\\end{tabular}\n"
      ],
      "text/markdown": [
       "\n",
       "A tibble: 2 × 3\n",
       "\n",
       "| .metric &lt;chr&gt; | .estimator &lt;chr&gt; | .estimate &lt;dbl&gt; |\n",
       "|---|---|---|\n",
       "| rmse | standard | 3.6687469 |\n",
       "| rsq  | standard | 0.9992511 |\n",
       "\n"
      ],
      "text/plain": [
       "  .metric .estimator .estimate\n",
       "1 rmse    standard   3.6687469\n",
       "2 rsq     standard   0.9992511"
      ]
     },
     "metadata": {},
     "output_type": "display_data"
    }
   ],
   "source": [
    "# Multiple regression metrics\n",
    "eval_metrics <- metric_set(rmse, rsq)\n",
    "\n",
    "# Evaluate RMSE, R2 based on the results\n",
    "eval_metrics(data = results,\n",
    "             truth = PV,\n",
    "             estimate = predictions)\n"
   ]
  },
  {
   "cell_type": "code",
   "execution_count": 15,
   "id": "ddbb622e",
   "metadata": {
    "vscode": {
     "languageId": "r"
    }
   },
   "outputs": [
    {
     "name": "stderr",
     "output_type": "stream",
     "text": [
      "`geom_smooth()` using formula 'y ~ x'\n",
      "\n"
     ]
    },
    {
     "data": {
      "text/plain": [
       "[[1]]\n",
       "\u001b[90m# A tibble: 2 × 3\u001b[39m\n",
       "  .metric .estimator .estimate\n",
       "  \u001b[3m\u001b[90m<chr>\u001b[39m\u001b[23m   \u001b[3m\u001b[90m<chr>\u001b[39m\u001b[23m          \u001b[3m\u001b[90m<dbl>\u001b[39m\u001b[23m\n",
       "\u001b[90m1\u001b[39m rmse    standard       5.87 \n",
       "\u001b[90m2\u001b[39m rsq     standard       0.998\n",
       "\n",
       "[[2]]\n"
      ]
     },
     "metadata": {},
     "output_type": "display_data"
    },
    {
     "data": {
      "image/png": "[encoded data removed]",
      "text/plain": [
       "plot without title"
      ]
     },
     "metadata": {
      "image/png": {
       "height": 420,
       "width": 420
      }
     },
     "output_type": "display_data"
    }
   ],
   "source": [
    "# Build a lasso model specification\n",
    "lasso_spec <- linear_reg(\n",
    "  engine = \"glmnet\",\n",
    "  mode = \"regression\",\n",
    "  penalty = 1,\n",
    "  mixture = 1)\n",
    "\n",
    "# Train a lasso regression model\n",
    "lasso_mod <- lasso_spec %>% \n",
    "  fit(PV ~ ., data = Saar_train)\n",
    "\n",
    "# Make predictions for test data\n",
    "results_lasso <- Saar_test %>% \n",
    "  bind_cols(lasso_mod %>% predict(new_data = Saar_test) %>% \n",
    "              rename(predictions = .pred))\n",
    "\n",
    "# Evaluate the model\n",
    "lasso_metrics <- eval_metrics(data = results_lasso,\n",
    "                                    truth = PV,\n",
    "                                    estimate = predictions) \n",
    "\n",
    "\n",
    "# Plot predicted vs actual\n",
    "theme_set(theme_light())\n",
    "lasso_plt <- results_lasso %>% \n",
    "  ggplot(mapping = aes(x = PV, y = predictions)) +\n",
    "  geom_point(size = 1.6, color = 'darkorchid') +\n",
    "  # overlay regression line\n",
    "  geom_smooth(method = 'lm', color = 'black', se = F) +\n",
    "  ggtitle(\"Lasso Regression Model\") +\n",
    "  xlab(\"Actual PV\") +\n",
    "  ylab(\"Predicted PV\") +\n",
    "  theme(plot.title = element_text(hjust = 0.5))+\n",
    "  theme(legend.position = c(0.9, 0.9), legend.background = element_blank(),\n",
    "      plot.title = element_text(color=\"black\", size=15, face=\"bold.italic\"),\n",
    "      axis.title.x = element_text(color=\"black\", size=15, face=\"bold\"),\n",
    "      axis.text.x = element_text(face=\"bold\", color=\"black\", size=14, angle = 0),\n",
    "      axis.title.y = element_text(color=\"black\", size=15, face=\"bold\"),\n",
    "      axis.text.y = element_text(face=\"bold\", color=\"black\", size=14),\n",
    "      axis.line = element_line(colour = \"darkblue\", size = 1,\n",
    "                               linetype = \"solid\"))\n",
    "\n",
    "# Return evaluations\n",
    "list(lasso_metrics, lasso_plt)\n",
    "  "
   ]
  },
  {
   "cell_type": "code",
   "execution_count": 16,
   "id": "ee6fef26",
   "metadata": {
    "vscode": {
     "languageId": "r"
    }
   },
   "outputs": [
    {
     "data": {
      "text/plain": [
       "parsnip model object\n",
       "\n",
       "n= 6132 \n",
       "\n",
       "node), split, n, deviance, yval\n",
       "      * denotes terminal node\n",
       "\n",
       " 1) root 6132 107739800.0  85.242660  \n",
       "   2) G_Gk< 202.5 4881   9765720.0  25.735300  \n",
       "     4) G_Gk< 64.5 3926    694455.4   5.709373 *\n",
       "     5) G_Gk>=64.5 955   1024135.0 108.061800 *\n",
       "   3) G_Gk>=202.5 1251  13252350.0 317.421300  \n",
       "     6) G_Gk< 431.5 792   1895625.0 250.054300  \n",
       "      12) G_Gk< 304.5 405    219791.1 208.851900 *\n",
       "      13) G_Gk>=304.5 387    268765.4 293.173100 *\n",
       "     7) G_Gk>=431.5 459   1560389.0 433.662300  \n",
       "      14) G_Gk< 557.5 242    171106.5 387.487600 *\n",
       "      15) G_Gk>=557.5 217    297900.7 485.156700 *"
      ]
     },
     "metadata": {},
     "output_type": "display_data"
    },
    {
     "name": "stderr",
     "output_type": "stream",
     "text": [
      "`geom_smooth()` using formula 'y ~ x'\n",
      "\n"
     ]
    },
    {
     "data": {
      "text/plain": [
       "[[1]]\n",
       "\u001b[90m# A tibble: 2 × 3\u001b[39m\n",
       "  .metric .estimator .estimate\n",
       "  \u001b[3m\u001b[90m<chr>\u001b[39m\u001b[23m   \u001b[3m\u001b[90m<chr>\u001b[39m\u001b[23m          \u001b[3m\u001b[90m<dbl>\u001b[39m\u001b[23m\n",
       "\u001b[90m1\u001b[39m rmse    standard      20.9  \n",
       "\u001b[90m2\u001b[39m rsq     standard       0.976\n",
       "\n",
       "[[2]]\n"
      ]
     },
     "metadata": {},
     "output_type": "display_data"
    },
    {
     "data": {
      "image/png": "[encoded data removed]",
      "text/plain": [
       "plot without title"
      ]
     },
     "metadata": {
      "image/png": {
       "height": 420,
       "width": 420
      }
     },
     "output_type": "display_data"
    }
   ],
   "source": [
    "# Build a decision tree specification\n",
    "tree_spec <- decision_tree(\n",
    "  engine = \"rpart\",\n",
    "  mode = \"regression\")\n",
    "\n",
    "# Train a decision tree model \n",
    "tree_mod <- tree_spec %>% \n",
    "  fit(PV ~ ., data = Saar_train)\n",
    "\n",
    "# Print model\n",
    "tree_mod\n",
    "\n",
    "# Make and bind predictions to test data a\n",
    "results_DT <- tree_mod %>% \n",
    "  augment(new_data = Saar_test) %>% \n",
    "  rename(predictions = .pred)\n",
    "\n",
    "# Evaluate the model\n",
    "tree_metrics <- eval_metrics(data = results_DT,\n",
    "                                  truth = PV,\n",
    "                                  estimate = predictions)\n",
    "\n",
    "# Plot predicted vs actual\n",
    "tree_plt <- results_DT %>% \n",
    "  ggplot(mapping = aes(x = PV, y = predictions)) +\n",
    "  geom_point(color = 'tomato') +\n",
    "  # overlay regression line\n",
    "  geom_smooth(method = 'lm', color = 'steelblue', se = F) +\n",
    "  ggtitle(\"Decision Tree Model\") +\n",
    "  xlab(\"Actual PV\") +\n",
    "  ylab(\"Predicted PV\") +\n",
    "  theme(plot.title = element_text(hjust = 0.5))+\n",
    "  theme(legend.position = c(0.9, 0.9), legend.background = element_blank(),\n",
    "      plot.title = element_text(color=\"black\", size=15, face=\"bold.italic\"),\n",
    "      axis.title.x = element_text(color=\"black\", size=15, face=\"bold\"),\n",
    "      axis.text.x = element_text(face=\"bold\", color=\"black\", size=14, angle = 0),\n",
    "      axis.title.y = element_text(color=\"black\", size=15, face=\"bold\"),\n",
    "      axis.text.y = element_text(face=\"bold\", color=\"black\", size=14),\n",
    "      axis.line = element_line(colour = \"darkblue\", size = 1,\n",
    "                               linetype = \"solid\"))\n",
    "# Return evaluations\n",
    "list(tree_metrics, tree_plt)"
   ]
  },
  {
   "cell_type": "code",
   "execution_count": 17,
   "id": "6270270e",
   "metadata": {
    "vscode": {
     "languageId": "r"
    }
   },
   "outputs": [
    {
     "data": {
      "text/plain": [
       "parsnip model object\n",
       "\n",
       "\n",
       "Call:\n",
       " randomForest(x = maybe_data_frame(x), y = y) \n",
       "               Type of random forest: regression\n",
       "                     Number of trees: 500\n",
       "No. of variables tried at each split: 5\n",
       "\n",
       "          Mean of squared residuals: 20.26257\n",
       "                    % Var explained: 99.88"
      ]
     },
     "metadata": {},
     "output_type": "display_data"
    },
    {
     "name": "stderr",
     "output_type": "stream",
     "text": [
      "`geom_smooth()` using formula 'y ~ x'\n",
      "\n"
     ]
    },
    {
     "data": {
      "text/plain": [
       "[[1]]\n",
       "\u001b[90m# A tibble: 2 × 3\u001b[39m\n",
       "  .metric .estimator .estimate\n",
       "  \u001b[3m\u001b[90m<chr>\u001b[39m\u001b[23m   \u001b[3m\u001b[90m<chr>\u001b[39m\u001b[23m          \u001b[3m\u001b[90m<dbl>\u001b[39m\u001b[23m\n",
       "\u001b[90m1\u001b[39m rmse    standard       4.52 \n",
       "\u001b[90m2\u001b[39m rsq     standard       0.999\n",
       "\n",
       "[[2]]\n"
      ]
     },
     "metadata": {},
     "output_type": "display_data"
    },
    {
     "data": {
      "image/png": "[encoded data removed]",
      "text/plain": [
       "plot without title"
      ]
     },
     "metadata": {
      "image/png": {
       "height": 420,
       "width": 420
      }
     },
     "output_type": "display_data"
    }
   ],
   "source": [
    "# For reproducibility\n",
    "set.seed(2056)\n",
    "\n",
    "# Build a random forest model specification\n",
    "rf_spec <- rand_forest() %>% \n",
    "  set_engine('randomForest') %>% \n",
    "  set_mode('regression')\n",
    "\n",
    "# Train a random forest model \n",
    "rf_mod <- rf_spec %>% \n",
    "  fit(PV ~ ., data = Saar_train)\n",
    "\n",
    "# Print model\n",
    "rf_mod\n",
    "\n",
    "\n",
    "# Make and bind predictions to test data a\n",
    "results_RF <- rf_mod %>% \n",
    "  augment(new_data = Saar_test) %>% \n",
    "  rename(predictions = .pred)\n",
    "\n",
    "\n",
    "# Evaluate the model\n",
    "rf_metrics <- eval_metrics(data = results_RF,\n",
    "                                  truth = PV,\n",
    "                                  estimate = predictions)\n",
    "\n",
    "\n",
    "# Plot predicted vs actual\n",
    "rf_plt <- results_RF %>% \n",
    "  ggplot(mapping = aes(x = PV, y = predictions)) +\n",
    "  geom_point(color = '#6CBE50FF') +\n",
    "  # overlay regression line\n",
    "  geom_smooth(method = 'lm', color = '#2B7FF9FF', se = F) +\n",
    "  ggtitle(\"Random Forest Model\") +\n",
    "  xlab(\"Actual PV\") +\n",
    "  ylab(\"Predicted PV\") +\n",
    "  theme(plot.title = element_text(hjust = 0.5))+\n",
    "  theme(legend.position = c(0.9, 0.9), legend.background = element_blank(),\n",
    "      plot.title = element_text(color=\"black\", size=15, face=\"bold.italic\"),\n",
    "      axis.title.x = element_text(color=\"black\", size=15, face=\"bold\"),\n",
    "      axis.text.x = element_text(face=\"bold\", color=\"black\", size=14, angle = 0),\n",
    "      axis.title.y = element_text(color=\"black\", size=15, face=\"bold\"),\n",
    "      axis.text.y = element_text(face=\"bold\", color=\"black\", size=14),\n",
    "      axis.line = element_line(colour = \"darkblue\", size = 1,\n",
    "                               linetype = \"solid\"))\n",
    "\n",
    "# Return evaluations\n",
    "list(rf_metrics, rf_plt)\n"
   ]
  },
  {
   "cell_type": "code",
   "execution_count": 18,
   "id": "21e4c855",
   "metadata": {
    "vscode": {
     "languageId": "r"
    }
   },
   "outputs": [
    {
     "data": {
      "text/plain": [
       "parsnip model object\n",
       "\n",
       "##### xgb.Booster\n",
       "raw: 54.5 Kb \n",
       "call:\n",
       "  xgboost::xgb.train(params = list(eta = 0.3, max_depth = 6, gamma = 0, \n",
       "    colsample_bytree = 1, colsample_bynode = 1, min_child_weight = 1, \n",
       "    subsample = 1), data = x$data, nrounds = 15, watchlist = x$watchlist, \n",
       "    verbose = 0, nthread = 1, objective = \"reg:squarederror\")\n",
       "params (as set within xgb.train):\n",
       "  eta = \"0.3\", max_depth = \"6\", gamma = \"0\", colsample_bytree = \"1\", colsample_bynode = \"1\", min_child_weight = \"1\", subsample = \"1\", nthread = \"1\", objective = \"reg:squarederror\", validate_parameters = \"TRUE\"\n",
       "xgb.attributes:\n",
       "  niter\n",
       "callbacks:\n",
       "  cb.evaluation.log()\n",
       "# of features: 81 \n",
       "niter: 15\n",
       "nfeatures : 81 \n",
       "evaluation_log:\n",
       "    iter training_rmse\n",
       "       1    110.607027\n",
       "       2     77.768563\n",
       "---                   \n",
       "      14      1.920487\n",
       "      15      1.646381"
      ]
     },
     "metadata": {},
     "output_type": "display_data"
    },
    {
     "name": "stderr",
     "output_type": "stream",
     "text": [
      "`geom_smooth()` using formula 'y ~ x'\n",
      "\n"
     ]
    },
    {
     "data": {
      "text/plain": [
       "[[1]]\n",
       "\u001b[90m# A tibble: 2 × 3\u001b[39m\n",
       "  .metric .estimator .estimate\n",
       "  \u001b[3m\u001b[90m<chr>\u001b[39m\u001b[23m   \u001b[3m\u001b[90m<chr>\u001b[39m\u001b[23m          \u001b[3m\u001b[90m<dbl>\u001b[39m\u001b[23m\n",
       "\u001b[90m1\u001b[39m rmse    standard        2.26\n",
       "\u001b[90m2\u001b[39m rsq     standard        1.00\n",
       "\n",
       "[[2]]\n"
      ]
     },
     "metadata": {},
     "output_type": "display_data"
    },
    {
     "data": {
      "image/png": "[encoded data removed]",
      "text/plain": [
       "plot without title"
      ]
     },
     "metadata": {
      "image/png": {
       "height": 420,
       "width": 420
      }
     },
     "output_type": "display_data"
    }
   ],
   "source": [
    "# For reproducibility\n",
    "set.seed(2056)\n",
    "\n",
    "# Build an xgboost model specification\n",
    "boost_spec <- boost_tree() %>% \n",
    "  set_engine('xgboost') %>% \n",
    "  set_mode('regression')\n",
    "\n",
    "# Train an xgboost model \n",
    "boost_mod <- boost_spec %>% \n",
    "  fit(PV ~ ., data = Saar_train)\n",
    "\n",
    "\n",
    "# Print model\n",
    "boost_mod\n",
    "\n",
    "\n",
    "# Make and bind predictions to test data a\n",
    "results_BT <- boost_mod %>% \n",
    "  augment(new_data = Saar_test) %>% \n",
    "  rename(predictions = .pred)\n",
    "\n",
    "# Evaluate the model\n",
    "boost_metrics <- eval_metrics(data = results_BT,\n",
    "                                  truth = PV,\n",
    "                                  estimate = predictions) \n",
    "\n",
    "# Plot predicted vs actual\n",
    "boost_plt <- results_BT %>% \n",
    "  ggplot(mapping = aes(x = PV, y = predictions)) +\n",
    "  geom_point(color = '#4D3161FF') +\n",
    "  # overlay regression line\n",
    "  geom_smooth(method = 'lm', color = 'black', se = F) +\n",
    "  ggtitle(\"Boosting Ensemble Model\") +\n",
    "  xlab(\"Actual PV\") +\n",
    "  ylab(\"Predicted PV\") +\n",
    "  theme(plot.title = element_text(hjust = 0.5))+\n",
    "  theme(legend.position = c(0.9, 0.9), legend.background = element_blank(),\n",
    "      plot.title = element_text(color=\"black\", size=15, face=\"bold.italic\"),\n",
    "      axis.title.x = element_text(color=\"black\", size=15, face=\"bold\"),\n",
    "      axis.text.x = element_text(face=\"bold\", color=\"black\", size=14, angle = 0),\n",
    "      axis.title.y = element_text(color=\"black\", size=15, face=\"bold\"),\n",
    "      axis.text.y = element_text(face=\"bold\", color=\"black\", size=14),\n",
    "      axis.line = element_line(colour = \"darkblue\", size = 1,\n",
    "                               linetype = \"solid\"))\n",
    "# Return evaluations\n",
    "list(boost_metrics, boost_plt)"
   ]
  },
  {
   "cell_type": "code",
   "execution_count": 19,
   "id": "f10466de",
   "metadata": {
    "vscode": {
     "languageId": "r"
    }
   },
   "outputs": [
    {
     "data": {
      "text/plain": [
       "Recipe\n",
       "\n",
       "Inputs:\n",
       "\n",
       "      role #variables\n",
       "   outcome          1\n",
       " predictor         17\n",
       "\n",
       "Operations:\n",
       "\n",
       "Centering and scaling for all_numeric_predictors()\n",
       "Dummy variables from all_nominal_predictors()"
      ]
     },
     "metadata": {},
     "output_type": "display_data"
    },
    {
     "data": {
      "text/html": [
       "<table class=\"dataframe\">\n",
       "<caption>A tibble: 18 × 4</caption>\n",
       "<thead>\n",
       "\t<tr><th scope=col>variable</th><th scope=col>type</th><th scope=col>role</th><th scope=col>source</th></tr>\n",
       "\t<tr><th scope=col>&lt;chr&gt;</th><th scope=col>&lt;chr&gt;</th><th scope=col>&lt;chr&gt;</th><th scope=col>&lt;chr&gt;</th></tr>\n",
       "</thead>\n",
       "<tbody>\n",
       "\t<tr><td>m     </td><td>nominal</td><td>predictor</td><td>original</td></tr>\n",
       "\t<tr><td>dm    </td><td>nominal</td><td>predictor</td><td>original</td></tr>\n",
       "\t<tr><td>h     </td><td>nominal</td><td>predictor</td><td>original</td></tr>\n",
       "\t<tr><td>G_Gk  </td><td>numeric</td><td>predictor</td><td>original</td></tr>\n",
       "\t<tr><td>Lg    </td><td>numeric</td><td>predictor</td><td>original</td></tr>\n",
       "\t<tr><td>G_Gh  </td><td>numeric</td><td>predictor</td><td>original</td></tr>\n",
       "\t<tr><td>G_Gref</td><td>numeric</td><td>predictor</td><td>original</td></tr>\n",
       "\t<tr><td>hs    </td><td>numeric</td><td>predictor</td><td>original</td></tr>\n",
       "\t<tr><td>G_Gex </td><td>numeric</td><td>predictor</td><td>original</td></tr>\n",
       "\t<tr><td>G_Bh  </td><td>numeric</td><td>predictor</td><td>original</td></tr>\n",
       "\t<tr><td>Sd    </td><td>numeric</td><td>predictor</td><td>original</td></tr>\n",
       "\t<tr><td>Ld    </td><td>numeric</td><td>predictor</td><td>original</td></tr>\n",
       "\t<tr><td>G_Dk  </td><td>numeric</td><td>predictor</td><td>original</td></tr>\n",
       "\t<tr><td>G_Dh  </td><td>numeric</td><td>predictor</td><td>original</td></tr>\n",
       "\t<tr><td>G_Bn  </td><td>numeric</td><td>predictor</td><td>original</td></tr>\n",
       "\t<tr><td>Ts    </td><td>numeric</td><td>predictor</td><td>original</td></tr>\n",
       "\t<tr><td>Ta    </td><td>numeric</td><td>predictor</td><td>original</td></tr>\n",
       "\t<tr><td>PV    </td><td>numeric</td><td>outcome  </td><td>original</td></tr>\n",
       "</tbody>\n",
       "</table>\n"
      ],
      "text/latex": [
       "A tibble: 18 × 4\n",
       "\\begin{tabular}{llll}\n",
       " variable & type & role & source\\\\\n",
       " <chr> & <chr> & <chr> & <chr>\\\\\n",
       "\\hline\n",
       "\t m      & nominal & predictor & original\\\\\n",
       "\t dm     & nominal & predictor & original\\\\\n",
       "\t h      & nominal & predictor & original\\\\\n",
       "\t G\\_Gk   & numeric & predictor & original\\\\\n",
       "\t Lg     & numeric & predictor & original\\\\\n",
       "\t G\\_Gh   & numeric & predictor & original\\\\\n",
       "\t G\\_Gref & numeric & predictor & original\\\\\n",
       "\t hs     & numeric & predictor & original\\\\\n",
       "\t G\\_Gex  & numeric & predictor & original\\\\\n",
       "\t G\\_Bh   & numeric & predictor & original\\\\\n",
       "\t Sd     & numeric & predictor & original\\\\\n",
       "\t Ld     & numeric & predictor & original\\\\\n",
       "\t G\\_Dk   & numeric & predictor & original\\\\\n",
       "\t G\\_Dh   & numeric & predictor & original\\\\\n",
       "\t G\\_Bn   & numeric & predictor & original\\\\\n",
       "\t Ts     & numeric & predictor & original\\\\\n",
       "\t Ta     & numeric & predictor & original\\\\\n",
       "\t PV     & numeric & outcome   & original\\\\\n",
       "\\end{tabular}\n"
      ],
      "text/markdown": [
       "\n",
       "A tibble: 18 × 4\n",
       "\n",
       "| variable &lt;chr&gt; | type &lt;chr&gt; | role &lt;chr&gt; | source &lt;chr&gt; |\n",
       "|---|---|---|---|\n",
       "| m      | nominal | predictor | original |\n",
       "| dm     | nominal | predictor | original |\n",
       "| h      | nominal | predictor | original |\n",
       "| G_Gk   | numeric | predictor | original |\n",
       "| Lg     | numeric | predictor | original |\n",
       "| G_Gh   | numeric | predictor | original |\n",
       "| G_Gref | numeric | predictor | original |\n",
       "| hs     | numeric | predictor | original |\n",
       "| G_Gex  | numeric | predictor | original |\n",
       "| G_Bh   | numeric | predictor | original |\n",
       "| Sd     | numeric | predictor | original |\n",
       "| Ld     | numeric | predictor | original |\n",
       "| G_Dk   | numeric | predictor | original |\n",
       "| G_Dh   | numeric | predictor | original |\n",
       "| G_Bn   | numeric | predictor | original |\n",
       "| Ts     | numeric | predictor | original |\n",
       "| Ta     | numeric | predictor | original |\n",
       "| PV     | numeric | outcome   | original |\n",
       "\n"
      ],
      "text/plain": [
       "   variable type    role      source  \n",
       "1  m        nominal predictor original\n",
       "2  dm       nominal predictor original\n",
       "3  h        nominal predictor original\n",
       "4  G_Gk     numeric predictor original\n",
       "5  Lg       numeric predictor original\n",
       "6  G_Gh     numeric predictor original\n",
       "7  G_Gref   numeric predictor original\n",
       "8  hs       numeric predictor original\n",
       "9  G_Gex    numeric predictor original\n",
       "10 G_Bh     numeric predictor original\n",
       "11 Sd       numeric predictor original\n",
       "12 Ld       numeric predictor original\n",
       "13 G_Dk     numeric predictor original\n",
       "14 G_Dh     numeric predictor original\n",
       "15 G_Bn     numeric predictor original\n",
       "16 Ts       numeric predictor original\n",
       "17 Ta       numeric predictor original\n",
       "18 PV       numeric outcome   original"
      ]
     },
     "metadata": {},
     "output_type": "display_data"
    }
   ],
   "source": [
    "# Specify a recipe\n",
    "Saar_recipe <- recipe(PV ~ ., data = Saar_train) %>% \n",
    "  step_normalize(all_numeric_predictors()) %>% \n",
    "  step_dummy(all_nominal_predictors()) \n",
    "\n",
    "# Print out recipe\n",
    "Saar_recipe\n",
    "\n",
    "\n",
    "# Summary of the recipe\n",
    "summary(Saar_recipe)"
   ]
  },
  {
   "cell_type": "code",
   "execution_count": 20,
   "id": "594ef81e",
   "metadata": {
    "vscode": {
     "languageId": "r"
    }
   },
   "outputs": [
    {
     "data": {
      "text/plain": [
       "══ Workflow ════════════════════════════════════════════════════════════════════\n",
       "\u001b[3mPreprocessor:\u001b[23m Recipe\n",
       "\u001b[3mModel:\u001b[23m boost_tree()\n",
       "\n",
       "── Preprocessor ────────────────────────────────────────────────────────────────\n",
       "2 Recipe Steps\n",
       "\n",
       "• step_normalize()\n",
       "• step_dummy()\n",
       "\n",
       "── Model ───────────────────────────────────────────────────────────────────────\n",
       "Boosted Tree Model Specification (regression)\n",
       "\n",
       "Computational engine: xgboost \n"
      ]
     },
     "metadata": {},
     "output_type": "display_data"
    }
   ],
   "source": [
    "# xgboost specification\n",
    "boost_spec <- boost_tree() %>% \n",
    "  set_engine('xgboost') %>% \n",
    "  set_mode('regression')\n",
    "\n",
    "# Create the workflow\n",
    "boost_workflow <- workflow() %>% \n",
    "  add_recipe(Saar_recipe) %>% \n",
    "  add_model(boost_spec)\n",
    "\n",
    "# Print out workflow\n",
    "boost_workflow\n"
   ]
  },
  {
   "cell_type": "code",
   "execution_count": 21,
   "id": "20a54154",
   "metadata": {
    "vscode": {
     "languageId": "r"
    }
   },
   "outputs": [
    {
     "data": {
      "text/plain": [
       "══ Workflow [trained] ══════════════════════════════════════════════════════════\n",
       "\u001b[3mPreprocessor:\u001b[23m Recipe\n",
       "\u001b[3mModel:\u001b[23m boost_tree()\n",
       "\n",
       "── Preprocessor ────────────────────────────────────────────────────────────────\n",
       "2 Recipe Steps\n",
       "\n",
       "• step_normalize()\n",
       "• step_dummy()\n",
       "\n",
       "── Model ───────────────────────────────────────────────────────────────────────\n",
       "##### xgb.Booster\n",
       "raw: 54.5 Kb \n",
       "call:\n",
       "  xgboost::xgb.train(params = list(eta = 0.3, max_depth = 6, gamma = 0, \n",
       "    colsample_bytree = 1, colsample_bynode = 1, min_child_weight = 1, \n",
       "    subsample = 1), data = x$data, nrounds = 15, watchlist = x$watchlist, \n",
       "    verbose = 0, nthread = 1, objective = \"reg:squarederror\")\n",
       "params (as set within xgb.train):\n",
       "  eta = \"0.3\", max_depth = \"6\", gamma = \"0\", colsample_bytree = \"1\", colsample_bynode = \"1\", min_child_weight = \"1\", subsample = \"1\", nthread = \"1\", objective = \"reg:squarederror\", validate_parameters = \"TRUE\"\n",
       "xgb.attributes:\n",
       "  niter\n",
       "callbacks:\n",
       "  cb.evaluation.log()\n",
       "# of features: 78 \n",
       "niter: 15\n",
       "nfeatures : 78 \n",
       "evaluation_log:\n",
       "    iter training_rmse\n",
       "       1    110.607027\n",
       "       2     77.768563\n",
       "---                   \n",
       "      14      1.920487\n",
       "      15      1.646381"
      ]
     },
     "metadata": {},
     "output_type": "display_data"
    },
    {
     "data": {
      "text/html": [
       "<table class=\"dataframe\">\n",
       "<caption>A tibble: 6 × 1</caption>\n",
       "<thead>\n",
       "\t<tr><th scope=col>.pred</th></tr>\n",
       "\t<tr><th scope=col>&lt;dbl&gt;</th></tr>\n",
       "</thead>\n",
       "<tbody>\n",
       "\t<tr><td> 0.002852751</td></tr>\n",
       "\t<tr><td> 0.002852751</td></tr>\n",
       "\t<tr><td> 0.002852751</td></tr>\n",
       "\t<tr><td>25.591062546</td></tr>\n",
       "\t<tr><td>35.289718628</td></tr>\n",
       "\t<tr><td> 0.002852751</td></tr>\n",
       "</tbody>\n",
       "</table>\n"
      ],
      "text/latex": [
       "A tibble: 6 × 1\n",
       "\\begin{tabular}{l}\n",
       " .pred\\\\\n",
       " <dbl>\\\\\n",
       "\\hline\n",
       "\t  0.002852751\\\\\n",
       "\t  0.002852751\\\\\n",
       "\t  0.002852751\\\\\n",
       "\t 25.591062546\\\\\n",
       "\t 35.289718628\\\\\n",
       "\t  0.002852751\\\\\n",
       "\\end{tabular}\n"
      ],
      "text/markdown": [
       "\n",
       "A tibble: 6 × 1\n",
       "\n",
       "| .pred &lt;dbl&gt; |\n",
       "|---|\n",
       "|  0.002852751 |\n",
       "|  0.002852751 |\n",
       "|  0.002852751 |\n",
       "| 25.591062546 |\n",
       "| 35.289718628 |\n",
       "|  0.002852751 |\n",
       "\n"
      ],
      "text/plain": [
       "  .pred       \n",
       "1  0.002852751\n",
       "2  0.002852751\n",
       "3  0.002852751\n",
       "4 25.591062546\n",
       "5 35.289718628\n",
       "6  0.002852751"
      ]
     },
     "metadata": {},
     "output_type": "display_data"
    }
   ],
   "source": [
    "# Train the model\n",
    "boost_workflow <- boost_workflow %>% \n",
    "  fit(data = Saar_train)\n",
    "\n",
    "boost_workflow\n",
    "\n",
    "boost_workflow %>% \n",
    "  predict(new_data = Saar_test %>% dplyr::slice(1:6))\n",
    "\n"
   ]
  },
  {
   "cell_type": "code",
   "execution_count": 22,
   "id": "9864b77e",
   "metadata": {
    "vscode": {
     "languageId": "r"
    }
   },
   "outputs": [
    {
     "data": {
      "text/html": [
       "<pre class=language-r><code>function (mode = \"unknown\", engine = \"xgboost\", mtry = NULL, \n",
       "<span style=white-space:pre-wrap>    trees = NULL, min_n = NULL, tree_depth = NULL, learn_rate = NULL, </span>\n",
       "<span style=white-space:pre-wrap>    loss_reduction = NULL, sample_size = NULL, stop_iter = NULL) </span>\n",
       "NULL</code></pre>"
      ],
      "text/latex": [
       "\\begin{minted}{r}\n",
       "function (mode = \"unknown\", engine = \"xgboost\", mtry = NULL, \n",
       "    trees = NULL, min\\_n = NULL, tree\\_depth = NULL, learn\\_rate = NULL, \n",
       "    loss\\_reduction = NULL, sample\\_size = NULL, stop\\_iter = NULL) \n",
       "NULL\n",
       "\\end{minted}"
      ],
      "text/markdown": [
       "```r\n",
       "function (mode = \"unknown\", engine = \"xgboost\", mtry = NULL, \n",
       "    trees = NULL, min_n = NULL, tree_depth = NULL, learn_rate = NULL, \n",
       "    loss_reduction = NULL, sample_size = NULL, stop_iter = NULL) \n",
       "NULL\n",
       "```"
      ],
      "text/plain": [
       "function (mode = \"unknown\", engine = \"xgboost\", mtry = NULL, \n",
       "    trees = NULL, min_n = NULL, tree_depth = NULL, learn_rate = NULL, \n",
       "    loss_reduction = NULL, sample_size = NULL, stop_iter = NULL) \n",
       "NULL"
      ]
     },
     "metadata": {},
     "output_type": "display_data"
    }
   ],
   "source": [
    "args(boost_tree)"
   ]
  },
  {
   "cell_type": "code",
   "execution_count": 23,
   "id": "4ce7172c",
   "metadata": {
    "vscode": {
     "languageId": "r"
    }
   },
   "outputs": [
    {
     "data": {
      "text/plain": [
       "══ Workflow ════════════════════════════════════════════════════════════════════\n",
       "\u001b[3mPreprocessor:\u001b[23m Recipe\n",
       "\u001b[3mModel:\u001b[23m boost_tree()\n",
       "\n",
       "── Preprocessor ────────────────────────────────────────────────────────────────\n",
       "2 Recipe Steps\n",
       "\n",
       "• step_normalize()\n",
       "• step_dummy()\n",
       "\n",
       "── Model ───────────────────────────────────────────────────────────────────────\n",
       "Boosted Tree Model Specification (regression)\n",
       "\n",
       "Main Arguments:\n",
       "  trees = 50\n",
       "  tree_depth = tune()\n",
       "  learn_rate = tune()\n",
       "\n",
       "Computational engine: xgboost \n"
      ]
     },
     "metadata": {},
     "output_type": "display_data"
    }
   ],
   "source": [
    "# Specify a recipe\n",
    "Saar_recipe <- recipe(PV ~ ., data = Saar_train) %>% \n",
    "  step_normalize(all_numeric_predictors()) %>% \n",
    "  step_dummy(all_nominal_predictors()) \n",
    "\n",
    "\n",
    "# Make a tunable model specification\n",
    "boost_spec <- boost_tree(trees = 50,\n",
    "                         tree_depth = tune(),\n",
    "                         learn_rate = tune()) %>% \n",
    "  set_engine('xgboost') %>% \n",
    "  set_mode('regression')\n",
    "\n",
    "\n",
    "# Bundle a recipe and model spec using a workflow\n",
    "boost_workflow <- workflow() %>% \n",
    "  add_recipe(Saar_recipe) %>% \n",
    "  add_model(boost_spec)\n",
    "\n",
    "# Print workflow\n",
    "boost_workflow\n",
    "\n"
   ]
  },
  {
   "cell_type": "code",
   "execution_count": 24,
   "id": "4f4505e6",
   "metadata": {
    "vscode": {
     "languageId": "r"
    }
   },
   "outputs": [
    {
     "data": {
      "text/html": [
       "<table class=\"dataframe\">\n",
       "<caption>A tibble: 25 × 2</caption>\n",
       "<thead>\n",
       "\t<tr><th scope=col>tree_depth</th><th scope=col>learn_rate</th></tr>\n",
       "\t<tr><th scope=col>&lt;int&gt;</th><th scope=col>&lt;dbl&gt;</th></tr>\n",
       "</thead>\n",
       "<tbody>\n",
       "\t<tr><td> 1</td><td>0.0100</td></tr>\n",
       "\t<tr><td> 4</td><td>0.0100</td></tr>\n",
       "\t<tr><td> 8</td><td>0.0100</td></tr>\n",
       "\t<tr><td>11</td><td>0.0100</td></tr>\n",
       "\t<tr><td>15</td><td>0.0100</td></tr>\n",
       "\t<tr><td> 1</td><td>0.0825</td></tr>\n",
       "\t<tr><td> 4</td><td>0.0825</td></tr>\n",
       "\t<tr><td> 8</td><td>0.0825</td></tr>\n",
       "\t<tr><td>11</td><td>0.0825</td></tr>\n",
       "\t<tr><td>15</td><td>0.0825</td></tr>\n",
       "\t<tr><td> 1</td><td>0.1550</td></tr>\n",
       "\t<tr><td> 4</td><td>0.1550</td></tr>\n",
       "\t<tr><td> 8</td><td>0.1550</td></tr>\n",
       "\t<tr><td>11</td><td>0.1550</td></tr>\n",
       "\t<tr><td>15</td><td>0.1550</td></tr>\n",
       "\t<tr><td> 1</td><td>0.2275</td></tr>\n",
       "\t<tr><td> 4</td><td>0.2275</td></tr>\n",
       "\t<tr><td> 8</td><td>0.2275</td></tr>\n",
       "\t<tr><td>11</td><td>0.2275</td></tr>\n",
       "\t<tr><td>15</td><td>0.2275</td></tr>\n",
       "\t<tr><td> 1</td><td>0.3000</td></tr>\n",
       "\t<tr><td> 4</td><td>0.3000</td></tr>\n",
       "\t<tr><td> 8</td><td>0.3000</td></tr>\n",
       "\t<tr><td>11</td><td>0.3000</td></tr>\n",
       "\t<tr><td>15</td><td>0.3000</td></tr>\n",
       "</tbody>\n",
       "</table>\n"
      ],
      "text/latex": [
       "A tibble: 25 × 2\n",
       "\\begin{tabular}{ll}\n",
       " tree\\_depth & learn\\_rate\\\\\n",
       " <int> & <dbl>\\\\\n",
       "\\hline\n",
       "\t  1 & 0.0100\\\\\n",
       "\t  4 & 0.0100\\\\\n",
       "\t  8 & 0.0100\\\\\n",
       "\t 11 & 0.0100\\\\\n",
       "\t 15 & 0.0100\\\\\n",
       "\t  1 & 0.0825\\\\\n",
       "\t  4 & 0.0825\\\\\n",
       "\t  8 & 0.0825\\\\\n",
       "\t 11 & 0.0825\\\\\n",
       "\t 15 & 0.0825\\\\\n",
       "\t  1 & 0.1550\\\\\n",
       "\t  4 & 0.1550\\\\\n",
       "\t  8 & 0.1550\\\\\n",
       "\t 11 & 0.1550\\\\\n",
       "\t 15 & 0.1550\\\\\n",
       "\t  1 & 0.2275\\\\\n",
       "\t  4 & 0.2275\\\\\n",
       "\t  8 & 0.2275\\\\\n",
       "\t 11 & 0.2275\\\\\n",
       "\t 15 & 0.2275\\\\\n",
       "\t  1 & 0.3000\\\\\n",
       "\t  4 & 0.3000\\\\\n",
       "\t  8 & 0.3000\\\\\n",
       "\t 11 & 0.3000\\\\\n",
       "\t 15 & 0.3000\\\\\n",
       "\\end{tabular}\n"
      ],
      "text/markdown": [
       "\n",
       "A tibble: 25 × 2\n",
       "\n",
       "| tree_depth &lt;int&gt; | learn_rate &lt;dbl&gt; |\n",
       "|---|---|\n",
       "|  1 | 0.0100 |\n",
       "|  4 | 0.0100 |\n",
       "|  8 | 0.0100 |\n",
       "| 11 | 0.0100 |\n",
       "| 15 | 0.0100 |\n",
       "|  1 | 0.0825 |\n",
       "|  4 | 0.0825 |\n",
       "|  8 | 0.0825 |\n",
       "| 11 | 0.0825 |\n",
       "| 15 | 0.0825 |\n",
       "|  1 | 0.1550 |\n",
       "|  4 | 0.1550 |\n",
       "|  8 | 0.1550 |\n",
       "| 11 | 0.1550 |\n",
       "| 15 | 0.1550 |\n",
       "|  1 | 0.2275 |\n",
       "|  4 | 0.2275 |\n",
       "|  8 | 0.2275 |\n",
       "| 11 | 0.2275 |\n",
       "| 15 | 0.2275 |\n",
       "|  1 | 0.3000 |\n",
       "|  4 | 0.3000 |\n",
       "|  8 | 0.3000 |\n",
       "| 11 | 0.3000 |\n",
       "| 15 | 0.3000 |\n",
       "\n"
      ],
      "text/plain": [
       "   tree_depth learn_rate\n",
       "1   1         0.0100    \n",
       "2   4         0.0100    \n",
       "3   8         0.0100    \n",
       "4  11         0.0100    \n",
       "5  15         0.0100    \n",
       "6   1         0.0825    \n",
       "7   4         0.0825    \n",
       "8   8         0.0825    \n",
       "9  11         0.0825    \n",
       "10 15         0.0825    \n",
       "11  1         0.1550    \n",
       "12  4         0.1550    \n",
       "13  8         0.1550    \n",
       "14 11         0.1550    \n",
       "15 15         0.1550    \n",
       "16  1         0.2275    \n",
       "17  4         0.2275    \n",
       "18  8         0.2275    \n",
       "19 11         0.2275    \n",
       "20 15         0.2275    \n",
       "21  1         0.3000    \n",
       "22  4         0.3000    \n",
       "23  8         0.3000    \n",
       "24 11         0.3000    \n",
       "25 15         0.3000    "
      ]
     },
     "metadata": {},
     "output_type": "display_data"
    },
    {
     "data": {
      "text/html": [
       "<table class=\"dataframe\">\n",
       "<caption>A tibble: 5 × 8</caption>\n",
       "<thead>\n",
       "\t<tr><th scope=col>tree_depth</th><th scope=col>learn_rate</th><th scope=col>.metric</th><th scope=col>.estimator</th><th scope=col>mean</th><th scope=col>n</th><th scope=col>std_err</th><th scope=col>.config</th></tr>\n",
       "\t<tr><th scope=col>&lt;int&gt;</th><th scope=col>&lt;dbl&gt;</th><th scope=col>&lt;chr&gt;</th><th scope=col>&lt;chr&gt;</th><th scope=col>&lt;dbl&gt;</th><th scope=col>&lt;int&gt;</th><th scope=col>&lt;dbl&gt;</th><th scope=col>&lt;chr&gt;</th></tr>\n",
       "</thead>\n",
       "<tbody>\n",
       "\t<tr><td> 8</td><td>0.1550</td><td>rmse</td><td>standard</td><td>1.530959</td><td>5</td><td>0.1841332</td><td>Preprocessor1_Model13</td></tr>\n",
       "\t<tr><td>11</td><td>0.1550</td><td>rmse</td><td>standard</td><td>1.547182</td><td>5</td><td>0.1824617</td><td>Preprocessor1_Model14</td></tr>\n",
       "\t<tr><td>15</td><td>0.1550</td><td>rmse</td><td>standard</td><td>1.556148</td><td>5</td><td>0.1862034</td><td>Preprocessor1_Model15</td></tr>\n",
       "\t<tr><td> 4</td><td>0.1550</td><td>rmse</td><td>standard</td><td>1.607901</td><td>5</td><td>0.1410604</td><td>Preprocessor1_Model12</td></tr>\n",
       "\t<tr><td> 8</td><td>0.2275</td><td>rmse</td><td>standard</td><td>1.657188</td><td>5</td><td>0.1511982</td><td>Preprocessor1_Model18</td></tr>\n",
       "</tbody>\n",
       "</table>\n"
      ],
      "text/latex": [
       "A tibble: 5 × 8\n",
       "\\begin{tabular}{llllllll}\n",
       " tree\\_depth & learn\\_rate & .metric & .estimator & mean & n & std\\_err & .config\\\\\n",
       " <int> & <dbl> & <chr> & <chr> & <dbl> & <int> & <dbl> & <chr>\\\\\n",
       "\\hline\n",
       "\t  8 & 0.1550 & rmse & standard & 1.530959 & 5 & 0.1841332 & Preprocessor1\\_Model13\\\\\n",
       "\t 11 & 0.1550 & rmse & standard & 1.547182 & 5 & 0.1824617 & Preprocessor1\\_Model14\\\\\n",
       "\t 15 & 0.1550 & rmse & standard & 1.556148 & 5 & 0.1862034 & Preprocessor1\\_Model15\\\\\n",
       "\t  4 & 0.1550 & rmse & standard & 1.607901 & 5 & 0.1410604 & Preprocessor1\\_Model12\\\\\n",
       "\t  8 & 0.2275 & rmse & standard & 1.657188 & 5 & 0.1511982 & Preprocessor1\\_Model18\\\\\n",
       "\\end{tabular}\n"
      ],
      "text/markdown": [
       "\n",
       "A tibble: 5 × 8\n",
       "\n",
       "| tree_depth &lt;int&gt; | learn_rate &lt;dbl&gt; | .metric &lt;chr&gt; | .estimator &lt;chr&gt; | mean &lt;dbl&gt; | n &lt;int&gt; | std_err &lt;dbl&gt; | .config &lt;chr&gt; |\n",
       "|---|---|---|---|---|---|---|---|\n",
       "|  8 | 0.1550 | rmse | standard | 1.530959 | 5 | 0.1841332 | Preprocessor1_Model13 |\n",
       "| 11 | 0.1550 | rmse | standard | 1.547182 | 5 | 0.1824617 | Preprocessor1_Model14 |\n",
       "| 15 | 0.1550 | rmse | standard | 1.556148 | 5 | 0.1862034 | Preprocessor1_Model15 |\n",
       "|  4 | 0.1550 | rmse | standard | 1.607901 | 5 | 0.1410604 | Preprocessor1_Model12 |\n",
       "|  8 | 0.2275 | rmse | standard | 1.657188 | 5 | 0.1511982 | Preprocessor1_Model18 |\n",
       "\n"
      ],
      "text/plain": [
       "  tree_depth learn_rate .metric .estimator mean     n std_err  \n",
       "1  8         0.1550     rmse    standard   1.530959 5 0.1841332\n",
       "2 11         0.1550     rmse    standard   1.547182 5 0.1824617\n",
       "3 15         0.1550     rmse    standard   1.556148 5 0.1862034\n",
       "4  4         0.1550     rmse    standard   1.607901 5 0.1410604\n",
       "5  8         0.2275     rmse    standard   1.657188 5 0.1511982\n",
       "  .config              \n",
       "1 Preprocessor1_Model13\n",
       "2 Preprocessor1_Model14\n",
       "3 Preprocessor1_Model15\n",
       "4 Preprocessor1_Model12\n",
       "5 Preprocessor1_Model18"
      ]
     },
     "metadata": {},
     "output_type": "display_data"
    },
    {
     "data": {
      "text/html": [
       "<table class=\"dataframe\">\n",
       "<caption>A tibble: 1 × 3</caption>\n",
       "<thead>\n",
       "\t<tr><th scope=col>tree_depth</th><th scope=col>learn_rate</th><th scope=col>.config</th></tr>\n",
       "\t<tr><th scope=col>&lt;int&gt;</th><th scope=col>&lt;dbl&gt;</th><th scope=col>&lt;chr&gt;</th></tr>\n",
       "</thead>\n",
       "<tbody>\n",
       "\t<tr><td>8</td><td>0.155</td><td>Preprocessor1_Model13</td></tr>\n",
       "</tbody>\n",
       "</table>\n"
      ],
      "text/latex": [
       "A tibble: 1 × 3\n",
       "\\begin{tabular}{lll}\n",
       " tree\\_depth & learn\\_rate & .config\\\\\n",
       " <int> & <dbl> & <chr>\\\\\n",
       "\\hline\n",
       "\t 8 & 0.155 & Preprocessor1\\_Model13\\\\\n",
       "\\end{tabular}\n"
      ],
      "text/markdown": [
       "\n",
       "A tibble: 1 × 3\n",
       "\n",
       "| tree_depth &lt;int&gt; | learn_rate &lt;dbl&gt; | .config &lt;chr&gt; |\n",
       "|---|---|---|\n",
       "| 8 | 0.155 | Preprocessor1_Model13 |\n",
       "\n"
      ],
      "text/plain": [
       "  tree_depth learn_rate .config              \n",
       "1 8          0.155      Preprocessor1_Model13"
      ]
     },
     "metadata": {},
     "output_type": "display_data"
    },
    {
     "data": {
      "image/png": "[encoded data removed]",
      "text/plain": [
       "plot without title"
      ]
     },
     "metadata": {
      "image/png": {
       "height": 420,
       "width": 420
      }
     },
     "output_type": "display_data"
    }
   ],
   "source": [
    "# Create a grid of tuning parameters\n",
    "tree_grid <- grid_regular(tree_depth(),\n",
    "                  # You can specify hyperparameter ranges too\n",
    "learn_rate(range = c(0.01, 0.3), trans = NULL), levels = 5)\n",
    "\n",
    "# Display hyperparameter combinations that will be used for tuning\n",
    "tree_grid\n",
    "\n",
    "set.seed(2056)\n",
    "# 5 fold CV repeated once\n",
    "Saar_folds <- vfold_cv(data = Saar_train, v = 5, repeats = 1)\n",
    "\n",
    "\n",
    "# Allow parallel processing\n",
    "doParallel::registerDoParallel()\n",
    "\n",
    "# Model tuning via grid search\n",
    "set.seed(2020)\n",
    "tree_grid <- tune_grid(\n",
    "  object = boost_workflow,\n",
    "  resamples = Saar_folds,\n",
    "  grid = tree_grid\n",
    ")\n",
    "\n",
    "\n",
    "# Visualize the results\n",
    "tree_grid %>% \n",
    "  collect_metrics() %>% \n",
    "  mutate(tree_depth = factor(tree_depth)) %>% \n",
    "  ggplot(mapping = aes(x = learn_rate, y = mean,\n",
    "                       color = tree_depth)) +\n",
    "  geom_line(size = 0.6) +\n",
    "  geom_point(size = 2) +\n",
    "  facet_wrap(~ .metric, scales = 'free', nrow = 2)+\n",
    "  scale_color_viridis_d(option = \"plasma\", begin = .9, end = 0)\n",
    "\n",
    "\n",
    "tree_grid %>% \n",
    "  show_best('rmse')\n",
    "\n",
    "# Select the tree with the best RMSE\n",
    "best_tree <- tree_grid %>% \n",
    "  select_best('rmse')\n",
    "\n",
    "# Display best tree\n",
    "best_tree\n"
   ]
  },
  {
   "cell_type": "code",
   "execution_count": 26,
   "id": "0714f57b",
   "metadata": {
    "vscode": {
     "languageId": "r"
    }
   },
   "outputs": [
    {
     "data": {
      "text/plain": [
       "══ Workflow ════════════════════════════════════════════════════════════════════\n",
       "\u001b[3mPreprocessor:\u001b[23m Recipe\n",
       "\u001b[3mModel:\u001b[23m boost_tree()\n",
       "\n",
       "── Preprocessor ────────────────────────────────────────────────────────────────\n",
       "2 Recipe Steps\n",
       "\n",
       "• step_normalize()\n",
       "• step_dummy()\n",
       "\n",
       "── Model ───────────────────────────────────────────────────────────────────────\n",
       "Boosted Tree Model Specification (regression)\n",
       "\n",
       "Main Arguments:\n",
       "  trees = 50\n",
       "  tree_depth = 8\n",
       "  learn_rate = 0.155\n",
       "\n",
       "Computational engine: xgboost \n"
      ]
     },
     "metadata": {},
     "output_type": "display_data"
    },
    {
     "data": {
      "text/html": [
       "<table class=\"dataframe\">\n",
       "<caption>A tibble: 2 × 4</caption>\n",
       "<thead>\n",
       "\t<tr><th scope=col>.metric</th><th scope=col>.estimator</th><th scope=col>.estimate</th><th scope=col>.config</th></tr>\n",
       "\t<tr><th scope=col>&lt;chr&gt;</th><th scope=col>&lt;chr&gt;</th><th scope=col>&lt;dbl&gt;</th><th scope=col>&lt;chr&gt;</th></tr>\n",
       "</thead>\n",
       "<tbody>\n",
       "\t<tr><td>rmse</td><td>standard</td><td>1.3363217</td><td>Preprocessor1_Model1</td></tr>\n",
       "\t<tr><td>rsq </td><td>standard</td><td>0.9999014</td><td>Preprocessor1_Model1</td></tr>\n",
       "</tbody>\n",
       "</table>\n"
      ],
      "text/latex": [
       "A tibble: 2 × 4\n",
       "\\begin{tabular}{llll}\n",
       " .metric & .estimator & .estimate & .config\\\\\n",
       " <chr> & <chr> & <dbl> & <chr>\\\\\n",
       "\\hline\n",
       "\t rmse & standard & 1.3363217 & Preprocessor1\\_Model1\\\\\n",
       "\t rsq  & standard & 0.9999014 & Preprocessor1\\_Model1\\\\\n",
       "\\end{tabular}\n"
      ],
      "text/markdown": [
       "\n",
       "A tibble: 2 × 4\n",
       "\n",
       "| .metric &lt;chr&gt; | .estimator &lt;chr&gt; | .estimate &lt;dbl&gt; | .config &lt;chr&gt; |\n",
       "|---|---|---|---|\n",
       "| rmse | standard | 1.3363217 | Preprocessor1_Model1 |\n",
       "| rsq  | standard | 0.9999014 | Preprocessor1_Model1 |\n",
       "\n"
      ],
      "text/plain": [
       "  .metric .estimator .estimate .config             \n",
       "1 rmse    standard   1.3363217 Preprocessor1_Model1\n",
       "2 rsq     standard   0.9999014 Preprocessor1_Model1"
      ]
     },
     "metadata": {},
     "output_type": "display_data"
    }
   ],
   "source": [
    "# Update workflow\n",
    "final_wf <- boost_workflow %>% \n",
    "  finalize_workflow(best_tree)\n",
    "\n",
    "# Print final workflow\n",
    "final_wf\n",
    "\n",
    "# Make a last fit\n",
    "final_fit <- final_wf %>% \n",
    "  last_fit(Saar_split)\n",
    "\n",
    "\n",
    "# Collect metrics\n",
    "final_fit %>% \n",
    "  collect_metrics()"
   ]
  },
  {
   "cell_type": "code",
   "execution_count": 27,
   "id": "9dbe63dc",
   "metadata": {
    "vscode": {
     "languageId": "r"
    }
   },
   "outputs": [
    {
     "data": {
      "text/html": [
       "<table class=\"dataframe\">\n",
       "<caption>A tibble: 2628 × 19</caption>\n",
       "<thead>\n",
       "\t<tr><th scope=col>m</th><th scope=col>dm</th><th scope=col>h</th><th scope=col>G_Gk</th><th scope=col>Lg</th><th scope=col>G_Gh</th><th scope=col>G_Gref</th><th scope=col>hs</th><th scope=col>G_Gex</th><th scope=col>G_Bh</th><th scope=col>Sd</th><th scope=col>Ld</th><th scope=col>G_Dk</th><th scope=col>G_Dh</th><th scope=col>G_Bn</th><th scope=col>Ts</th><th scope=col>Ta</th><th scope=col>PV</th><th scope=col>.pred</th></tr>\n",
       "\t<tr><th scope=col>&lt;fct&gt;</th><th scope=col>&lt;fct&gt;</th><th scope=col>&lt;fct&gt;</th><th scope=col>&lt;int&gt;</th><th scope=col>&lt;int&gt;</th><th scope=col>&lt;int&gt;</th><th scope=col>&lt;int&gt;</th><th scope=col>&lt;dbl&gt;</th><th scope=col>&lt;int&gt;</th><th scope=col>&lt;int&gt;</th><th scope=col>&lt;int&gt;</th><th scope=col>&lt;int&gt;</th><th scope=col>&lt;int&gt;</th><th scope=col>&lt;int&gt;</th><th scope=col>&lt;int&gt;</th><th scope=col>&lt;dbl&gt;</th><th scope=col>&lt;dbl&gt;</th><th scope=col>&lt;int&gt;</th><th scope=col>&lt;dbl&gt;</th></tr>\n",
       "</thead>\n",
       "<tbody>\n",
       "\t<tr><td>1</td><td>1</td><td>1 </td><td>  0</td><td>    0</td><td>  0</td><td> 0</td><td> 0.0</td><td>  0</td><td>  0</td><td> 0</td><td>    0</td><td>  0</td><td>  0</td><td>  0</td><td> 3.5</td><td>6.2</td><td>  0</td><td> 0.003549768</td></tr>\n",
       "\t<tr><td>1</td><td>1</td><td>3 </td><td>  0</td><td>    0</td><td>  0</td><td> 0</td><td> 0.0</td><td>  0</td><td>  0</td><td> 0</td><td>    0</td><td>  0</td><td>  0</td><td>  0</td><td> 3.3</td><td>6.6</td><td>  0</td><td> 0.003549768</td></tr>\n",
       "\t<tr><td>1</td><td>1</td><td>8 </td><td>  0</td><td>    0</td><td>  0</td><td> 0</td><td> 0.0</td><td>  0</td><td>  0</td><td> 0</td><td>    0</td><td>  0</td><td>  0</td><td>  0</td><td> 3.5</td><td>6.0</td><td>  0</td><td> 0.003549768</td></tr>\n",
       "\t<tr><td>1</td><td>1</td><td>11</td><td> 28</td><td> 3446</td><td> 28</td><td> 6</td><td>12.6</td><td>308</td><td>  0</td><td> 0</td><td> 3446</td><td> 28</td><td> 28</td><td>  0</td><td> 6.2</td><td>6.4</td><td> 25</td><td>25.609237671</td></tr>\n",
       "\t<tr><td>1</td><td>1</td><td>12</td><td> 40</td><td> 4917</td><td> 41</td><td> 8</td><td>16.3</td><td>396</td><td>  0</td><td> 1</td><td> 4917</td><td> 40</td><td> 41</td><td>  0</td><td> 6.5</td><td>6.7</td><td> 35</td><td>35.328384399</td></tr>\n",
       "\t<tr><td>1</td><td>1</td><td>18</td><td>  0</td><td>    0</td><td>  0</td><td> 0</td><td> 0.0</td><td>  0</td><td>  0</td><td> 0</td><td>    0</td><td>  0</td><td>  0</td><td>  0</td><td> 4.3</td><td>6.2</td><td>  0</td><td> 0.004283639</td></tr>\n",
       "\t<tr><td>1</td><td>1</td><td>22</td><td>  0</td><td>    0</td><td>  0</td><td> 0</td><td> 0.0</td><td>  0</td><td>  0</td><td> 0</td><td>    0</td><td>  0</td><td>  0</td><td>  0</td><td> 2.7</td><td>5.4</td><td>  0</td><td> 0.003549768</td></tr>\n",
       "\t<tr><td>1</td><td>1</td><td>24</td><td>  0</td><td>    0</td><td>  0</td><td> 0</td><td> 0.0</td><td>  0</td><td>  0</td><td> 0</td><td>    0</td><td>  0</td><td>  0</td><td>  0</td><td> 2.0</td><td>5.1</td><td>  0</td><td> 0.003549768</td></tr>\n",
       "\t<tr><td>1</td><td>2</td><td>7 </td><td>  0</td><td>    0</td><td>  0</td><td> 0</td><td> 0.0</td><td>  0</td><td>  0</td><td> 0</td><td>    0</td><td>  0</td><td>  0</td><td>  0</td><td> 1.8</td><td>3.5</td><td>  0</td><td> 0.003549768</td></tr>\n",
       "\t<tr><td>1</td><td>2</td><td>8 </td><td>  0</td><td>    0</td><td>  0</td><td> 0</td><td> 0.0</td><td>  0</td><td>  0</td><td> 0</td><td>    0</td><td>  0</td><td>  0</td><td>  0</td><td> 0.8</td><td>3.4</td><td>  0</td><td> 0.003549768</td></tr>\n",
       "\t<tr><td>1</td><td>2</td><td>13</td><td>114</td><td>20686</td><td>191</td><td>38</td><td>17.8</td><td>431</td><td> 43</td><td>25</td><td>17156</td><td>114</td><td>148</td><td>140</td><td> 9.6</td><td>8.4</td><td>100</td><td>98.818145752</td></tr>\n",
       "\t<tr><td>1</td><td>2</td><td>14</td><td>103</td><td>19348</td><td>178</td><td>36</td><td>16.8</td><td>407</td><td> 46</td><td>24</td><td>15344</td><td>103</td><td>132</td><td>160</td><td>10.0</td><td>8.9</td><td> 90</td><td>89.619689941</td></tr>\n",
       "\t<tr><td>1</td><td>2</td><td>21</td><td>  0</td><td>    0</td><td>  0</td><td> 0</td><td> 0.0</td><td>  0</td><td>  0</td><td> 0</td><td>    0</td><td>  0</td><td>  0</td><td>  0</td><td> 2.5</td><td>5.7</td><td>  0</td><td> 0.003549768</td></tr>\n",
       "\t<tr><td>1</td><td>2</td><td>23</td><td>  0</td><td>    0</td><td>  0</td><td> 0</td><td> 0.0</td><td>  0</td><td>  0</td><td> 0</td><td>    0</td><td>  0</td><td>  0</td><td>  0</td><td> 1.5</td><td>4.9</td><td>  0</td><td> 0.003549768</td></tr>\n",
       "\t<tr><td>1</td><td>3</td><td>1 </td><td>  0</td><td>    0</td><td>  0</td><td> 0</td><td> 0.0</td><td>  0</td><td>  0</td><td> 0</td><td>    0</td><td>  0</td><td>  0</td><td>  0</td><td> 0.6</td><td>4.2</td><td>  0</td><td> 0.003549768</td></tr>\n",
       "\t<tr><td>1</td><td>3</td><td>3 </td><td>  0</td><td>    0</td><td>  0</td><td> 0</td><td> 0.0</td><td>  0</td><td>  0</td><td> 0</td><td>    0</td><td>  0</td><td>  0</td><td>  0</td><td>-0.1</td><td>3.4</td><td>  0</td><td> 0.003549768</td></tr>\n",
       "\t<tr><td>1</td><td>3</td><td>7 </td><td>  0</td><td>    0</td><td>  0</td><td> 0</td><td> 0.0</td><td>  0</td><td>  0</td><td> 0</td><td>    0</td><td>  0</td><td>  0</td><td>  0</td><td>-0.8</td><td>2.6</td><td>  0</td><td> 0.003549768</td></tr>\n",
       "\t<tr><td>1</td><td>3</td><td>14</td><td> 69</td><td>21427</td><td>202</td><td>40</td><td>16.9</td><td>410</td><td>105</td><td>33</td><td>13877</td><td> 69</td><td> 97</td><td>362</td><td>10.2</td><td>8.7</td><td> 60</td><td>61.059181213</td></tr>\n",
       "\t<tr><td>1</td><td>3</td><td>19</td><td>  0</td><td>    0</td><td>  0</td><td> 0</td><td> 0.0</td><td>  0</td><td>  0</td><td> 0</td><td>    0</td><td>  0</td><td>  0</td><td>  0</td><td> 5.0</td><td>6.4</td><td>  0</td><td> 0.003549768</td></tr>\n",
       "\t<tr><td>1</td><td>3</td><td>20</td><td>  0</td><td>    0</td><td>  0</td><td> 0</td><td> 0.0</td><td>  0</td><td>  0</td><td> 0</td><td>    0</td><td>  0</td><td>  0</td><td>  0</td><td> 4.1</td><td>6.1</td><td>  0</td><td> 0.003549768</td></tr>\n",
       "\t<tr><td>1</td><td>3</td><td>21</td><td>  0</td><td>    0</td><td>  0</td><td> 0</td><td> 0.0</td><td>  0</td><td>  0</td><td> 0</td><td>    0</td><td>  0</td><td>  0</td><td>  0</td><td> 3.8</td><td>5.7</td><td>  0</td><td> 0.003549768</td></tr>\n",
       "\t<tr><td>1</td><td>4</td><td>2 </td><td>  0</td><td>    0</td><td>  0</td><td> 0</td><td> 0.0</td><td>  0</td><td>  0</td><td> 0</td><td>    0</td><td>  0</td><td>  0</td><td>  0</td><td> 2.1</td><td>4.0</td><td>  0</td><td> 0.003549768</td></tr>\n",
       "\t<tr><td>1</td><td>4</td><td>5 </td><td>  0</td><td>    0</td><td>  0</td><td> 0</td><td> 0.0</td><td>  0</td><td>  0</td><td> 0</td><td>    0</td><td>  0</td><td>  0</td><td>  0</td><td> 2.2</td><td>3.4</td><td>  0</td><td> 0.003549768</td></tr>\n",
       "\t<tr><td>1</td><td>4</td><td>7 </td><td>  0</td><td>    0</td><td>  0</td><td> 0</td><td> 0.0</td><td>  0</td><td>  0</td><td> 0</td><td>    0</td><td>  0</td><td>  0</td><td>  0</td><td> 0.8</td><td>3.1</td><td>  0</td><td> 0.003549768</td></tr>\n",
       "\t<tr><td>1</td><td>4</td><td>10</td><td> 35</td><td> 4258</td><td> 38</td><td> 8</td><td> 7.0</td><td>172</td><td>  0</td><td> 4</td><td> 4258</td><td> 35</td><td> 38</td><td>  0</td><td> 3.6</td><td>3.8</td><td> 32</td><td>31.305425644</td></tr>\n",
       "\t<tr><td>1</td><td>4</td><td>11</td><td> 72</td><td> 9061</td><td> 81</td><td>16</td><td>12.7</td><td>311</td><td>  1</td><td> 6</td><td> 9001</td><td> 72</td><td> 81</td><td>  4</td><td> 5.0</td><td>4.7</td><td> 65</td><td>65.004234314</td></tr>\n",
       "\t<tr><td>1</td><td>4</td><td>12</td><td> 97</td><td>12580</td><td>113</td><td>23</td><td>16.5</td><td>401</td><td>  3</td><td> 7</td><td>12344</td><td> 97</td><td>110</td><td>  9</td><td> 6.1</td><td>5.5</td><td> 87</td><td>85.625862122</td></tr>\n",
       "\t<tr><td>1</td><td>4</td><td>14</td><td>105</td><td>13823</td><td>125</td><td>25</td><td>17.0</td><td>412</td><td>  5</td><td> 8</td><td>13359</td><td>105</td><td>120</td><td> 16</td><td> 7.2</td><td>6.5</td><td> 93</td><td>92.513702393</td></tr>\n",
       "\t<tr><td>1</td><td>4</td><td>15</td><td> 83</td><td>10722</td><td> 97</td><td>19</td><td>13.6</td><td>333</td><td>  3</td><td> 8</td><td>10396</td><td> 83</td><td> 94</td><td> 14</td><td> 7.0</td><td>6.6</td><td> 73</td><td>73.822685242</td></tr>\n",
       "\t<tr><td>1</td><td>4</td><td>21</td><td>  0</td><td>    0</td><td>  0</td><td> 0</td><td> 0.0</td><td>  0</td><td>  0</td><td> 0</td><td>    0</td><td>  0</td><td>  0</td><td>  0</td><td> 1.5</td><td>4.3</td><td>  0</td><td> 0.003549768</td></tr>\n",
       "\t<tr><td>⋮</td><td>⋮</td><td>⋮</td><td>⋮</td><td>⋮</td><td>⋮</td><td>⋮</td><td>⋮</td><td>⋮</td><td>⋮</td><td>⋮</td><td>⋮</td><td>⋮</td><td>⋮</td><td>⋮</td><td>⋮</td><td>⋮</td><td>⋮</td><td>⋮</td></tr>\n",
       "\t<tr><td>12</td><td>26</td><td>3 </td><td>  0</td><td>    0</td><td>  0</td><td> 0</td><td> 0.0</td><td>  0</td><td>  0</td><td> 0</td><td>    0</td><td>  0</td><td>  0</td><td>  0</td><td>-1.0</td><td> 2.6</td><td> 0</td><td> 0.003549768</td></tr>\n",
       "\t<tr><td>12</td><td>26</td><td>10</td><td> 16</td><td> 1952</td><td> 16</td><td> 6</td><td> 6.9</td><td>170</td><td>  0</td><td> 0</td><td> 1952</td><td> 16</td><td> 16</td><td>  0</td><td> 0.0</td><td> 3.5</td><td>14</td><td>14.403736115</td></tr>\n",
       "\t<tr><td>12</td><td>26</td><td>11</td><td> 33</td><td> 4106</td><td> 34</td><td>14</td><td>12.5</td><td>306</td><td>  0</td><td> 1</td><td> 4106</td><td> 33</td><td> 34</td><td>  0</td><td> 0.0</td><td> 4.1</td><td>30</td><td>30.081735611</td></tr>\n",
       "\t<tr><td>12</td><td>26</td><td>14</td><td> 55</td><td> 6799</td><td> 57</td><td>23</td><td>16.2</td><td>395</td><td>  0</td><td> 1</td><td> 6799</td><td> 55</td><td> 57</td><td>  0</td><td> 0.0</td><td> 5.7</td><td>49</td><td>48.402027130</td></tr>\n",
       "\t<tr><td>12</td><td>26</td><td>20</td><td>  0</td><td>    0</td><td>  0</td><td> 0</td><td> 0.0</td><td>  0</td><td>  0</td><td> 0</td><td>    0</td><td>  0</td><td>  0</td><td>  0</td><td> 0.0</td><td> 5.3</td><td> 0</td><td> 0.003549768</td></tr>\n",
       "\t<tr><td>12</td><td>27</td><td>2 </td><td>  0</td><td>    0</td><td>  0</td><td> 0</td><td> 0.0</td><td>  0</td><td>  0</td><td> 0</td><td>    0</td><td>  0</td><td>  0</td><td>  0</td><td> 0.0</td><td> 5.9</td><td> 0</td><td> 0.003549768</td></tr>\n",
       "\t<tr><td>12</td><td>27</td><td>10</td><td> 40</td><td> 5494</td><td> 50</td><td>11</td><td> 6.9</td><td>169</td><td>  4</td><td> 6</td><td> 5214</td><td> 40</td><td> 45</td><td> 37</td><td> 0.0</td><td> 8.0</td><td>35</td><td>35.482852936</td></tr>\n",
       "\t<tr><td>12</td><td>27</td><td>14</td><td>100</td><td>14841</td><td>134</td><td>29</td><td>16.3</td><td>396</td><td> 13</td><td>10</td><td>13806</td><td>100</td><td>121</td><td> 47</td><td>11.7</td><td>11.0</td><td>87</td><td>87.114402771</td></tr>\n",
       "\t<tr><td>12</td><td>27</td><td>18</td><td>  0</td><td>    0</td><td>  0</td><td> 0</td><td> 0.0</td><td>  0</td><td>  0</td><td> 0</td><td>    0</td><td>  0</td><td>  0</td><td>  0</td><td> 8.9</td><td>10.7</td><td> 0</td><td> 0.004283639</td></tr>\n",
       "\t<tr><td>12</td><td>27</td><td>24</td><td>  0</td><td>    0</td><td>  0</td><td> 0</td><td> 0.0</td><td>  0</td><td>  0</td><td> 0</td><td>    0</td><td>  0</td><td>  0</td><td>  0</td><td> 6.7</td><td> 8.3</td><td> 0</td><td> 0.003549768</td></tr>\n",
       "\t<tr><td>12</td><td>28</td><td>1 </td><td>  0</td><td>    0</td><td>  0</td><td> 0</td><td> 0.0</td><td>  0</td><td>  0</td><td> 0</td><td>    0</td><td>  0</td><td>  0</td><td>  0</td><td> 5.0</td><td> 6.9</td><td> 0</td><td> 0.003549768</td></tr>\n",
       "\t<tr><td>12</td><td>28</td><td>15</td><td> 22</td><td> 2742</td><td> 22</td><td> 4</td><td>12.9</td><td>315</td><td>  0</td><td> 0</td><td> 2742</td><td> 22</td><td> 22</td><td>  0</td><td> 1.1</td><td> 1.5</td><td>20</td><td>19.905261993</td></tr>\n",
       "\t<tr><td>12</td><td>28</td><td>16</td><td> 11</td><td> 1420</td><td> 11</td><td> 2</td><td> 7.4</td><td>182</td><td>  0</td><td> 0</td><td> 1419</td><td> 11</td><td> 11</td><td>  0</td><td> 1.7</td><td> 2.2</td><td>10</td><td>10.082982063</td></tr>\n",
       "\t<tr><td>12</td><td>28</td><td>18</td><td>  0</td><td>    0</td><td>  0</td><td> 0</td><td> 0.0</td><td>  0</td><td>  0</td><td> 0</td><td>    0</td><td>  0</td><td>  0</td><td>  0</td><td>-1.7</td><td> 1.9</td><td> 0</td><td> 0.004283639</td></tr>\n",
       "\t<tr><td>12</td><td>28</td><td>19</td><td>  0</td><td>    0</td><td>  0</td><td> 0</td><td> 0.0</td><td>  0</td><td>  0</td><td> 0</td><td>    0</td><td>  0</td><td>  0</td><td>  0</td><td>-1.6</td><td> 1.4</td><td> 0</td><td> 0.003549768</td></tr>\n",
       "\t<tr><td>12</td><td>28</td><td>21</td><td>  0</td><td>    0</td><td>  0</td><td> 0</td><td> 0.0</td><td>  0</td><td>  0</td><td> 0</td><td>    0</td><td>  0</td><td>  0</td><td>  0</td><td>-1.7</td><td> 0.8</td><td> 0</td><td> 0.003549768</td></tr>\n",
       "\t<tr><td>12</td><td>29</td><td>4 </td><td>  0</td><td>    0</td><td>  0</td><td> 0</td><td> 0.0</td><td>  0</td><td>  0</td><td> 0</td><td>    0</td><td>  0</td><td>  0</td><td>  0</td><td>-1.0</td><td> 0.3</td><td> 0</td><td> 0.003549768</td></tr>\n",
       "\t<tr><td>12</td><td>29</td><td>9 </td><td>  1</td><td>   99</td><td>  1</td><td> 0</td><td> 0.0</td><td>  9</td><td>  0</td><td> 1</td><td>   99</td><td>  1</td><td>  1</td><td>  0</td><td> 0.0</td><td> 0.9</td><td> 1</td><td> 0.673611224</td></tr>\n",
       "\t<tr><td>12</td><td>29</td><td>12</td><td> 56</td><td> 7074</td><td> 60</td><td>12</td><td>16.2</td><td>393</td><td>  0</td><td> 1</td><td> 7074</td><td> 56</td><td> 60</td><td>  0</td><td> 3.6</td><td> 3.6</td><td>51</td><td>51.223171234</td></tr>\n",
       "\t<tr><td>12</td><td>29</td><td>20</td><td>  0</td><td>    0</td><td>  0</td><td> 0</td><td> 0.0</td><td>  0</td><td>  0</td><td> 0</td><td>    0</td><td>  0</td><td>  0</td><td>  0</td><td> 2.3</td><td> 3.1</td><td> 0</td><td> 0.003549768</td></tr>\n",
       "\t<tr><td>12</td><td>29</td><td>23</td><td>  0</td><td>    0</td><td>  0</td><td> 0</td><td> 0.0</td><td>  0</td><td>  0</td><td> 0</td><td>    0</td><td>  0</td><td>  0</td><td>  0</td><td> 1.0</td><td> 2.4</td><td> 0</td><td> 0.003549768</td></tr>\n",
       "\t<tr><td>12</td><td>30</td><td>4 </td><td>  0</td><td>    0</td><td>  0</td><td> 0</td><td> 0.0</td><td>  0</td><td>  0</td><td> 0</td><td>    0</td><td>  0</td><td>  0</td><td>  0</td><td>-1.7</td><td> 0.2</td><td> 0</td><td> 0.003549768</td></tr>\n",
       "\t<tr><td>12</td><td>30</td><td>10</td><td> 41</td><td> 6432</td><td> 58</td><td>12</td><td> 6.9</td><td>169</td><td>  9</td><td>10</td><td> 5839</td><td> 41</td><td> 48</td><td> 79</td><td> 0.8</td><td> 0.8</td><td>37</td><td>37.574810028</td></tr>\n",
       "\t<tr><td>12</td><td>30</td><td>22</td><td>  0</td><td>    0</td><td>  0</td><td> 0</td><td> 0.0</td><td>  0</td><td>  0</td><td> 0</td><td>    0</td><td>  0</td><td>  0</td><td>  0</td><td>-0.3</td><td> 1.0</td><td> 0</td><td> 0.003549768</td></tr>\n",
       "\t<tr><td>12</td><td>31</td><td>2 </td><td>  0</td><td>    0</td><td>  0</td><td> 0</td><td> 0.0</td><td>  0</td><td>  0</td><td> 0</td><td>    0</td><td>  0</td><td>  0</td><td>  0</td><td>-3.1</td><td>-1.1</td><td> 0</td><td> 0.003549768</td></tr>\n",
       "\t<tr><td>12</td><td>31</td><td>10</td><td> 28</td><td> 8248</td><td> 78</td><td>16</td><td> 6.9</td><td>169</td><td> 42</td><td>25</td><td> 5847</td><td> 28</td><td> 37</td><td>348</td><td>-0.4</td><td>-0.5</td><td>26</td><td>26.589160919</td></tr>\n",
       "\t<tr><td>12</td><td>31</td><td>13</td><td> 42</td><td>27261</td><td>258</td><td>52</td><td>17.6</td><td>428</td><td>199</td><td>48</td><td> 9234</td><td> 42</td><td> 59</td><td>657</td><td> 7.9</td><td> 5.9</td><td>38</td><td>37.170494080</td></tr>\n",
       "\t<tr><td>12</td><td>31</td><td>19</td><td>  0</td><td>    0</td><td>  0</td><td> 0</td><td> 0.0</td><td>  0</td><td>  0</td><td> 0</td><td>    0</td><td>  0</td><td>  0</td><td>  0</td><td> 1.1</td><td> 3.4</td><td> 0</td><td> 0.003549768</td></tr>\n",
       "\t<tr><td>12</td><td>31</td><td>22</td><td>  0</td><td>    0</td><td>  0</td><td> 0</td><td> 0.0</td><td>  0</td><td>  0</td><td> 0</td><td>    0</td><td>  0</td><td>  0</td><td>  0</td><td>-1.8</td><td> 2.5</td><td> 0</td><td> 0.003549768</td></tr>\n",
       "\t<tr><td>12</td><td>31</td><td>24</td><td>  0</td><td>    0</td><td>  0</td><td> 0</td><td> 0.0</td><td>  0</td><td>  0</td><td> 0</td><td>    0</td><td>  0</td><td>  0</td><td>  0</td><td>-2.5</td><td> 1.8</td><td> 0</td><td> 0.003549768</td></tr>\n",
       "</tbody>\n",
       "</table>\n"
      ],
      "text/latex": [
       "A tibble: 2628 × 19\n",
       "\\begin{tabular}{lllllllllllllllllll}\n",
       " m & dm & h & G\\_Gk & Lg & G\\_Gh & G\\_Gref & hs & G\\_Gex & G\\_Bh & Sd & Ld & G\\_Dk & G\\_Dh & G\\_Bn & Ts & Ta & PV & .pred\\\\\n",
       " <fct> & <fct> & <fct> & <int> & <int> & <int> & <int> & <dbl> & <int> & <int> & <int> & <int> & <int> & <int> & <int> & <dbl> & <dbl> & <int> & <dbl>\\\\\n",
       "\\hline\n",
       "\t 1 & 1 & 1  &   0 &     0 &   0 &  0 &  0.0 &   0 &   0 &  0 &     0 &   0 &   0 &   0 &  3.5 & 6.2 &   0 &  0.003549768\\\\\n",
       "\t 1 & 1 & 3  &   0 &     0 &   0 &  0 &  0.0 &   0 &   0 &  0 &     0 &   0 &   0 &   0 &  3.3 & 6.6 &   0 &  0.003549768\\\\\n",
       "\t 1 & 1 & 8  &   0 &     0 &   0 &  0 &  0.0 &   0 &   0 &  0 &     0 &   0 &   0 &   0 &  3.5 & 6.0 &   0 &  0.003549768\\\\\n",
       "\t 1 & 1 & 11 &  28 &  3446 &  28 &  6 & 12.6 & 308 &   0 &  0 &  3446 &  28 &  28 &   0 &  6.2 & 6.4 &  25 & 25.609237671\\\\\n",
       "\t 1 & 1 & 12 &  40 &  4917 &  41 &  8 & 16.3 & 396 &   0 &  1 &  4917 &  40 &  41 &   0 &  6.5 & 6.7 &  35 & 35.328384399\\\\\n",
       "\t 1 & 1 & 18 &   0 &     0 &   0 &  0 &  0.0 &   0 &   0 &  0 &     0 &   0 &   0 &   0 &  4.3 & 6.2 &   0 &  0.004283639\\\\\n",
       "\t 1 & 1 & 22 &   0 &     0 &   0 &  0 &  0.0 &   0 &   0 &  0 &     0 &   0 &   0 &   0 &  2.7 & 5.4 &   0 &  0.003549768\\\\\n",
       "\t 1 & 1 & 24 &   0 &     0 &   0 &  0 &  0.0 &   0 &   0 &  0 &     0 &   0 &   0 &   0 &  2.0 & 5.1 &   0 &  0.003549768\\\\\n",
       "\t 1 & 2 & 7  &   0 &     0 &   0 &  0 &  0.0 &   0 &   0 &  0 &     0 &   0 &   0 &   0 &  1.8 & 3.5 &   0 &  0.003549768\\\\\n",
       "\t 1 & 2 & 8  &   0 &     0 &   0 &  0 &  0.0 &   0 &   0 &  0 &     0 &   0 &   0 &   0 &  0.8 & 3.4 &   0 &  0.003549768\\\\\n",
       "\t 1 & 2 & 13 & 114 & 20686 & 191 & 38 & 17.8 & 431 &  43 & 25 & 17156 & 114 & 148 & 140 &  9.6 & 8.4 & 100 & 98.818145752\\\\\n",
       "\t 1 & 2 & 14 & 103 & 19348 & 178 & 36 & 16.8 & 407 &  46 & 24 & 15344 & 103 & 132 & 160 & 10.0 & 8.9 &  90 & 89.619689941\\\\\n",
       "\t 1 & 2 & 21 &   0 &     0 &   0 &  0 &  0.0 &   0 &   0 &  0 &     0 &   0 &   0 &   0 &  2.5 & 5.7 &   0 &  0.003549768\\\\\n",
       "\t 1 & 2 & 23 &   0 &     0 &   0 &  0 &  0.0 &   0 &   0 &  0 &     0 &   0 &   0 &   0 &  1.5 & 4.9 &   0 &  0.003549768\\\\\n",
       "\t 1 & 3 & 1  &   0 &     0 &   0 &  0 &  0.0 &   0 &   0 &  0 &     0 &   0 &   0 &   0 &  0.6 & 4.2 &   0 &  0.003549768\\\\\n",
       "\t 1 & 3 & 3  &   0 &     0 &   0 &  0 &  0.0 &   0 &   0 &  0 &     0 &   0 &   0 &   0 & -0.1 & 3.4 &   0 &  0.003549768\\\\\n",
       "\t 1 & 3 & 7  &   0 &     0 &   0 &  0 &  0.0 &   0 &   0 &  0 &     0 &   0 &   0 &   0 & -0.8 & 2.6 &   0 &  0.003549768\\\\\n",
       "\t 1 & 3 & 14 &  69 & 21427 & 202 & 40 & 16.9 & 410 & 105 & 33 & 13877 &  69 &  97 & 362 & 10.2 & 8.7 &  60 & 61.059181213\\\\\n",
       "\t 1 & 3 & 19 &   0 &     0 &   0 &  0 &  0.0 &   0 &   0 &  0 &     0 &   0 &   0 &   0 &  5.0 & 6.4 &   0 &  0.003549768\\\\\n",
       "\t 1 & 3 & 20 &   0 &     0 &   0 &  0 &  0.0 &   0 &   0 &  0 &     0 &   0 &   0 &   0 &  4.1 & 6.1 &   0 &  0.003549768\\\\\n",
       "\t 1 & 3 & 21 &   0 &     0 &   0 &  0 &  0.0 &   0 &   0 &  0 &     0 &   0 &   0 &   0 &  3.8 & 5.7 &   0 &  0.003549768\\\\\n",
       "\t 1 & 4 & 2  &   0 &     0 &   0 &  0 &  0.0 &   0 &   0 &  0 &     0 &   0 &   0 &   0 &  2.1 & 4.0 &   0 &  0.003549768\\\\\n",
       "\t 1 & 4 & 5  &   0 &     0 &   0 &  0 &  0.0 &   0 &   0 &  0 &     0 &   0 &   0 &   0 &  2.2 & 3.4 &   0 &  0.003549768\\\\\n",
       "\t 1 & 4 & 7  &   0 &     0 &   0 &  0 &  0.0 &   0 &   0 &  0 &     0 &   0 &   0 &   0 &  0.8 & 3.1 &   0 &  0.003549768\\\\\n",
       "\t 1 & 4 & 10 &  35 &  4258 &  38 &  8 &  7.0 & 172 &   0 &  4 &  4258 &  35 &  38 &   0 &  3.6 & 3.8 &  32 & 31.305425644\\\\\n",
       "\t 1 & 4 & 11 &  72 &  9061 &  81 & 16 & 12.7 & 311 &   1 &  6 &  9001 &  72 &  81 &   4 &  5.0 & 4.7 &  65 & 65.004234314\\\\\n",
       "\t 1 & 4 & 12 &  97 & 12580 & 113 & 23 & 16.5 & 401 &   3 &  7 & 12344 &  97 & 110 &   9 &  6.1 & 5.5 &  87 & 85.625862122\\\\\n",
       "\t 1 & 4 & 14 & 105 & 13823 & 125 & 25 & 17.0 & 412 &   5 &  8 & 13359 & 105 & 120 &  16 &  7.2 & 6.5 &  93 & 92.513702393\\\\\n",
       "\t 1 & 4 & 15 &  83 & 10722 &  97 & 19 & 13.6 & 333 &   3 &  8 & 10396 &  83 &  94 &  14 &  7.0 & 6.6 &  73 & 73.822685242\\\\\n",
       "\t 1 & 4 & 21 &   0 &     0 &   0 &  0 &  0.0 &   0 &   0 &  0 &     0 &   0 &   0 &   0 &  1.5 & 4.3 &   0 &  0.003549768\\\\\n",
       "\t ⋮ & ⋮ & ⋮ & ⋮ & ⋮ & ⋮ & ⋮ & ⋮ & ⋮ & ⋮ & ⋮ & ⋮ & ⋮ & ⋮ & ⋮ & ⋮ & ⋮ & ⋮ & ⋮\\\\\n",
       "\t 12 & 26 & 3  &   0 &     0 &   0 &  0 &  0.0 &   0 &   0 &  0 &     0 &   0 &   0 &   0 & -1.0 &  2.6 &  0 &  0.003549768\\\\\n",
       "\t 12 & 26 & 10 &  16 &  1952 &  16 &  6 &  6.9 & 170 &   0 &  0 &  1952 &  16 &  16 &   0 &  0.0 &  3.5 & 14 & 14.403736115\\\\\n",
       "\t 12 & 26 & 11 &  33 &  4106 &  34 & 14 & 12.5 & 306 &   0 &  1 &  4106 &  33 &  34 &   0 &  0.0 &  4.1 & 30 & 30.081735611\\\\\n",
       "\t 12 & 26 & 14 &  55 &  6799 &  57 & 23 & 16.2 & 395 &   0 &  1 &  6799 &  55 &  57 &   0 &  0.0 &  5.7 & 49 & 48.402027130\\\\\n",
       "\t 12 & 26 & 20 &   0 &     0 &   0 &  0 &  0.0 &   0 &   0 &  0 &     0 &   0 &   0 &   0 &  0.0 &  5.3 &  0 &  0.003549768\\\\\n",
       "\t 12 & 27 & 2  &   0 &     0 &   0 &  0 &  0.0 &   0 &   0 &  0 &     0 &   0 &   0 &   0 &  0.0 &  5.9 &  0 &  0.003549768\\\\\n",
       "\t 12 & 27 & 10 &  40 &  5494 &  50 & 11 &  6.9 & 169 &   4 &  6 &  5214 &  40 &  45 &  37 &  0.0 &  8.0 & 35 & 35.482852936\\\\\n",
       "\t 12 & 27 & 14 & 100 & 14841 & 134 & 29 & 16.3 & 396 &  13 & 10 & 13806 & 100 & 121 &  47 & 11.7 & 11.0 & 87 & 87.114402771\\\\\n",
       "\t 12 & 27 & 18 &   0 &     0 &   0 &  0 &  0.0 &   0 &   0 &  0 &     0 &   0 &   0 &   0 &  8.9 & 10.7 &  0 &  0.004283639\\\\\n",
       "\t 12 & 27 & 24 &   0 &     0 &   0 &  0 &  0.0 &   0 &   0 &  0 &     0 &   0 &   0 &   0 &  6.7 &  8.3 &  0 &  0.003549768\\\\\n",
       "\t 12 & 28 & 1  &   0 &     0 &   0 &  0 &  0.0 &   0 &   0 &  0 &     0 &   0 &   0 &   0 &  5.0 &  6.9 &  0 &  0.003549768\\\\\n",
       "\t 12 & 28 & 15 &  22 &  2742 &  22 &  4 & 12.9 & 315 &   0 &  0 &  2742 &  22 &  22 &   0 &  1.1 &  1.5 & 20 & 19.905261993\\\\\n",
       "\t 12 & 28 & 16 &  11 &  1420 &  11 &  2 &  7.4 & 182 &   0 &  0 &  1419 &  11 &  11 &   0 &  1.7 &  2.2 & 10 & 10.082982063\\\\\n",
       "\t 12 & 28 & 18 &   0 &     0 &   0 &  0 &  0.0 &   0 &   0 &  0 &     0 &   0 &   0 &   0 & -1.7 &  1.9 &  0 &  0.004283639\\\\\n",
       "\t 12 & 28 & 19 &   0 &     0 &   0 &  0 &  0.0 &   0 &   0 &  0 &     0 &   0 &   0 &   0 & -1.6 &  1.4 &  0 &  0.003549768\\\\\n",
       "\t 12 & 28 & 21 &   0 &     0 &   0 &  0 &  0.0 &   0 &   0 &  0 &     0 &   0 &   0 &   0 & -1.7 &  0.8 &  0 &  0.003549768\\\\\n",
       "\t 12 & 29 & 4  &   0 &     0 &   0 &  0 &  0.0 &   0 &   0 &  0 &     0 &   0 &   0 &   0 & -1.0 &  0.3 &  0 &  0.003549768\\\\\n",
       "\t 12 & 29 & 9  &   1 &    99 &   1 &  0 &  0.0 &   9 &   0 &  1 &    99 &   1 &   1 &   0 &  0.0 &  0.9 &  1 &  0.673611224\\\\\n",
       "\t 12 & 29 & 12 &  56 &  7074 &  60 & 12 & 16.2 & 393 &   0 &  1 &  7074 &  56 &  60 &   0 &  3.6 &  3.6 & 51 & 51.223171234\\\\\n",
       "\t 12 & 29 & 20 &   0 &     0 &   0 &  0 &  0.0 &   0 &   0 &  0 &     0 &   0 &   0 &   0 &  2.3 &  3.1 &  0 &  0.003549768\\\\\n",
       "\t 12 & 29 & 23 &   0 &     0 &   0 &  0 &  0.0 &   0 &   0 &  0 &     0 &   0 &   0 &   0 &  1.0 &  2.4 &  0 &  0.003549768\\\\\n",
       "\t 12 & 30 & 4  &   0 &     0 &   0 &  0 &  0.0 &   0 &   0 &  0 &     0 &   0 &   0 &   0 & -1.7 &  0.2 &  0 &  0.003549768\\\\\n",
       "\t 12 & 30 & 10 &  41 &  6432 &  58 & 12 &  6.9 & 169 &   9 & 10 &  5839 &  41 &  48 &  79 &  0.8 &  0.8 & 37 & 37.574810028\\\\\n",
       "\t 12 & 30 & 22 &   0 &     0 &   0 &  0 &  0.0 &   0 &   0 &  0 &     0 &   0 &   0 &   0 & -0.3 &  1.0 &  0 &  0.003549768\\\\\n",
       "\t 12 & 31 & 2  &   0 &     0 &   0 &  0 &  0.0 &   0 &   0 &  0 &     0 &   0 &   0 &   0 & -3.1 & -1.1 &  0 &  0.003549768\\\\\n",
       "\t 12 & 31 & 10 &  28 &  8248 &  78 & 16 &  6.9 & 169 &  42 & 25 &  5847 &  28 &  37 & 348 & -0.4 & -0.5 & 26 & 26.589160919\\\\\n",
       "\t 12 & 31 & 13 &  42 & 27261 & 258 & 52 & 17.6 & 428 & 199 & 48 &  9234 &  42 &  59 & 657 &  7.9 &  5.9 & 38 & 37.170494080\\\\\n",
       "\t 12 & 31 & 19 &   0 &     0 &   0 &  0 &  0.0 &   0 &   0 &  0 &     0 &   0 &   0 &   0 &  1.1 &  3.4 &  0 &  0.003549768\\\\\n",
       "\t 12 & 31 & 22 &   0 &     0 &   0 &  0 &  0.0 &   0 &   0 &  0 &     0 &   0 &   0 &   0 & -1.8 &  2.5 &  0 &  0.003549768\\\\\n",
       "\t 12 & 31 & 24 &   0 &     0 &   0 &  0 &  0.0 &   0 &   0 &  0 &     0 &   0 &   0 &   0 & -2.5 &  1.8 &  0 &  0.003549768\\\\\n",
       "\\end{tabular}\n"
      ],
      "text/markdown": [
       "\n",
       "A tibble: 2628 × 19\n",
       "\n",
       "| m &lt;fct&gt; | dm &lt;fct&gt; | h &lt;fct&gt; | G_Gk &lt;int&gt; | Lg &lt;int&gt; | G_Gh &lt;int&gt; | G_Gref &lt;int&gt; | hs &lt;dbl&gt; | G_Gex &lt;int&gt; | G_Bh &lt;int&gt; | Sd &lt;int&gt; | Ld &lt;int&gt; | G_Dk &lt;int&gt; | G_Dh &lt;int&gt; | G_Bn &lt;int&gt; | Ts &lt;dbl&gt; | Ta &lt;dbl&gt; | PV &lt;int&gt; | .pred &lt;dbl&gt; |\n",
       "|---|---|---|---|---|---|---|---|---|---|---|---|---|---|---|---|---|---|---|\n",
       "| 1 | 1 | 1  |   0 |     0 |   0 |  0 |  0.0 |   0 |   0 |  0 |     0 |   0 |   0 |   0 |  3.5 | 6.2 |   0 |  0.003549768 |\n",
       "| 1 | 1 | 3  |   0 |     0 |   0 |  0 |  0.0 |   0 |   0 |  0 |     0 |   0 |   0 |   0 |  3.3 | 6.6 |   0 |  0.003549768 |\n",
       "| 1 | 1 | 8  |   0 |     0 |   0 |  0 |  0.0 |   0 |   0 |  0 |     0 |   0 |   0 |   0 |  3.5 | 6.0 |   0 |  0.003549768 |\n",
       "| 1 | 1 | 11 |  28 |  3446 |  28 |  6 | 12.6 | 308 |   0 |  0 |  3446 |  28 |  28 |   0 |  6.2 | 6.4 |  25 | 25.609237671 |\n",
       "| 1 | 1 | 12 |  40 |  4917 |  41 |  8 | 16.3 | 396 |   0 |  1 |  4917 |  40 |  41 |   0 |  6.5 | 6.7 |  35 | 35.328384399 |\n",
       "| 1 | 1 | 18 |   0 |     0 |   0 |  0 |  0.0 |   0 |   0 |  0 |     0 |   0 |   0 |   0 |  4.3 | 6.2 |   0 |  0.004283639 |\n",
       "| 1 | 1 | 22 |   0 |     0 |   0 |  0 |  0.0 |   0 |   0 |  0 |     0 |   0 |   0 |   0 |  2.7 | 5.4 |   0 |  0.003549768 |\n",
       "| 1 | 1 | 24 |   0 |     0 |   0 |  0 |  0.0 |   0 |   0 |  0 |     0 |   0 |   0 |   0 |  2.0 | 5.1 |   0 |  0.003549768 |\n",
       "| 1 | 2 | 7  |   0 |     0 |   0 |  0 |  0.0 |   0 |   0 |  0 |     0 |   0 |   0 |   0 |  1.8 | 3.5 |   0 |  0.003549768 |\n",
       "| 1 | 2 | 8  |   0 |     0 |   0 |  0 |  0.0 |   0 |   0 |  0 |     0 |   0 |   0 |   0 |  0.8 | 3.4 |   0 |  0.003549768 |\n",
       "| 1 | 2 | 13 | 114 | 20686 | 191 | 38 | 17.8 | 431 |  43 | 25 | 17156 | 114 | 148 | 140 |  9.6 | 8.4 | 100 | 98.818145752 |\n",
       "| 1 | 2 | 14 | 103 | 19348 | 178 | 36 | 16.8 | 407 |  46 | 24 | 15344 | 103 | 132 | 160 | 10.0 | 8.9 |  90 | 89.619689941 |\n",
       "| 1 | 2 | 21 |   0 |     0 |   0 |  0 |  0.0 |   0 |   0 |  0 |     0 |   0 |   0 |   0 |  2.5 | 5.7 |   0 |  0.003549768 |\n",
       "| 1 | 2 | 23 |   0 |     0 |   0 |  0 |  0.0 |   0 |   0 |  0 |     0 |   0 |   0 |   0 |  1.5 | 4.9 |   0 |  0.003549768 |\n",
       "| 1 | 3 | 1  |   0 |     0 |   0 |  0 |  0.0 |   0 |   0 |  0 |     0 |   0 |   0 |   0 |  0.6 | 4.2 |   0 |  0.003549768 |\n",
       "| 1 | 3 | 3  |   0 |     0 |   0 |  0 |  0.0 |   0 |   0 |  0 |     0 |   0 |   0 |   0 | -0.1 | 3.4 |   0 |  0.003549768 |\n",
       "| 1 | 3 | 7  |   0 |     0 |   0 |  0 |  0.0 |   0 |   0 |  0 |     0 |   0 |   0 |   0 | -0.8 | 2.6 |   0 |  0.003549768 |\n",
       "| 1 | 3 | 14 |  69 | 21427 | 202 | 40 | 16.9 | 410 | 105 | 33 | 13877 |  69 |  97 | 362 | 10.2 | 8.7 |  60 | 61.059181213 |\n",
       "| 1 | 3 | 19 |   0 |     0 |   0 |  0 |  0.0 |   0 |   0 |  0 |     0 |   0 |   0 |   0 |  5.0 | 6.4 |   0 |  0.003549768 |\n",
       "| 1 | 3 | 20 |   0 |     0 |   0 |  0 |  0.0 |   0 |   0 |  0 |     0 |   0 |   0 |   0 |  4.1 | 6.1 |   0 |  0.003549768 |\n",
       "| 1 | 3 | 21 |   0 |     0 |   0 |  0 |  0.0 |   0 |   0 |  0 |     0 |   0 |   0 |   0 |  3.8 | 5.7 |   0 |  0.003549768 |\n",
       "| 1 | 4 | 2  |   0 |     0 |   0 |  0 |  0.0 |   0 |   0 |  0 |     0 |   0 |   0 |   0 |  2.1 | 4.0 |   0 |  0.003549768 |\n",
       "| 1 | 4 | 5  |   0 |     0 |   0 |  0 |  0.0 |   0 |   0 |  0 |     0 |   0 |   0 |   0 |  2.2 | 3.4 |   0 |  0.003549768 |\n",
       "| 1 | 4 | 7  |   0 |     0 |   0 |  0 |  0.0 |   0 |   0 |  0 |     0 |   0 |   0 |   0 |  0.8 | 3.1 |   0 |  0.003549768 |\n",
       "| 1 | 4 | 10 |  35 |  4258 |  38 |  8 |  7.0 | 172 |   0 |  4 |  4258 |  35 |  38 |   0 |  3.6 | 3.8 |  32 | 31.305425644 |\n",
       "| 1 | 4 | 11 |  72 |  9061 |  81 | 16 | 12.7 | 311 |   1 |  6 |  9001 |  72 |  81 |   4 |  5.0 | 4.7 |  65 | 65.004234314 |\n",
       "| 1 | 4 | 12 |  97 | 12580 | 113 | 23 | 16.5 | 401 |   3 |  7 | 12344 |  97 | 110 |   9 |  6.1 | 5.5 |  87 | 85.625862122 |\n",
       "| 1 | 4 | 14 | 105 | 13823 | 125 | 25 | 17.0 | 412 |   5 |  8 | 13359 | 105 | 120 |  16 |  7.2 | 6.5 |  93 | 92.513702393 |\n",
       "| 1 | 4 | 15 |  83 | 10722 |  97 | 19 | 13.6 | 333 |   3 |  8 | 10396 |  83 |  94 |  14 |  7.0 | 6.6 |  73 | 73.822685242 |\n",
       "| 1 | 4 | 21 |   0 |     0 |   0 |  0 |  0.0 |   0 |   0 |  0 |     0 |   0 |   0 |   0 |  1.5 | 4.3 |   0 |  0.003549768 |\n",
       "| ⋮ | ⋮ | ⋮ | ⋮ | ⋮ | ⋮ | ⋮ | ⋮ | ⋮ | ⋮ | ⋮ | ⋮ | ⋮ | ⋮ | ⋮ | ⋮ | ⋮ | ⋮ | ⋮ |\n",
       "| 12 | 26 | 3  |   0 |     0 |   0 |  0 |  0.0 |   0 |   0 |  0 |     0 |   0 |   0 |   0 | -1.0 |  2.6 |  0 |  0.003549768 |\n",
       "| 12 | 26 | 10 |  16 |  1952 |  16 |  6 |  6.9 | 170 |   0 |  0 |  1952 |  16 |  16 |   0 |  0.0 |  3.5 | 14 | 14.403736115 |\n",
       "| 12 | 26 | 11 |  33 |  4106 |  34 | 14 | 12.5 | 306 |   0 |  1 |  4106 |  33 |  34 |   0 |  0.0 |  4.1 | 30 | 30.081735611 |\n",
       "| 12 | 26 | 14 |  55 |  6799 |  57 | 23 | 16.2 | 395 |   0 |  1 |  6799 |  55 |  57 |   0 |  0.0 |  5.7 | 49 | 48.402027130 |\n",
       "| 12 | 26 | 20 |   0 |     0 |   0 |  0 |  0.0 |   0 |   0 |  0 |     0 |   0 |   0 |   0 |  0.0 |  5.3 |  0 |  0.003549768 |\n",
       "| 12 | 27 | 2  |   0 |     0 |   0 |  0 |  0.0 |   0 |   0 |  0 |     0 |   0 |   0 |   0 |  0.0 |  5.9 |  0 |  0.003549768 |\n",
       "| 12 | 27 | 10 |  40 |  5494 |  50 | 11 |  6.9 | 169 |   4 |  6 |  5214 |  40 |  45 |  37 |  0.0 |  8.0 | 35 | 35.482852936 |\n",
       "| 12 | 27 | 14 | 100 | 14841 | 134 | 29 | 16.3 | 396 |  13 | 10 | 13806 | 100 | 121 |  47 | 11.7 | 11.0 | 87 | 87.114402771 |\n",
       "| 12 | 27 | 18 |   0 |     0 |   0 |  0 |  0.0 |   0 |   0 |  0 |     0 |   0 |   0 |   0 |  8.9 | 10.7 |  0 |  0.004283639 |\n",
       "| 12 | 27 | 24 |   0 |     0 |   0 |  0 |  0.0 |   0 |   0 |  0 |     0 |   0 |   0 |   0 |  6.7 |  8.3 |  0 |  0.003549768 |\n",
       "| 12 | 28 | 1  |   0 |     0 |   0 |  0 |  0.0 |   0 |   0 |  0 |     0 |   0 |   0 |   0 |  5.0 |  6.9 |  0 |  0.003549768 |\n",
       "| 12 | 28 | 15 |  22 |  2742 |  22 |  4 | 12.9 | 315 |   0 |  0 |  2742 |  22 |  22 |   0 |  1.1 |  1.5 | 20 | 19.905261993 |\n",
       "| 12 | 28 | 16 |  11 |  1420 |  11 |  2 |  7.4 | 182 |   0 |  0 |  1419 |  11 |  11 |   0 |  1.7 |  2.2 | 10 | 10.082982063 |\n",
       "| 12 | 28 | 18 |   0 |     0 |   0 |  0 |  0.0 |   0 |   0 |  0 |     0 |   0 |   0 |   0 | -1.7 |  1.9 |  0 |  0.004283639 |\n",
       "| 12 | 28 | 19 |   0 |     0 |   0 |  0 |  0.0 |   0 |   0 |  0 |     0 |   0 |   0 |   0 | -1.6 |  1.4 |  0 |  0.003549768 |\n",
       "| 12 | 28 | 21 |   0 |     0 |   0 |  0 |  0.0 |   0 |   0 |  0 |     0 |   0 |   0 |   0 | -1.7 |  0.8 |  0 |  0.003549768 |\n",
       "| 12 | 29 | 4  |   0 |     0 |   0 |  0 |  0.0 |   0 |   0 |  0 |     0 |   0 |   0 |   0 | -1.0 |  0.3 |  0 |  0.003549768 |\n",
       "| 12 | 29 | 9  |   1 |    99 |   1 |  0 |  0.0 |   9 |   0 |  1 |    99 |   1 |   1 |   0 |  0.0 |  0.9 |  1 |  0.673611224 |\n",
       "| 12 | 29 | 12 |  56 |  7074 |  60 | 12 | 16.2 | 393 |   0 |  1 |  7074 |  56 |  60 |   0 |  3.6 |  3.6 | 51 | 51.223171234 |\n",
       "| 12 | 29 | 20 |   0 |     0 |   0 |  0 |  0.0 |   0 |   0 |  0 |     0 |   0 |   0 |   0 |  2.3 |  3.1 |  0 |  0.003549768 |\n",
       "| 12 | 29 | 23 |   0 |     0 |   0 |  0 |  0.0 |   0 |   0 |  0 |     0 |   0 |   0 |   0 |  1.0 |  2.4 |  0 |  0.003549768 |\n",
       "| 12 | 30 | 4  |   0 |     0 |   0 |  0 |  0.0 |   0 |   0 |  0 |     0 |   0 |   0 |   0 | -1.7 |  0.2 |  0 |  0.003549768 |\n",
       "| 12 | 30 | 10 |  41 |  6432 |  58 | 12 |  6.9 | 169 |   9 | 10 |  5839 |  41 |  48 |  79 |  0.8 |  0.8 | 37 | 37.574810028 |\n",
       "| 12 | 30 | 22 |   0 |     0 |   0 |  0 |  0.0 |   0 |   0 |  0 |     0 |   0 |   0 |   0 | -0.3 |  1.0 |  0 |  0.003549768 |\n",
       "| 12 | 31 | 2  |   0 |     0 |   0 |  0 |  0.0 |   0 |   0 |  0 |     0 |   0 |   0 |   0 | -3.1 | -1.1 |  0 |  0.003549768 |\n",
       "| 12 | 31 | 10 |  28 |  8248 |  78 | 16 |  6.9 | 169 |  42 | 25 |  5847 |  28 |  37 | 348 | -0.4 | -0.5 | 26 | 26.589160919 |\n",
       "| 12 | 31 | 13 |  42 | 27261 | 258 | 52 | 17.6 | 428 | 199 | 48 |  9234 |  42 |  59 | 657 |  7.9 |  5.9 | 38 | 37.170494080 |\n",
       "| 12 | 31 | 19 |   0 |     0 |   0 |  0 |  0.0 |   0 |   0 |  0 |     0 |   0 |   0 |   0 |  1.1 |  3.4 |  0 |  0.003549768 |\n",
       "| 12 | 31 | 22 |   0 |     0 |   0 |  0 |  0.0 |   0 |   0 |  0 |     0 |   0 |   0 |   0 | -1.8 |  2.5 |  0 |  0.003549768 |\n",
       "| 12 | 31 | 24 |   0 |     0 |   0 |  0 |  0.0 |   0 |   0 |  0 |     0 |   0 |   0 |   0 | -2.5 |  1.8 |  0 |  0.003549768 |\n",
       "\n"
      ],
      "text/plain": [
       "     m  dm h  G_Gk Lg    G_Gh G_Gref hs   G_Gex G_Bh Sd Ld    G_Dk G_Dh G_Bn\n",
       "1    1  1  1    0      0   0   0      0.0   0     0   0     0   0    0    0 \n",
       "2    1  1  3    0      0   0   0      0.0   0     0   0     0   0    0    0 \n",
       "3    1  1  8    0      0   0   0      0.0   0     0   0     0   0    0    0 \n",
       "4    1  1  11  28   3446  28   6     12.6 308     0   0  3446  28   28    0 \n",
       "5    1  1  12  40   4917  41   8     16.3 396     0   1  4917  40   41    0 \n",
       "6    1  1  18   0      0   0   0      0.0   0     0   0     0   0    0    0 \n",
       "7    1  1  22   0      0   0   0      0.0   0     0   0     0   0    0    0 \n",
       "8    1  1  24   0      0   0   0      0.0   0     0   0     0   0    0    0 \n",
       "9    1  2  7    0      0   0   0      0.0   0     0   0     0   0    0    0 \n",
       "10   1  2  8    0      0   0   0      0.0   0     0   0     0   0    0    0 \n",
       "11   1  2  13 114  20686 191  38     17.8 431    43  25 17156 114  148  140 \n",
       "12   1  2  14 103  19348 178  36     16.8 407    46  24 15344 103  132  160 \n",
       "13   1  2  21   0      0   0   0      0.0   0     0   0     0   0    0    0 \n",
       "14   1  2  23   0      0   0   0      0.0   0     0   0     0   0    0    0 \n",
       "15   1  3  1    0      0   0   0      0.0   0     0   0     0   0    0    0 \n",
       "16   1  3  3    0      0   0   0      0.0   0     0   0     0   0    0    0 \n",
       "17   1  3  7    0      0   0   0      0.0   0     0   0     0   0    0    0 \n",
       "18   1  3  14  69  21427 202  40     16.9 410   105  33 13877  69   97  362 \n",
       "19   1  3  19   0      0   0   0      0.0   0     0   0     0   0    0    0 \n",
       "20   1  3  20   0      0   0   0      0.0   0     0   0     0   0    0    0 \n",
       "21   1  3  21   0      0   0   0      0.0   0     0   0     0   0    0    0 \n",
       "22   1  4  2    0      0   0   0      0.0   0     0   0     0   0    0    0 \n",
       "23   1  4  5    0      0   0   0      0.0   0     0   0     0   0    0    0 \n",
       "24   1  4  7    0      0   0   0      0.0   0     0   0     0   0    0    0 \n",
       "25   1  4  10  35   4258  38   8      7.0 172     0   4  4258  35   38    0 \n",
       "26   1  4  11  72   9061  81  16     12.7 311     1   6  9001  72   81    4 \n",
       "27   1  4  12  97  12580 113  23     16.5 401     3   7 12344  97  110    9 \n",
       "28   1  4  14 105  13823 125  25     17.0 412     5   8 13359 105  120   16 \n",
       "29   1  4  15  83  10722  97  19     13.6 333     3   8 10396  83   94   14 \n",
       "30   1  4  21   0      0   0   0      0.0   0     0   0     0   0    0    0 \n",
       "⋮    ⋮  ⋮  ⋮  ⋮    ⋮     ⋮    ⋮      ⋮    ⋮     ⋮    ⋮  ⋮     ⋮    ⋮    ⋮   \n",
       "2599 12 26 3    0      0   0   0      0.0   0     0   0     0   0    0    0 \n",
       "2600 12 26 10  16   1952  16   6      6.9 170     0   0  1952  16   16    0 \n",
       "2601 12 26 11  33   4106  34  14     12.5 306     0   1  4106  33   34    0 \n",
       "2602 12 26 14  55   6799  57  23     16.2 395     0   1  6799  55   57    0 \n",
       "2603 12 26 20   0      0   0   0      0.0   0     0   0     0   0    0    0 \n",
       "2604 12 27 2    0      0   0   0      0.0   0     0   0     0   0    0    0 \n",
       "2605 12 27 10  40   5494  50  11      6.9 169     4   6  5214  40   45   37 \n",
       "2606 12 27 14 100  14841 134  29     16.3 396    13  10 13806 100  121   47 \n",
       "2607 12 27 18   0      0   0   0      0.0   0     0   0     0   0    0    0 \n",
       "2608 12 27 24   0      0   0   0      0.0   0     0   0     0   0    0    0 \n",
       "2609 12 28 1    0      0   0   0      0.0   0     0   0     0   0    0    0 \n",
       "2610 12 28 15  22   2742  22   4     12.9 315     0   0  2742  22   22    0 \n",
       "2611 12 28 16  11   1420  11   2      7.4 182     0   0  1419  11   11    0 \n",
       "2612 12 28 18   0      0   0   0      0.0   0     0   0     0   0    0    0 \n",
       "2613 12 28 19   0      0   0   0      0.0   0     0   0     0   0    0    0 \n",
       "2614 12 28 21   0      0   0   0      0.0   0     0   0     0   0    0    0 \n",
       "2615 12 29 4    0      0   0   0      0.0   0     0   0     0   0    0    0 \n",
       "2616 12 29 9    1     99   1   0      0.0   9     0   1    99   1    1    0 \n",
       "2617 12 29 12  56   7074  60  12     16.2 393     0   1  7074  56   60    0 \n",
       "2618 12 29 20   0      0   0   0      0.0   0     0   0     0   0    0    0 \n",
       "2619 12 29 23   0      0   0   0      0.0   0     0   0     0   0    0    0 \n",
       "2620 12 30 4    0      0   0   0      0.0   0     0   0     0   0    0    0 \n",
       "2621 12 30 10  41   6432  58  12      6.9 169     9  10  5839  41   48   79 \n",
       "2622 12 30 22   0      0   0   0      0.0   0     0   0     0   0    0    0 \n",
       "2623 12 31 2    0      0   0   0      0.0   0     0   0     0   0    0    0 \n",
       "2624 12 31 10  28   8248  78  16      6.9 169    42  25  5847  28   37  348 \n",
       "2625 12 31 13  42  27261 258  52     17.6 428   199  48  9234  42   59  657 \n",
       "2626 12 31 19   0      0   0   0      0.0   0     0   0     0   0    0    0 \n",
       "2627 12 31 22   0      0   0   0      0.0   0     0   0     0   0    0    0 \n",
       "2628 12 31 24   0      0   0   0      0.0   0     0   0     0   0    0    0 \n",
       "     Ts   Ta   PV  .pred       \n",
       "1     3.5 6.2    0  0.003549768\n",
       "2     3.3 6.6    0  0.003549768\n",
       "3     3.5 6.0    0  0.003549768\n",
       "4     6.2 6.4   25 25.609237671\n",
       "5     6.5 6.7   35 35.328384399\n",
       "6     4.3 6.2    0  0.004283639\n",
       "7     2.7 5.4    0  0.003549768\n",
       "8     2.0 5.1    0  0.003549768\n",
       "9     1.8 3.5    0  0.003549768\n",
       "10    0.8 3.4    0  0.003549768\n",
       "11    9.6 8.4  100 98.818145752\n",
       "12   10.0 8.9   90 89.619689941\n",
       "13    2.5 5.7    0  0.003549768\n",
       "14    1.5 4.9    0  0.003549768\n",
       "15    0.6 4.2    0  0.003549768\n",
       "16   -0.1 3.4    0  0.003549768\n",
       "17   -0.8 2.6    0  0.003549768\n",
       "18   10.2 8.7   60 61.059181213\n",
       "19    5.0 6.4    0  0.003549768\n",
       "20    4.1 6.1    0  0.003549768\n",
       "21    3.8 5.7    0  0.003549768\n",
       "22    2.1 4.0    0  0.003549768\n",
       "23    2.2 3.4    0  0.003549768\n",
       "24    0.8 3.1    0  0.003549768\n",
       "25    3.6 3.8   32 31.305425644\n",
       "26    5.0 4.7   65 65.004234314\n",
       "27    6.1 5.5   87 85.625862122\n",
       "28    7.2 6.5   93 92.513702393\n",
       "29    7.0 6.6   73 73.822685242\n",
       "30    1.5 4.3    0  0.003549768\n",
       "⋮    ⋮    ⋮    ⋮   ⋮           \n",
       "2599 -1.0  2.6  0   0.003549768\n",
       "2600  0.0  3.5 14  14.403736115\n",
       "2601  0.0  4.1 30  30.081735611\n",
       "2602  0.0  5.7 49  48.402027130\n",
       "2603  0.0  5.3  0   0.003549768\n",
       "2604  0.0  5.9  0   0.003549768\n",
       "2605  0.0  8.0 35  35.482852936\n",
       "2606 11.7 11.0 87  87.114402771\n",
       "2607  8.9 10.7  0   0.004283639\n",
       "2608  6.7  8.3  0   0.003549768\n",
       "2609  5.0  6.9  0   0.003549768\n",
       "2610  1.1  1.5 20  19.905261993\n",
       "2611  1.7  2.2 10  10.082982063\n",
       "2612 -1.7  1.9  0   0.004283639\n",
       "2613 -1.6  1.4  0   0.003549768\n",
       "2614 -1.7  0.8  0   0.003549768\n",
       "2615 -1.0  0.3  0   0.003549768\n",
       "2616  0.0  0.9  1   0.673611224\n",
       "2617  3.6  3.6 51  51.223171234\n",
       "2618  2.3  3.1  0   0.003549768\n",
       "2619  1.0  2.4  0   0.003549768\n",
       "2620 -1.7  0.2  0   0.003549768\n",
       "2621  0.8  0.8 37  37.574810028\n",
       "2622 -0.3  1.0  0   0.003549768\n",
       "2623 -3.1 -1.1  0   0.003549768\n",
       "2624 -0.4 -0.5 26  26.589160919\n",
       "2625  7.9  5.9 38  37.170494080\n",
       "2626  1.1  3.4  0   0.003549768\n",
       "2627 -1.8  2.5  0   0.003549768\n",
       "2628 -2.5  1.8  0   0.003549768"
      ]
     },
     "metadata": {},
     "output_type": "display_data"
    }
   ],
   "source": [
    "# Extract trained workflow\n",
    "Saar_boost_model <- final_fit$.workflow[[1]]\n",
    "\n",
    "# Save trained workflow\n",
    "saveRDS(Saar_boost_model, 'Saar_boost_model.rds')\n",
    "\n",
    "# Load the model\n",
    "loaded_model <- readRDS(\"Saar_boost_model.rds\")\n",
    "\n",
    "# Extract predictors\n",
    "bike_new <- Saar_test %>% \n",
    "  dplyr::slice(5:9)\n",
    "\n",
    "# Use the model to predict rentals\n",
    "results_FN <- loaded_model %>% \n",
    "  augment(Saar_test)\n",
    "\n",
    "# See model predictions \n",
    "results_FN"
   ]
  },
  {
   "cell_type": "code",
   "execution_count": 28,
   "id": "97ca12fd",
   "metadata": {
    "vscode": {
     "languageId": "r"
    }
   },
   "outputs": [
    {
     "data": {
      "text/html": [
       "<table class=\"dataframe\">\n",
       "<caption>A tibble: 2628 × 20</caption>\n",
       "<thead>\n",
       "\t<tr><th scope=col>m</th><th scope=col>dm</th><th scope=col>h</th><th scope=col>G_Gk</th><th scope=col>Lg</th><th scope=col>G_Gh</th><th scope=col>G_Gref</th><th scope=col>hs</th><th scope=col>G_Gex</th><th scope=col>G_Bh</th><th scope=col>Sd</th><th scope=col>Ld</th><th scope=col>G_Dk</th><th scope=col>G_Dh</th><th scope=col>G_Bn</th><th scope=col>Ts</th><th scope=col>Ta</th><th scope=col>PV</th><th scope=col>.pred</th><th scope=col>predictions</th></tr>\n",
       "\t<tr><th scope=col>&lt;fct&gt;</th><th scope=col>&lt;fct&gt;</th><th scope=col>&lt;fct&gt;</th><th scope=col>&lt;int&gt;</th><th scope=col>&lt;int&gt;</th><th scope=col>&lt;int&gt;</th><th scope=col>&lt;int&gt;</th><th scope=col>&lt;dbl&gt;</th><th scope=col>&lt;int&gt;</th><th scope=col>&lt;int&gt;</th><th scope=col>&lt;int&gt;</th><th scope=col>&lt;int&gt;</th><th scope=col>&lt;int&gt;</th><th scope=col>&lt;int&gt;</th><th scope=col>&lt;int&gt;</th><th scope=col>&lt;dbl&gt;</th><th scope=col>&lt;dbl&gt;</th><th scope=col>&lt;int&gt;</th><th scope=col>&lt;dbl&gt;</th><th scope=col>&lt;dbl&gt;</th></tr>\n",
       "</thead>\n",
       "<tbody>\n",
       "\t<tr><td>1</td><td>1</td><td>1 </td><td>  0</td><td>    0</td><td>  0</td><td> 0</td><td> 0.0</td><td>  0</td><td>  0</td><td> 0</td><td>    0</td><td>  0</td><td>  0</td><td>  0</td><td> 3.5</td><td>6.2</td><td>  0</td><td> 0.003549768</td><td> 0.003549768</td></tr>\n",
       "\t<tr><td>1</td><td>1</td><td>3 </td><td>  0</td><td>    0</td><td>  0</td><td> 0</td><td> 0.0</td><td>  0</td><td>  0</td><td> 0</td><td>    0</td><td>  0</td><td>  0</td><td>  0</td><td> 3.3</td><td>6.6</td><td>  0</td><td> 0.003549768</td><td> 0.003549768</td></tr>\n",
       "\t<tr><td>1</td><td>1</td><td>8 </td><td>  0</td><td>    0</td><td>  0</td><td> 0</td><td> 0.0</td><td>  0</td><td>  0</td><td> 0</td><td>    0</td><td>  0</td><td>  0</td><td>  0</td><td> 3.5</td><td>6.0</td><td>  0</td><td> 0.003549768</td><td> 0.003549768</td></tr>\n",
       "\t<tr><td>1</td><td>1</td><td>11</td><td> 28</td><td> 3446</td><td> 28</td><td> 6</td><td>12.6</td><td>308</td><td>  0</td><td> 0</td><td> 3446</td><td> 28</td><td> 28</td><td>  0</td><td> 6.2</td><td>6.4</td><td> 25</td><td>25.609237671</td><td>25.609237671</td></tr>\n",
       "\t<tr><td>1</td><td>1</td><td>12</td><td> 40</td><td> 4917</td><td> 41</td><td> 8</td><td>16.3</td><td>396</td><td>  0</td><td> 1</td><td> 4917</td><td> 40</td><td> 41</td><td>  0</td><td> 6.5</td><td>6.7</td><td> 35</td><td>35.328384399</td><td>35.328384399</td></tr>\n",
       "\t<tr><td>1</td><td>1</td><td>18</td><td>  0</td><td>    0</td><td>  0</td><td> 0</td><td> 0.0</td><td>  0</td><td>  0</td><td> 0</td><td>    0</td><td>  0</td><td>  0</td><td>  0</td><td> 4.3</td><td>6.2</td><td>  0</td><td> 0.004283639</td><td> 0.004283639</td></tr>\n",
       "\t<tr><td>1</td><td>1</td><td>22</td><td>  0</td><td>    0</td><td>  0</td><td> 0</td><td> 0.0</td><td>  0</td><td>  0</td><td> 0</td><td>    0</td><td>  0</td><td>  0</td><td>  0</td><td> 2.7</td><td>5.4</td><td>  0</td><td> 0.003549768</td><td> 0.003549768</td></tr>\n",
       "\t<tr><td>1</td><td>1</td><td>24</td><td>  0</td><td>    0</td><td>  0</td><td> 0</td><td> 0.0</td><td>  0</td><td>  0</td><td> 0</td><td>    0</td><td>  0</td><td>  0</td><td>  0</td><td> 2.0</td><td>5.1</td><td>  0</td><td> 0.003549768</td><td> 0.003549768</td></tr>\n",
       "\t<tr><td>1</td><td>2</td><td>7 </td><td>  0</td><td>    0</td><td>  0</td><td> 0</td><td> 0.0</td><td>  0</td><td>  0</td><td> 0</td><td>    0</td><td>  0</td><td>  0</td><td>  0</td><td> 1.8</td><td>3.5</td><td>  0</td><td> 0.003549768</td><td> 0.003549768</td></tr>\n",
       "\t<tr><td>1</td><td>2</td><td>8 </td><td>  0</td><td>    0</td><td>  0</td><td> 0</td><td> 0.0</td><td>  0</td><td>  0</td><td> 0</td><td>    0</td><td>  0</td><td>  0</td><td>  0</td><td> 0.8</td><td>3.4</td><td>  0</td><td> 0.003549768</td><td> 0.003549768</td></tr>\n",
       "\t<tr><td>1</td><td>2</td><td>13</td><td>114</td><td>20686</td><td>191</td><td>38</td><td>17.8</td><td>431</td><td> 43</td><td>25</td><td>17156</td><td>114</td><td>148</td><td>140</td><td> 9.6</td><td>8.4</td><td>100</td><td>98.818145752</td><td>98.818145752</td></tr>\n",
       "\t<tr><td>1</td><td>2</td><td>14</td><td>103</td><td>19348</td><td>178</td><td>36</td><td>16.8</td><td>407</td><td> 46</td><td>24</td><td>15344</td><td>103</td><td>132</td><td>160</td><td>10.0</td><td>8.9</td><td> 90</td><td>89.619689941</td><td>89.619689941</td></tr>\n",
       "\t<tr><td>1</td><td>2</td><td>21</td><td>  0</td><td>    0</td><td>  0</td><td> 0</td><td> 0.0</td><td>  0</td><td>  0</td><td> 0</td><td>    0</td><td>  0</td><td>  0</td><td>  0</td><td> 2.5</td><td>5.7</td><td>  0</td><td> 0.003549768</td><td> 0.003549768</td></tr>\n",
       "\t<tr><td>1</td><td>2</td><td>23</td><td>  0</td><td>    0</td><td>  0</td><td> 0</td><td> 0.0</td><td>  0</td><td>  0</td><td> 0</td><td>    0</td><td>  0</td><td>  0</td><td>  0</td><td> 1.5</td><td>4.9</td><td>  0</td><td> 0.003549768</td><td> 0.003549768</td></tr>\n",
       "\t<tr><td>1</td><td>3</td><td>1 </td><td>  0</td><td>    0</td><td>  0</td><td> 0</td><td> 0.0</td><td>  0</td><td>  0</td><td> 0</td><td>    0</td><td>  0</td><td>  0</td><td>  0</td><td> 0.6</td><td>4.2</td><td>  0</td><td> 0.003549768</td><td> 0.003549768</td></tr>\n",
       "\t<tr><td>1</td><td>3</td><td>3 </td><td>  0</td><td>    0</td><td>  0</td><td> 0</td><td> 0.0</td><td>  0</td><td>  0</td><td> 0</td><td>    0</td><td>  0</td><td>  0</td><td>  0</td><td>-0.1</td><td>3.4</td><td>  0</td><td> 0.003549768</td><td> 0.003549768</td></tr>\n",
       "\t<tr><td>1</td><td>3</td><td>7 </td><td>  0</td><td>    0</td><td>  0</td><td> 0</td><td> 0.0</td><td>  0</td><td>  0</td><td> 0</td><td>    0</td><td>  0</td><td>  0</td><td>  0</td><td>-0.8</td><td>2.6</td><td>  0</td><td> 0.003549768</td><td> 0.003549768</td></tr>\n",
       "\t<tr><td>1</td><td>3</td><td>14</td><td> 69</td><td>21427</td><td>202</td><td>40</td><td>16.9</td><td>410</td><td>105</td><td>33</td><td>13877</td><td> 69</td><td> 97</td><td>362</td><td>10.2</td><td>8.7</td><td> 60</td><td>61.059181213</td><td>61.059181213</td></tr>\n",
       "\t<tr><td>1</td><td>3</td><td>19</td><td>  0</td><td>    0</td><td>  0</td><td> 0</td><td> 0.0</td><td>  0</td><td>  0</td><td> 0</td><td>    0</td><td>  0</td><td>  0</td><td>  0</td><td> 5.0</td><td>6.4</td><td>  0</td><td> 0.003549768</td><td> 0.003549768</td></tr>\n",
       "\t<tr><td>1</td><td>3</td><td>20</td><td>  0</td><td>    0</td><td>  0</td><td> 0</td><td> 0.0</td><td>  0</td><td>  0</td><td> 0</td><td>    0</td><td>  0</td><td>  0</td><td>  0</td><td> 4.1</td><td>6.1</td><td>  0</td><td> 0.003549768</td><td> 0.003549768</td></tr>\n",
       "\t<tr><td>1</td><td>3</td><td>21</td><td>  0</td><td>    0</td><td>  0</td><td> 0</td><td> 0.0</td><td>  0</td><td>  0</td><td> 0</td><td>    0</td><td>  0</td><td>  0</td><td>  0</td><td> 3.8</td><td>5.7</td><td>  0</td><td> 0.003549768</td><td> 0.003549768</td></tr>\n",
       "\t<tr><td>1</td><td>4</td><td>2 </td><td>  0</td><td>    0</td><td>  0</td><td> 0</td><td> 0.0</td><td>  0</td><td>  0</td><td> 0</td><td>    0</td><td>  0</td><td>  0</td><td>  0</td><td> 2.1</td><td>4.0</td><td>  0</td><td> 0.003549768</td><td> 0.003549768</td></tr>\n",
       "\t<tr><td>1</td><td>4</td><td>5 </td><td>  0</td><td>    0</td><td>  0</td><td> 0</td><td> 0.0</td><td>  0</td><td>  0</td><td> 0</td><td>    0</td><td>  0</td><td>  0</td><td>  0</td><td> 2.2</td><td>3.4</td><td>  0</td><td> 0.003549768</td><td> 0.003549768</td></tr>\n",
       "\t<tr><td>1</td><td>4</td><td>7 </td><td>  0</td><td>    0</td><td>  0</td><td> 0</td><td> 0.0</td><td>  0</td><td>  0</td><td> 0</td><td>    0</td><td>  0</td><td>  0</td><td>  0</td><td> 0.8</td><td>3.1</td><td>  0</td><td> 0.003549768</td><td> 0.003549768</td></tr>\n",
       "\t<tr><td>1</td><td>4</td><td>10</td><td> 35</td><td> 4258</td><td> 38</td><td> 8</td><td> 7.0</td><td>172</td><td>  0</td><td> 4</td><td> 4258</td><td> 35</td><td> 38</td><td>  0</td><td> 3.6</td><td>3.8</td><td> 32</td><td>31.305425644</td><td>31.305425644</td></tr>\n",
       "\t<tr><td>1</td><td>4</td><td>11</td><td> 72</td><td> 9061</td><td> 81</td><td>16</td><td>12.7</td><td>311</td><td>  1</td><td> 6</td><td> 9001</td><td> 72</td><td> 81</td><td>  4</td><td> 5.0</td><td>4.7</td><td> 65</td><td>65.004234314</td><td>65.004234314</td></tr>\n",
       "\t<tr><td>1</td><td>4</td><td>12</td><td> 97</td><td>12580</td><td>113</td><td>23</td><td>16.5</td><td>401</td><td>  3</td><td> 7</td><td>12344</td><td> 97</td><td>110</td><td>  9</td><td> 6.1</td><td>5.5</td><td> 87</td><td>85.625862122</td><td>85.625862122</td></tr>\n",
       "\t<tr><td>1</td><td>4</td><td>14</td><td>105</td><td>13823</td><td>125</td><td>25</td><td>17.0</td><td>412</td><td>  5</td><td> 8</td><td>13359</td><td>105</td><td>120</td><td> 16</td><td> 7.2</td><td>6.5</td><td> 93</td><td>92.513702393</td><td>92.513702393</td></tr>\n",
       "\t<tr><td>1</td><td>4</td><td>15</td><td> 83</td><td>10722</td><td> 97</td><td>19</td><td>13.6</td><td>333</td><td>  3</td><td> 8</td><td>10396</td><td> 83</td><td> 94</td><td> 14</td><td> 7.0</td><td>6.6</td><td> 73</td><td>73.822685242</td><td>73.822685242</td></tr>\n",
       "\t<tr><td>1</td><td>4</td><td>21</td><td>  0</td><td>    0</td><td>  0</td><td> 0</td><td> 0.0</td><td>  0</td><td>  0</td><td> 0</td><td>    0</td><td>  0</td><td>  0</td><td>  0</td><td> 1.5</td><td>4.3</td><td>  0</td><td> 0.003549768</td><td> 0.003549768</td></tr>\n",
       "\t<tr><td>⋮</td><td>⋮</td><td>⋮</td><td>⋮</td><td>⋮</td><td>⋮</td><td>⋮</td><td>⋮</td><td>⋮</td><td>⋮</td><td>⋮</td><td>⋮</td><td>⋮</td><td>⋮</td><td>⋮</td><td>⋮</td><td>⋮</td><td>⋮</td><td>⋮</td><td>⋮</td></tr>\n",
       "\t<tr><td>12</td><td>26</td><td>3 </td><td>  0</td><td>    0</td><td>  0</td><td> 0</td><td> 0.0</td><td>  0</td><td>  0</td><td> 0</td><td>    0</td><td>  0</td><td>  0</td><td>  0</td><td>-1.0</td><td> 2.6</td><td> 0</td><td> 0.003549768</td><td> 0.003549768</td></tr>\n",
       "\t<tr><td>12</td><td>26</td><td>10</td><td> 16</td><td> 1952</td><td> 16</td><td> 6</td><td> 6.9</td><td>170</td><td>  0</td><td> 0</td><td> 1952</td><td> 16</td><td> 16</td><td>  0</td><td> 0.0</td><td> 3.5</td><td>14</td><td>14.403736115</td><td>14.403736115</td></tr>\n",
       "\t<tr><td>12</td><td>26</td><td>11</td><td> 33</td><td> 4106</td><td> 34</td><td>14</td><td>12.5</td><td>306</td><td>  0</td><td> 1</td><td> 4106</td><td> 33</td><td> 34</td><td>  0</td><td> 0.0</td><td> 4.1</td><td>30</td><td>30.081735611</td><td>30.081735611</td></tr>\n",
       "\t<tr><td>12</td><td>26</td><td>14</td><td> 55</td><td> 6799</td><td> 57</td><td>23</td><td>16.2</td><td>395</td><td>  0</td><td> 1</td><td> 6799</td><td> 55</td><td> 57</td><td>  0</td><td> 0.0</td><td> 5.7</td><td>49</td><td>48.402027130</td><td>48.402027130</td></tr>\n",
       "\t<tr><td>12</td><td>26</td><td>20</td><td>  0</td><td>    0</td><td>  0</td><td> 0</td><td> 0.0</td><td>  0</td><td>  0</td><td> 0</td><td>    0</td><td>  0</td><td>  0</td><td>  0</td><td> 0.0</td><td> 5.3</td><td> 0</td><td> 0.003549768</td><td> 0.003549768</td></tr>\n",
       "\t<tr><td>12</td><td>27</td><td>2 </td><td>  0</td><td>    0</td><td>  0</td><td> 0</td><td> 0.0</td><td>  0</td><td>  0</td><td> 0</td><td>    0</td><td>  0</td><td>  0</td><td>  0</td><td> 0.0</td><td> 5.9</td><td> 0</td><td> 0.003549768</td><td> 0.003549768</td></tr>\n",
       "\t<tr><td>12</td><td>27</td><td>10</td><td> 40</td><td> 5494</td><td> 50</td><td>11</td><td> 6.9</td><td>169</td><td>  4</td><td> 6</td><td> 5214</td><td> 40</td><td> 45</td><td> 37</td><td> 0.0</td><td> 8.0</td><td>35</td><td>35.482852936</td><td>35.482852936</td></tr>\n",
       "\t<tr><td>12</td><td>27</td><td>14</td><td>100</td><td>14841</td><td>134</td><td>29</td><td>16.3</td><td>396</td><td> 13</td><td>10</td><td>13806</td><td>100</td><td>121</td><td> 47</td><td>11.7</td><td>11.0</td><td>87</td><td>87.114402771</td><td>87.114402771</td></tr>\n",
       "\t<tr><td>12</td><td>27</td><td>18</td><td>  0</td><td>    0</td><td>  0</td><td> 0</td><td> 0.0</td><td>  0</td><td>  0</td><td> 0</td><td>    0</td><td>  0</td><td>  0</td><td>  0</td><td> 8.9</td><td>10.7</td><td> 0</td><td> 0.004283639</td><td> 0.004283639</td></tr>\n",
       "\t<tr><td>12</td><td>27</td><td>24</td><td>  0</td><td>    0</td><td>  0</td><td> 0</td><td> 0.0</td><td>  0</td><td>  0</td><td> 0</td><td>    0</td><td>  0</td><td>  0</td><td>  0</td><td> 6.7</td><td> 8.3</td><td> 0</td><td> 0.003549768</td><td> 0.003549768</td></tr>\n",
       "\t<tr><td>12</td><td>28</td><td>1 </td><td>  0</td><td>    0</td><td>  0</td><td> 0</td><td> 0.0</td><td>  0</td><td>  0</td><td> 0</td><td>    0</td><td>  0</td><td>  0</td><td>  0</td><td> 5.0</td><td> 6.9</td><td> 0</td><td> 0.003549768</td><td> 0.003549768</td></tr>\n",
       "\t<tr><td>12</td><td>28</td><td>15</td><td> 22</td><td> 2742</td><td> 22</td><td> 4</td><td>12.9</td><td>315</td><td>  0</td><td> 0</td><td> 2742</td><td> 22</td><td> 22</td><td>  0</td><td> 1.1</td><td> 1.5</td><td>20</td><td>19.905261993</td><td>19.905261993</td></tr>\n",
       "\t<tr><td>12</td><td>28</td><td>16</td><td> 11</td><td> 1420</td><td> 11</td><td> 2</td><td> 7.4</td><td>182</td><td>  0</td><td> 0</td><td> 1419</td><td> 11</td><td> 11</td><td>  0</td><td> 1.7</td><td> 2.2</td><td>10</td><td>10.082982063</td><td>10.082982063</td></tr>\n",
       "\t<tr><td>12</td><td>28</td><td>18</td><td>  0</td><td>    0</td><td>  0</td><td> 0</td><td> 0.0</td><td>  0</td><td>  0</td><td> 0</td><td>    0</td><td>  0</td><td>  0</td><td>  0</td><td>-1.7</td><td> 1.9</td><td> 0</td><td> 0.004283639</td><td> 0.004283639</td></tr>\n",
       "\t<tr><td>12</td><td>28</td><td>19</td><td>  0</td><td>    0</td><td>  0</td><td> 0</td><td> 0.0</td><td>  0</td><td>  0</td><td> 0</td><td>    0</td><td>  0</td><td>  0</td><td>  0</td><td>-1.6</td><td> 1.4</td><td> 0</td><td> 0.003549768</td><td> 0.003549768</td></tr>\n",
       "\t<tr><td>12</td><td>28</td><td>21</td><td>  0</td><td>    0</td><td>  0</td><td> 0</td><td> 0.0</td><td>  0</td><td>  0</td><td> 0</td><td>    0</td><td>  0</td><td>  0</td><td>  0</td><td>-1.7</td><td> 0.8</td><td> 0</td><td> 0.003549768</td><td> 0.003549768</td></tr>\n",
       "\t<tr><td>12</td><td>29</td><td>4 </td><td>  0</td><td>    0</td><td>  0</td><td> 0</td><td> 0.0</td><td>  0</td><td>  0</td><td> 0</td><td>    0</td><td>  0</td><td>  0</td><td>  0</td><td>-1.0</td><td> 0.3</td><td> 0</td><td> 0.003549768</td><td> 0.003549768</td></tr>\n",
       "\t<tr><td>12</td><td>29</td><td>9 </td><td>  1</td><td>   99</td><td>  1</td><td> 0</td><td> 0.0</td><td>  9</td><td>  0</td><td> 1</td><td>   99</td><td>  1</td><td>  1</td><td>  0</td><td> 0.0</td><td> 0.9</td><td> 1</td><td> 0.673611224</td><td> 0.673611224</td></tr>\n",
       "\t<tr><td>12</td><td>29</td><td>12</td><td> 56</td><td> 7074</td><td> 60</td><td>12</td><td>16.2</td><td>393</td><td>  0</td><td> 1</td><td> 7074</td><td> 56</td><td> 60</td><td>  0</td><td> 3.6</td><td> 3.6</td><td>51</td><td>51.223171234</td><td>51.223171234</td></tr>\n",
       "\t<tr><td>12</td><td>29</td><td>20</td><td>  0</td><td>    0</td><td>  0</td><td> 0</td><td> 0.0</td><td>  0</td><td>  0</td><td> 0</td><td>    0</td><td>  0</td><td>  0</td><td>  0</td><td> 2.3</td><td> 3.1</td><td> 0</td><td> 0.003549768</td><td> 0.003549768</td></tr>\n",
       "\t<tr><td>12</td><td>29</td><td>23</td><td>  0</td><td>    0</td><td>  0</td><td> 0</td><td> 0.0</td><td>  0</td><td>  0</td><td> 0</td><td>    0</td><td>  0</td><td>  0</td><td>  0</td><td> 1.0</td><td> 2.4</td><td> 0</td><td> 0.003549768</td><td> 0.003549768</td></tr>\n",
       "\t<tr><td>12</td><td>30</td><td>4 </td><td>  0</td><td>    0</td><td>  0</td><td> 0</td><td> 0.0</td><td>  0</td><td>  0</td><td> 0</td><td>    0</td><td>  0</td><td>  0</td><td>  0</td><td>-1.7</td><td> 0.2</td><td> 0</td><td> 0.003549768</td><td> 0.003549768</td></tr>\n",
       "\t<tr><td>12</td><td>30</td><td>10</td><td> 41</td><td> 6432</td><td> 58</td><td>12</td><td> 6.9</td><td>169</td><td>  9</td><td>10</td><td> 5839</td><td> 41</td><td> 48</td><td> 79</td><td> 0.8</td><td> 0.8</td><td>37</td><td>37.574810028</td><td>37.574810028</td></tr>\n",
       "\t<tr><td>12</td><td>30</td><td>22</td><td>  0</td><td>    0</td><td>  0</td><td> 0</td><td> 0.0</td><td>  0</td><td>  0</td><td> 0</td><td>    0</td><td>  0</td><td>  0</td><td>  0</td><td>-0.3</td><td> 1.0</td><td> 0</td><td> 0.003549768</td><td> 0.003549768</td></tr>\n",
       "\t<tr><td>12</td><td>31</td><td>2 </td><td>  0</td><td>    0</td><td>  0</td><td> 0</td><td> 0.0</td><td>  0</td><td>  0</td><td> 0</td><td>    0</td><td>  0</td><td>  0</td><td>  0</td><td>-3.1</td><td>-1.1</td><td> 0</td><td> 0.003549768</td><td> 0.003549768</td></tr>\n",
       "\t<tr><td>12</td><td>31</td><td>10</td><td> 28</td><td> 8248</td><td> 78</td><td>16</td><td> 6.9</td><td>169</td><td> 42</td><td>25</td><td> 5847</td><td> 28</td><td> 37</td><td>348</td><td>-0.4</td><td>-0.5</td><td>26</td><td>26.589160919</td><td>26.589160919</td></tr>\n",
       "\t<tr><td>12</td><td>31</td><td>13</td><td> 42</td><td>27261</td><td>258</td><td>52</td><td>17.6</td><td>428</td><td>199</td><td>48</td><td> 9234</td><td> 42</td><td> 59</td><td>657</td><td> 7.9</td><td> 5.9</td><td>38</td><td>37.170494080</td><td>37.170494080</td></tr>\n",
       "\t<tr><td>12</td><td>31</td><td>19</td><td>  0</td><td>    0</td><td>  0</td><td> 0</td><td> 0.0</td><td>  0</td><td>  0</td><td> 0</td><td>    0</td><td>  0</td><td>  0</td><td>  0</td><td> 1.1</td><td> 3.4</td><td> 0</td><td> 0.003549768</td><td> 0.003549768</td></tr>\n",
       "\t<tr><td>12</td><td>31</td><td>22</td><td>  0</td><td>    0</td><td>  0</td><td> 0</td><td> 0.0</td><td>  0</td><td>  0</td><td> 0</td><td>    0</td><td>  0</td><td>  0</td><td>  0</td><td>-1.8</td><td> 2.5</td><td> 0</td><td> 0.003549768</td><td> 0.003549768</td></tr>\n",
       "\t<tr><td>12</td><td>31</td><td>24</td><td>  0</td><td>    0</td><td>  0</td><td> 0</td><td> 0.0</td><td>  0</td><td>  0</td><td> 0</td><td>    0</td><td>  0</td><td>  0</td><td>  0</td><td>-2.5</td><td> 1.8</td><td> 0</td><td> 0.003549768</td><td> 0.003549768</td></tr>\n",
       "</tbody>\n",
       "</table>\n"
      ],
      "text/latex": [
       "A tibble: 2628 × 20\n",
       "\\begin{tabular}{llllllllllllllllllll}\n",
       " m & dm & h & G\\_Gk & Lg & G\\_Gh & G\\_Gref & hs & G\\_Gex & G\\_Bh & Sd & Ld & G\\_Dk & G\\_Dh & G\\_Bn & Ts & Ta & PV & .pred & predictions\\\\\n",
       " <fct> & <fct> & <fct> & <int> & <int> & <int> & <int> & <dbl> & <int> & <int> & <int> & <int> & <int> & <int> & <int> & <dbl> & <dbl> & <int> & <dbl> & <dbl>\\\\\n",
       "\\hline\n",
       "\t 1 & 1 & 1  &   0 &     0 &   0 &  0 &  0.0 &   0 &   0 &  0 &     0 &   0 &   0 &   0 &  3.5 & 6.2 &   0 &  0.003549768 &  0.003549768\\\\\n",
       "\t 1 & 1 & 3  &   0 &     0 &   0 &  0 &  0.0 &   0 &   0 &  0 &     0 &   0 &   0 &   0 &  3.3 & 6.6 &   0 &  0.003549768 &  0.003549768\\\\\n",
       "\t 1 & 1 & 8  &   0 &     0 &   0 &  0 &  0.0 &   0 &   0 &  0 &     0 &   0 &   0 &   0 &  3.5 & 6.0 &   0 &  0.003549768 &  0.003549768\\\\\n",
       "\t 1 & 1 & 11 &  28 &  3446 &  28 &  6 & 12.6 & 308 &   0 &  0 &  3446 &  28 &  28 &   0 &  6.2 & 6.4 &  25 & 25.609237671 & 25.609237671\\\\\n",
       "\t 1 & 1 & 12 &  40 &  4917 &  41 &  8 & 16.3 & 396 &   0 &  1 &  4917 &  40 &  41 &   0 &  6.5 & 6.7 &  35 & 35.328384399 & 35.328384399\\\\\n",
       "\t 1 & 1 & 18 &   0 &     0 &   0 &  0 &  0.0 &   0 &   0 &  0 &     0 &   0 &   0 &   0 &  4.3 & 6.2 &   0 &  0.004283639 &  0.004283639\\\\\n",
       "\t 1 & 1 & 22 &   0 &     0 &   0 &  0 &  0.0 &   0 &   0 &  0 &     0 &   0 &   0 &   0 &  2.7 & 5.4 &   0 &  0.003549768 &  0.003549768\\\\\n",
       "\t 1 & 1 & 24 &   0 &     0 &   0 &  0 &  0.0 &   0 &   0 &  0 &     0 &   0 &   0 &   0 &  2.0 & 5.1 &   0 &  0.003549768 &  0.003549768\\\\\n",
       "\t 1 & 2 & 7  &   0 &     0 &   0 &  0 &  0.0 &   0 &   0 &  0 &     0 &   0 &   0 &   0 &  1.8 & 3.5 &   0 &  0.003549768 &  0.003549768\\\\\n",
       "\t 1 & 2 & 8  &   0 &     0 &   0 &  0 &  0.0 &   0 &   0 &  0 &     0 &   0 &   0 &   0 &  0.8 & 3.4 &   0 &  0.003549768 &  0.003549768\\\\\n",
       "\t 1 & 2 & 13 & 114 & 20686 & 191 & 38 & 17.8 & 431 &  43 & 25 & 17156 & 114 & 148 & 140 &  9.6 & 8.4 & 100 & 98.818145752 & 98.818145752\\\\\n",
       "\t 1 & 2 & 14 & 103 & 19348 & 178 & 36 & 16.8 & 407 &  46 & 24 & 15344 & 103 & 132 & 160 & 10.0 & 8.9 &  90 & 89.619689941 & 89.619689941\\\\\n",
       "\t 1 & 2 & 21 &   0 &     0 &   0 &  0 &  0.0 &   0 &   0 &  0 &     0 &   0 &   0 &   0 &  2.5 & 5.7 &   0 &  0.003549768 &  0.003549768\\\\\n",
       "\t 1 & 2 & 23 &   0 &     0 &   0 &  0 &  0.0 &   0 &   0 &  0 &     0 &   0 &   0 &   0 &  1.5 & 4.9 &   0 &  0.003549768 &  0.003549768\\\\\n",
       "\t 1 & 3 & 1  &   0 &     0 &   0 &  0 &  0.0 &   0 &   0 &  0 &     0 &   0 &   0 &   0 &  0.6 & 4.2 &   0 &  0.003549768 &  0.003549768\\\\\n",
       "\t 1 & 3 & 3  &   0 &     0 &   0 &  0 &  0.0 &   0 &   0 &  0 &     0 &   0 &   0 &   0 & -0.1 & 3.4 &   0 &  0.003549768 &  0.003549768\\\\\n",
       "\t 1 & 3 & 7  &   0 &     0 &   0 &  0 &  0.0 &   0 &   0 &  0 &     0 &   0 &   0 &   0 & -0.8 & 2.6 &   0 &  0.003549768 &  0.003549768\\\\\n",
       "\t 1 & 3 & 14 &  69 & 21427 & 202 & 40 & 16.9 & 410 & 105 & 33 & 13877 &  69 &  97 & 362 & 10.2 & 8.7 &  60 & 61.059181213 & 61.059181213\\\\\n",
       "\t 1 & 3 & 19 &   0 &     0 &   0 &  0 &  0.0 &   0 &   0 &  0 &     0 &   0 &   0 &   0 &  5.0 & 6.4 &   0 &  0.003549768 &  0.003549768\\\\\n",
       "\t 1 & 3 & 20 &   0 &     0 &   0 &  0 &  0.0 &   0 &   0 &  0 &     0 &   0 &   0 &   0 &  4.1 & 6.1 &   0 &  0.003549768 &  0.003549768\\\\\n",
       "\t 1 & 3 & 21 &   0 &     0 &   0 &  0 &  0.0 &   0 &   0 &  0 &     0 &   0 &   0 &   0 &  3.8 & 5.7 &   0 &  0.003549768 &  0.003549768\\\\\n",
       "\t 1 & 4 & 2  &   0 &     0 &   0 &  0 &  0.0 &   0 &   0 &  0 &     0 &   0 &   0 &   0 &  2.1 & 4.0 &   0 &  0.003549768 &  0.003549768\\\\\n",
       "\t 1 & 4 & 5  &   0 &     0 &   0 &  0 &  0.0 &   0 &   0 &  0 &     0 &   0 &   0 &   0 &  2.2 & 3.4 &   0 &  0.003549768 &  0.003549768\\\\\n",
       "\t 1 & 4 & 7  &   0 &     0 &   0 &  0 &  0.0 &   0 &   0 &  0 &     0 &   0 &   0 &   0 &  0.8 & 3.1 &   0 &  0.003549768 &  0.003549768\\\\\n",
       "\t 1 & 4 & 10 &  35 &  4258 &  38 &  8 &  7.0 & 172 &   0 &  4 &  4258 &  35 &  38 &   0 &  3.6 & 3.8 &  32 & 31.305425644 & 31.305425644\\\\\n",
       "\t 1 & 4 & 11 &  72 &  9061 &  81 & 16 & 12.7 & 311 &   1 &  6 &  9001 &  72 &  81 &   4 &  5.0 & 4.7 &  65 & 65.004234314 & 65.004234314\\\\\n",
       "\t 1 & 4 & 12 &  97 & 12580 & 113 & 23 & 16.5 & 401 &   3 &  7 & 12344 &  97 & 110 &   9 &  6.1 & 5.5 &  87 & 85.625862122 & 85.625862122\\\\\n",
       "\t 1 & 4 & 14 & 105 & 13823 & 125 & 25 & 17.0 & 412 &   5 &  8 & 13359 & 105 & 120 &  16 &  7.2 & 6.5 &  93 & 92.513702393 & 92.513702393\\\\\n",
       "\t 1 & 4 & 15 &  83 & 10722 &  97 & 19 & 13.6 & 333 &   3 &  8 & 10396 &  83 &  94 &  14 &  7.0 & 6.6 &  73 & 73.822685242 & 73.822685242\\\\\n",
       "\t 1 & 4 & 21 &   0 &     0 &   0 &  0 &  0.0 &   0 &   0 &  0 &     0 &   0 &   0 &   0 &  1.5 & 4.3 &   0 &  0.003549768 &  0.003549768\\\\\n",
       "\t ⋮ & ⋮ & ⋮ & ⋮ & ⋮ & ⋮ & ⋮ & ⋮ & ⋮ & ⋮ & ⋮ & ⋮ & ⋮ & ⋮ & ⋮ & ⋮ & ⋮ & ⋮ & ⋮ & ⋮\\\\\n",
       "\t 12 & 26 & 3  &   0 &     0 &   0 &  0 &  0.0 &   0 &   0 &  0 &     0 &   0 &   0 &   0 & -1.0 &  2.6 &  0 &  0.003549768 &  0.003549768\\\\\n",
       "\t 12 & 26 & 10 &  16 &  1952 &  16 &  6 &  6.9 & 170 &   0 &  0 &  1952 &  16 &  16 &   0 &  0.0 &  3.5 & 14 & 14.403736115 & 14.403736115\\\\\n",
       "\t 12 & 26 & 11 &  33 &  4106 &  34 & 14 & 12.5 & 306 &   0 &  1 &  4106 &  33 &  34 &   0 &  0.0 &  4.1 & 30 & 30.081735611 & 30.081735611\\\\\n",
       "\t 12 & 26 & 14 &  55 &  6799 &  57 & 23 & 16.2 & 395 &   0 &  1 &  6799 &  55 &  57 &   0 &  0.0 &  5.7 & 49 & 48.402027130 & 48.402027130\\\\\n",
       "\t 12 & 26 & 20 &   0 &     0 &   0 &  0 &  0.0 &   0 &   0 &  0 &     0 &   0 &   0 &   0 &  0.0 &  5.3 &  0 &  0.003549768 &  0.003549768\\\\\n",
       "\t 12 & 27 & 2  &   0 &     0 &   0 &  0 &  0.0 &   0 &   0 &  0 &     0 &   0 &   0 &   0 &  0.0 &  5.9 &  0 &  0.003549768 &  0.003549768\\\\\n",
       "\t 12 & 27 & 10 &  40 &  5494 &  50 & 11 &  6.9 & 169 &   4 &  6 &  5214 &  40 &  45 &  37 &  0.0 &  8.0 & 35 & 35.482852936 & 35.482852936\\\\\n",
       "\t 12 & 27 & 14 & 100 & 14841 & 134 & 29 & 16.3 & 396 &  13 & 10 & 13806 & 100 & 121 &  47 & 11.7 & 11.0 & 87 & 87.114402771 & 87.114402771\\\\\n",
       "\t 12 & 27 & 18 &   0 &     0 &   0 &  0 &  0.0 &   0 &   0 &  0 &     0 &   0 &   0 &   0 &  8.9 & 10.7 &  0 &  0.004283639 &  0.004283639\\\\\n",
       "\t 12 & 27 & 24 &   0 &     0 &   0 &  0 &  0.0 &   0 &   0 &  0 &     0 &   0 &   0 &   0 &  6.7 &  8.3 &  0 &  0.003549768 &  0.003549768\\\\\n",
       "\t 12 & 28 & 1  &   0 &     0 &   0 &  0 &  0.0 &   0 &   0 &  0 &     0 &   0 &   0 &   0 &  5.0 &  6.9 &  0 &  0.003549768 &  0.003549768\\\\\n",
       "\t 12 & 28 & 15 &  22 &  2742 &  22 &  4 & 12.9 & 315 &   0 &  0 &  2742 &  22 &  22 &   0 &  1.1 &  1.5 & 20 & 19.905261993 & 19.905261993\\\\\n",
       "\t 12 & 28 & 16 &  11 &  1420 &  11 &  2 &  7.4 & 182 &   0 &  0 &  1419 &  11 &  11 &   0 &  1.7 &  2.2 & 10 & 10.082982063 & 10.082982063\\\\\n",
       "\t 12 & 28 & 18 &   0 &     0 &   0 &  0 &  0.0 &   0 &   0 &  0 &     0 &   0 &   0 &   0 & -1.7 &  1.9 &  0 &  0.004283639 &  0.004283639\\\\\n",
       "\t 12 & 28 & 19 &   0 &     0 &   0 &  0 &  0.0 &   0 &   0 &  0 &     0 &   0 &   0 &   0 & -1.6 &  1.4 &  0 &  0.003549768 &  0.003549768\\\\\n",
       "\t 12 & 28 & 21 &   0 &     0 &   0 &  0 &  0.0 &   0 &   0 &  0 &     0 &   0 &   0 &   0 & -1.7 &  0.8 &  0 &  0.003549768 &  0.003549768\\\\\n",
       "\t 12 & 29 & 4  &   0 &     0 &   0 &  0 &  0.0 &   0 &   0 &  0 &     0 &   0 &   0 &   0 & -1.0 &  0.3 &  0 &  0.003549768 &  0.003549768\\\\\n",
       "\t 12 & 29 & 9  &   1 &    99 &   1 &  0 &  0.0 &   9 &   0 &  1 &    99 &   1 &   1 &   0 &  0.0 &  0.9 &  1 &  0.673611224 &  0.673611224\\\\\n",
       "\t 12 & 29 & 12 &  56 &  7074 &  60 & 12 & 16.2 & 393 &   0 &  1 &  7074 &  56 &  60 &   0 &  3.6 &  3.6 & 51 & 51.223171234 & 51.223171234\\\\\n",
       "\t 12 & 29 & 20 &   0 &     0 &   0 &  0 &  0.0 &   0 &   0 &  0 &     0 &   0 &   0 &   0 &  2.3 &  3.1 &  0 &  0.003549768 &  0.003549768\\\\\n",
       "\t 12 & 29 & 23 &   0 &     0 &   0 &  0 &  0.0 &   0 &   0 &  0 &     0 &   0 &   0 &   0 &  1.0 &  2.4 &  0 &  0.003549768 &  0.003549768\\\\\n",
       "\t 12 & 30 & 4  &   0 &     0 &   0 &  0 &  0.0 &   0 &   0 &  0 &     0 &   0 &   0 &   0 & -1.7 &  0.2 &  0 &  0.003549768 &  0.003549768\\\\\n",
       "\t 12 & 30 & 10 &  41 &  6432 &  58 & 12 &  6.9 & 169 &   9 & 10 &  5839 &  41 &  48 &  79 &  0.8 &  0.8 & 37 & 37.574810028 & 37.574810028\\\\\n",
       "\t 12 & 30 & 22 &   0 &     0 &   0 &  0 &  0.0 &   0 &   0 &  0 &     0 &   0 &   0 &   0 & -0.3 &  1.0 &  0 &  0.003549768 &  0.003549768\\\\\n",
       "\t 12 & 31 & 2  &   0 &     0 &   0 &  0 &  0.0 &   0 &   0 &  0 &     0 &   0 &   0 &   0 & -3.1 & -1.1 &  0 &  0.003549768 &  0.003549768\\\\\n",
       "\t 12 & 31 & 10 &  28 &  8248 &  78 & 16 &  6.9 & 169 &  42 & 25 &  5847 &  28 &  37 & 348 & -0.4 & -0.5 & 26 & 26.589160919 & 26.589160919\\\\\n",
       "\t 12 & 31 & 13 &  42 & 27261 & 258 & 52 & 17.6 & 428 & 199 & 48 &  9234 &  42 &  59 & 657 &  7.9 &  5.9 & 38 & 37.170494080 & 37.170494080\\\\\n",
       "\t 12 & 31 & 19 &   0 &     0 &   0 &  0 &  0.0 &   0 &   0 &  0 &     0 &   0 &   0 &   0 &  1.1 &  3.4 &  0 &  0.003549768 &  0.003549768\\\\\n",
       "\t 12 & 31 & 22 &   0 &     0 &   0 &  0 &  0.0 &   0 &   0 &  0 &     0 &   0 &   0 &   0 & -1.8 &  2.5 &  0 &  0.003549768 &  0.003549768\\\\\n",
       "\t 12 & 31 & 24 &   0 &     0 &   0 &  0 &  0.0 &   0 &   0 &  0 &     0 &   0 &   0 &   0 & -2.5 &  1.8 &  0 &  0.003549768 &  0.003549768\\\\\n",
       "\\end{tabular}\n"
      ],
      "text/markdown": [
       "\n",
       "A tibble: 2628 × 20\n",
       "\n",
       "| m &lt;fct&gt; | dm &lt;fct&gt; | h &lt;fct&gt; | G_Gk &lt;int&gt; | Lg &lt;int&gt; | G_Gh &lt;int&gt; | G_Gref &lt;int&gt; | hs &lt;dbl&gt; | G_Gex &lt;int&gt; | G_Bh &lt;int&gt; | Sd &lt;int&gt; | Ld &lt;int&gt; | G_Dk &lt;int&gt; | G_Dh &lt;int&gt; | G_Bn &lt;int&gt; | Ts &lt;dbl&gt; | Ta &lt;dbl&gt; | PV &lt;int&gt; | .pred &lt;dbl&gt; | predictions &lt;dbl&gt; |\n",
       "|---|---|---|---|---|---|---|---|---|---|---|---|---|---|---|---|---|---|---|---|\n",
       "| 1 | 1 | 1  |   0 |     0 |   0 |  0 |  0.0 |   0 |   0 |  0 |     0 |   0 |   0 |   0 |  3.5 | 6.2 |   0 |  0.003549768 |  0.003549768 |\n",
       "| 1 | 1 | 3  |   0 |     0 |   0 |  0 |  0.0 |   0 |   0 |  0 |     0 |   0 |   0 |   0 |  3.3 | 6.6 |   0 |  0.003549768 |  0.003549768 |\n",
       "| 1 | 1 | 8  |   0 |     0 |   0 |  0 |  0.0 |   0 |   0 |  0 |     0 |   0 |   0 |   0 |  3.5 | 6.0 |   0 |  0.003549768 |  0.003549768 |\n",
       "| 1 | 1 | 11 |  28 |  3446 |  28 |  6 | 12.6 | 308 |   0 |  0 |  3446 |  28 |  28 |   0 |  6.2 | 6.4 |  25 | 25.609237671 | 25.609237671 |\n",
       "| 1 | 1 | 12 |  40 |  4917 |  41 |  8 | 16.3 | 396 |   0 |  1 |  4917 |  40 |  41 |   0 |  6.5 | 6.7 |  35 | 35.328384399 | 35.328384399 |\n",
       "| 1 | 1 | 18 |   0 |     0 |   0 |  0 |  0.0 |   0 |   0 |  0 |     0 |   0 |   0 |   0 |  4.3 | 6.2 |   0 |  0.004283639 |  0.004283639 |\n",
       "| 1 | 1 | 22 |   0 |     0 |   0 |  0 |  0.0 |   0 |   0 |  0 |     0 |   0 |   0 |   0 |  2.7 | 5.4 |   0 |  0.003549768 |  0.003549768 |\n",
       "| 1 | 1 | 24 |   0 |     0 |   0 |  0 |  0.0 |   0 |   0 |  0 |     0 |   0 |   0 |   0 |  2.0 | 5.1 |   0 |  0.003549768 |  0.003549768 |\n",
       "| 1 | 2 | 7  |   0 |     0 |   0 |  0 |  0.0 |   0 |   0 |  0 |     0 |   0 |   0 |   0 |  1.8 | 3.5 |   0 |  0.003549768 |  0.003549768 |\n",
       "| 1 | 2 | 8  |   0 |     0 |   0 |  0 |  0.0 |   0 |   0 |  0 |     0 |   0 |   0 |   0 |  0.8 | 3.4 |   0 |  0.003549768 |  0.003549768 |\n",
       "| 1 | 2 | 13 | 114 | 20686 | 191 | 38 | 17.8 | 431 |  43 | 25 | 17156 | 114 | 148 | 140 |  9.6 | 8.4 | 100 | 98.818145752 | 98.818145752 |\n",
       "| 1 | 2 | 14 | 103 | 19348 | 178 | 36 | 16.8 | 407 |  46 | 24 | 15344 | 103 | 132 | 160 | 10.0 | 8.9 |  90 | 89.619689941 | 89.619689941 |\n",
       "| 1 | 2 | 21 |   0 |     0 |   0 |  0 |  0.0 |   0 |   0 |  0 |     0 |   0 |   0 |   0 |  2.5 | 5.7 |   0 |  0.003549768 |  0.003549768 |\n",
       "| 1 | 2 | 23 |   0 |     0 |   0 |  0 |  0.0 |   0 |   0 |  0 |     0 |   0 |   0 |   0 |  1.5 | 4.9 |   0 |  0.003549768 |  0.003549768 |\n",
       "| 1 | 3 | 1  |   0 |     0 |   0 |  0 |  0.0 |   0 |   0 |  0 |     0 |   0 |   0 |   0 |  0.6 | 4.2 |   0 |  0.003549768 |  0.003549768 |\n",
       "| 1 | 3 | 3  |   0 |     0 |   0 |  0 |  0.0 |   0 |   0 |  0 |     0 |   0 |   0 |   0 | -0.1 | 3.4 |   0 |  0.003549768 |  0.003549768 |\n",
       "| 1 | 3 | 7  |   0 |     0 |   0 |  0 |  0.0 |   0 |   0 |  0 |     0 |   0 |   0 |   0 | -0.8 | 2.6 |   0 |  0.003549768 |  0.003549768 |\n",
       "| 1 | 3 | 14 |  69 | 21427 | 202 | 40 | 16.9 | 410 | 105 | 33 | 13877 |  69 |  97 | 362 | 10.2 | 8.7 |  60 | 61.059181213 | 61.059181213 |\n",
       "| 1 | 3 | 19 |   0 |     0 |   0 |  0 |  0.0 |   0 |   0 |  0 |     0 |   0 |   0 |   0 |  5.0 | 6.4 |   0 |  0.003549768 |  0.003549768 |\n",
       "| 1 | 3 | 20 |   0 |     0 |   0 |  0 |  0.0 |   0 |   0 |  0 |     0 |   0 |   0 |   0 |  4.1 | 6.1 |   0 |  0.003549768 |  0.003549768 |\n",
       "| 1 | 3 | 21 |   0 |     0 |   0 |  0 |  0.0 |   0 |   0 |  0 |     0 |   0 |   0 |   0 |  3.8 | 5.7 |   0 |  0.003549768 |  0.003549768 |\n",
       "| 1 | 4 | 2  |   0 |     0 |   0 |  0 |  0.0 |   0 |   0 |  0 |     0 |   0 |   0 |   0 |  2.1 | 4.0 |   0 |  0.003549768 |  0.003549768 |\n",
       "| 1 | 4 | 5  |   0 |     0 |   0 |  0 |  0.0 |   0 |   0 |  0 |     0 |   0 |   0 |   0 |  2.2 | 3.4 |   0 |  0.003549768 |  0.003549768 |\n",
       "| 1 | 4 | 7  |   0 |     0 |   0 |  0 |  0.0 |   0 |   0 |  0 |     0 |   0 |   0 |   0 |  0.8 | 3.1 |   0 |  0.003549768 |  0.003549768 |\n",
       "| 1 | 4 | 10 |  35 |  4258 |  38 |  8 |  7.0 | 172 |   0 |  4 |  4258 |  35 |  38 |   0 |  3.6 | 3.8 |  32 | 31.305425644 | 31.305425644 |\n",
       "| 1 | 4 | 11 |  72 |  9061 |  81 | 16 | 12.7 | 311 |   1 |  6 |  9001 |  72 |  81 |   4 |  5.0 | 4.7 |  65 | 65.004234314 | 65.004234314 |\n",
       "| 1 | 4 | 12 |  97 | 12580 | 113 | 23 | 16.5 | 401 |   3 |  7 | 12344 |  97 | 110 |   9 |  6.1 | 5.5 |  87 | 85.625862122 | 85.625862122 |\n",
       "| 1 | 4 | 14 | 105 | 13823 | 125 | 25 | 17.0 | 412 |   5 |  8 | 13359 | 105 | 120 |  16 |  7.2 | 6.5 |  93 | 92.513702393 | 92.513702393 |\n",
       "| 1 | 4 | 15 |  83 | 10722 |  97 | 19 | 13.6 | 333 |   3 |  8 | 10396 |  83 |  94 |  14 |  7.0 | 6.6 |  73 | 73.822685242 | 73.822685242 |\n",
       "| 1 | 4 | 21 |   0 |     0 |   0 |  0 |  0.0 |   0 |   0 |  0 |     0 |   0 |   0 |   0 |  1.5 | 4.3 |   0 |  0.003549768 |  0.003549768 |\n",
       "| ⋮ | ⋮ | ⋮ | ⋮ | ⋮ | ⋮ | ⋮ | ⋮ | ⋮ | ⋮ | ⋮ | ⋮ | ⋮ | ⋮ | ⋮ | ⋮ | ⋮ | ⋮ | ⋮ | ⋮ |\n",
       "| 12 | 26 | 3  |   0 |     0 |   0 |  0 |  0.0 |   0 |   0 |  0 |     0 |   0 |   0 |   0 | -1.0 |  2.6 |  0 |  0.003549768 |  0.003549768 |\n",
       "| 12 | 26 | 10 |  16 |  1952 |  16 |  6 |  6.9 | 170 |   0 |  0 |  1952 |  16 |  16 |   0 |  0.0 |  3.5 | 14 | 14.403736115 | 14.403736115 |\n",
       "| 12 | 26 | 11 |  33 |  4106 |  34 | 14 | 12.5 | 306 |   0 |  1 |  4106 |  33 |  34 |   0 |  0.0 |  4.1 | 30 | 30.081735611 | 30.081735611 |\n",
       "| 12 | 26 | 14 |  55 |  6799 |  57 | 23 | 16.2 | 395 |   0 |  1 |  6799 |  55 |  57 |   0 |  0.0 |  5.7 | 49 | 48.402027130 | 48.402027130 |\n",
       "| 12 | 26 | 20 |   0 |     0 |   0 |  0 |  0.0 |   0 |   0 |  0 |     0 |   0 |   0 |   0 |  0.0 |  5.3 |  0 |  0.003549768 |  0.003549768 |\n",
       "| 12 | 27 | 2  |   0 |     0 |   0 |  0 |  0.0 |   0 |   0 |  0 |     0 |   0 |   0 |   0 |  0.0 |  5.9 |  0 |  0.003549768 |  0.003549768 |\n",
       "| 12 | 27 | 10 |  40 |  5494 |  50 | 11 |  6.9 | 169 |   4 |  6 |  5214 |  40 |  45 |  37 |  0.0 |  8.0 | 35 | 35.482852936 | 35.482852936 |\n",
       "| 12 | 27 | 14 | 100 | 14841 | 134 | 29 | 16.3 | 396 |  13 | 10 | 13806 | 100 | 121 |  47 | 11.7 | 11.0 | 87 | 87.114402771 | 87.114402771 |\n",
       "| 12 | 27 | 18 |   0 |     0 |   0 |  0 |  0.0 |   0 |   0 |  0 |     0 |   0 |   0 |   0 |  8.9 | 10.7 |  0 |  0.004283639 |  0.004283639 |\n",
       "| 12 | 27 | 24 |   0 |     0 |   0 |  0 |  0.0 |   0 |   0 |  0 |     0 |   0 |   0 |   0 |  6.7 |  8.3 |  0 |  0.003549768 |  0.003549768 |\n",
       "| 12 | 28 | 1  |   0 |     0 |   0 |  0 |  0.0 |   0 |   0 |  0 |     0 |   0 |   0 |   0 |  5.0 |  6.9 |  0 |  0.003549768 |  0.003549768 |\n",
       "| 12 | 28 | 15 |  22 |  2742 |  22 |  4 | 12.9 | 315 |   0 |  0 |  2742 |  22 |  22 |   0 |  1.1 |  1.5 | 20 | 19.905261993 | 19.905261993 |\n",
       "| 12 | 28 | 16 |  11 |  1420 |  11 |  2 |  7.4 | 182 |   0 |  0 |  1419 |  11 |  11 |   0 |  1.7 |  2.2 | 10 | 10.082982063 | 10.082982063 |\n",
       "| 12 | 28 | 18 |   0 |     0 |   0 |  0 |  0.0 |   0 |   0 |  0 |     0 |   0 |   0 |   0 | -1.7 |  1.9 |  0 |  0.004283639 |  0.004283639 |\n",
       "| 12 | 28 | 19 |   0 |     0 |   0 |  0 |  0.0 |   0 |   0 |  0 |     0 |   0 |   0 |   0 | -1.6 |  1.4 |  0 |  0.003549768 |  0.003549768 |\n",
       "| 12 | 28 | 21 |   0 |     0 |   0 |  0 |  0.0 |   0 |   0 |  0 |     0 |   0 |   0 |   0 | -1.7 |  0.8 |  0 |  0.003549768 |  0.003549768 |\n",
       "| 12 | 29 | 4  |   0 |     0 |   0 |  0 |  0.0 |   0 |   0 |  0 |     0 |   0 |   0 |   0 | -1.0 |  0.3 |  0 |  0.003549768 |  0.003549768 |\n",
       "| 12 | 29 | 9  |   1 |    99 |   1 |  0 |  0.0 |   9 |   0 |  1 |    99 |   1 |   1 |   0 |  0.0 |  0.9 |  1 |  0.673611224 |  0.673611224 |\n",
       "| 12 | 29 | 12 |  56 |  7074 |  60 | 12 | 16.2 | 393 |   0 |  1 |  7074 |  56 |  60 |   0 |  3.6 |  3.6 | 51 | 51.223171234 | 51.223171234 |\n",
       "| 12 | 29 | 20 |   0 |     0 |   0 |  0 |  0.0 |   0 |   0 |  0 |     0 |   0 |   0 |   0 |  2.3 |  3.1 |  0 |  0.003549768 |  0.003549768 |\n",
       "| 12 | 29 | 23 |   0 |     0 |   0 |  0 |  0.0 |   0 |   0 |  0 |     0 |   0 |   0 |   0 |  1.0 |  2.4 |  0 |  0.003549768 |  0.003549768 |\n",
       "| 12 | 30 | 4  |   0 |     0 |   0 |  0 |  0.0 |   0 |   0 |  0 |     0 |   0 |   0 |   0 | -1.7 |  0.2 |  0 |  0.003549768 |  0.003549768 |\n",
       "| 12 | 30 | 10 |  41 |  6432 |  58 | 12 |  6.9 | 169 |   9 | 10 |  5839 |  41 |  48 |  79 |  0.8 |  0.8 | 37 | 37.574810028 | 37.574810028 |\n",
       "| 12 | 30 | 22 |   0 |     0 |   0 |  0 |  0.0 |   0 |   0 |  0 |     0 |   0 |   0 |   0 | -0.3 |  1.0 |  0 |  0.003549768 |  0.003549768 |\n",
       "| 12 | 31 | 2  |   0 |     0 |   0 |  0 |  0.0 |   0 |   0 |  0 |     0 |   0 |   0 |   0 | -3.1 | -1.1 |  0 |  0.003549768 |  0.003549768 |\n",
       "| 12 | 31 | 10 |  28 |  8248 |  78 | 16 |  6.9 | 169 |  42 | 25 |  5847 |  28 |  37 | 348 | -0.4 | -0.5 | 26 | 26.589160919 | 26.589160919 |\n",
       "| 12 | 31 | 13 |  42 | 27261 | 258 | 52 | 17.6 | 428 | 199 | 48 |  9234 |  42 |  59 | 657 |  7.9 |  5.9 | 38 | 37.170494080 | 37.170494080 |\n",
       "| 12 | 31 | 19 |   0 |     0 |   0 |  0 |  0.0 |   0 |   0 |  0 |     0 |   0 |   0 |   0 |  1.1 |  3.4 |  0 |  0.003549768 |  0.003549768 |\n",
       "| 12 | 31 | 22 |   0 |     0 |   0 |  0 |  0.0 |   0 |   0 |  0 |     0 |   0 |   0 |   0 | -1.8 |  2.5 |  0 |  0.003549768 |  0.003549768 |\n",
       "| 12 | 31 | 24 |   0 |     0 |   0 |  0 |  0.0 |   0 |   0 |  0 |     0 |   0 |   0 |   0 | -2.5 |  1.8 |  0 |  0.003549768 |  0.003549768 |\n",
       "\n"
      ],
      "text/plain": [
       "     m  dm h  G_Gk Lg    G_Gh G_Gref hs   G_Gex G_Bh Sd Ld    G_Dk G_Dh G_Bn\n",
       "1    1  1  1    0      0   0   0      0.0   0     0   0     0   0    0    0 \n",
       "2    1  1  3    0      0   0   0      0.0   0     0   0     0   0    0    0 \n",
       "3    1  1  8    0      0   0   0      0.0   0     0   0     0   0    0    0 \n",
       "4    1  1  11  28   3446  28   6     12.6 308     0   0  3446  28   28    0 \n",
       "5    1  1  12  40   4917  41   8     16.3 396     0   1  4917  40   41    0 \n",
       "6    1  1  18   0      0   0   0      0.0   0     0   0     0   0    0    0 \n",
       "7    1  1  22   0      0   0   0      0.0   0     0   0     0   0    0    0 \n",
       "8    1  1  24   0      0   0   0      0.0   0     0   0     0   0    0    0 \n",
       "9    1  2  7    0      0   0   0      0.0   0     0   0     0   0    0    0 \n",
       "10   1  2  8    0      0   0   0      0.0   0     0   0     0   0    0    0 \n",
       "11   1  2  13 114  20686 191  38     17.8 431    43  25 17156 114  148  140 \n",
       "12   1  2  14 103  19348 178  36     16.8 407    46  24 15344 103  132  160 \n",
       "13   1  2  21   0      0   0   0      0.0   0     0   0     0   0    0    0 \n",
       "14   1  2  23   0      0   0   0      0.0   0     0   0     0   0    0    0 \n",
       "15   1  3  1    0      0   0   0      0.0   0     0   0     0   0    0    0 \n",
       "16   1  3  3    0      0   0   0      0.0   0     0   0     0   0    0    0 \n",
       "17   1  3  7    0      0   0   0      0.0   0     0   0     0   0    0    0 \n",
       "18   1  3  14  69  21427 202  40     16.9 410   105  33 13877  69   97  362 \n",
       "19   1  3  19   0      0   0   0      0.0   0     0   0     0   0    0    0 \n",
       "20   1  3  20   0      0   0   0      0.0   0     0   0     0   0    0    0 \n",
       "21   1  3  21   0      0   0   0      0.0   0     0   0     0   0    0    0 \n",
       "22   1  4  2    0      0   0   0      0.0   0     0   0     0   0    0    0 \n",
       "23   1  4  5    0      0   0   0      0.0   0     0   0     0   0    0    0 \n",
       "24   1  4  7    0      0   0   0      0.0   0     0   0     0   0    0    0 \n",
       "25   1  4  10  35   4258  38   8      7.0 172     0   4  4258  35   38    0 \n",
       "26   1  4  11  72   9061  81  16     12.7 311     1   6  9001  72   81    4 \n",
       "27   1  4  12  97  12580 113  23     16.5 401     3   7 12344  97  110    9 \n",
       "28   1  4  14 105  13823 125  25     17.0 412     5   8 13359 105  120   16 \n",
       "29   1  4  15  83  10722  97  19     13.6 333     3   8 10396  83   94   14 \n",
       "30   1  4  21   0      0   0   0      0.0   0     0   0     0   0    0    0 \n",
       "⋮    ⋮  ⋮  ⋮  ⋮    ⋮     ⋮    ⋮      ⋮    ⋮     ⋮    ⋮  ⋮     ⋮    ⋮    ⋮   \n",
       "2599 12 26 3    0      0   0   0      0.0   0     0   0     0   0    0    0 \n",
       "2600 12 26 10  16   1952  16   6      6.9 170     0   0  1952  16   16    0 \n",
       "2601 12 26 11  33   4106  34  14     12.5 306     0   1  4106  33   34    0 \n",
       "2602 12 26 14  55   6799  57  23     16.2 395     0   1  6799  55   57    0 \n",
       "2603 12 26 20   0      0   0   0      0.0   0     0   0     0   0    0    0 \n",
       "2604 12 27 2    0      0   0   0      0.0   0     0   0     0   0    0    0 \n",
       "2605 12 27 10  40   5494  50  11      6.9 169     4   6  5214  40   45   37 \n",
       "2606 12 27 14 100  14841 134  29     16.3 396    13  10 13806 100  121   47 \n",
       "2607 12 27 18   0      0   0   0      0.0   0     0   0     0   0    0    0 \n",
       "2608 12 27 24   0      0   0   0      0.0   0     0   0     0   0    0    0 \n",
       "2609 12 28 1    0      0   0   0      0.0   0     0   0     0   0    0    0 \n",
       "2610 12 28 15  22   2742  22   4     12.9 315     0   0  2742  22   22    0 \n",
       "2611 12 28 16  11   1420  11   2      7.4 182     0   0  1419  11   11    0 \n",
       "2612 12 28 18   0      0   0   0      0.0   0     0   0     0   0    0    0 \n",
       "2613 12 28 19   0      0   0   0      0.0   0     0   0     0   0    0    0 \n",
       "2614 12 28 21   0      0   0   0      0.0   0     0   0     0   0    0    0 \n",
       "2615 12 29 4    0      0   0   0      0.0   0     0   0     0   0    0    0 \n",
       "2616 12 29 9    1     99   1   0      0.0   9     0   1    99   1    1    0 \n",
       "2617 12 29 12  56   7074  60  12     16.2 393     0   1  7074  56   60    0 \n",
       "2618 12 29 20   0      0   0   0      0.0   0     0   0     0   0    0    0 \n",
       "2619 12 29 23   0      0   0   0      0.0   0     0   0     0   0    0    0 \n",
       "2620 12 30 4    0      0   0   0      0.0   0     0   0     0   0    0    0 \n",
       "2621 12 30 10  41   6432  58  12      6.9 169     9  10  5839  41   48   79 \n",
       "2622 12 30 22   0      0   0   0      0.0   0     0   0     0   0    0    0 \n",
       "2623 12 31 2    0      0   0   0      0.0   0     0   0     0   0    0    0 \n",
       "2624 12 31 10  28   8248  78  16      6.9 169    42  25  5847  28   37  348 \n",
       "2625 12 31 13  42  27261 258  52     17.6 428   199  48  9234  42   59  657 \n",
       "2626 12 31 19   0      0   0   0      0.0   0     0   0     0   0    0    0 \n",
       "2627 12 31 22   0      0   0   0      0.0   0     0   0     0   0    0    0 \n",
       "2628 12 31 24   0      0   0   0      0.0   0     0   0     0   0    0    0 \n",
       "     Ts   Ta   PV  .pred        predictions \n",
       "1     3.5 6.2    0  0.003549768  0.003549768\n",
       "2     3.3 6.6    0  0.003549768  0.003549768\n",
       "3     3.5 6.0    0  0.003549768  0.003549768\n",
       "4     6.2 6.4   25 25.609237671 25.609237671\n",
       "5     6.5 6.7   35 35.328384399 35.328384399\n",
       "6     4.3 6.2    0  0.004283639  0.004283639\n",
       "7     2.7 5.4    0  0.003549768  0.003549768\n",
       "8     2.0 5.1    0  0.003549768  0.003549768\n",
       "9     1.8 3.5    0  0.003549768  0.003549768\n",
       "10    0.8 3.4    0  0.003549768  0.003549768\n",
       "11    9.6 8.4  100 98.818145752 98.818145752\n",
       "12   10.0 8.9   90 89.619689941 89.619689941\n",
       "13    2.5 5.7    0  0.003549768  0.003549768\n",
       "14    1.5 4.9    0  0.003549768  0.003549768\n",
       "15    0.6 4.2    0  0.003549768  0.003549768\n",
       "16   -0.1 3.4    0  0.003549768  0.003549768\n",
       "17   -0.8 2.6    0  0.003549768  0.003549768\n",
       "18   10.2 8.7   60 61.059181213 61.059181213\n",
       "19    5.0 6.4    0  0.003549768  0.003549768\n",
       "20    4.1 6.1    0  0.003549768  0.003549768\n",
       "21    3.8 5.7    0  0.003549768  0.003549768\n",
       "22    2.1 4.0    0  0.003549768  0.003549768\n",
       "23    2.2 3.4    0  0.003549768  0.003549768\n",
       "24    0.8 3.1    0  0.003549768  0.003549768\n",
       "25    3.6 3.8   32 31.305425644 31.305425644\n",
       "26    5.0 4.7   65 65.004234314 65.004234314\n",
       "27    6.1 5.5   87 85.625862122 85.625862122\n",
       "28    7.2 6.5   93 92.513702393 92.513702393\n",
       "29    7.0 6.6   73 73.822685242 73.822685242\n",
       "30    1.5 4.3    0  0.003549768  0.003549768\n",
       "⋮    ⋮    ⋮    ⋮   ⋮            ⋮           \n",
       "2599 -1.0  2.6  0   0.003549768  0.003549768\n",
       "2600  0.0  3.5 14  14.403736115 14.403736115\n",
       "2601  0.0  4.1 30  30.081735611 30.081735611\n",
       "2602  0.0  5.7 49  48.402027130 48.402027130\n",
       "2603  0.0  5.3  0   0.003549768  0.003549768\n",
       "2604  0.0  5.9  0   0.003549768  0.003549768\n",
       "2605  0.0  8.0 35  35.482852936 35.482852936\n",
       "2606 11.7 11.0 87  87.114402771 87.114402771\n",
       "2607  8.9 10.7  0   0.004283639  0.004283639\n",
       "2608  6.7  8.3  0   0.003549768  0.003549768\n",
       "2609  5.0  6.9  0   0.003549768  0.003549768\n",
       "2610  1.1  1.5 20  19.905261993 19.905261993\n",
       "2611  1.7  2.2 10  10.082982063 10.082982063\n",
       "2612 -1.7  1.9  0   0.004283639  0.004283639\n",
       "2613 -1.6  1.4  0   0.003549768  0.003549768\n",
       "2614 -1.7  0.8  0   0.003549768  0.003549768\n",
       "2615 -1.0  0.3  0   0.003549768  0.003549768\n",
       "2616  0.0  0.9  1   0.673611224  0.673611224\n",
       "2617  3.6  3.6 51  51.223171234 51.223171234\n",
       "2618  2.3  3.1  0   0.003549768  0.003549768\n",
       "2619  1.0  2.4  0   0.003549768  0.003549768\n",
       "2620 -1.7  0.2  0   0.003549768  0.003549768\n",
       "2621  0.8  0.8 37  37.574810028 37.574810028\n",
       "2622 -0.3  1.0  0   0.003549768  0.003549768\n",
       "2623 -3.1 -1.1  0   0.003549768  0.003549768\n",
       "2624 -0.4 -0.5 26  26.589160919 26.589160919\n",
       "2625  7.9  5.9 38  37.170494080 37.170494080\n",
       "2626  1.1  3.4  0   0.003549768  0.003549768\n",
       "2627 -1.8  2.5  0   0.003549768  0.003549768\n",
       "2628 -2.5  1.8  0   0.003549768  0.003549768"
      ]
     },
     "metadata": {},
     "output_type": "display_data"
    }
   ],
   "source": [
    "# Replace negatives in column StudyHours with the mean study hours\n",
    "results_FN <- results_FN %>%\n",
    "  mutate(predictions = replace(.pred, .pred < 0, 0))\n",
    "# Print the data frame\n",
    "results_FN\n"
   ]
  },
  {
   "cell_type": "code",
   "execution_count": 29,
   "id": "c377f870",
   "metadata": {
    "vscode": {
     "languageId": "r"
    }
   },
   "outputs": [
    {
     "data": {
      "text/plain": [
       "[[1]]\n"
      ]
     },
     "metadata": {},
     "output_type": "display_data"
    },
    {
     "data": {
      "image/png": "[encoded data removed]",
      "text/plain": [
       "plot without title"
      ]
     },
     "metadata": {
      "image/png": {
       "height": 420,
       "width": 420
      }
     },
     "output_type": "display_data"
    }
   ],
   "source": [
    "\n",
    "theme_set(theme_light())\n",
    "Final_mplt <- results_FN %>% \n",
    "  select(c(m, PV , predictions)) %>% \n",
    "\n",
    "ggplot(mapping = aes(x = m, y = PV-predictions)) +\n",
    "  geom_boxplot()+\n",
    "  #, alpha = 0.9, show.legend = F) +\n",
    "  #facet_wrap(~ h, scales = 'free') +\n",
    "  # overlay regression line\n",
    "  ggtitle(\"\") +\n",
    "  xlab(\"Month\") +\n",
    "  ylab(\"Residuals\") +\n",
    "  paletteer::scale_fill_paletteer_d(\"tvthemes::simpsons\")+\n",
    "  theme(\n",
    "    panel.grid = element_blank(),\n",
    "    axis.text.x = element_text(angle = 60))+\n",
    "  theme(legend.position = c(0.9, 0.9), legend.background = element_blank(),\n",
    "      plot.title = element_text(color=\"black\", size=15, face=\"bold.italic\"),\n",
    "      axis.title.x = element_text(color=\"black\", size=15, face=\"bold\"),\n",
    "      axis.text.x = element_text(face=\"bold\", color=\"black\", size=14, angle = 0),\n",
    "      axis.title.y = element_text(color=\"black\", size=15, face=\"bold\"),\n",
    "      axis.text.y = element_text(face=\"bold\", color=\"black\", size=14),\n",
    "      axis.line = element_line(colour = \"darkblue\", size = 1,\n",
    "                               linetype = \"solid\"))\n",
    "\n",
    " #ggplot(mapping = aes(x = PV, y = predictions)) +\n",
    " # geom_point(color = '#4D3161FF') +\n",
    " # # overlay regression line\n",
    " # geom_smooth(method = 'lm', color = 'black', se = F) +\n",
    " # ggtitle(\"Daily Bike Share Predictions\") +\n",
    " # xlab(\"Actual Labels\") +\n",
    " # ylab(\"Predicted Labels\") +\n",
    " # theme(plot.title = element_text(hjust = 0.5))\n",
    "setwd(\"C:/Users/Daud/Google Drive/Phd Saarland/Paper by Dd/Phd_Themes/Res.2-Genration modeling (S-01.12.17)/Analysis of weather parameters/T1_RE_P2_Analysis_of_Solar_radiations-Saarbrucken_jan2018_files/New/\")\n",
    "#ggsave(\"./Pre.png\",Final_m_plt)\n",
    "ggsave(filename = \"MonRes.png\", width=10, height=5)\n",
    "#plt.plot\n",
    "\n",
    "list(Final_mplt)\n"
   ]
  },
  {
   "cell_type": "code",
   "execution_count": 30,
   "id": "63e00515",
   "metadata": {
    "vscode": {
     "languageId": "r"
    }
   },
   "outputs": [
    {
     "data": {
      "text/plain": [
       "[[1]]\n"
      ]
     },
     "metadata": {},
     "output_type": "display_data"
    },
    {
     "data": {
      "image/png": "[encoded data removed]",
      "text/plain": [
       "plot without title"
      ]
     },
     "metadata": {
      "image/png": {
       "height": 420,
       "width": 420
      }
     },
     "output_type": "display_data"
    }
   ],
   "source": [
    "theme_set(theme_light())\n",
    "Final_hplt <- results_FN %>% \n",
    "  select(c(h, PV , predictions)) %>% \n",
    "\n",
    "ggplot(mapping = aes(x = h, y = PV-predictions)) +\n",
    "  geom_boxplot()+\n",
    "  #, alpha = 0.9, show.legend = F) +\n",
    "  #facet_wrap(~ h, scales = 'free') +\n",
    "  ggtitle(\"\") +\n",
    "  xlab(\"Hour\") +\n",
    "  ylab(\"Residuals\") +\n",
    "  paletteer::scale_fill_paletteer_d(\"tvthemes::simpsons\")+\n",
    "  theme(\n",
    "    panel.grid = element_blank(),\n",
    "    axis.text.x = element_text(angle = 60))+\n",
    "  theme(legend.position = c(0.9, 0.9), legend.background = element_blank(),\n",
    "      plot.title = element_text(color=\"black\", size=15, face=\"bold.italic\"),\n",
    "      axis.title.x = element_text(color=\"black\", size=15, face=\"bold\"),\n",
    "      axis.text.x = element_text(face=\"bold\", color=\"black\", size=14, angle = 60),\n",
    "      axis.title.y = element_text(color=\"black\", size=15, face=\"bold\"),\n",
    "      axis.text.y = element_text(face=\"bold\", color=\"black\", size=14),\n",
    "      axis.line = element_line(colour = \"darkblue\", size = 1,\n",
    "                               linetype = \"solid\"))\n",
    "\n",
    "\n",
    "list(Final_hplt)\n",
    "\n",
    "setwd(\"C:/Users/Daud/Google Drive/Phd Saarland/Paper by Dd/Phd_Themes/Res.2-Genration modeling (S-01.12.17)/Analysis of weather parameters/T1_RE_P2_Analysis_of_Solar_radiations-Saarbrucken_jan2018_files/New/\")\n",
    "#ggsave(\"./Pre.png\",Final_m_plt)\n",
    "ggsave(filename = \"HrRes.png\", width=10, height=5)\n",
    "#plt.plot\n",
    "\n"
   ]
  },
  {
   "cell_type": "code",
   "execution_count": 31,
   "id": "84e093cb",
   "metadata": {
    "vscode": {
     "languageId": "r"
    }
   },
   "outputs": [
    {
     "data": {
      "text/plain": [
       "[[1]]\n"
      ]
     },
     "metadata": {},
     "output_type": "display_data"
    },
    {
     "data": {
      "image/png": "[encoded data removed]",
      "text/plain": [
       "plot without title"
      ]
     },
     "metadata": {
      "image/png": {
       "height": 420,
       "width": 420
      }
     },
     "output_type": "display_data"
    }
   ],
   "source": [
    "theme_set(theme_light())\n",
    "Final_dmplt <- results_FN %>% \n",
    "  select(c(dm, PV , predictions)) %>% \n",
    "\n",
    "ggplot(mapping = aes(x = dm, y = PV-predictions)) +\n",
    "  geom_boxplot()+\n",
    "  #, alpha = 0.9, show.legend = F) +\n",
    "  #facet_wrap(~ h, scales = 'free') +\n",
    "  paletteer::scale_fill_paletteer_d(\"tvthemes::simpsons\")+\n",
    "  theme(\n",
    "    panel.grid = element_blank(),\n",
    "    axis.text.x = element_text(angle = 90))\n",
    "\n",
    " #ggplot(mapping = aes(x = PV, y = predictions)) +\n",
    " # geom_point(color = '#4D3161FF') +\n",
    " # # overlay regression line\n",
    " # geom_smooth(method = 'lm', color = 'black', se = F) +\n",
    " # ggtitle(\"Daily Bike Share Predictions\") +\n",
    " # xlab(\"Actual Labels\") +\n",
    " # ylab(\"Predicted Labels\") +\n",
    " # theme(plot.title = element_text(hjust = 0.5))\n",
    "\n",
    "\n",
    "list(Final_dmplt)"
   ]
  },
  {
   "cell_type": "code",
   "execution_count": 32,
   "id": "229af9a4",
   "metadata": {
    "vscode": {
     "languageId": "r"
    }
   },
   "outputs": [
    {
     "name": "stderr",
     "output_type": "stream",
     "text": [
      "`geom_smooth()` using formula 'y ~ x'\n",
      "\n"
     ]
    },
    {
     "data": {
      "text/plain": [
       "[[1]]\n",
       "\u001b[90m# A tibble: 2 × 3\u001b[39m\n",
       "  .metric .estimator .estimate\n",
       "  \u001b[3m\u001b[90m<chr>\u001b[39m\u001b[23m   \u001b[3m\u001b[90m<chr>\u001b[39m\u001b[23m          \u001b[3m\u001b[90m<dbl>\u001b[39m\u001b[23m\n",
       "\u001b[90m1\u001b[39m rmse    standard        1.34\n",
       "\u001b[90m2\u001b[39m rsq     standard        1.00\n",
       "\n",
       "[[2]]\n"
      ]
     },
     "metadata": {},
     "output_type": "display_data"
    },
    {
     "data": {
      "image/png": "[encoded data removed]",
      "text/plain": [
       "plot without title"
      ]
     },
     "metadata": {
      "image/png": {
       "height": 420,
       "width": 420
      }
     },
     "output_type": "display_data"
    }
   ],
   "source": [
    "# For reproducibility\n",
    "set.seed(2056)\n",
    "\n",
    "# Evaluate the model\n",
    "boost_metrics <- eval_metrics(data = results_FN,\n",
    "                                  truth = PV,\n",
    "                                  estimate = predictions) \n",
    "\n",
    "# Plot predicted vs actual\n",
    "boost_plt <- results_FN %>% \n",
    "  ggplot(mapping = aes(x = PV, y = predictions)) +\n",
    "  geom_point(color = '#6CBE50FF') +\n",
    "  geom_smooth(method = 'lm', color = 'black', se = F) +\n",
    "  # overlay regression line\n",
    "  ggtitle(\"Normalized Boosting Ensemble Model\") +\n",
    "  xlab(\"Actual PV\") +\n",
    "  ylab(\"Predicted PV\") +\n",
    "  theme(plot.title = element_text(hjust = 0.5))+\n",
    "  theme(legend.position = c(0.9, 0.9), legend.background = element_blank(),\n",
    "      plot.title = element_text(color=\"black\", size=15, face=\"bold.italic\"),\n",
    "      axis.title.x = element_text(color=\"black\", size=15, face=\"bold\"),\n",
    "      axis.text.x = element_text(face=\"bold\", color=\"black\", size=14, angle = 0),\n",
    "      axis.title.y = element_text(color=\"black\", size=15, face=\"bold\"),\n",
    "      axis.text.y = element_text(face=\"bold\", color=\"black\", size=14),\n",
    "      axis.line = element_line(colour = \"darkblue\", size = 1,\n",
    "                               linetype = \"solid\"))\n",
    "\n",
    "# Return evaluations\n",
    "list(boost_metrics, boost_plt)"
   ]
  },
  {
   "cell_type": "code",
   "execution_count": 33,
   "id": "41affbc2",
   "metadata": {
    "vscode": {
     "languageId": "r"
    }
   },
   "outputs": [
    {
     "data": {
      "text/html": [
       "<ol>\n",
       "\t<li><table class=\"dataframe\">\n",
       "<caption>A tibble: 24 × 3</caption>\n",
       "<thead>\n",
       "\t<tr><th scope=col>h</th><th scope=col>mean_pv</th><th scope=col>mean_pre</th></tr>\n",
       "\t<tr><th scope=col>&lt;fct&gt;</th><th scope=col>&lt;dbl&gt;</th><th scope=col>&lt;dbl&gt;</th></tr>\n",
       "</thead>\n",
       "<tbody>\n",
       "\t<tr><td>1 </td><td>  0.00000000</td><td>3.549768e-03</td></tr>\n",
       "\t<tr><td>2 </td><td>  0.00000000</td><td>3.549768e-03</td></tr>\n",
       "\t<tr><td>3 </td><td>  0.00000000</td><td>3.549768e-03</td></tr>\n",
       "\t<tr><td>4 </td><td>  0.00000000</td><td>3.549768e-03</td></tr>\n",
       "\t<tr><td>5 </td><td>  0.09401709</td><td>1.161111e-01</td></tr>\n",
       "\t<tr><td>6 </td><td> 19.12000000</td><td>1.907306e+01</td></tr>\n",
       "\t<tr><td>7 </td><td> 41.52678571</td><td>4.149812e+01</td></tr>\n",
       "\t<tr><td>8 </td><td>122.76842105</td><td>1.224694e+02</td></tr>\n",
       "\t<tr><td>9 </td><td>160.79207921</td><td>1.606757e+02</td></tr>\n",
       "\t<tr><td>10</td><td>197.90517241</td><td>1.976598e+02</td></tr>\n",
       "\t<tr><td>11</td><td>214.64220183</td><td>2.139636e+02</td></tr>\n",
       "\t<tr><td>12</td><td>224.60330579</td><td>2.243644e+02</td></tr>\n",
       "\t<tr><td>13</td><td>226.62244898</td><td>2.263831e+02</td></tr>\n",
       "\t<tr><td>14</td><td>236.34905660</td><td>2.359673e+02</td></tr>\n",
       "\t<tr><td>15</td><td>204.93636364</td><td>2.051156e+02</td></tr>\n",
       "\t<tr><td>16</td><td>169.96969697</td><td>1.703726e+02</td></tr>\n",
       "\t<tr><td>17</td><td>127.57258065</td><td>1.277015e+02</td></tr>\n",
       "\t<tr><td>18</td><td> 79.34782609</td><td>7.961167e+01</td></tr>\n",
       "\t<tr><td>19</td><td> 49.38000000</td><td>4.941367e+01</td></tr>\n",
       "\t<tr><td>20</td><td> 15.83018868</td><td>1.591033e+01</td></tr>\n",
       "\t<tr><td>21</td><td>  0.36190476</td><td>3.602194e-01</td></tr>\n",
       "\t<tr><td>22</td><td>  0.00000000</td><td>3.549768e-03</td></tr>\n",
       "\t<tr><td>23</td><td>  0.00000000</td><td>3.549768e-03</td></tr>\n",
       "\t<tr><td>24</td><td>  0.00000000</td><td>3.549768e-03</td></tr>\n",
       "</tbody>\n",
       "</table>\n",
       "</li>\n",
       "</ol>\n"
      ],
      "text/latex": [
       "\\begin{enumerate}\n",
       "\\item A tibble: 24 × 3\n",
       "\\begin{tabular}{lll}\n",
       " h & mean\\_pv & mean\\_pre\\\\\n",
       " <fct> & <dbl> & <dbl>\\\\\n",
       "\\hline\n",
       "\t 1  &   0.00000000 & 3.549768e-03\\\\\n",
       "\t 2  &   0.00000000 & 3.549768e-03\\\\\n",
       "\t 3  &   0.00000000 & 3.549768e-03\\\\\n",
       "\t 4  &   0.00000000 & 3.549768e-03\\\\\n",
       "\t 5  &   0.09401709 & 1.161111e-01\\\\\n",
       "\t 6  &  19.12000000 & 1.907306e+01\\\\\n",
       "\t 7  &  41.52678571 & 4.149812e+01\\\\\n",
       "\t 8  & 122.76842105 & 1.224694e+02\\\\\n",
       "\t 9  & 160.79207921 & 1.606757e+02\\\\\n",
       "\t 10 & 197.90517241 & 1.976598e+02\\\\\n",
       "\t 11 & 214.64220183 & 2.139636e+02\\\\\n",
       "\t 12 & 224.60330579 & 2.243644e+02\\\\\n",
       "\t 13 & 226.62244898 & 2.263831e+02\\\\\n",
       "\t 14 & 236.34905660 & 2.359673e+02\\\\\n",
       "\t 15 & 204.93636364 & 2.051156e+02\\\\\n",
       "\t 16 & 169.96969697 & 1.703726e+02\\\\\n",
       "\t 17 & 127.57258065 & 1.277015e+02\\\\\n",
       "\t 18 &  79.34782609 & 7.961167e+01\\\\\n",
       "\t 19 &  49.38000000 & 4.941367e+01\\\\\n",
       "\t 20 &  15.83018868 & 1.591033e+01\\\\\n",
       "\t 21 &   0.36190476 & 3.602194e-01\\\\\n",
       "\t 22 &   0.00000000 & 3.549768e-03\\\\\n",
       "\t 23 &   0.00000000 & 3.549768e-03\\\\\n",
       "\t 24 &   0.00000000 & 3.549768e-03\\\\\n",
       "\\end{tabular}\n",
       "\n",
       "\\end{enumerate}\n"
      ],
      "text/markdown": [
       "1. \n",
       "A tibble: 24 × 3\n",
       "\n",
       "| h &lt;fct&gt; | mean_pv &lt;dbl&gt; | mean_pre &lt;dbl&gt; |\n",
       "|---|---|---|\n",
       "| 1  |   0.00000000 | 3.549768e-03 |\n",
       "| 2  |   0.00000000 | 3.549768e-03 |\n",
       "| 3  |   0.00000000 | 3.549768e-03 |\n",
       "| 4  |   0.00000000 | 3.549768e-03 |\n",
       "| 5  |   0.09401709 | 1.161111e-01 |\n",
       "| 6  |  19.12000000 | 1.907306e+01 |\n",
       "| 7  |  41.52678571 | 4.149812e+01 |\n",
       "| 8  | 122.76842105 | 1.224694e+02 |\n",
       "| 9  | 160.79207921 | 1.606757e+02 |\n",
       "| 10 | 197.90517241 | 1.976598e+02 |\n",
       "| 11 | 214.64220183 | 2.139636e+02 |\n",
       "| 12 | 224.60330579 | 2.243644e+02 |\n",
       "| 13 | 226.62244898 | 2.263831e+02 |\n",
       "| 14 | 236.34905660 | 2.359673e+02 |\n",
       "| 15 | 204.93636364 | 2.051156e+02 |\n",
       "| 16 | 169.96969697 | 1.703726e+02 |\n",
       "| 17 | 127.57258065 | 1.277015e+02 |\n",
       "| 18 |  79.34782609 | 7.961167e+01 |\n",
       "| 19 |  49.38000000 | 4.941367e+01 |\n",
       "| 20 |  15.83018868 | 1.591033e+01 |\n",
       "| 21 |   0.36190476 | 3.602194e-01 |\n",
       "| 22 |   0.00000000 | 3.549768e-03 |\n",
       "| 23 |   0.00000000 | 3.549768e-03 |\n",
       "| 24 |   0.00000000 | 3.549768e-03 |\n",
       "\n",
       "\n",
       "\n",
       "\n"
      ],
      "text/plain": [
       "[[1]]\n",
       "\u001b[90m# A tibble: 24 × 3\u001b[39m\n",
       "   h      mean_pv  mean_pre\n",
       "   \u001b[3m\u001b[90m<fct>\u001b[39m\u001b[23m    \u001b[3m\u001b[90m<dbl>\u001b[39m\u001b[23m     \u001b[3m\u001b[90m<dbl>\u001b[39m\u001b[23m\n",
       "\u001b[90m 1\u001b[39m 1       0        0.003\u001b[4m5\u001b[24m\u001b[4m5\u001b[24m\n",
       "\u001b[90m 2\u001b[39m 2       0        0.003\u001b[4m5\u001b[24m\u001b[4m5\u001b[24m\n",
       "\u001b[90m 3\u001b[39m 3       0        0.003\u001b[4m5\u001b[24m\u001b[4m5\u001b[24m\n",
       "\u001b[90m 4\u001b[39m 4       0        0.003\u001b[4m5\u001b[24m\u001b[4m5\u001b[24m\n",
       "\u001b[90m 5\u001b[39m 5       0.094\u001b[4m0\u001b[24m   0.116  \n",
       "\u001b[90m 6\u001b[39m 6      19.1     19.1    \n",
       "\u001b[90m 7\u001b[39m 7      41.5     41.5    \n",
       "\u001b[90m 8\u001b[39m 8     123.     122.     \n",
       "\u001b[90m 9\u001b[39m 9     161.     161.     \n",
       "\u001b[90m10\u001b[39m 10    198.     198.     \n",
       "\u001b[90m# … with 14 more rows\u001b[39m\n"
      ]
     },
     "metadata": {},
     "output_type": "display_data"
    }
   ],
   "source": [
    "Final_plt_h <- results_FN %>% \n",
    "  select(c(h, PV , predictions)) %>% \n",
    "  group_by(h)%>%\n",
    "  summarise(mean_pv = mean(PV),mean_pre = mean(predictions))\n",
    "  \n",
    "\n",
    "#ggplot(mapping = aes(x = h, y = PV)) +\n",
    "#  geom_boxplot()+\n",
    "  #, alpha = 0.9, show.legend = F) +\n",
    "  #facet_wrap(~ h, scales = 'free') +\n",
    " # paletteer::scale_fill_paletteer_d(\"tvthemes::simpsons\")+\n",
    " # theme(\n",
    " #   panel.grid = element_blank(),\n",
    " #   axis.text.x = element_text(angle = 90))\n",
    "\n",
    "list(Final_plt_h)"
   ]
  },
  {
   "cell_type": "code",
   "execution_count": 34,
   "id": "94f1c0ce",
   "metadata": {
    "vscode": {
     "languageId": "r"
    }
   },
   "outputs": [
    {
     "data": {
      "image/png": "[encoded data removed]",
      "text/plain": [
       "plot without title"
      ]
     },
     "metadata": {
      "image/png": {
       "height": 420,
       "width": 420
      }
     },
     "output_type": "display_data"
    }
   ],
   "source": [
    "df_final <- Final_plt_h %>% \n",
    "  select(h, mean_pv, mean_pre) %>%\n",
    "  #mutate(m = fct_reorder(m, .desc = TRUE)) %>% \n",
    "  pivot_longer(!h, names_to = \"Metrics\", values_to = \"Values\")\n",
    "\n",
    "# Compare numeric variables with bar plots\n",
    "ggplot(data = df_final) +\n",
    "  geom_bar(mapping = aes(x = h, y = Values, fill = factor(Metrics,labels=c(\"Predicted\",\"Measured\"))), alpha = 0.7, stat = \"identity\", position = position_dodge(width = 0.9)) +\n",
    "  xlab('Hour') +\n",
    "  ylab('PV values') +\n",
    "  scale_fill_paletteer_d(\"calecopal::kelp1\") +\n",
    "  theme(\n",
    "    panel.grid = element_blank(),\n",
    "    panel.grid.major.y = element_line(color = '#95a5a6',\n",
    "                                      linetype = 'dashed',\n",
    "                                      size = 0.5),\n",
    "    axis.text.x = element_text(angle = 90),\n",
    "    legend.title = element_blank()\n",
    "    \n",
    "  )+\n",
    "  theme(legend.position = c(0.9, 0.9), legend.background = element_blank(),\n",
    "      plot.title = element_text(color=\"black\", size=15, face=\"bold.italic\"),\n",
    "      axis.title.x = element_text(color=\"black\", size=15, face=\"bold\"),\n",
    "      axis.text.x = element_text(face=\"bold\", color=\"black\", size=14, angle = 0),\n",
    "      axis.title.y = element_text(color=\"black\", size=15, face=\"bold\"),\n",
    "      axis.text.y = element_text(face=\"bold\", color=\"black\", size=14),\n",
    "      axis.line = element_line(colour = \"darkblue\", size = 1,\n",
    "                               linetype = \"solid\"))\n",
    "\n",
    "setwd(\"C:/Users/Daud/Google Drive/Phd Saarland/Paper by Dd/Phd_Themes/Res.2-Genration modeling (S-01.12.17)/Analysis of weather parameters/T1_RE_P2_Analysis_of_Solar_radiations-Saarbrucken_jan2018_files/New/\")\n",
    "#ggsave(\"./Pre.png\",Final_m_plt)\n",
    "ggsave(filename = \"hpred.png\", width=10, height=5)\n",
    "#plt.plot\n"
   ]
  },
  {
   "cell_type": "code",
   "execution_count": 260,
   "id": "79f2f93f",
   "metadata": {
    "vscode": {
     "languageId": "r"
    }
   },
   "outputs": [
    {
     "data": {
      "image/png": "[encoded data removed]",
      "text/plain": [
       "plot without title"
      ]
     },
     "metadata": {
      "image/png": {
       "height": 420,
       "width": 420
      }
     },
     "output_type": "display_data"
    }
   ],
   "source": [
    "#theme_set(theme_light())\n",
    "#r_int <- as.integer(Final_plt$mean_pre)\n",
    "#df<-data.frame(Final_plt$h,Final_plt$mean_pre, Final_plt$mean_pv)\n",
    "#g<-ggplot(df, aes(Final_plt$h, Final_plt$mean_pv))+ geom_bar(stat = \"identity\", colour=\"red\")\n",
    "#g<-g+geom_bar(data=df, aes(Final_plt$h, Final_plt$mean_pre), stat = \"identity\", colour=\"blue\")\n",
    "#print(g)"
   ]
  },
  {
   "cell_type": "code",
   "execution_count": 35,
   "id": "c926ffa4",
   "metadata": {
    "vscode": {
     "languageId": "r"
    }
   },
   "outputs": [
    {
     "ename": "ERROR",
     "evalue": "Error in data.frame(x = Final_plt$h, y = Final_plt$mean_pre): object 'Final_plt' not found\n",
     "output_type": "error",
     "traceback": [
      "Error in data.frame(x = Final_plt$h, y = Final_plt$mean_pre): object 'Final_plt' not found\nTraceback:\n",
      "1. data.frame(x = Final_plt$h, y = Final_plt$mean_pre)"
     ]
    }
   ],
   "source": [
    "df1<-data.frame(x=Final_plt$h,y=Final_plt$mean_pre)\n",
    "df2<-data.frame(x=Final_plt$h,y=Final_plt$mean_pv)\n",
    "df1\n",
    "ggplot(df1, aes(x,y))+geom_dotplot(aes(colour=\"red\"),binaxis = \"y\", stackdir = \"center\", fill = \"white\", stroke = 2)+\n",
    "  geom_dotplot(data = df2,aes(colour=\"blue\"),binaxis = \"y\", stackdir = \"center\",dotsize = 0.5)+\n",
    "  labs(color=\"Legend text\")\n",
    "\n",
    "\n",
    "#ggplot(data=Final_plt1,aes(x = h, y = mean_pre))+geom_line(aes(color=\"First line\"))+\n",
    "#  geom_line(data=Final_plt2,aes(color=\"Second line\"))+\n",
    "#  labs(color=\"Legend text\")"
   ]
  },
  {
   "cell_type": "code",
   "execution_count": 36,
   "id": "f744ec17",
   "metadata": {
    "vscode": {
     "languageId": "r"
    }
   },
   "outputs": [
    {
     "data": {
      "text/html": [
       "<table class=\"dataframe\">\n",
       "<caption>A tibble: 12 × 3</caption>\n",
       "<thead>\n",
       "\t<tr><th scope=col>m</th><th scope=col>mean_pv</th><th scope=col>mean_pre</th></tr>\n",
       "\t<tr><th scope=col>&lt;fct&gt;</th><th scope=col>&lt;dbl&gt;</th><th scope=col>&lt;dbl&gt;</th></tr>\n",
       "</thead>\n",
       "<tbody>\n",
       "\t<tr><td>1 </td><td> 17.73967</td><td> 17.66386</td></tr>\n",
       "\t<tr><td>2 </td><td> 32.65728</td><td> 32.58451</td></tr>\n",
       "\t<tr><td>3 </td><td> 75.00000</td><td> 74.74186</td></tr>\n",
       "\t<tr><td>4 </td><td>120.96154</td><td>120.68942</td></tr>\n",
       "\t<tr><td>5 </td><td>154.96279</td><td>154.96227</td></tr>\n",
       "\t<tr><td>6 </td><td>159.03587</td><td>159.05916</td></tr>\n",
       "\t<tr><td>7 </td><td>155.66376</td><td>155.64479</td></tr>\n",
       "\t<tr><td>8 </td><td>143.76682</td><td>143.93790</td></tr>\n",
       "\t<tr><td>9 </td><td> 85.58515</td><td> 85.49330</td></tr>\n",
       "\t<tr><td>10</td><td> 45.88053</td><td> 45.90498</td></tr>\n",
       "\t<tr><td>11</td><td> 15.41262</td><td> 15.42656</td></tr>\n",
       "\t<tr><td>12</td><td> 13.68844</td><td> 13.64892</td></tr>\n",
       "</tbody>\n",
       "</table>\n"
      ],
      "text/latex": [
       "A tibble: 12 × 3\n",
       "\\begin{tabular}{lll}\n",
       " m & mean\\_pv & mean\\_pre\\\\\n",
       " <fct> & <dbl> & <dbl>\\\\\n",
       "\\hline\n",
       "\t 1  &  17.73967 &  17.66386\\\\\n",
       "\t 2  &  32.65728 &  32.58451\\\\\n",
       "\t 3  &  75.00000 &  74.74186\\\\\n",
       "\t 4  & 120.96154 & 120.68942\\\\\n",
       "\t 5  & 154.96279 & 154.96227\\\\\n",
       "\t 6  & 159.03587 & 159.05916\\\\\n",
       "\t 7  & 155.66376 & 155.64479\\\\\n",
       "\t 8  & 143.76682 & 143.93790\\\\\n",
       "\t 9  &  85.58515 &  85.49330\\\\\n",
       "\t 10 &  45.88053 &  45.90498\\\\\n",
       "\t 11 &  15.41262 &  15.42656\\\\\n",
       "\t 12 &  13.68844 &  13.64892\\\\\n",
       "\\end{tabular}\n"
      ],
      "text/markdown": [
       "\n",
       "A tibble: 12 × 3\n",
       "\n",
       "| m &lt;fct&gt; | mean_pv &lt;dbl&gt; | mean_pre &lt;dbl&gt; |\n",
       "|---|---|---|\n",
       "| 1  |  17.73967 |  17.66386 |\n",
       "| 2  |  32.65728 |  32.58451 |\n",
       "| 3  |  75.00000 |  74.74186 |\n",
       "| 4  | 120.96154 | 120.68942 |\n",
       "| 5  | 154.96279 | 154.96227 |\n",
       "| 6  | 159.03587 | 159.05916 |\n",
       "| 7  | 155.66376 | 155.64479 |\n",
       "| 8  | 143.76682 | 143.93790 |\n",
       "| 9  |  85.58515 |  85.49330 |\n",
       "| 10 |  45.88053 |  45.90498 |\n",
       "| 11 |  15.41262 |  15.42656 |\n",
       "| 12 |  13.68844 |  13.64892 |\n",
       "\n"
      ],
      "text/plain": [
       "   m  mean_pv   mean_pre \n",
       "1  1   17.73967  17.66386\n",
       "2  2   32.65728  32.58451\n",
       "3  3   75.00000  74.74186\n",
       "4  4  120.96154 120.68942\n",
       "5  5  154.96279 154.96227\n",
       "6  6  159.03587 159.05916\n",
       "7  7  155.66376 155.64479\n",
       "8  8  143.76682 143.93790\n",
       "9  9   85.58515  85.49330\n",
       "10 10  45.88053  45.90498\n",
       "11 11  15.41262  15.42656\n",
       "12 12  13.68844  13.64892"
      ]
     },
     "metadata": {},
     "output_type": "display_data"
    },
    {
     "data": {
      "image/png": "[encoded data removed]",
      "text/plain": [
       "plot without title"
      ]
     },
     "metadata": {
      "image/png": {
       "height": 420,
       "width": 420
      }
     },
     "output_type": "display_data"
    }
   ],
   "source": [
    "Final_m_plt <- results_FN %>% \n",
    "  select(c(m, PV , predictions)) %>% \n",
    "  group_by(m)%>%\n",
    "  summarise(mean_pv = mean(PV),mean_pre = mean(predictions))\n",
    "  \n",
    "Final_m_plt\n",
    "\n",
    "dff_final <- Final_m_plt %>% \n",
    "  select(m, mean_pv, mean_pre) %>%\n",
    "  #mutate(m = fct_reorder(m, .desc = TRUE)) %>% \n",
    "  pivot_longer(!m, names_to = \"Metrics\", values_to = \"Values\")\n",
    "\n",
    "# Compare numeric variables with bar plots\n",
    "ggplot(data = dff_final) +\n",
    "  geom_bar(mapping = aes(x = m, y = Values, fill = factor(Metrics,labels=c(\"Predicted\",\"Measured\"))), alpha = 0.7, stat = \"identity\", position = position_dodge(width = 0.9)) +\n",
    "  xlab('Month') +\n",
    "  ylab('PV values') +\n",
    "  scale_fill_paletteer_d(\"calecopal::kelp1\") +\n",
    "  theme(\n",
    "    panel.grid = element_blank(),\n",
    "    panel.grid.major.y = element_line(color = '#95a5a6',\n",
    "                                      linetype = 'dashed',\n",
    "                                      size = 0.5),\n",
    "    axis.text.x = element_text(angle = 90),\n",
    "    legend.title = element_blank()\n",
    "    \n",
    "  )+\n",
    "  theme(legend.position = c(0.9, 0.9), legend.background = element_blank(),\n",
    "      plot.title = element_text(color=\"black\", size=15, face=\"bold.italic\"),\n",
    "      axis.title.x = element_text(color=\"black\", size=15, face=\"bold\"),\n",
    "      axis.text.x = element_text(face=\"bold\", color=\"black\", size=14, angle = 0),\n",
    "      axis.title.y = element_text(color=\"black\", size=15, face=\"bold\"),\n",
    "      axis.text.y = element_text(face=\"bold\", color=\"black\", size=14),\n",
    "      axis.line = element_line(colour = \"darkblue\", size = 1,\n",
    "                               linetype = \"solid\"))\n",
    "\n",
    "setwd(\"C:/Users/Daud/Google Drive/Phd Saarland/Paper by Dd/Phd_Themes/Res.2-Genration modeling (S-01.12.17)/Analysis of weather parameters/T1_RE_P2_Analysis_of_Solar_radiations-Saarbrucken_jan2018_files/New/\")\n",
    "#ggsave(\"./Pre.png\",Final_m_plt)\n",
    "ggsave(filename = \"mpred.png\", width=10, height=5)\n",
    "#plt.plot"
   ]
  }
 ],
 "metadata": {
  "kernelspec": {
   "display_name": "R",
   "language": "R",
   "name": "ir"
  },
  "language_info": {
   "codemirror_mode": "r",
   "file_extension": ".r",
   "mimetype": "text/x-r-source",
   "name": "R",
   "pygments_lexer": "r",
   "version": "4.2.1"
  }
 },
 "nbformat": 4,
 "nbformat_minor": 5
}
