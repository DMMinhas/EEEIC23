{
 "cells": [
  {
   "cell_type": "code",
   "execution_count": 1,
   "id": "442240b0",
   "metadata": {
    "vscode": {
     "languageId": "r"
    }
   },
   "outputs": [
    {
     "name": "stderr",
     "output_type": "stream",
     "text": [
      "Loading required package: pacman\n",
      "\n"
     ]
    }
   ],
   "source": [
    "# Setup chunk to install and load required packages\n",
    "knitr::opts_chunk$set(warning = FALSE, message = FALSE)\n",
    "suppressWarnings(if(!require(\"pacman\")) install.packages(\"pacman\"))\n",
    "\n",
    "pacman::p_load('tidyverse', 'tidymodels', 'glmnet',\n",
    "               'randomForest', 'xgboost','patchwork',\n",
    "               'paletteer', 'here', 'doParallel', 'summarytools', 'statip')\n"
   ]
  },
  {
   "cell_type": "code",
   "execution_count": 2,
   "id": "957e0115",
   "metadata": {
    "vscode": {
     "languageId": "r"
    }
   },
   "outputs": [
    {
     "name": "stderr",
     "output_type": "stream",
     "text": [
      "\n",
      "Attaching package: 'lubridate'\n",
      "\n",
      "\n",
      "The following objects are masked from 'package:base':\n",
      "\n",
      "    date, intersect, setdiff, union\n",
      "\n",
      "\n"
     ]
    }
   ],
   "source": [
    "# Initialize library\n",
    "library(tidyverse)\n",
    "library(patchwork)\n",
    "library(statip)\n",
    "library(glue)\n",
    "library(summarytools)\n",
    "library(tidymodels)\n",
    "library(lubridate)\n",
    "library(paletteer)\n",
    "library(ggplot2)\n",
    "library(dplyr)\n",
    "library(rsample)\n",
    "#library(statsr)\n",
    "#library(GGally)\n",
    "library(ggpubr)"
   ]
  },
  {
   "cell_type": "code",
   "execution_count": 36,
   "id": "20350926",
   "metadata": {
    "vscode": {
     "languageId": "r"
    }
   },
   "outputs": [],
   "source": [
    "## Read Data\n",
    "\n",
    "#BERLIN <- read.table(\"C:/Users/Daud/Documents/EEEIC/OPT/BERLIN_GM-min.dat\", header = TRUE, sep = \"\\t\")\n",
    "#Bern <- read.table(\"C:/Users/Daud/Documents/EEEIC/OPT/Bern-min.dat\", header = TRUE, sep = \"\\t\")\n",
    "#Bielefeld <- read.table(\"C:/Users/Daud/Documents/EEEIC/OPT/Bielefeld_GM-min.dat\", header = TRUE, sep = \"\\t\")\n",
    "#Bonn <- read.table(\"C:/Users/Daud/Documents/EEEIC/OPT/Bonn-min.dat\", header = TRUE, sep = \"\\t\")\n",
    "#Frankfurt <- read.table(\"C:/Users/Daud/Documents/EEEIC/OPT/Frankfurt_am_Main_GM-min.dat\", header = TRUE, sep = \"\\t\")\n",
    "#Hamburg <- read.table(\"C:/Users/Daud/Documents/EEEIC/OPT/Hamburg-min.dat\", header = TRUE, sep = \"\\t\")\n",
    "#Hanover <- read.table(\"C:/Users/Daud/Documents/EEEIC/OPT/Hanover_NH-min.dat\", header = TRUE, sep = \"\\t\")\n",
    "#Leipzig <- read.table(\"C:/Users/Daud/Documents/EEEIC/OPT/Leipzig_GM-min.dat\", header = TRUE, sep = \"\\t\")\n",
    "#Stuttgart <- read.table(\"C:/Users/Daud/Documents/EEEIC/OPT/Stuttgart-min.dat\", header = TRUE, sep = \"\\t\")\n",
    "Saarbruecken <- read.table(\"C:/Users/Daud/Documents/EEEIC/OPT/Saarbruecken-hour.dat\", header = TRUE, sep = \"\\t\")\n",
    "#write.csv(Saarbruecken, \"C:/Users/Daud/Documents/EEEIC/OPT/Saarbruecken-hour.csv\", row.names = FALSE,)"
   ]
  },
  {
   "cell_type": "code",
   "execution_count": 2,
   "id": "35af9aac",
   "metadata": {
    "vscode": {
     "languageId": "r"
    }
   },
   "outputs": [],
   "source": [
    "## Append rows\n",
    "#Saar_hour <- rbind(BERLIN, Bern, Bielefeld, Bonn, Frankfurt, Hamburg, Hanover, Leipzig, Stuttgart, Saarbruecken)\n",
    "#glimpse(Saar_hour)\n",
    "#save(Saarbruecken, file = \"C:/Users/Daud/Documents/EEEIC/OPT/Saar.RData\")"
   ]
  },
  {
   "cell_type": "code",
   "execution_count": 3,
   "id": "1fbc435f",
   "metadata": {
    "vscode": {
     "languageId": "r"
    }
   },
   "outputs": [],
   "source": [
    "## Always load from here \n",
    "#load(\"C:/Users/Daud/Documents/EEEIC/OPT/Saar.RData\")\n"
   ]
  },
  {
   "cell_type": "code",
   "execution_count": 37,
   "id": "fe562356",
   "metadata": {
    "vscode": {
     "languageId": "r"
    }
   },
   "outputs": [
    {
     "data": {
      "text/html": [
       "<table class=\"dataframe\">\n",
       "<caption>A data.frame: 10 × 18</caption>\n",
       "<thead>\n",
       "\t<tr><th scope=col>m</th><th scope=col>dm</th><th scope=col>dy</th><th scope=col>h</th><th scope=col>mi</th><th scope=col>G_Gh</th><th scope=col>hs</th><th scope=col>G_Gex</th><th scope=col>G_Gh_hr</th><th scope=col>G_Dh</th><th scope=col>G_Gk</th><th scope=col>G_Dk</th><th scope=col>G_Bn</th><th scope=col>Ta</th><th scope=col>FF</th><th scope=col>G_Gcs</th><th scope=col>Td</th><th scope=col>PVprod</th></tr>\n",
       "\t<tr><th scope=col>&lt;int&gt;</th><th scope=col>&lt;int&gt;</th><th scope=col>&lt;int&gt;</th><th scope=col>&lt;int&gt;</th><th scope=col>&lt;int&gt;</th><th scope=col>&lt;int&gt;</th><th scope=col>&lt;dbl&gt;</th><th scope=col>&lt;int&gt;</th><th scope=col>&lt;int&gt;</th><th scope=col>&lt;int&gt;</th><th scope=col>&lt;int&gt;</th><th scope=col>&lt;int&gt;</th><th scope=col>&lt;int&gt;</th><th scope=col>&lt;dbl&gt;</th><th scope=col>&lt;dbl&gt;</th><th scope=col>&lt;int&gt;</th><th scope=col>&lt;dbl&gt;</th><th scope=col>&lt;int&gt;</th></tr>\n",
       "</thead>\n",
       "<tbody>\n",
       "\t<tr><td>1</td><td>1</td><td>1</td><td> 1</td><td>0</td><td>0</td><td>-63.6</td><td>  0</td><td>0</td><td>0</td><td>0</td><td>0</td><td>0</td><td> 9.1</td><td>1.9</td><td> 0</td><td>7.9</td><td>0</td></tr>\n",
       "\t<tr><td>1</td><td>1</td><td>1</td><td> 2</td><td>0</td><td>0</td><td>-61.5</td><td>  0</td><td>0</td><td>0</td><td>0</td><td>0</td><td>0</td><td>10.1</td><td>1.5</td><td> 0</td><td>7.4</td><td>0</td></tr>\n",
       "\t<tr><td>1</td><td>1</td><td>1</td><td> 3</td><td>0</td><td>0</td><td>-55.3</td><td>  0</td><td>0</td><td>0</td><td>0</td><td>0</td><td>0</td><td>10.0</td><td>1.4</td><td> 0</td><td>7.1</td><td>0</td></tr>\n",
       "\t<tr><td>1</td><td>1</td><td>1</td><td> 4</td><td>0</td><td>0</td><td>-46.9</td><td>  0</td><td>0</td><td>0</td><td>0</td><td>0</td><td>0</td><td> 9.9</td><td>1.6</td><td> 0</td><td>7.1</td><td>0</td></tr>\n",
       "\t<tr><td>1</td><td>1</td><td>1</td><td> 5</td><td>0</td><td>0</td><td>-37.5</td><td>  0</td><td>0</td><td>0</td><td>0</td><td>0</td><td>0</td><td> 9.8</td><td>1.7</td><td> 0</td><td>6.6</td><td>0</td></tr>\n",
       "\t<tr><td>1</td><td>1</td><td>1</td><td> 6</td><td>0</td><td>0</td><td>-27.7</td><td>  0</td><td>0</td><td>0</td><td>0</td><td>0</td><td>0</td><td> 9.7</td><td>1.7</td><td> 0</td><td>6.5</td><td>0</td></tr>\n",
       "\t<tr><td>1</td><td>1</td><td>1</td><td> 7</td><td>0</td><td>0</td><td>-18.1</td><td>  0</td><td>0</td><td>0</td><td>0</td><td>0</td><td>0</td><td> 9.6</td><td>1.8</td><td> 0</td><td>6.2</td><td>0</td></tr>\n",
       "\t<tr><td>1</td><td>1</td><td>1</td><td> 8</td><td>0</td><td>0</td><td> -8.9</td><td>  0</td><td>0</td><td>0</td><td>0</td><td>0</td><td>0</td><td> 9.5</td><td>2.1</td><td> 0</td><td>5.8</td><td>0</td></tr>\n",
       "\t<tr><td>1</td><td>1</td><td>1</td><td> 9</td><td>0</td><td>1</td><td> -0.5</td><td> 19</td><td>1</td><td>1</td><td>1</td><td>1</td><td>0</td><td> 9.5</td><td>2.8</td><td>11</td><td>6.5</td><td>1</td></tr>\n",
       "\t<tr><td>1</td><td>1</td><td>1</td><td>10</td><td>0</td><td>9</td><td>  6.8</td><td>166</td><td>7</td><td>9</td><td>6</td><td>6</td><td>0</td><td> 9.5</td><td>3.3</td><td>92</td><td>6.8</td><td>5</td></tr>\n",
       "</tbody>\n",
       "</table>\n"
      ],
      "text/latex": [
       "A data.frame: 10 × 18\n",
       "\\begin{tabular}{llllllllllllllllll}\n",
       " m & dm & dy & h & mi & G\\_Gh & hs & G\\_Gex & G\\_Gh\\_hr & G\\_Dh & G\\_Gk & G\\_Dk & G\\_Bn & Ta & FF & G\\_Gcs & Td & PVprod\\\\\n",
       " <int> & <int> & <int> & <int> & <int> & <int> & <dbl> & <int> & <int> & <int> & <int> & <int> & <int> & <dbl> & <dbl> & <int> & <dbl> & <int>\\\\\n",
       "\\hline\n",
       "\t 1 & 1 & 1 &  1 & 0 & 0 & -63.6 &   0 & 0 & 0 & 0 & 0 & 0 &  9.1 & 1.9 &  0 & 7.9 & 0\\\\\n",
       "\t 1 & 1 & 1 &  2 & 0 & 0 & -61.5 &   0 & 0 & 0 & 0 & 0 & 0 & 10.1 & 1.5 &  0 & 7.4 & 0\\\\\n",
       "\t 1 & 1 & 1 &  3 & 0 & 0 & -55.3 &   0 & 0 & 0 & 0 & 0 & 0 & 10.0 & 1.4 &  0 & 7.1 & 0\\\\\n",
       "\t 1 & 1 & 1 &  4 & 0 & 0 & -46.9 &   0 & 0 & 0 & 0 & 0 & 0 &  9.9 & 1.6 &  0 & 7.1 & 0\\\\\n",
       "\t 1 & 1 & 1 &  5 & 0 & 0 & -37.5 &   0 & 0 & 0 & 0 & 0 & 0 &  9.8 & 1.7 &  0 & 6.6 & 0\\\\\n",
       "\t 1 & 1 & 1 &  6 & 0 & 0 & -27.7 &   0 & 0 & 0 & 0 & 0 & 0 &  9.7 & 1.7 &  0 & 6.5 & 0\\\\\n",
       "\t 1 & 1 & 1 &  7 & 0 & 0 & -18.1 &   0 & 0 & 0 & 0 & 0 & 0 &  9.6 & 1.8 &  0 & 6.2 & 0\\\\\n",
       "\t 1 & 1 & 1 &  8 & 0 & 0 &  -8.9 &   0 & 0 & 0 & 0 & 0 & 0 &  9.5 & 2.1 &  0 & 5.8 & 0\\\\\n",
       "\t 1 & 1 & 1 &  9 & 0 & 1 &  -0.5 &  19 & 1 & 1 & 1 & 1 & 0 &  9.5 & 2.8 & 11 & 6.5 & 1\\\\\n",
       "\t 1 & 1 & 1 & 10 & 0 & 9 &   6.8 & 166 & 7 & 9 & 6 & 6 & 0 &  9.5 & 3.3 & 92 & 6.8 & 5\\\\\n",
       "\\end{tabular}\n"
      ],
      "text/markdown": [
       "\n",
       "A data.frame: 10 × 18\n",
       "\n",
       "| m &lt;int&gt; | dm &lt;int&gt; | dy &lt;int&gt; | h &lt;int&gt; | mi &lt;int&gt; | G_Gh &lt;int&gt; | hs &lt;dbl&gt; | G_Gex &lt;int&gt; | G_Gh_hr &lt;int&gt; | G_Dh &lt;int&gt; | G_Gk &lt;int&gt; | G_Dk &lt;int&gt; | G_Bn &lt;int&gt; | Ta &lt;dbl&gt; | FF &lt;dbl&gt; | G_Gcs &lt;int&gt; | Td &lt;dbl&gt; | PVprod &lt;int&gt; |\n",
       "|---|---|---|---|---|---|---|---|---|---|---|---|---|---|---|---|---|---|\n",
       "| 1 | 1 | 1 |  1 | 0 | 0 | -63.6 |   0 | 0 | 0 | 0 | 0 | 0 |  9.1 | 1.9 |  0 | 7.9 | 0 |\n",
       "| 1 | 1 | 1 |  2 | 0 | 0 | -61.5 |   0 | 0 | 0 | 0 | 0 | 0 | 10.1 | 1.5 |  0 | 7.4 | 0 |\n",
       "| 1 | 1 | 1 |  3 | 0 | 0 | -55.3 |   0 | 0 | 0 | 0 | 0 | 0 | 10.0 | 1.4 |  0 | 7.1 | 0 |\n",
       "| 1 | 1 | 1 |  4 | 0 | 0 | -46.9 |   0 | 0 | 0 | 0 | 0 | 0 |  9.9 | 1.6 |  0 | 7.1 | 0 |\n",
       "| 1 | 1 | 1 |  5 | 0 | 0 | -37.5 |   0 | 0 | 0 | 0 | 0 | 0 |  9.8 | 1.7 |  0 | 6.6 | 0 |\n",
       "| 1 | 1 | 1 |  6 | 0 | 0 | -27.7 |   0 | 0 | 0 | 0 | 0 | 0 |  9.7 | 1.7 |  0 | 6.5 | 0 |\n",
       "| 1 | 1 | 1 |  7 | 0 | 0 | -18.1 |   0 | 0 | 0 | 0 | 0 | 0 |  9.6 | 1.8 |  0 | 6.2 | 0 |\n",
       "| 1 | 1 | 1 |  8 | 0 | 0 |  -8.9 |   0 | 0 | 0 | 0 | 0 | 0 |  9.5 | 2.1 |  0 | 5.8 | 0 |\n",
       "| 1 | 1 | 1 |  9 | 0 | 1 |  -0.5 |  19 | 1 | 1 | 1 | 1 | 0 |  9.5 | 2.8 | 11 | 6.5 | 1 |\n",
       "| 1 | 1 | 1 | 10 | 0 | 9 |   6.8 | 166 | 7 | 9 | 6 | 6 | 0 |  9.5 | 3.3 | 92 | 6.8 | 5 |\n",
       "\n"
      ],
      "text/plain": [
       "   m dm dy h  mi G_Gh hs    G_Gex G_Gh_hr G_Dh G_Gk G_Dk G_Bn Ta   FF  G_Gcs\n",
       "1  1 1  1   1 0  0    -63.6   0   0       0    0    0    0     9.1 1.9  0   \n",
       "2  1 1  1   2 0  0    -61.5   0   0       0    0    0    0    10.1 1.5  0   \n",
       "3  1 1  1   3 0  0    -55.3   0   0       0    0    0    0    10.0 1.4  0   \n",
       "4  1 1  1   4 0  0    -46.9   0   0       0    0    0    0     9.9 1.6  0   \n",
       "5  1 1  1   5 0  0    -37.5   0   0       0    0    0    0     9.8 1.7  0   \n",
       "6  1 1  1   6 0  0    -27.7   0   0       0    0    0    0     9.7 1.7  0   \n",
       "7  1 1  1   7 0  0    -18.1   0   0       0    0    0    0     9.6 1.8  0   \n",
       "8  1 1  1   8 0  0     -8.9   0   0       0    0    0    0     9.5 2.1  0   \n",
       "9  1 1  1   9 0  1     -0.5  19   1       1    1    1    0     9.5 2.8 11   \n",
       "10 1 1  1  10 0  9      6.8 166   7       9    6    6    0     9.5 3.3 92   \n",
       "   Td  PVprod\n",
       "1  7.9 0     \n",
       "2  7.4 0     \n",
       "3  7.1 0     \n",
       "4  7.1 0     \n",
       "5  6.6 0     \n",
       "6  6.5 0     \n",
       "7  6.2 0     \n",
       "8  5.8 0     \n",
       "9  6.5 1     \n",
       "10 6.8 5     "
      ]
     },
     "metadata": {},
     "output_type": "display_data"
    }
   ],
   "source": [
    "# Import the data into the R session\n",
    "#Saar_hour <- read.table(\"C:/Users/Daud/Desktop/01mainrepo/02prml/eeeic23/Saarbruecken-Saar-min.dat\", header = TRUE, sep = \"\\t\")\n",
    "#Irr_data <- read_csv(file = \"C:/Users/Daud/Google Drive/Phd Saarland/Paper by Dd/Phd_Themes/Res.2-Genration modeling (S-01.12.17)/Analysis of weather parameters/Saarbruecken-hour.csv\", sep = \";\")\n",
    "\n",
    "# View first few rows\n",
    "Saarbruecken %>% \n",
    "  slice_head(n = 10)"
   ]
  },
  {
   "cell_type": "code",
   "execution_count": 38,
   "id": "167402eb",
   "metadata": {
    "vscode": {
     "languageId": "r"
    }
   },
   "outputs": [
    {
     "name": "stdout",
     "output_type": "stream",
     "text": [
      "Rows: 8,760\n",
      "Columns: 18\n",
      "$ m       \u001b[3m\u001b[90m<int>\u001b[39m\u001b[23m 1, 1, 1, 1, 1, 1, 1, 1, 1, 1, 1, 1, 1, 1, 1, 1, 1, 1, 1, 1, 1,…\n",
      "$ dm      \u001b[3m\u001b[90m<int>\u001b[39m\u001b[23m 1, 1, 1, 1, 1, 1, 1, 1, 1, 1, 1, 1, 1, 1, 1, 1, 1, 1, 1, 1, 1,…\n",
      "$ dy      \u001b[3m\u001b[90m<int>\u001b[39m\u001b[23m 1, 1, 1, 1, 1, 1, 1, 1, 1, 1, 1, 1, 1, 1, 1, 1, 1, 1, 1, 1, 1,…\n",
      "$ h       \u001b[3m\u001b[90m<int>\u001b[39m\u001b[23m 1, 2, 3, 4, 5, 6, 7, 8, 9, 10, 11, 12, 13, 14, 15, 16, 17, 18,…\n",
      "$ mi      \u001b[3m\u001b[90m<int>\u001b[39m\u001b[23m 0, 0, 0, 0, 0, 0, 0, 0, 0, 0, 0, 0, 0, 0, 0, 0, 0, 0, 0, 0, 0,…\n",
      "$ G_Gh    \u001b[3m\u001b[90m<int>\u001b[39m\u001b[23m 0, 0, 0, 0, 0, 0, 0, 0, 1, 9, 15, 22, 26, 23, 18, 11, 2, 0, 0,…\n",
      "$ hs      \u001b[3m\u001b[90m<dbl>\u001b[39m\u001b[23m -63.6, -61.5, -55.3, -46.9, -37.5, -27.7, -18.1, -8.9, -0.5, 6…\n",
      "$ G_Gex   \u001b[3m\u001b[90m<int>\u001b[39m\u001b[23m 0, 0, 0, 0, 0, 0, 0, 0, 19, 166, 305, 394, 427, 403, 323, 192,…\n",
      "$ G_Gh_hr \u001b[3m\u001b[90m<int>\u001b[39m\u001b[23m 0, 0, 0, 0, 0, 0, 0, 0, 1, 7, 15, 21, 24, 21, 16, 9, 1, 0, 0, …\n",
      "$ G_Dh    \u001b[3m\u001b[90m<int>\u001b[39m\u001b[23m 0, 0, 0, 0, 0, 0, 0, 0, 1, 9, 15, 22, 26, 23, 18, 11, 2, 0, 0,…\n",
      "$ G_Gk    \u001b[3m\u001b[90m<int>\u001b[39m\u001b[23m 0, 0, 0, 0, 0, 0, 0, 0, 1, 6, 12, 19, 22, 20, 15, 8, 1, 0, 0, …\n",
      "$ G_Dk    \u001b[3m\u001b[90m<int>\u001b[39m\u001b[23m 0, 0, 0, 0, 0, 0, 0, 0, 1, 6, 12, 19, 22, 20, 15, 8, 1, 0, 0, …\n",
      "$ G_Bn    \u001b[3m\u001b[90m<int>\u001b[39m\u001b[23m 0, 0, 0, 0, 0, 0, 0, 0, 0, 0, 0, 0, 0, 0, 0, 0, 0, 0, 0, 0, 0,…\n",
      "$ Ta      \u001b[3m\u001b[90m<dbl>\u001b[39m\u001b[23m 9.1, 10.1, 10.0, 9.9, 9.8, 9.7, 9.6, 9.5, 9.5, 9.5, 9.4, 9.5, …\n",
      "$ FF      \u001b[3m\u001b[90m<dbl>\u001b[39m\u001b[23m 1.9, 1.5, 1.4, 1.6, 1.7, 1.7, 1.8, 2.1, 2.8, 3.3, 2.8, 2.9, 3.…\n",
      "$ G_Gcs   \u001b[3m\u001b[90m<int>\u001b[39m\u001b[23m 0, 0, 0, 0, 0, 0, 0, 0, 11, 92, 193, 265, 294, 273, 207, 109, …\n",
      "$ Td      \u001b[3m\u001b[90m<dbl>\u001b[39m\u001b[23m 7.9, 7.4, 7.1, 7.1, 6.6, 6.5, 6.2, 5.8, 6.5, 6.8, 6.7, 6.7, 6.…\n",
      "$ PV      \u001b[3m\u001b[90m<int>\u001b[39m\u001b[23m 0, 0, 0, 0, 0, 0, 0, 0, 1, 5, 11, 17, 19, 17, 13, 7, 1, 0, 0, …\n"
     ]
    }
   ],
   "source": [
    "library(dplyr)\n",
    "Saar_hour <- Saarbruecken %>% rename(PV = PVprod)\n",
    "# Take a quick glance at the data\n",
    "glimpse(Saar_hour)"
   ]
  },
  {
   "cell_type": "code",
   "execution_count": 6,
   "id": "e4d3d684",
   "metadata": {
    "vscode": {
     "languageId": "r"
    }
   },
   "outputs": [],
   "source": [
    "# Create a data frame of categorical features & label\n",
    "categorical_features <- Saar_hour %>% \n",
    "  select(c(m, dm, dy, h, mi, PV))\n",
    "\n",
    "# Pivot data to a long format\n",
    "categorical_features <- categorical_features %>% \n",
    "  pivot_longer(!PV, names_to = \"features\", values_to = \"values\") %>%\n",
    "  group_by(features) %>% \n",
    "  mutate(values = factor(values))\n"
   ]
  },
  {
   "cell_type": "code",
   "execution_count": 7,
   "id": "a26cd3b0",
   "metadata": {
    "vscode": {
     "languageId": "r"
    }
   },
   "outputs": [
    {
     "data": {
      "image/png": "[encoded data removed]",
      "text/plain": [
       "plot without title"
      ]
     },
     "metadata": {
      "image/png": {
       "height": 420,
       "width": 420
      }
     },
     "output_type": "display_data"
    }
   ],
   "source": [
    "# Plot a box plot for each feature\n",
    "categorical_featumatlabres %>%\n",
    "  ggplot() +\n",
    "  geom_boxplot(aes(x = values, y = PV, fill = features), alpha = 0.9, show.legend = F) +\n",
    "  facet_wrap(~ features, scales = 'free') +\n",
    "  paletteer::scale_fill_paletteer_d(\"tvthemes::simpsons\")+\n",
    "  theme(\n",
    "    panel.grid = element_blank(),\n",
    "    axis.text.x = element_text(angle = 90))+\n",
    "  theme(legend.position = c(0.9, 0.9), legend.background = element_blank(),\n",
    "      plot.title = element_text(color=\"red\", size=15, face=\"bold.italic\"),\n",
    "      axis.title.x = element_text(color=\"black\", size=15, face=\"bold\"),\n",
    "      axis.text.x = element_text(face=\"bold\", color=\"black\", size=9, angle = 60),\n",
    "      axis.title.y = element_text(color=\"black\", size=15, face=\"bold\"),\n",
    "      axis.text.y = element_text(face=\"bold\", color=\"black\", size=14),\n",
    "      axis.line = element_line(colour = \"darkblue\", size = 1,\n",
    "                               linetype = \"solid\"))\n",
    "\n",
    "setwd(\"C:/Users/Daud/Google Drive/Phd Saarland/Paper by Dd/Phd_Themes/Res.2-Genration modeling (S-01.12.17)/Analysis of weather parameters/T1_RE_P2_Analysis_of_Solar_radiations-Saarbrucken_jan2018_files/New/\")\n",
    "#ggsave(\"./Pre.png\",Final_m_plt)\n",
    "ggsave(filename = \"PV_cat_dis.png\", width=15, height=5)\n",
    "#plt.plot"
   ]
  },
  {
   "cell_type": "code",
   "execution_count": 39,
   "id": "afe2b398",
   "metadata": {
    "vscode": {
     "languageId": "r"
    }
   },
   "outputs": [],
   "source": [
    "# Create a data frame of numeric features & label\n",
    "numeric_features <- Saar_hour %>% \n",
    "  select(c(G_Gk, Ta, PV))"
   ]
  },
  {
   "cell_type": "code",
   "execution_count": 40,
   "id": "2a60455a",
   "metadata": {
    "vscode": {
     "languageId": "r"
    }
   },
   "outputs": [
    {
     "data": {
      "image/png": "[encoded data removed]",
      "text/plain": [
       "Plot with title \"\""
      ]
     },
     "metadata": {
      "image/png": {
       "height": 420,
       "width": 420
      }
     },
     "output_type": "display_data"
    }
   ],
   "source": [
    "library(corrplot)\n",
    "\n",
    "#Corr_Saar <- numeric_features %>% \n",
    "\n",
    "corrplot(cor(numeric_features), type = \"upper\", order = \"hclust\", \n",
    "         tl.col = \"black\", tl.srt = 45 # show only upper side\n",
    ")"
   ]
  },
  {
   "cell_type": "code",
   "execution_count": 41,
   "id": "4c980d20",
   "metadata": {
    "vscode": {
     "languageId": "r"
    }
   },
   "outputs": [
    {
     "name": "stdout",
     "output_type": "stream",
     "text": [
      "Rows: 8,760\n",
      "Columns: 3\n",
      "$ G_Gk \u001b[3m\u001b[90m<int>\u001b[39m\u001b[23m 0, 0, 0, 0, 0, 0, 0, 0, 1, 6, 12, 19, 22, 20, 15, 8, 1, 0, 0, 0, …\n",
      "$ Ta   \u001b[3m\u001b[90m<dbl>\u001b[39m\u001b[23m 9.1, 10.1, 10.0, 9.9, 9.8, 9.7, 9.6, 9.5, 9.5, 9.5, 9.4, 9.5, 9.5…\n",
      "$ PV   \u001b[3m\u001b[90m<int>\u001b[39m\u001b[23m 0, 0, 0, 0, 0, 0, 0, 0, 1, 5, 11, 17, 19, 17, 13, 7, 1, 0, 0, 0, …\n"
     ]
    }
   ],
   "source": [
    "# Select desired features and labels\n",
    "\n",
    "Saar_select <- Saar_hour %>% \n",
    "  select(c(G_Gk, Ta, PV))\n",
    "\n",
    "#Saar_select <- Saar_hour %>% \n",
    "  #select(c(m, h, G_Gh, hs, G_Gex, G_Gh_hr, G_Dh, G_Gk, G_Dk, G_Bn, Ta, FF, G_Gcs, Td, PV)) %>% \n",
    " # select(c(G_Gk, Ta, PV)) %>% \n",
    "  # Encode certain features as categorical\n",
    "  #mutate(across(1:2, factor))\n",
    "\n",
    "# Get a glimpse of your data\n",
    "glimpse(Saar_select)"
   ]
  },
  {
   "cell_type": "code",
   "execution_count": 42,
   "id": "ffc337e9",
   "metadata": {
    "vscode": {
     "languageId": "r"
    }
   },
   "outputs": [
    {
     "name": "stdout",
     "output_type": "stream",
     "text": [
      "Training Set 6132 rows \n",
      "Test Set 2628 rows"
     ]
    }
   ],
   "source": [
    "# Split 70% of the data for training and the rest for testing\n",
    "set.seed(2056)\n",
    "Saar_split <- Saar_select %>% \n",
    "  initial_split(prop = 0.7,\n",
    "  # splitting data evenly on the holiday variable\n",
    "                pool = 0.1)\n",
    "\n",
    "# Extract the data in each split\n",
    "Saar_train <- training(Saar_split)\n",
    "Saar_test <- testing(Saar_split)\n",
    "\n",
    "\n",
    "cat(\"Training Set\", nrow(Saar_train), \"rows\",\n",
    "    \"\\nTest Set\", nrow(Saar_test), \"rows\")\n"
   ]
  },
  {
   "cell_type": "code",
   "execution_count": 15,
   "id": "513c6d40",
   "metadata": {
    "vscode": {
     "languageId": "r"
    }
   },
   "outputs": [
    {
     "data": {
      "text/html": [
       "<table class=\"dataframe\">\n",
       "<caption>A matrix: 2 × 6 of type dbl</caption>\n",
       "<thead>\n",
       "\t<tr><th></th><th scope=col>used</th><th scope=col>(Mb)</th><th scope=col>gc trigger</th><th scope=col>(Mb)</th><th scope=col>max used</th><th scope=col>(Mb)</th></tr>\n",
       "</thead>\n",
       "<tbody>\n",
       "\t<tr><th scope=row>Ncells</th><td> 2707870</td><td>144.7</td><td> 4353834</td><td>232.6</td><td> 4353834</td><td>232.6</td></tr>\n",
       "\t<tr><th scope=row>Vcells</th><td>11786052</td><td> 90.0</td><td>17905769</td><td>136.7</td><td>14563592</td><td>111.2</td></tr>\n",
       "</tbody>\n",
       "</table>\n"
      ],
      "text/latex": [
       "A matrix: 2 × 6 of type dbl\n",
       "\\begin{tabular}{r|llllll}\n",
       "  & used & (Mb) & gc trigger & (Mb) & max used & (Mb)\\\\\n",
       "\\hline\n",
       "\tNcells &  2707870 & 144.7 &  4353834 & 232.6 &  4353834 & 232.6\\\\\n",
       "\tVcells & 11786052 &  90.0 & 17905769 & 136.7 & 14563592 & 111.2\\\\\n",
       "\\end{tabular}\n"
      ],
      "text/markdown": [
       "\n",
       "A matrix: 2 × 6 of type dbl\n",
       "\n",
       "| <!--/--> | used | (Mb) | gc trigger | (Mb) | max used | (Mb) |\n",
       "|---|---|---|---|---|---|---|\n",
       "| Ncells |  2707870 | 144.7 |  4353834 | 232.6 |  4353834 | 232.6 |\n",
       "| Vcells | 11786052 |  90.0 | 17905769 | 136.7 | 14563592 | 111.2 |\n",
       "\n"
      ],
      "text/plain": [
       "       used     (Mb)  gc trigger (Mb)  max used (Mb) \n",
       "Ncells  2707870 144.7  4353834   232.6  4353834 232.6\n",
       "Vcells 11786052  90.0 17905769   136.7 14563592 111.2"
      ]
     },
     "metadata": {},
     "output_type": "display_data"
    },
    {
     "data": {
      "text/html": [
       "FALSE"
      ],
      "text/latex": [
       "FALSE"
      ],
      "text/markdown": [
       "FALSE"
      ],
      "text/plain": [
       "[1] FALSE"
      ]
     },
     "metadata": {},
     "output_type": "display_data"
    }
   ],
   "source": [
    "gc() #This will free up unused RAM\n",
    "gcinfo(TRUE)"
   ]
  },
  {
   "cell_type": "code",
   "execution_count": 43,
   "id": "1096460b",
   "metadata": {
    "vscode": {
     "languageId": "r"
    }
   },
   "outputs": [],
   "source": [
    "# Build a linear model specification\n",
    "lm_spec <- \n",
    "  # Type\n",
    "  linear_reg() %>% \n",
    "  # Engine\n",
    "  set_engine(\"lm\") %>% \n",
    "  # Mode\n",
    "  set_mode(\"regression\")"
   ]
  },
  {
   "cell_type": "code",
   "execution_count": 44,
   "id": "37146eda",
   "metadata": {
    "vscode": {
     "languageId": "r"
    }
   },
   "outputs": [
    {
     "data": {
      "text/plain": [
       "parsnip model object\n",
       "\n",
       "\n",
       "Call:\n",
       "stats::lm(formula = PV ~ ., data = data)\n",
       "\n",
       "Coefficients:\n",
       "(Intercept)         G_Gk           Ta  \n",
       "     7.0978       0.8044      -0.5579  \n"
      ]
     },
     "metadata": {},
     "output_type": "display_data"
    }
   ],
   "source": [
    "# Train a linear regression model\n",
    "lm_mod <- lm_spec %>% \n",
    "  fit(PV ~ ., data = Saar_train)\n",
    "\n",
    "# Print the model object\n",
    "lm_mod\n"
   ]
  },
  {
   "cell_type": "code",
   "execution_count": 45,
   "id": "0cb671b8",
   "metadata": {
    "vscode": {
     "languageId": "r"
    }
   },
   "outputs": [
    {
     "data": {
      "text/html": [
       "<table class=\"dataframe\">\n",
       "<caption>A tibble: 5 × 1</caption>\n",
       "<thead>\n",
       "\t<tr><th scope=col>.pred</th></tr>\n",
       "\t<tr><th scope=col>&lt;dbl&gt;</th></tr>\n",
       "</thead>\n",
       "<tbody>\n",
       "\t<tr><td>2.020942</td></tr>\n",
       "\t<tr><td>1.463044</td></tr>\n",
       "\t<tr><td>1.518834</td></tr>\n",
       "\t<tr><td>1.630413</td></tr>\n",
       "\t<tr><td>1.797783</td></tr>\n",
       "</tbody>\n",
       "</table>\n"
      ],
      "text/latex": [
       "A tibble: 5 × 1\n",
       "\\begin{tabular}{l}\n",
       " .pred\\\\\n",
       " <dbl>\\\\\n",
       "\\hline\n",
       "\t 2.020942\\\\\n",
       "\t 1.463044\\\\\n",
       "\t 1.518834\\\\\n",
       "\t 1.630413\\\\\n",
       "\t 1.797783\\\\\n",
       "\\end{tabular}\n"
      ],
      "text/markdown": [
       "\n",
       "A tibble: 5 × 1\n",
       "\n",
       "| .pred &lt;dbl&gt; |\n",
       "|---|\n",
       "| 2.020942 |\n",
       "| 1.463044 |\n",
       "| 1.518834 |\n",
       "| 1.630413 |\n",
       "| 1.797783 |\n",
       "\n"
      ],
      "text/plain": [
       "  .pred   \n",
       "1 2.020942\n",
       "2 1.463044\n",
       "3 1.518834\n",
       "4 1.630413\n",
       "5 1.797783"
      ]
     },
     "metadata": {},
     "output_type": "display_data"
    }
   ],
   "source": [
    "# Make predictions on test set\n",
    "pred <- lm_mod %>% \n",
    "  predict(new_data = Saar_test)\n",
    "\n",
    "# View predictions\n",
    "pred %>% \n",
    "  slice_head(n = 5)"
   ]
  },
  {
   "cell_type": "code",
   "execution_count": 46,
   "id": "8ae34e95",
   "metadata": {
    "vscode": {
     "languageId": "r"
    }
   },
   "outputs": [
    {
     "data": {
      "text/html": [
       "<table class=\"dataframe\">\n",
       "<caption>A data.frame: 10 × 2</caption>\n",
       "<thead>\n",
       "\t<tr><th scope=col>PV</th><th scope=col>predictions</th></tr>\n",
       "\t<tr><th scope=col>&lt;int&gt;</th><th scope=col>&lt;dbl&gt;</th></tr>\n",
       "</thead>\n",
       "<tbody>\n",
       "\t<tr><td> 0</td><td> 2.020942</td></tr>\n",
       "\t<tr><td> 0</td><td> 1.463044</td></tr>\n",
       "\t<tr><td> 0</td><td> 1.518834</td></tr>\n",
       "\t<tr><td> 0</td><td> 1.630413</td></tr>\n",
       "\t<tr><td> 0</td><td> 1.797783</td></tr>\n",
       "\t<tr><td> 5</td><td> 6.624165</td></tr>\n",
       "\t<tr><td>11</td><td>11.506338</td></tr>\n",
       "\t<tr><td>19</td><td>19.494519</td></tr>\n",
       "\t<tr><td>17</td><td>17.885725</td></tr>\n",
       "\t<tr><td> 0</td><td> 2.188311</td></tr>\n",
       "</tbody>\n",
       "</table>\n"
      ],
      "text/latex": [
       "A data.frame: 10 × 2\n",
       "\\begin{tabular}{ll}\n",
       " PV & predictions\\\\\n",
       " <int> & <dbl>\\\\\n",
       "\\hline\n",
       "\t  0 &  2.020942\\\\\n",
       "\t  0 &  1.463044\\\\\n",
       "\t  0 &  1.518834\\\\\n",
       "\t  0 &  1.630413\\\\\n",
       "\t  0 &  1.797783\\\\\n",
       "\t  5 &  6.624165\\\\\n",
       "\t 11 & 11.506338\\\\\n",
       "\t 19 & 19.494519\\\\\n",
       "\t 17 & 17.885725\\\\\n",
       "\t  0 &  2.188311\\\\\n",
       "\\end{tabular}\n"
      ],
      "text/markdown": [
       "\n",
       "A data.frame: 10 × 2\n",
       "\n",
       "| PV &lt;int&gt; | predictions &lt;dbl&gt; |\n",
       "|---|---|\n",
       "|  0 |  2.020942 |\n",
       "|  0 |  1.463044 |\n",
       "|  0 |  1.518834 |\n",
       "|  0 |  1.630413 |\n",
       "|  0 |  1.797783 |\n",
       "|  5 |  6.624165 |\n",
       "| 11 | 11.506338 |\n",
       "| 19 | 19.494519 |\n",
       "| 17 | 17.885725 |\n",
       "|  0 |  2.188311 |\n",
       "\n"
      ],
      "text/plain": [
       "   PV predictions\n",
       "1   0  2.020942  \n",
       "2   0  1.463044  \n",
       "3   0  1.518834  \n",
       "4   0  1.630413  \n",
       "5   0  1.797783  \n",
       "6   5  6.624165  \n",
       "7  11 11.506338  \n",
       "8  19 19.494519  \n",
       "9  17 17.885725  \n",
       "10  0  2.188311  "
      ]
     },
     "metadata": {},
     "output_type": "display_data"
    }
   ],
   "source": [
    "# Predict rentals for the test set and bind it to the test_set\n",
    "results <- Saar_test %>% \n",
    "  bind_cols(lm_mod %>% \n",
    "    # Predict rentals\n",
    "    predict(new_data = Saar_test) %>% \n",
    "      rename(predictions = .pred))\n",
    "\n",
    "# Compare predictions\n",
    "results %>% \n",
    "  select(c(PV, predictions)) %>% \n",
    "  slice_head(n = 10)\n"
   ]
  },
  {
   "cell_type": "code",
   "execution_count": 47,
   "id": "545c2ba0",
   "metadata": {
    "vscode": {
     "languageId": "r"
    }
   },
   "outputs": [
    {
     "name": "stderr",
     "output_type": "stream",
     "text": [
      "`geom_smooth()` using formula 'y ~ x'\n",
      "\n"
     ]
    },
    {
     "data": {
      "image/png": "[encoded data removed]",
      "text/plain": [
       "plot without title"
      ]
     },
     "metadata": {
      "image/png": {
       "height": 420,
       "width": 420
      }
     },
     "output_type": "display_data"
    }
   ],
   "source": [
    "# Visualise the results\n",
    "results %>% \n",
    "  ggplot(mapping = aes(x = PV, y = predictions)) +\n",
    "  geom_point(size = 1.6, color = \"steelblue\") +\n",
    "  # Overlay a regression line\n",
    "  geom_smooth(method = \"lm\", se = F, color = 'magenta') +\n",
    "  ggtitle(\"Linear Regression Model\") +\n",
    "  xlab(\"Actual PV\") +\n",
    "  ylab(\"Predicted PV\") +\n",
    "  theme(plot.title = element_text(hjust = 0.5))+\n",
    "  theme(legend.position = c(0.9, 0.9), legend.background = element_blank(),\n",
    "      plot.title = element_text(color=\"black\", size=15, face=\"bold.italic\"),\n",
    "      axis.title.x = element_text(color=\"black\", size=15, face=\"bold\"),\n",
    "      axis.text.x = element_text(face=\"bold\", color=\"black\", size=14, angle = 0),\n",
    "      axis.title.y = element_text(color=\"black\", size=15, face=\"bold\"),\n",
    "      axis.text.y = element_text(face=\"bold\", color=\"black\", size=14),\n",
    "      axis.line = element_line(colour = \"darkblue\", size = 1,\n",
    "                               linetype = \"solid\"))\n"
   ]
  },
  {
   "cell_type": "code",
   "execution_count": 48,
   "id": "c6eb8710",
   "metadata": {
    "vscode": {
     "languageId": "r"
    }
   },
   "outputs": [
    {
     "data": {
      "text/html": [
       "<table class=\"dataframe\">\n",
       "<caption>A tibble: 4 × 3</caption>\n",
       "<thead>\n",
       "\t<tr><th scope=col>.metric</th><th scope=col>.estimator</th><th scope=col>.estimate</th></tr>\n",
       "\t<tr><th scope=col>&lt;chr&gt;</th><th scope=col>&lt;chr&gt;</th><th scope=col>&lt;dbl&gt;</th></tr>\n",
       "</thead>\n",
       "<tbody>\n",
       "\t<tr><td>rmse</td><td>standard</td><td>11.4207646</td></tr>\n",
       "\t<tr><td>rsq </td><td>standard</td><td> 0.9967547</td></tr>\n",
       "\t<tr><td>mae </td><td>standard</td><td> 7.1886004</td></tr>\n",
       "\t<tr><td>ccc </td><td>standard</td><td> 0.9983746</td></tr>\n",
       "</tbody>\n",
       "</table>\n"
      ],
      "text/latex": [
       "A tibble: 4 × 3\n",
       "\\begin{tabular}{lll}\n",
       " .metric & .estimator & .estimate\\\\\n",
       " <chr> & <chr> & <dbl>\\\\\n",
       "\\hline\n",
       "\t rmse & standard & 11.4207646\\\\\n",
       "\t rsq  & standard &  0.9967547\\\\\n",
       "\t mae  & standard &  7.1886004\\\\\n",
       "\t ccc  & standard &  0.9983746\\\\\n",
       "\\end{tabular}\n"
      ],
      "text/markdown": [
       "\n",
       "A tibble: 4 × 3\n",
       "\n",
       "| .metric &lt;chr&gt; | .estimator &lt;chr&gt; | .estimate &lt;dbl&gt; |\n",
       "|---|---|---|\n",
       "| rmse | standard | 11.4207646 |\n",
       "| rsq  | standard |  0.9967547 |\n",
       "| mae  | standard |  7.1886004 |\n",
       "| ccc  | standard |  0.9983746 |\n",
       "\n"
      ],
      "text/plain": [
       "  .metric .estimator .estimate \n",
       "1 rmse    standard   11.4207646\n",
       "2 rsq     standard    0.9967547\n",
       "3 mae     standard    7.1886004\n",
       "4 ccc     standard    0.9983746"
      ]
     },
     "metadata": {},
     "output_type": "display_data"
    }
   ],
   "source": [
    "# Multiple regression metrics\n",
    "eval_metrics <- metric_set(rmse, rsq, mae, ccc)\n",
    "\n",
    "# Evaluate RMSE, R2 based on the results\n",
    "eval_metrics(data = results,\n",
    "             truth = PV,\n",
    "             estimate = predictions)\n"
   ]
  },
  {
   "cell_type": "code",
   "execution_count": 49,
   "id": "ddbb622e",
   "metadata": {
    "vscode": {
     "languageId": "r"
    }
   },
   "outputs": [
    {
     "name": "stderr",
     "output_type": "stream",
     "text": [
      "`geom_smooth()` using formula 'y ~ x'\n",
      "\n"
     ]
    },
    {
     "data": {
      "text/plain": [
       "[[1]]\n",
       "\u001b[90m# A tibble: 4 × 3\u001b[39m\n",
       "  .metric .estimator .estimate\n",
       "  \u001b[3m\u001b[90m<chr>\u001b[39m\u001b[23m   \u001b[3m\u001b[90m<chr>\u001b[39m\u001b[23m          \u001b[3m\u001b[90m<dbl>\u001b[39m\u001b[23m\n",
       "\u001b[90m1\u001b[39m rmse    standard      11.6  \n",
       "\u001b[90m2\u001b[39m rsq     standard       0.997\n",
       "\u001b[90m3\u001b[39m mae     standard       6.98 \n",
       "\u001b[90m4\u001b[39m ccc     standard       0.998\n",
       "\n",
       "[[2]]\n"
      ]
     },
     "metadata": {},
     "output_type": "display_data"
    },
    {
     "data": {
      "image/png": "[encoded data removed]",
      "text/plain": [
       "plot without title"
      ]
     },
     "metadata": {
      "image/png": {
       "height": 420,
       "width": 420
      }
     },
     "output_type": "display_data"
    }
   ],
   "source": [
    "# Build a lasso model specification\n",
    "lasso_spec <- linear_reg(\n",
    "  engine = \"glmnet\",\n",
    "  mode = \"regression\",\n",
    "  penalty = 1,\n",
    "  mixture = 1)\n",
    "\n",
    "# Train a lasso regression model\n",
    "lasso_mod <- lasso_spec %>% \n",
    "  fit(PV ~ ., data = Saar_train)\n",
    "\n",
    "# Make predictions for test data\n",
    "results_lasso <- Saar_test %>% \n",
    "  bind_cols(lasso_mod %>% predict(new_data = Saar_test) %>% \n",
    "              rename(predictions = .pred))\n",
    "\n",
    "# Multiple regression metrics\n",
    "eval_metrics <- metric_set(rmse, rsq, mae, ccc)\n",
    "\n",
    "# Evaluate the model\n",
    "lasso_metrics <- eval_metrics(data = results_lasso,\n",
    "                                    truth = PV,\n",
    "                                    estimate = predictions) \n",
    "\n",
    "\n",
    "# Plot predicted vs actual\n",
    "theme_set(theme_light())\n",
    "lasso_plt <- results_lasso %>% \n",
    "  ggplot(mapping = aes(x = PV, y = predictions)) +\n",
    "  geom_point(size = 1.6, color = 'darkorchid') +\n",
    "  # overlay regression line\n",
    "  geom_smooth(method = 'lm', color = 'black', se = F) +\n",
    "  ggtitle(\"Lasso Regression Model\") +\n",
    "  xlab(\"Actual PV\") +\n",
    "  ylab(\"Predicted PV\") +\n",
    "  theme(plot.title = element_text(hjust = 0.5))+\n",
    "  theme(legend.position = c(0.9, 0.9), legend.background = element_blank(),\n",
    "      plot.title = element_text(color=\"black\", size=15, face=\"bold.italic\"),\n",
    "      axis.title.x = element_text(color=\"black\", size=15, face=\"bold\"),\n",
    "      axis.text.x = element_text(face=\"bold\", color=\"black\", size=14, angle = 0),\n",
    "      axis.title.y = element_text(color=\"black\", size=15, face=\"bold\"),\n",
    "      axis.text.y = element_text(face=\"bold\", color=\"black\", size=14),\n",
    "      axis.line = element_line(colour = \"darkblue\", size = 1,\n",
    "                               linetype = \"solid\"))\n",
    "\n",
    "# Return evaluations\n",
    "list(lasso_metrics, lasso_plt)\n",
    "  "
   ]
  },
  {
   "cell_type": "code",
   "execution_count": 50,
   "id": "0326c25f",
   "metadata": {
    "vscode": {
     "languageId": "r"
    }
   },
   "outputs": [
    {
     "data": {
      "text/plain": [
       "parsnip model object\n",
       "\n",
       "n= 6132 \n",
       "\n",
       "node), split, n, deviance, yval\n",
       "      * denotes terminal node\n",
       "\n",
       " 1) root 6132 241220200.0 123.82520  \n",
       "   2) G_Gk< 301.5 4860  19033070.0  33.07058  \n",
       "     4) G_Gk< 95.5 4043   1209817.0   7.50136 *\n",
       "     5) G_Gk>=95.5 817   2099624.0 159.60220 *\n",
       "   3) G_Gk>=301.5 1272  29217610.0 470.57630  \n",
       "     6) G_Gk< 598.5 735   3433336.0 358.44760  \n",
       "      12) G_Gk< 434.5 376    448516.9 301.88300 *\n",
       "      13) G_Gk>=434.5 359    521782.7 417.69080 *\n",
       "     7) G_Gk>=598.5 537   3894903.0 624.04840  \n",
       "      14) G_Gk< 784.5 275    549605.1 555.23270 *\n",
       "      15) G_Gk>=784.5 262    676100.7 696.27860 *"
      ]
     },
     "metadata": {},
     "output_type": "display_data"
    }
   ],
   "source": [
    "# Build a decision tree specification\n",
    "tree_spec <- decision_tree(\n",
    "  engine = \"rpart\",\n",
    "  mode = \"regression\")\n",
    "\n",
    "# Train a decision tree model \n",
    "tree_mod <- tree_spec %>% \n",
    "  fit(PV ~ ., data = Saar_train)\n",
    "\n",
    "# Print model\n",
    "tree_mod\n",
    "\n",
    "# Make and bind predictions to test data a\n",
    "results_DT <- tree_mod %>% \n",
    "  augment(new_data = Saar_test) %>% \n",
    "  rename(predictions = .pred)"
   ]
  },
  {
   "cell_type": "code",
   "execution_count": 51,
   "id": "ee6fef26",
   "metadata": {
    "vscode": {
     "languageId": "r"
    }
   },
   "outputs": [
    {
     "name": "stderr",
     "output_type": "stream",
     "text": [
      "`geom_smooth()` using formula 'y ~ x'\n",
      "\n"
     ]
    },
    {
     "data": {
      "text/plain": [
       "[[1]]\n",
       "\u001b[90m# A tibble: 4 × 3\u001b[39m\n",
       "  .metric .estimator .estimate\n",
       "  \u001b[3m\u001b[90m<chr>\u001b[39m\u001b[23m   \u001b[3m\u001b[90m<chr>\u001b[39m\u001b[23m          \u001b[3m\u001b[90m<dbl>\u001b[39m\u001b[23m\n",
       "\u001b[90m1\u001b[39m rmse    standard      30.0  \n",
       "\u001b[90m2\u001b[39m rsq     standard       0.978\n",
       "\u001b[90m3\u001b[39m mae     standard      20.6  \n",
       "\u001b[90m4\u001b[39m ccc     standard       0.989\n",
       "\n",
       "[[2]]\n"
      ]
     },
     "metadata": {},
     "output_type": "display_data"
    },
    {
     "data": {
      "image/png": "[encoded data removed]",
      "text/plain": [
       "plot without title"
      ]
     },
     "metadata": {
      "image/png": {
       "height": 420,
       "width": 420
      }
     },
     "output_type": "display_data"
    }
   ],
   "source": [
    "# Multiple regression metrics\n",
    "eval_metrics <- metric_set(rmse, rsq, mae, ccc)\n",
    "\n",
    "# Evaluate the model\n",
    "tree_metrics <- eval_metrics(data = results_DT,\n",
    "                                  truth = PV,\n",
    "                                  estimate = predictions)\n",
    "\n",
    "# Plot predicted vs actual\n",
    "tree_plt <- results_DT %>% \n",
    "  ggplot(mapping = aes(x = PV, y = predictions)) +\n",
    "  geom_point(color = 'tomato') +\n",
    "  # overlay regression line\n",
    "  geom_smooth(method = 'lm', color = 'steelblue', se = F) +\n",
    "  ggtitle(\"Decision Tree Model\") +\n",
    "  xlab(\"Actual PV\") +\n",
    "  ylab(\"Predicted PV\") +\n",
    "  theme(plot.title = element_text(hjust = 0.5))+\n",
    "  theme(legend.position = c(0.9, 0.9), legend.background = element_blank(),\n",
    "      plot.title = element_text(color=\"black\", size=15, face=\"bold.italic\"),\n",
    "      axis.title.x = element_text(color=\"black\", size=15, face=\"bold\"),\n",
    "      axis.text.x = element_text(face=\"bold\", color=\"black\", size=14, angle = 0),\n",
    "      axis.title.y = element_text(color=\"black\", size=15, face=\"bold\"),\n",
    "      axis.text.y = element_text(face=\"bold\", color=\"black\", size=14),\n",
    "      axis.line = element_line(colour = \"darkblue\", size = 1,\n",
    "                               linetype = \"solid\"))\n",
    "# Return evaluations\n",
    "list(tree_metrics, tree_plt)"
   ]
  },
  {
   "cell_type": "code",
   "execution_count": 18,
   "id": "159889e2",
   "metadata": {
    "vscode": {
     "languageId": "r"
    }
   },
   "outputs": [
    {
     "data": {
      "text/html": [
       "<table class=\"dataframe\">\n",
       "<caption>A matrix: 2 × 6 of type dbl</caption>\n",
       "<thead>\n",
       "\t<tr><th></th><th scope=col>used</th><th scope=col>(Mb)</th><th scope=col>gc trigger</th><th scope=col>(Mb)</th><th scope=col>max used</th><th scope=col>(Mb)</th></tr>\n",
       "</thead>\n",
       "<tbody>\n",
       "\t<tr><th scope=row>Ncells</th><td> 3061824</td><td>163.6</td><td> 5796114</td><td>309.6</td><td> 5796114</td><td>309.6</td></tr>\n",
       "\t<tr><th scope=row>Vcells</th><td>34029320</td><td>259.7</td><td>95418820</td><td>728.0</td><td>95407379</td><td>728.0</td></tr>\n",
       "</tbody>\n",
       "</table>\n"
      ],
      "text/latex": [
       "A matrix: 2 × 6 of type dbl\n",
       "\\begin{tabular}{r|llllll}\n",
       "  & used & (Mb) & gc trigger & (Mb) & max used & (Mb)\\\\\n",
       "\\hline\n",
       "\tNcells &  3061824 & 163.6 &  5796114 & 309.6 &  5796114 & 309.6\\\\\n",
       "\tVcells & 34029320 & 259.7 & 95418820 & 728.0 & 95407379 & 728.0\\\\\n",
       "\\end{tabular}\n"
      ],
      "text/markdown": [
       "\n",
       "A matrix: 2 × 6 of type dbl\n",
       "\n",
       "| <!--/--> | used | (Mb) | gc trigger | (Mb) | max used | (Mb) |\n",
       "|---|---|---|---|---|---|---|\n",
       "| Ncells |  3061824 | 163.6 |  5796114 | 309.6 |  5796114 | 309.6 |\n",
       "| Vcells | 34029320 | 259.7 | 95418820 | 728.0 | 95407379 | 728.0 |\n",
       "\n"
      ],
      "text/plain": [
       "       used     (Mb)  gc trigger (Mb)  max used (Mb) \n",
       "Ncells  3061824 163.6  5796114   309.6  5796114 309.6\n",
       "Vcells 34029320 259.7 95418820   728.0 95407379 728.0"
      ]
     },
     "metadata": {},
     "output_type": "display_data"
    }
   ],
   "source": [
    "gc()"
   ]
  },
  {
   "cell_type": "code",
   "execution_count": 52,
   "id": "822be63d",
   "metadata": {
    "vscode": {
     "languageId": "r"
    }
   },
   "outputs": [
    {
     "data": {
      "text/plain": [
       "parsnip model object\n",
       "\n",
       "\n",
       "Call:\n",
       " randomForest(x = maybe_data_frame(x), y = y) \n",
       "               Type of random forest: regression\n",
       "                     Number of trees: 500\n",
       "No. of variables tried at each split: 1\n",
       "\n",
       "          Mean of squared residuals: 28.42079\n",
       "                    % Var explained: 99.93"
      ]
     },
     "metadata": {},
     "output_type": "display_data"
    }
   ],
   "source": [
    "# For reproducibility\n",
    "#set.seed(2056)\n",
    "\n",
    "# Build a random forest model specification\n",
    "rf_spec <- rand_forest() %>% \n",
    "  set_engine('randomForest') %>% \n",
    "  set_mode('regression')\n",
    "\n",
    "# Train a random forest model \n",
    "rf_mod <- rf_spec %>% \n",
    "  fit(PV ~ ., data = Saar_train)\n",
    "\n",
    "# Print model\n",
    "rf_mod"
   ]
  },
  {
   "cell_type": "code",
   "execution_count": 53,
   "id": "6f3f00b6",
   "metadata": {
    "vscode": {
     "languageId": "r"
    }
   },
   "outputs": [],
   "source": [
    "\n",
    "# Make and bind predictions to test data a\n",
    "results_RF <- rf_mod %>% \n",
    "  augment(new_data = Saar_test) %>% \n",
    "  rename(predictions = .pred)\n",
    "\n",
    "\n",
    "# Multiple regression metrics\n",
    "eval_metrics <- metric_set(rmse, rsq, mae, ccc)\n",
    "\n",
    "\n",
    "# Evaluate the model\n",
    "rf_metrics <- eval_metrics(data = results_RF,\n",
    "                                  truth = PV,\n",
    "                                  estimate = predictions)\n",
    "\n"
   ]
  },
  {
   "cell_type": "code",
   "execution_count": 54,
   "id": "6270270e",
   "metadata": {
    "vscode": {
     "languageId": "r"
    }
   },
   "outputs": [
    {
     "name": "stderr",
     "output_type": "stream",
     "text": [
      "`geom_smooth()` using formula 'y ~ x'\n",
      "\n"
     ]
    },
    {
     "data": {
      "text/plain": [
       "[[1]]\n",
       "\u001b[90m# A tibble: 4 × 3\u001b[39m\n",
       "  .metric .estimator .estimate\n",
       "  \u001b[3m\u001b[90m<chr>\u001b[39m\u001b[23m   \u001b[3m\u001b[90m<chr>\u001b[39m\u001b[23m          \u001b[3m\u001b[90m<dbl>\u001b[39m\u001b[23m\n",
       "\u001b[90m1\u001b[39m rmse    standard       6.31 \n",
       "\u001b[90m2\u001b[39m rsq     standard       0.999\n",
       "\u001b[90m3\u001b[39m mae     standard       2.33 \n",
       "\u001b[90m4\u001b[39m ccc     standard       0.999\n",
       "\n",
       "[[2]]\n"
      ]
     },
     "metadata": {},
     "output_type": "display_data"
    },
    {
     "data": {
      "image/png": "[encoded data removed]",
      "text/plain": [
       "plot without title"
      ]
     },
     "metadata": {
      "image/png": {
       "height": 420,
       "width": 420
      }
     },
     "output_type": "display_data"
    }
   ],
   "source": [
    "\n",
    "# Plot predicted vs actual\n",
    "rf_plt <- results_RF %>% \n",
    "  ggplot(mapping = aes(x = PV, y = predictions)) +\n",
    "  geom_point(color = '#6CBE50FF') +\n",
    "  # overlay regression line\n",
    "  geom_smooth(method = 'lm', color = '#2B7FF9FF', se = F) +\n",
    "  ggtitle(\"Random Forest Model\") +\n",
    "  xlab(\"Actual PV\") +\n",
    "  ylab(\"Predicted PV\") +\n",
    "  theme(plot.title = element_text(hjust = 0.5))+\n",
    "  theme(legend.position = c(0.9, 0.9), legend.background = element_blank(),\n",
    "      plot.title = element_text(color=\"black\", size=15, face=\"bold.italic\"),\n",
    "      axis.title.x = element_text(color=\"black\", size=15, face=\"bold\"),\n",
    "      axis.text.x = element_text(face=\"bold\", color=\"black\", size=14, angle = 0),\n",
    "      axis.title.y = element_text(color=\"black\", size=15, face=\"bold\"),\n",
    "      axis.text.y = element_text(face=\"bold\", color=\"black\", size=14),\n",
    "      axis.line = element_line(colour = \"darkblue\", size = 1,\n",
    "                               linetype = \"solid\"))\n",
    "\n",
    "# Return evaluations\n",
    "list(rf_metrics, rf_plt)\n"
   ]
  },
  {
   "cell_type": "code",
   "execution_count": 55,
   "id": "21e4c855",
   "metadata": {
    "vscode": {
     "languageId": "r"
    }
   },
   "outputs": [
    {
     "data": {
      "text/plain": [
       "parsnip model object\n",
       "\n",
       "##### xgb.Booster\n",
       "raw: 54.8 Kb \n",
       "call:\n",
       "  xgboost::xgb.train(params = list(eta = 0.3, max_depth = 6, gamma = 0, \n",
       "    colsample_bytree = 1, colsample_bynode = 1, min_child_weight = 1, \n",
       "    subsample = 1), data = x$data, nrounds = 15, watchlist = x$watchlist, \n",
       "    verbose = 0, nthread = 1, objective = \"reg:squarederror\")\n",
       "params (as set within xgb.train):\n",
       "  eta = \"0.3\", max_depth = \"6\", gamma = \"0\", colsample_bytree = \"1\", colsample_bynode = \"1\", min_child_weight = \"1\", subsample = \"1\", nthread = \"1\", objective = \"reg:squarederror\", validate_parameters = \"TRUE\"\n",
       "xgb.attributes:\n",
       "  niter\n",
       "callbacks:\n",
       "  cb.evaluation.log()\n",
       "# of features: 2 \n",
       "niter: 15\n",
       "nfeatures : 2 \n",
       "evaluation_log:\n",
       "    iter training_rmse\n",
       "       1    164.228805\n",
       "       2    115.580453\n",
       "---                   \n",
       "      14      3.270424\n",
       "      15      2.895744"
      ]
     },
     "metadata": {},
     "output_type": "display_data"
    },
    {
     "name": "stderr",
     "output_type": "stream",
     "text": [
      "`geom_smooth()` using formula 'y ~ x'\n",
      "\n"
     ]
    },
    {
     "data": {
      "text/plain": [
       "[[1]]\n",
       "\u001b[90m# A tibble: 4 × 3\u001b[39m\n",
       "  .metric .estimator .estimate\n",
       "  \u001b[3m\u001b[90m<chr>\u001b[39m\u001b[23m   \u001b[3m\u001b[90m<chr>\u001b[39m\u001b[23m          \u001b[3m\u001b[90m<dbl>\u001b[39m\u001b[23m\n",
       "\u001b[90m1\u001b[39m rmse    standard        4.06\n",
       "\u001b[90m2\u001b[39m rsq     standard        1.00\n",
       "\u001b[90m3\u001b[39m mae     standard        1.68\n",
       "\u001b[90m4\u001b[39m ccc     standard        1.00\n",
       "\n",
       "[[2]]\n"
      ]
     },
     "metadata": {},
     "output_type": "display_data"
    },
    {
     "data": {
      "image/png": "[encoded data removed]",
      "text/plain": [
       "plot without title"
      ]
     },
     "metadata": {
      "image/png": {
       "height": 420,
       "width": 420
      }
     },
     "output_type": "display_data"
    }
   ],
   "source": [
    "# For reproducibility\n",
    "set.seed(2056)\n",
    "\n",
    "# Build an xgboost model specification\n",
    "boost_spec <- boost_tree() %>% \n",
    "  set_engine('xgboost') %>% \n",
    "  set_mode('regression')\n",
    "\n",
    "# Train an xgboost model \n",
    "boost_mod <- boost_spec %>% \n",
    "  fit(PV ~ ., data = Saar_train)\n",
    "\n",
    "\n",
    "# Print model\n",
    "boost_mod\n",
    "\n",
    "\n",
    "# Make and bind predictions to test data a\n",
    "results_BT <- boost_mod %>% \n",
    "  augment(new_data = Saar_test) %>% \n",
    "  rename(predictions = .pred)\n",
    "\n",
    "# Multiple regression metrics\n",
    "eval_metrics <- metric_set(rmse, rsq, mae, ccc)\n",
    "\n",
    "\n",
    "# Evaluate the model\n",
    "rf_metrics <- eval_metrics(data = results_BT,\n",
    "                                  truth = PV,\n",
    "                                  estimate = predictions)\n",
    "\n",
    "\n",
    "# Evaluate the model\n",
    "boost_metrics <- eval_metrics(data = results_BT,\n",
    "                                  truth = PV,\n",
    "                                  estimate = predictions) \n",
    "\n",
    "# Plot predicted vs actual\n",
    "boost_plt <- results_BT %>% \n",
    "  ggplot(mapping = aes(x = PV, y = predictions)) +\n",
    "  geom_point(color = '#4D3161FF') +\n",
    "  # overlay regression line\n",
    "  geom_smooth(method = 'lm', color = 'black', se = F) +\n",
    "  ggtitle(\"Boosting Ensemble Model\") +\n",
    "  xlab(\"Actual PV\") +\n",
    "  ylab(\"Predicted PV\") +\n",
    "  theme(plot.title = element_text(hjust = 0.5))+\n",
    "  theme(legend.position = c(0.9, 0.9), legend.background = element_blank(),\n",
    "      plot.title = element_text(color=\"black\", size=15, face=\"bold.italic\"),\n",
    "      axis.title.x = element_text(color=\"black\", size=15, face=\"bold\"),\n",
    "      axis.text.x = element_text(face=\"bold\", color=\"black\", size=14, angle = 0),\n",
    "      axis.title.y = element_text(color=\"black\", size=15, face=\"bold\"),\n",
    "      axis.text.y = element_text(face=\"bold\", color=\"black\", size=14),\n",
    "      axis.line = element_line(colour = \"darkblue\", size = 1,\n",
    "                               linetype = \"solid\"))\n",
    "# Return evaluations\n",
    "list(boost_metrics, boost_plt)"
   ]
  },
  {
   "cell_type": "code",
   "execution_count": 56,
   "id": "f10466de",
   "metadata": {
    "vscode": {
     "languageId": "r"
    }
   },
   "outputs": [
    {
     "data": {
      "text/plain": [
       "Recipe\n",
       "\n",
       "Inputs:\n",
       "\n",
       "      role #variables\n",
       "   outcome          1\n",
       " predictor          2\n",
       "\n",
       "Operations:\n",
       "\n",
       "Centering and scaling for all_numeric_predictors()\n",
       "Dummy variables from all_nominal_predictors()"
      ]
     },
     "metadata": {},
     "output_type": "display_data"
    },
    {
     "data": {
      "text/html": [
       "<table class=\"dataframe\">\n",
       "<caption>A tibble: 3 × 4</caption>\n",
       "<thead>\n",
       "\t<tr><th scope=col>variable</th><th scope=col>type</th><th scope=col>role</th><th scope=col>source</th></tr>\n",
       "\t<tr><th scope=col>&lt;chr&gt;</th><th scope=col>&lt;chr&gt;</th><th scope=col>&lt;chr&gt;</th><th scope=col>&lt;chr&gt;</th></tr>\n",
       "</thead>\n",
       "<tbody>\n",
       "\t<tr><td>G_Gk</td><td>numeric</td><td>predictor</td><td>original</td></tr>\n",
       "\t<tr><td>Ta  </td><td>numeric</td><td>predictor</td><td>original</td></tr>\n",
       "\t<tr><td>PV  </td><td>numeric</td><td>outcome  </td><td>original</td></tr>\n",
       "</tbody>\n",
       "</table>\n"
      ],
      "text/latex": [
       "A tibble: 3 × 4\n",
       "\\begin{tabular}{llll}\n",
       " variable & type & role & source\\\\\n",
       " <chr> & <chr> & <chr> & <chr>\\\\\n",
       "\\hline\n",
       "\t G\\_Gk & numeric & predictor & original\\\\\n",
       "\t Ta   & numeric & predictor & original\\\\\n",
       "\t PV   & numeric & outcome   & original\\\\\n",
       "\\end{tabular}\n"
      ],
      "text/markdown": [
       "\n",
       "A tibble: 3 × 4\n",
       "\n",
       "| variable &lt;chr&gt; | type &lt;chr&gt; | role &lt;chr&gt; | source &lt;chr&gt; |\n",
       "|---|---|---|---|\n",
       "| G_Gk | numeric | predictor | original |\n",
       "| Ta   | numeric | predictor | original |\n",
       "| PV   | numeric | outcome   | original |\n",
       "\n"
      ],
      "text/plain": [
       "  variable type    role      source  \n",
       "1 G_Gk     numeric predictor original\n",
       "2 Ta       numeric predictor original\n",
       "3 PV       numeric outcome   original"
      ]
     },
     "metadata": {},
     "output_type": "display_data"
    }
   ],
   "source": [
    "# Specify a recipe\n",
    "Saar_recipe <- recipe(PV ~ ., data = Saar_train) %>% \n",
    "  step_normalize(all_numeric_predictors()) %>% \n",
    "  step_dummy(all_nominal_predictors()) \n",
    "\n",
    "# Print out recipe\n",
    "Saar_recipe\n",
    "\n",
    "\n",
    "# Summary of the recipe\n",
    "summary(Saar_recipe)"
   ]
  },
  {
   "cell_type": "code",
   "execution_count": 57,
   "id": "594ef81e",
   "metadata": {
    "vscode": {
     "languageId": "r"
    }
   },
   "outputs": [
    {
     "data": {
      "text/plain": [
       "══ Workflow ════════════════════════════════════════════════════════════════════\n",
       "\u001b[3mPreprocessor:\u001b[23m Recipe\n",
       "\u001b[3mModel:\u001b[23m boost_tree()\n",
       "\n",
       "── Preprocessor ────────────────────────────────────────────────────────────────\n",
       "2 Recipe Steps\n",
       "\n",
       "• step_normalize()\n",
       "• step_dummy()\n",
       "\n",
       "── Model ───────────────────────────────────────────────────────────────────────\n",
       "Boosted Tree Model Specification (regression)\n",
       "\n",
       "Computational engine: xgboost \n"
      ]
     },
     "metadata": {},
     "output_type": "display_data"
    }
   ],
   "source": [
    "# xgboost specification\n",
    "boost_spec <- boost_tree() %>% \n",
    "  set_engine('xgboost') %>% \n",
    "  set_mode('regression')\n",
    "\n",
    "# Create the workflow\n",
    "boost_workflow <- workflow() %>% \n",
    "  add_recipe(Saar_recipe) %>% \n",
    "  add_model(boost_spec)\n",
    "\n",
    "# Print out workflow\n",
    "boost_workflow\n"
   ]
  },
  {
   "cell_type": "code",
   "execution_count": 58,
   "id": "20a54154",
   "metadata": {
    "vscode": {
     "languageId": "r"
    }
   },
   "outputs": [
    {
     "data": {
      "text/plain": [
       "══ Workflow [trained] ══════════════════════════════════════════════════════════\n",
       "\u001b[3mPreprocessor:\u001b[23m Recipe\n",
       "\u001b[3mModel:\u001b[23m boost_tree()\n",
       "\n",
       "── Preprocessor ────────────────────────────────────────────────────────────────\n",
       "2 Recipe Steps\n",
       "\n",
       "• step_normalize()\n",
       "• step_dummy()\n",
       "\n",
       "── Model ───────────────────────────────────────────────────────────────────────\n",
       "##### xgb.Booster\n",
       "raw: 54.8 Kb \n",
       "call:\n",
       "  xgboost::xgb.train(params = list(eta = 0.3, max_depth = 6, gamma = 0, \n",
       "    colsample_bytree = 1, colsample_bynode = 1, min_child_weight = 1, \n",
       "    subsample = 1), data = x$data, nrounds = 15, watchlist = x$watchlist, \n",
       "    verbose = 0, nthread = 1, objective = \"reg:squarederror\")\n",
       "params (as set within xgb.train):\n",
       "  eta = \"0.3\", max_depth = \"6\", gamma = \"0\", colsample_bytree = \"1\", colsample_bynode = \"1\", min_child_weight = \"1\", subsample = \"1\", nthread = \"1\", objective = \"reg:squarederror\", validate_parameters = \"TRUE\"\n",
       "xgb.attributes:\n",
       "  niter\n",
       "callbacks:\n",
       "  cb.evaluation.log()\n",
       "# of features: 2 \n",
       "niter: 15\n",
       "nfeatures : 2 \n",
       "evaluation_log:\n",
       "    iter training_rmse\n",
       "       1    164.228805\n",
       "       2    115.580453\n",
       "---                   \n",
       "      14      3.270424\n",
       "      15      2.895744"
      ]
     },
     "metadata": {},
     "output_type": "display_data"
    },
    {
     "data": {
      "text/html": [
       "<table class=\"dataframe\">\n",
       "<caption>A tibble: 6 × 1</caption>\n",
       "<thead>\n",
       "\t<tr><th scope=col>.pred</th></tr>\n",
       "\t<tr><th scope=col>&lt;dbl&gt;</th></tr>\n",
       "</thead>\n",
       "<tbody>\n",
       "\t<tr><td>0.003309191</td></tr>\n",
       "\t<tr><td>0.003309191</td></tr>\n",
       "\t<tr><td>0.003309191</td></tr>\n",
       "\t<tr><td>0.003309191</td></tr>\n",
       "\t<tr><td>0.003309191</td></tr>\n",
       "\t<tr><td>5.177103996</td></tr>\n",
       "</tbody>\n",
       "</table>\n"
      ],
      "text/latex": [
       "A tibble: 6 × 1\n",
       "\\begin{tabular}{l}\n",
       " .pred\\\\\n",
       " <dbl>\\\\\n",
       "\\hline\n",
       "\t 0.003309191\\\\\n",
       "\t 0.003309191\\\\\n",
       "\t 0.003309191\\\\\n",
       "\t 0.003309191\\\\\n",
       "\t 0.003309191\\\\\n",
       "\t 5.177103996\\\\\n",
       "\\end{tabular}\n"
      ],
      "text/markdown": [
       "\n",
       "A tibble: 6 × 1\n",
       "\n",
       "| .pred &lt;dbl&gt; |\n",
       "|---|\n",
       "| 0.003309191 |\n",
       "| 0.003309191 |\n",
       "| 0.003309191 |\n",
       "| 0.003309191 |\n",
       "| 0.003309191 |\n",
       "| 5.177103996 |\n",
       "\n"
      ],
      "text/plain": [
       "  .pred      \n",
       "1 0.003309191\n",
       "2 0.003309191\n",
       "3 0.003309191\n",
       "4 0.003309191\n",
       "5 0.003309191\n",
       "6 5.177103996"
      ]
     },
     "metadata": {},
     "output_type": "display_data"
    }
   ],
   "source": [
    "# Train the model\n",
    "boost_workflow <- boost_workflow %>% \n",
    "  fit(data = Saar_train)\n",
    "\n",
    "boost_workflow\n",
    "\n",
    "boost_workflow %>% \n",
    "  predict(new_data = Saar_test %>% dplyr::slice(1:6))\n",
    "\n"
   ]
  },
  {
   "cell_type": "code",
   "execution_count": 59,
   "id": "9864b77e",
   "metadata": {
    "vscode": {
     "languageId": "r"
    }
   },
   "outputs": [
    {
     "data": {
      "text/html": [
       "<pre class=language-r><code>function (mode = \"unknown\", engine = \"xgboost\", mtry = NULL, \n",
       "<span style=white-space:pre-wrap>    trees = NULL, min_n = NULL, tree_depth = NULL, learn_rate = NULL, </span>\n",
       "<span style=white-space:pre-wrap>    loss_reduction = NULL, sample_size = NULL, stop_iter = NULL) </span>\n",
       "NULL</code></pre>"
      ],
      "text/latex": [
       "\\begin{minted}{r}\n",
       "function (mode = \"unknown\", engine = \"xgboost\", mtry = NULL, \n",
       "    trees = NULL, min\\_n = NULL, tree\\_depth = NULL, learn\\_rate = NULL, \n",
       "    loss\\_reduction = NULL, sample\\_size = NULL, stop\\_iter = NULL) \n",
       "NULL\n",
       "\\end{minted}"
      ],
      "text/markdown": [
       "```r\n",
       "function (mode = \"unknown\", engine = \"xgboost\", mtry = NULL, \n",
       "    trees = NULL, min_n = NULL, tree_depth = NULL, learn_rate = NULL, \n",
       "    loss_reduction = NULL, sample_size = NULL, stop_iter = NULL) \n",
       "NULL\n",
       "```"
      ],
      "text/plain": [
       "function (mode = \"unknown\", engine = \"xgboost\", mtry = NULL, \n",
       "    trees = NULL, min_n = NULL, tree_depth = NULL, learn_rate = NULL, \n",
       "    loss_reduction = NULL, sample_size = NULL, stop_iter = NULL) \n",
       "NULL"
      ]
     },
     "metadata": {},
     "output_type": "display_data"
    }
   ],
   "source": [
    "args(boost_tree)"
   ]
  },
  {
   "cell_type": "code",
   "execution_count": 60,
   "id": "4ce7172c",
   "metadata": {
    "vscode": {
     "languageId": "r"
    }
   },
   "outputs": [
    {
     "data": {
      "text/plain": [
       "══ Workflow ════════════════════════════════════════════════════════════════════\n",
       "\u001b[3mPreprocessor:\u001b[23m Recipe\n",
       "\u001b[3mModel:\u001b[23m boost_tree()\n",
       "\n",
       "── Preprocessor ────────────────────────────────────────────────────────────────\n",
       "2 Recipe Steps\n",
       "\n",
       "• step_normalize()\n",
       "• step_dummy()\n",
       "\n",
       "── Model ───────────────────────────────────────────────────────────────────────\n",
       "Boosted Tree Model Specification (regression)\n",
       "\n",
       "Main Arguments:\n",
       "  trees = 50\n",
       "  tree_depth = tune()\n",
       "  learn_rate = tune()\n",
       "\n",
       "Computational engine: xgboost \n"
      ]
     },
     "metadata": {},
     "output_type": "display_data"
    }
   ],
   "source": [
    "# Specify a recipe\n",
    "Saar_recipe <- recipe(PV ~ ., data = Saar_train) %>% \n",
    "  step_normalize(all_numeric_predictors()) %>% \n",
    "  step_dummy(all_nominal_predictors()) \n",
    "\n",
    "\n",
    "# Make a tunable model specification\n",
    "boost_spec <- boost_tree(trees = 50,\n",
    "                         tree_depth = tune(),\n",
    "                         learn_rate = tune()) %>% \n",
    "  set_engine('xgboost') %>% \n",
    "  set_mode('regression')\n",
    "\n",
    "\n",
    "# Bundle a recipe and model spec using a workflow\n",
    "boost_workflow <- workflow() %>% \n",
    "  add_recipe(Saar_recipe) %>% \n",
    "  add_model(boost_spec)\n",
    "\n",
    "# Print workflow\n",
    "boost_workflow\n",
    "\n"
   ]
  },
  {
   "cell_type": "code",
   "execution_count": 61,
   "id": "4f4505e6",
   "metadata": {
    "vscode": {
     "languageId": "r"
    }
   },
   "outputs": [
    {
     "data": {
      "text/html": [
       "<table class=\"dataframe\">\n",
       "<caption>A tibble: 25 × 2</caption>\n",
       "<thead>\n",
       "\t<tr><th scope=col>tree_depth</th><th scope=col>learn_rate</th></tr>\n",
       "\t<tr><th scope=col>&lt;int&gt;</th><th scope=col>&lt;dbl&gt;</th></tr>\n",
       "</thead>\n",
       "<tbody>\n",
       "\t<tr><td> 1</td><td>0.0100</td></tr>\n",
       "\t<tr><td> 4</td><td>0.0100</td></tr>\n",
       "\t<tr><td> 8</td><td>0.0100</td></tr>\n",
       "\t<tr><td>11</td><td>0.0100</td></tr>\n",
       "\t<tr><td>15</td><td>0.0100</td></tr>\n",
       "\t<tr><td> 1</td><td>0.0825</td></tr>\n",
       "\t<tr><td> 4</td><td>0.0825</td></tr>\n",
       "\t<tr><td> 8</td><td>0.0825</td></tr>\n",
       "\t<tr><td>11</td><td>0.0825</td></tr>\n",
       "\t<tr><td>15</td><td>0.0825</td></tr>\n",
       "\t<tr><td> 1</td><td>0.1550</td></tr>\n",
       "\t<tr><td> 4</td><td>0.1550</td></tr>\n",
       "\t<tr><td> 8</td><td>0.1550</td></tr>\n",
       "\t<tr><td>11</td><td>0.1550</td></tr>\n",
       "\t<tr><td>15</td><td>0.1550</td></tr>\n",
       "\t<tr><td> 1</td><td>0.2275</td></tr>\n",
       "\t<tr><td> 4</td><td>0.2275</td></tr>\n",
       "\t<tr><td> 8</td><td>0.2275</td></tr>\n",
       "\t<tr><td>11</td><td>0.2275</td></tr>\n",
       "\t<tr><td>15</td><td>0.2275</td></tr>\n",
       "\t<tr><td> 1</td><td>0.3000</td></tr>\n",
       "\t<tr><td> 4</td><td>0.3000</td></tr>\n",
       "\t<tr><td> 8</td><td>0.3000</td></tr>\n",
       "\t<tr><td>11</td><td>0.3000</td></tr>\n",
       "\t<tr><td>15</td><td>0.3000</td></tr>\n",
       "</tbody>\n",
       "</table>\n"
      ],
      "text/latex": [
       "A tibble: 25 × 2\n",
       "\\begin{tabular}{ll}\n",
       " tree\\_depth & learn\\_rate\\\\\n",
       " <int> & <dbl>\\\\\n",
       "\\hline\n",
       "\t  1 & 0.0100\\\\\n",
       "\t  4 & 0.0100\\\\\n",
       "\t  8 & 0.0100\\\\\n",
       "\t 11 & 0.0100\\\\\n",
       "\t 15 & 0.0100\\\\\n",
       "\t  1 & 0.0825\\\\\n",
       "\t  4 & 0.0825\\\\\n",
       "\t  8 & 0.0825\\\\\n",
       "\t 11 & 0.0825\\\\\n",
       "\t 15 & 0.0825\\\\\n",
       "\t  1 & 0.1550\\\\\n",
       "\t  4 & 0.1550\\\\\n",
       "\t  8 & 0.1550\\\\\n",
       "\t 11 & 0.1550\\\\\n",
       "\t 15 & 0.1550\\\\\n",
       "\t  1 & 0.2275\\\\\n",
       "\t  4 & 0.2275\\\\\n",
       "\t  8 & 0.2275\\\\\n",
       "\t 11 & 0.2275\\\\\n",
       "\t 15 & 0.2275\\\\\n",
       "\t  1 & 0.3000\\\\\n",
       "\t  4 & 0.3000\\\\\n",
       "\t  8 & 0.3000\\\\\n",
       "\t 11 & 0.3000\\\\\n",
       "\t 15 & 0.3000\\\\\n",
       "\\end{tabular}\n"
      ],
      "text/markdown": [
       "\n",
       "A tibble: 25 × 2\n",
       "\n",
       "| tree_depth &lt;int&gt; | learn_rate &lt;dbl&gt; |\n",
       "|---|---|\n",
       "|  1 | 0.0100 |\n",
       "|  4 | 0.0100 |\n",
       "|  8 | 0.0100 |\n",
       "| 11 | 0.0100 |\n",
       "| 15 | 0.0100 |\n",
       "|  1 | 0.0825 |\n",
       "|  4 | 0.0825 |\n",
       "|  8 | 0.0825 |\n",
       "| 11 | 0.0825 |\n",
       "| 15 | 0.0825 |\n",
       "|  1 | 0.1550 |\n",
       "|  4 | 0.1550 |\n",
       "|  8 | 0.1550 |\n",
       "| 11 | 0.1550 |\n",
       "| 15 | 0.1550 |\n",
       "|  1 | 0.2275 |\n",
       "|  4 | 0.2275 |\n",
       "|  8 | 0.2275 |\n",
       "| 11 | 0.2275 |\n",
       "| 15 | 0.2275 |\n",
       "|  1 | 0.3000 |\n",
       "|  4 | 0.3000 |\n",
       "|  8 | 0.3000 |\n",
       "| 11 | 0.3000 |\n",
       "| 15 | 0.3000 |\n",
       "\n"
      ],
      "text/plain": [
       "   tree_depth learn_rate\n",
       "1   1         0.0100    \n",
       "2   4         0.0100    \n",
       "3   8         0.0100    \n",
       "4  11         0.0100    \n",
       "5  15         0.0100    \n",
       "6   1         0.0825    \n",
       "7   4         0.0825    \n",
       "8   8         0.0825    \n",
       "9  11         0.0825    \n",
       "10 15         0.0825    \n",
       "11  1         0.1550    \n",
       "12  4         0.1550    \n",
       "13  8         0.1550    \n",
       "14 11         0.1550    \n",
       "15 15         0.1550    \n",
       "16  1         0.2275    \n",
       "17  4         0.2275    \n",
       "18  8         0.2275    \n",
       "19 11         0.2275    \n",
       "20 15         0.2275    \n",
       "21  1         0.3000    \n",
       "22  4         0.3000    \n",
       "23  8         0.3000    \n",
       "24 11         0.3000    \n",
       "25 15         0.3000    "
      ]
     },
     "metadata": {},
     "output_type": "display_data"
    },
    {
     "data": {
      "text/html": [
       "<table class=\"dataframe\">\n",
       "<caption>A tibble: 5 × 8</caption>\n",
       "<thead>\n",
       "\t<tr><th scope=col>tree_depth</th><th scope=col>learn_rate</th><th scope=col>.metric</th><th scope=col>.estimator</th><th scope=col>mean</th><th scope=col>n</th><th scope=col>std_err</th><th scope=col>.config</th></tr>\n",
       "\t<tr><th scope=col>&lt;int&gt;</th><th scope=col>&lt;dbl&gt;</th><th scope=col>&lt;chr&gt;</th><th scope=col>&lt;chr&gt;</th><th scope=col>&lt;dbl&gt;</th><th scope=col>&lt;int&gt;</th><th scope=col>&lt;dbl&gt;</th><th scope=col>&lt;chr&gt;</th></tr>\n",
       "</thead>\n",
       "<tbody>\n",
       "\t<tr><td>11</td><td>0.1550</td><td>rmse</td><td>standard</td><td>2.912417</td><td>5</td><td>0.12345700</td><td>Preprocessor1_Model14</td></tr>\n",
       "\t<tr><td> 8</td><td>0.1550</td><td>rmse</td><td>standard</td><td>2.916236</td><td>5</td><td>0.10681411</td><td>Preprocessor1_Model13</td></tr>\n",
       "\t<tr><td> 8</td><td>0.2275</td><td>rmse</td><td>standard</td><td>2.937550</td><td>5</td><td>0.10166316</td><td>Preprocessor1_Model18</td></tr>\n",
       "\t<tr><td>15</td><td>0.1550</td><td>rmse</td><td>standard</td><td>2.943331</td><td>5</td><td>0.12863689</td><td>Preprocessor1_Model15</td></tr>\n",
       "\t<tr><td>11</td><td>0.2275</td><td>rmse</td><td>standard</td><td>2.949108</td><td>5</td><td>0.08805853</td><td>Preprocessor1_Model19</td></tr>\n",
       "</tbody>\n",
       "</table>\n"
      ],
      "text/latex": [
       "A tibble: 5 × 8\n",
       "\\begin{tabular}{llllllll}\n",
       " tree\\_depth & learn\\_rate & .metric & .estimator & mean & n & std\\_err & .config\\\\\n",
       " <int> & <dbl> & <chr> & <chr> & <dbl> & <int> & <dbl> & <chr>\\\\\n",
       "\\hline\n",
       "\t 11 & 0.1550 & rmse & standard & 2.912417 & 5 & 0.12345700 & Preprocessor1\\_Model14\\\\\n",
       "\t  8 & 0.1550 & rmse & standard & 2.916236 & 5 & 0.10681411 & Preprocessor1\\_Model13\\\\\n",
       "\t  8 & 0.2275 & rmse & standard & 2.937550 & 5 & 0.10166316 & Preprocessor1\\_Model18\\\\\n",
       "\t 15 & 0.1550 & rmse & standard & 2.943331 & 5 & 0.12863689 & Preprocessor1\\_Model15\\\\\n",
       "\t 11 & 0.2275 & rmse & standard & 2.949108 & 5 & 0.08805853 & Preprocessor1\\_Model19\\\\\n",
       "\\end{tabular}\n"
      ],
      "text/markdown": [
       "\n",
       "A tibble: 5 × 8\n",
       "\n",
       "| tree_depth &lt;int&gt; | learn_rate &lt;dbl&gt; | .metric &lt;chr&gt; | .estimator &lt;chr&gt; | mean &lt;dbl&gt; | n &lt;int&gt; | std_err &lt;dbl&gt; | .config &lt;chr&gt; |\n",
       "|---|---|---|---|---|---|---|---|\n",
       "| 11 | 0.1550 | rmse | standard | 2.912417 | 5 | 0.12345700 | Preprocessor1_Model14 |\n",
       "|  8 | 0.1550 | rmse | standard | 2.916236 | 5 | 0.10681411 | Preprocessor1_Model13 |\n",
       "|  8 | 0.2275 | rmse | standard | 2.937550 | 5 | 0.10166316 | Preprocessor1_Model18 |\n",
       "| 15 | 0.1550 | rmse | standard | 2.943331 | 5 | 0.12863689 | Preprocessor1_Model15 |\n",
       "| 11 | 0.2275 | rmse | standard | 2.949108 | 5 | 0.08805853 | Preprocessor1_Model19 |\n",
       "\n"
      ],
      "text/plain": [
       "  tree_depth learn_rate .metric .estimator mean     n std_err   \n",
       "1 11         0.1550     rmse    standard   2.912417 5 0.12345700\n",
       "2  8         0.1550     rmse    standard   2.916236 5 0.10681411\n",
       "3  8         0.2275     rmse    standard   2.937550 5 0.10166316\n",
       "4 15         0.1550     rmse    standard   2.943331 5 0.12863689\n",
       "5 11         0.2275     rmse    standard   2.949108 5 0.08805853\n",
       "  .config              \n",
       "1 Preprocessor1_Model14\n",
       "2 Preprocessor1_Model13\n",
       "3 Preprocessor1_Model18\n",
       "4 Preprocessor1_Model15\n",
       "5 Preprocessor1_Model19"
      ]
     },
     "metadata": {},
     "output_type": "display_data"
    },
    {
     "data": {
      "text/html": [
       "<table class=\"dataframe\">\n",
       "<caption>A tibble: 1 × 3</caption>\n",
       "<thead>\n",
       "\t<tr><th scope=col>tree_depth</th><th scope=col>learn_rate</th><th scope=col>.config</th></tr>\n",
       "\t<tr><th scope=col>&lt;int&gt;</th><th scope=col>&lt;dbl&gt;</th><th scope=col>&lt;chr&gt;</th></tr>\n",
       "</thead>\n",
       "<tbody>\n",
       "\t<tr><td>11</td><td>0.155</td><td>Preprocessor1_Model14</td></tr>\n",
       "</tbody>\n",
       "</table>\n"
      ],
      "text/latex": [
       "A tibble: 1 × 3\n",
       "\\begin{tabular}{lll}\n",
       " tree\\_depth & learn\\_rate & .config\\\\\n",
       " <int> & <dbl> & <chr>\\\\\n",
       "\\hline\n",
       "\t 11 & 0.155 & Preprocessor1\\_Model14\\\\\n",
       "\\end{tabular}\n"
      ],
      "text/markdown": [
       "\n",
       "A tibble: 1 × 3\n",
       "\n",
       "| tree_depth &lt;int&gt; | learn_rate &lt;dbl&gt; | .config &lt;chr&gt; |\n",
       "|---|---|---|\n",
       "| 11 | 0.155 | Preprocessor1_Model14 |\n",
       "\n"
      ],
      "text/plain": [
       "  tree_depth learn_rate .config              \n",
       "1 11         0.155      Preprocessor1_Model14"
      ]
     },
     "metadata": {},
     "output_type": "display_data"
    },
    {
     "data": {
      "image/png": "[encoded data removed]",
      "text/plain": [
       "plot without title"
      ]
     },
     "metadata": {
      "image/png": {
       "height": 420,
       "width": 420
      }
     },
     "output_type": "display_data"
    }
   ],
   "source": [
    "# Create a grid of tuning parameters\n",
    "tree_grid <- grid_regular(tree_depth(),\n",
    "                  # You can specify hyperparameter ranges too\n",
    "learn_rate(range = c(0.01, 0.3), trans = NULL), levels = 5)\n",
    "\n",
    "# Display hyperparameter combinations that will be used for tuning\n",
    "tree_grid\n",
    "\n",
    "set.seed(2056)\n",
    "# 5 fold CV repeated once\n",
    "Saar_folds <- vfold_cv(data = Saar_train, v = 5, repeats = 1)\n",
    "\n",
    "\n",
    "# Allow parallel processing\n",
    "doParallel::registerDoParallel()\n",
    "\n",
    "# Model tuning via grid search\n",
    "set.seed(2020)\n",
    "tree_grid <- tune_grid(\n",
    "  object = boost_workflow,\n",
    "  resamples = Saar_folds,\n",
    "  grid = tree_grid\n",
    ")\n",
    "\n",
    "\n",
    "# Visualize the results\n",
    "tree_grid %>% \n",
    "  collect_metrics() %>% \n",
    "  mutate(tree_depth = factor(tree_depth)) %>% \n",
    "  ggplot(mapping = aes(x = learn_rate, y = mean,\n",
    "                       color = tree_depth)) +\n",
    "  geom_line(size = 0.6) +\n",
    "  geom_point(size = 2) +\n",
    "  facet_wrap(~ .metric, scales = 'free', nrow = 2)+\n",
    "  scale_color_viridis_d(option = \"plasma\", begin = .9, end = 0)\n",
    "\n",
    "\n",
    "tree_grid %>% \n",
    "  show_best('rmse')\n",
    "\n",
    "# Select the tree with the best RMSE\n",
    "best_tree <- tree_grid %>% \n",
    "  select_best('rmse')\n",
    "\n",
    "# Display best tree\n",
    "best_tree\n"
   ]
  },
  {
   "cell_type": "code",
   "execution_count": 62,
   "id": "0714f57b",
   "metadata": {
    "vscode": {
     "languageId": "r"
    }
   },
   "outputs": [
    {
     "data": {
      "text/plain": [
       "══ Workflow ════════════════════════════════════════════════════════════════════\n",
       "\u001b[3mPreprocessor:\u001b[23m Recipe\n",
       "\u001b[3mModel:\u001b[23m boost_tree()\n",
       "\n",
       "── Preprocessor ────────────────────────────────────────────────────────────────\n",
       "2 Recipe Steps\n",
       "\n",
       "• step_normalize()\n",
       "• step_dummy()\n",
       "\n",
       "── Model ───────────────────────────────────────────────────────────────────────\n",
       "Boosted Tree Model Specification (regression)\n",
       "\n",
       "Main Arguments:\n",
       "  trees = 50\n",
       "  tree_depth = 11\n",
       "  learn_rate = 0.155\n",
       "\n",
       "Computational engine: xgboost \n"
      ]
     },
     "metadata": {},
     "output_type": "display_data"
    },
    {
     "data": {
      "text/html": [
       "<table class=\"dataframe\">\n",
       "<caption>A tibble: 2 × 4</caption>\n",
       "<thead>\n",
       "\t<tr><th scope=col>.metric</th><th scope=col>.estimator</th><th scope=col>.estimate</th><th scope=col>.config</th></tr>\n",
       "\t<tr><th scope=col>&lt;chr&gt;</th><th scope=col>&lt;chr&gt;</th><th scope=col>&lt;dbl&gt;</th><th scope=col>&lt;chr&gt;</th></tr>\n",
       "</thead>\n",
       "<tbody>\n",
       "\t<tr><td>rmse</td><td>standard</td><td>2.7152237</td><td>Preprocessor1_Model1</td></tr>\n",
       "\t<tr><td>rsq </td><td>standard</td><td>0.9998165</td><td>Preprocessor1_Model1</td></tr>\n",
       "</tbody>\n",
       "</table>\n"
      ],
      "text/latex": [
       "A tibble: 2 × 4\n",
       "\\begin{tabular}{llll}\n",
       " .metric & .estimator & .estimate & .config\\\\\n",
       " <chr> & <chr> & <dbl> & <chr>\\\\\n",
       "\\hline\n",
       "\t rmse & standard & 2.7152237 & Preprocessor1\\_Model1\\\\\n",
       "\t rsq  & standard & 0.9998165 & Preprocessor1\\_Model1\\\\\n",
       "\\end{tabular}\n"
      ],
      "text/markdown": [
       "\n",
       "A tibble: 2 × 4\n",
       "\n",
       "| .metric &lt;chr&gt; | .estimator &lt;chr&gt; | .estimate &lt;dbl&gt; | .config &lt;chr&gt; |\n",
       "|---|---|---|---|\n",
       "| rmse | standard | 2.7152237 | Preprocessor1_Model1 |\n",
       "| rsq  | standard | 0.9998165 | Preprocessor1_Model1 |\n",
       "\n"
      ],
      "text/plain": [
       "  .metric .estimator .estimate .config             \n",
       "1 rmse    standard   2.7152237 Preprocessor1_Model1\n",
       "2 rsq     standard   0.9998165 Preprocessor1_Model1"
      ]
     },
     "metadata": {},
     "output_type": "display_data"
    }
   ],
   "source": [
    "# Update workflow\n",
    "final_wf <- boost_workflow %>% \n",
    "  finalize_workflow(best_tree)\n",
    "\n",
    "# Print final workflow\n",
    "final_wf\n",
    "\n",
    "# Make a last fit\n",
    "final_fit <- final_wf %>% \n",
    "  last_fit(Saar_split)\n",
    "\n",
    "\n",
    "# Collect metrics\n",
    "final_fit %>% \n",
    "  collect_metrics()"
   ]
  },
  {
   "cell_type": "code",
   "execution_count": 63,
   "id": "9dbe63dc",
   "metadata": {
    "vscode": {
     "languageId": "r"
    }
   },
   "outputs": [
    {
     "data": {
      "text/html": [
       "<table class=\"dataframe\">\n",
       "<caption>A tibble: 2628 × 4</caption>\n",
       "<thead>\n",
       "\t<tr><th scope=col>G_Gk</th><th scope=col>Ta</th><th scope=col>PV</th><th scope=col>.pred</th></tr>\n",
       "\t<tr><th scope=col>&lt;int&gt;</th><th scope=col>&lt;dbl&gt;</th><th scope=col>&lt;int&gt;</th><th scope=col>&lt;dbl&gt;</th></tr>\n",
       "</thead>\n",
       "<tbody>\n",
       "\t<tr><td>  0</td><td> 9.1</td><td>  0</td><td> 5.012153e-04</td></tr>\n",
       "\t<tr><td>  0</td><td>10.1</td><td>  0</td><td> 5.012153e-04</td></tr>\n",
       "\t<tr><td>  0</td><td>10.0</td><td>  0</td><td> 5.012153e-04</td></tr>\n",
       "\t<tr><td>  0</td><td> 9.8</td><td>  0</td><td> 5.012153e-04</td></tr>\n",
       "\t<tr><td>  0</td><td> 9.5</td><td>  0</td><td> 5.012153e-04</td></tr>\n",
       "\t<tr><td>  6</td><td> 9.5</td><td>  5</td><td> 5.605088e+00</td></tr>\n",
       "\t<tr><td> 12</td><td> 9.4</td><td> 11</td><td> 1.054826e+01</td></tr>\n",
       "\t<tr><td> 22</td><td> 9.5</td><td> 19</td><td> 1.922590e+01</td></tr>\n",
       "\t<tr><td> 20</td><td> 9.5</td><td> 17</td><td> 1.749993e+01</td></tr>\n",
       "\t<tr><td>  0</td><td> 8.8</td><td>  0</td><td>-3.863327e-03</td></tr>\n",
       "\t<tr><td>  0</td><td> 8.4</td><td>  0</td><td> 5.232808e-04</td></tr>\n",
       "\t<tr><td>  0</td><td> 6.9</td><td>  0</td><td> 5.232808e-04</td></tr>\n",
       "\t<tr><td>  1</td><td> 6.0</td><td>  1</td><td> 9.993303e-01</td></tr>\n",
       "\t<tr><td> 30</td><td> 6.0</td><td> 27</td><td> 2.696030e+01</td></tr>\n",
       "\t<tr><td> 27</td><td> 5.9</td><td> 24</td><td> 2.395029e+01</td></tr>\n",
       "\t<tr><td>  1</td><td> 5.6</td><td>  1</td><td> 9.999248e-01</td></tr>\n",
       "\t<tr><td>  0</td><td> 5.5</td><td>  0</td><td> 5.232808e-04</td></tr>\n",
       "\t<tr><td>  0</td><td> 4.8</td><td>  0</td><td> 5.232808e-04</td></tr>\n",
       "\t<tr><td>  0</td><td> 5.2</td><td>  0</td><td> 5.232808e-04</td></tr>\n",
       "\t<tr><td>  0</td><td> 5.9</td><td>  0</td><td> 5.232808e-04</td></tr>\n",
       "\t<tr><td>  0</td><td> 6.0</td><td>  0</td><td> 5.232808e-04</td></tr>\n",
       "\t<tr><td> 27</td><td> 7.7</td><td> 24</td><td> 2.373867e+01</td></tr>\n",
       "\t<tr><td>  0</td><td> 7.4</td><td>  0</td><td> 5.232808e-04</td></tr>\n",
       "\t<tr><td>  0</td><td> 7.1</td><td>  0</td><td> 5.232808e-04</td></tr>\n",
       "\t<tr><td>  0</td><td> 0.5</td><td>  0</td><td> 5.232808e-04</td></tr>\n",
       "\t<tr><td>  1</td><td> 0.0</td><td>  1</td><td> 9.999248e-01</td></tr>\n",
       "\t<tr><td>265</td><td> 1.3</td><td>241</td><td> 2.342449e+02</td></tr>\n",
       "\t<tr><td>530</td><td> 4.9</td><td>465</td><td> 4.550424e+02</td></tr>\n",
       "\t<tr><td>563</td><td> 4.9</td><td>496</td><td> 4.904442e+02</td></tr>\n",
       "\t<tr><td>320</td><td> 4.2</td><td>286</td><td> 2.853764e+02</td></tr>\n",
       "\t<tr><td>⋮</td><td>⋮</td><td>⋮</td><td>⋮</td></tr>\n",
       "\t<tr><td> 0</td><td>-3.4</td><td> 0</td><td>5.232808e-04</td></tr>\n",
       "\t<tr><td> 0</td><td>-3.2</td><td> 0</td><td>5.232808e-04</td></tr>\n",
       "\t<tr><td> 0</td><td>-3.1</td><td> 0</td><td>5.232808e-04</td></tr>\n",
       "\t<tr><td> 0</td><td>-3.1</td><td> 0</td><td>5.232808e-04</td></tr>\n",
       "\t<tr><td>18</td><td>-2.4</td><td>17</td><td>1.696689e+01</td></tr>\n",
       "\t<tr><td>18</td><td>-2.5</td><td>17</td><td>1.696689e+01</td></tr>\n",
       "\t<tr><td> 0</td><td>-2.6</td><td> 0</td><td>5.232808e-04</td></tr>\n",
       "\t<tr><td> 0</td><td>-2.1</td><td> 0</td><td>5.232808e-04</td></tr>\n",
       "\t<tr><td> 0</td><td>-1.9</td><td> 0</td><td>5.232808e-04</td></tr>\n",
       "\t<tr><td> 0</td><td>-1.1</td><td> 0</td><td>5.232808e-04</td></tr>\n",
       "\t<tr><td> 0</td><td>-1.1</td><td> 0</td><td>5.232808e-04</td></tr>\n",
       "\t<tr><td> 0</td><td>-1.1</td><td> 0</td><td>5.232808e-04</td></tr>\n",
       "\t<tr><td>13</td><td>-0.5</td><td>12</td><td>1.192779e+01</td></tr>\n",
       "\t<tr><td>53</td><td> 1.2</td><td>48</td><td>4.759235e+01</td></tr>\n",
       "\t<tr><td>47</td><td> 1.4</td><td>43</td><td>4.231315e+01</td></tr>\n",
       "\t<tr><td> 0</td><td> 1.3</td><td> 0</td><td>5.232808e-04</td></tr>\n",
       "\t<tr><td> 0</td><td> 1.8</td><td> 0</td><td>5.232808e-04</td></tr>\n",
       "\t<tr><td> 0</td><td> 2.1</td><td> 0</td><td>5.232808e-04</td></tr>\n",
       "\t<tr><td> 1</td><td> 4.7</td><td> 1</td><td>9.999248e-01</td></tr>\n",
       "\t<tr><td> 0</td><td> 4.4</td><td> 0</td><td>5.232808e-04</td></tr>\n",
       "\t<tr><td> 0</td><td> 4.2</td><td> 0</td><td>5.232808e-04</td></tr>\n",
       "\t<tr><td> 0</td><td> 3.8</td><td> 0</td><td>5.232808e-04</td></tr>\n",
       "\t<tr><td> 0</td><td> 0.3</td><td> 0</td><td>5.232808e-04</td></tr>\n",
       "\t<tr><td> 0</td><td>-0.3</td><td> 0</td><td>5.232808e-04</td></tr>\n",
       "\t<tr><td> 6</td><td>-0.8</td><td> 6</td><td>4.909764e+00</td></tr>\n",
       "\t<tr><td> 7</td><td>-1.5</td><td> 7</td><td>6.157676e+00</td></tr>\n",
       "\t<tr><td> 1</td><td>-1.4</td><td> 1</td><td>9.999248e-01</td></tr>\n",
       "\t<tr><td> 0</td><td>-1.9</td><td> 0</td><td>5.232808e-04</td></tr>\n",
       "\t<tr><td> 0</td><td>-2.5</td><td> 0</td><td>5.232808e-04</td></tr>\n",
       "\t<tr><td> 0</td><td>-2.2</td><td> 0</td><td>5.232808e-04</td></tr>\n",
       "</tbody>\n",
       "</table>\n"
      ],
      "text/latex": [
       "A tibble: 2628 × 4\n",
       "\\begin{tabular}{llll}\n",
       " G\\_Gk & Ta & PV & .pred\\\\\n",
       " <int> & <dbl> & <int> & <dbl>\\\\\n",
       "\\hline\n",
       "\t   0 &  9.1 &   0 &  5.012153e-04\\\\\n",
       "\t   0 & 10.1 &   0 &  5.012153e-04\\\\\n",
       "\t   0 & 10.0 &   0 &  5.012153e-04\\\\\n",
       "\t   0 &  9.8 &   0 &  5.012153e-04\\\\\n",
       "\t   0 &  9.5 &   0 &  5.012153e-04\\\\\n",
       "\t   6 &  9.5 &   5 &  5.605088e+00\\\\\n",
       "\t  12 &  9.4 &  11 &  1.054826e+01\\\\\n",
       "\t  22 &  9.5 &  19 &  1.922590e+01\\\\\n",
       "\t  20 &  9.5 &  17 &  1.749993e+01\\\\\n",
       "\t   0 &  8.8 &   0 & -3.863327e-03\\\\\n",
       "\t   0 &  8.4 &   0 &  5.232808e-04\\\\\n",
       "\t   0 &  6.9 &   0 &  5.232808e-04\\\\\n",
       "\t   1 &  6.0 &   1 &  9.993303e-01\\\\\n",
       "\t  30 &  6.0 &  27 &  2.696030e+01\\\\\n",
       "\t  27 &  5.9 &  24 &  2.395029e+01\\\\\n",
       "\t   1 &  5.6 &   1 &  9.999248e-01\\\\\n",
       "\t   0 &  5.5 &   0 &  5.232808e-04\\\\\n",
       "\t   0 &  4.8 &   0 &  5.232808e-04\\\\\n",
       "\t   0 &  5.2 &   0 &  5.232808e-04\\\\\n",
       "\t   0 &  5.9 &   0 &  5.232808e-04\\\\\n",
       "\t   0 &  6.0 &   0 &  5.232808e-04\\\\\n",
       "\t  27 &  7.7 &  24 &  2.373867e+01\\\\\n",
       "\t   0 &  7.4 &   0 &  5.232808e-04\\\\\n",
       "\t   0 &  7.1 &   0 &  5.232808e-04\\\\\n",
       "\t   0 &  0.5 &   0 &  5.232808e-04\\\\\n",
       "\t   1 &  0.0 &   1 &  9.999248e-01\\\\\n",
       "\t 265 &  1.3 & 241 &  2.342449e+02\\\\\n",
       "\t 530 &  4.9 & 465 &  4.550424e+02\\\\\n",
       "\t 563 &  4.9 & 496 &  4.904442e+02\\\\\n",
       "\t 320 &  4.2 & 286 &  2.853764e+02\\\\\n",
       "\t ⋮ & ⋮ & ⋮ & ⋮\\\\\n",
       "\t  0 & -3.4 &  0 & 5.232808e-04\\\\\n",
       "\t  0 & -3.2 &  0 & 5.232808e-04\\\\\n",
       "\t  0 & -3.1 &  0 & 5.232808e-04\\\\\n",
       "\t  0 & -3.1 &  0 & 5.232808e-04\\\\\n",
       "\t 18 & -2.4 & 17 & 1.696689e+01\\\\\n",
       "\t 18 & -2.5 & 17 & 1.696689e+01\\\\\n",
       "\t  0 & -2.6 &  0 & 5.232808e-04\\\\\n",
       "\t  0 & -2.1 &  0 & 5.232808e-04\\\\\n",
       "\t  0 & -1.9 &  0 & 5.232808e-04\\\\\n",
       "\t  0 & -1.1 &  0 & 5.232808e-04\\\\\n",
       "\t  0 & -1.1 &  0 & 5.232808e-04\\\\\n",
       "\t  0 & -1.1 &  0 & 5.232808e-04\\\\\n",
       "\t 13 & -0.5 & 12 & 1.192779e+01\\\\\n",
       "\t 53 &  1.2 & 48 & 4.759235e+01\\\\\n",
       "\t 47 &  1.4 & 43 & 4.231315e+01\\\\\n",
       "\t  0 &  1.3 &  0 & 5.232808e-04\\\\\n",
       "\t  0 &  1.8 &  0 & 5.232808e-04\\\\\n",
       "\t  0 &  2.1 &  0 & 5.232808e-04\\\\\n",
       "\t  1 &  4.7 &  1 & 9.999248e-01\\\\\n",
       "\t  0 &  4.4 &  0 & 5.232808e-04\\\\\n",
       "\t  0 &  4.2 &  0 & 5.232808e-04\\\\\n",
       "\t  0 &  3.8 &  0 & 5.232808e-04\\\\\n",
       "\t  0 &  0.3 &  0 & 5.232808e-04\\\\\n",
       "\t  0 & -0.3 &  0 & 5.232808e-04\\\\\n",
       "\t  6 & -0.8 &  6 & 4.909764e+00\\\\\n",
       "\t  7 & -1.5 &  7 & 6.157676e+00\\\\\n",
       "\t  1 & -1.4 &  1 & 9.999248e-01\\\\\n",
       "\t  0 & -1.9 &  0 & 5.232808e-04\\\\\n",
       "\t  0 & -2.5 &  0 & 5.232808e-04\\\\\n",
       "\t  0 & -2.2 &  0 & 5.232808e-04\\\\\n",
       "\\end{tabular}\n"
      ],
      "text/markdown": [
       "\n",
       "A tibble: 2628 × 4\n",
       "\n",
       "| G_Gk &lt;int&gt; | Ta &lt;dbl&gt; | PV &lt;int&gt; | .pred &lt;dbl&gt; |\n",
       "|---|---|---|---|\n",
       "|   0 |  9.1 |   0 |  5.012153e-04 |\n",
       "|   0 | 10.1 |   0 |  5.012153e-04 |\n",
       "|   0 | 10.0 |   0 |  5.012153e-04 |\n",
       "|   0 |  9.8 |   0 |  5.012153e-04 |\n",
       "|   0 |  9.5 |   0 |  5.012153e-04 |\n",
       "|   6 |  9.5 |   5 |  5.605088e+00 |\n",
       "|  12 |  9.4 |  11 |  1.054826e+01 |\n",
       "|  22 |  9.5 |  19 |  1.922590e+01 |\n",
       "|  20 |  9.5 |  17 |  1.749993e+01 |\n",
       "|   0 |  8.8 |   0 | -3.863327e-03 |\n",
       "|   0 |  8.4 |   0 |  5.232808e-04 |\n",
       "|   0 |  6.9 |   0 |  5.232808e-04 |\n",
       "|   1 |  6.0 |   1 |  9.993303e-01 |\n",
       "|  30 |  6.0 |  27 |  2.696030e+01 |\n",
       "|  27 |  5.9 |  24 |  2.395029e+01 |\n",
       "|   1 |  5.6 |   1 |  9.999248e-01 |\n",
       "|   0 |  5.5 |   0 |  5.232808e-04 |\n",
       "|   0 |  4.8 |   0 |  5.232808e-04 |\n",
       "|   0 |  5.2 |   0 |  5.232808e-04 |\n",
       "|   0 |  5.9 |   0 |  5.232808e-04 |\n",
       "|   0 |  6.0 |   0 |  5.232808e-04 |\n",
       "|  27 |  7.7 |  24 |  2.373867e+01 |\n",
       "|   0 |  7.4 |   0 |  5.232808e-04 |\n",
       "|   0 |  7.1 |   0 |  5.232808e-04 |\n",
       "|   0 |  0.5 |   0 |  5.232808e-04 |\n",
       "|   1 |  0.0 |   1 |  9.999248e-01 |\n",
       "| 265 |  1.3 | 241 |  2.342449e+02 |\n",
       "| 530 |  4.9 | 465 |  4.550424e+02 |\n",
       "| 563 |  4.9 | 496 |  4.904442e+02 |\n",
       "| 320 |  4.2 | 286 |  2.853764e+02 |\n",
       "| ⋮ | ⋮ | ⋮ | ⋮ |\n",
       "|  0 | -3.4 |  0 | 5.232808e-04 |\n",
       "|  0 | -3.2 |  0 | 5.232808e-04 |\n",
       "|  0 | -3.1 |  0 | 5.232808e-04 |\n",
       "|  0 | -3.1 |  0 | 5.232808e-04 |\n",
       "| 18 | -2.4 | 17 | 1.696689e+01 |\n",
       "| 18 | -2.5 | 17 | 1.696689e+01 |\n",
       "|  0 | -2.6 |  0 | 5.232808e-04 |\n",
       "|  0 | -2.1 |  0 | 5.232808e-04 |\n",
       "|  0 | -1.9 |  0 | 5.232808e-04 |\n",
       "|  0 | -1.1 |  0 | 5.232808e-04 |\n",
       "|  0 | -1.1 |  0 | 5.232808e-04 |\n",
       "|  0 | -1.1 |  0 | 5.232808e-04 |\n",
       "| 13 | -0.5 | 12 | 1.192779e+01 |\n",
       "| 53 |  1.2 | 48 | 4.759235e+01 |\n",
       "| 47 |  1.4 | 43 | 4.231315e+01 |\n",
       "|  0 |  1.3 |  0 | 5.232808e-04 |\n",
       "|  0 |  1.8 |  0 | 5.232808e-04 |\n",
       "|  0 |  2.1 |  0 | 5.232808e-04 |\n",
       "|  1 |  4.7 |  1 | 9.999248e-01 |\n",
       "|  0 |  4.4 |  0 | 5.232808e-04 |\n",
       "|  0 |  4.2 |  0 | 5.232808e-04 |\n",
       "|  0 |  3.8 |  0 | 5.232808e-04 |\n",
       "|  0 |  0.3 |  0 | 5.232808e-04 |\n",
       "|  0 | -0.3 |  0 | 5.232808e-04 |\n",
       "|  6 | -0.8 |  6 | 4.909764e+00 |\n",
       "|  7 | -1.5 |  7 | 6.157676e+00 |\n",
       "|  1 | -1.4 |  1 | 9.999248e-01 |\n",
       "|  0 | -1.9 |  0 | 5.232808e-04 |\n",
       "|  0 | -2.5 |  0 | 5.232808e-04 |\n",
       "|  0 | -2.2 |  0 | 5.232808e-04 |\n",
       "\n"
      ],
      "text/plain": [
       "     G_Gk Ta   PV  .pred        \n",
       "1      0   9.1   0  5.012153e-04\n",
       "2      0  10.1   0  5.012153e-04\n",
       "3      0  10.0   0  5.012153e-04\n",
       "4      0   9.8   0  5.012153e-04\n",
       "5      0   9.5   0  5.012153e-04\n",
       "6      6   9.5   5  5.605088e+00\n",
       "7     12   9.4  11  1.054826e+01\n",
       "8     22   9.5  19  1.922590e+01\n",
       "9     20   9.5  17  1.749993e+01\n",
       "10     0   8.8   0 -3.863327e-03\n",
       "11     0   8.4   0  5.232808e-04\n",
       "12     0   6.9   0  5.232808e-04\n",
       "13     1   6.0   1  9.993303e-01\n",
       "14    30   6.0  27  2.696030e+01\n",
       "15    27   5.9  24  2.395029e+01\n",
       "16     1   5.6   1  9.999248e-01\n",
       "17     0   5.5   0  5.232808e-04\n",
       "18     0   4.8   0  5.232808e-04\n",
       "19     0   5.2   0  5.232808e-04\n",
       "20     0   5.9   0  5.232808e-04\n",
       "21     0   6.0   0  5.232808e-04\n",
       "22    27   7.7  24  2.373867e+01\n",
       "23     0   7.4   0  5.232808e-04\n",
       "24     0   7.1   0  5.232808e-04\n",
       "25     0   0.5   0  5.232808e-04\n",
       "26     1   0.0   1  9.999248e-01\n",
       "27   265   1.3 241  2.342449e+02\n",
       "28   530   4.9 465  4.550424e+02\n",
       "29   563   4.9 496  4.904442e+02\n",
       "30   320   4.2 286  2.853764e+02\n",
       "⋮    ⋮    ⋮    ⋮   ⋮            \n",
       "2599  0   -3.4  0  5.232808e-04 \n",
       "2600  0   -3.2  0  5.232808e-04 \n",
       "2601  0   -3.1  0  5.232808e-04 \n",
       "2602  0   -3.1  0  5.232808e-04 \n",
       "2603 18   -2.4 17  1.696689e+01 \n",
       "2604 18   -2.5 17  1.696689e+01 \n",
       "2605  0   -2.6  0  5.232808e-04 \n",
       "2606  0   -2.1  0  5.232808e-04 \n",
       "2607  0   -1.9  0  5.232808e-04 \n",
       "2608  0   -1.1  0  5.232808e-04 \n",
       "2609  0   -1.1  0  5.232808e-04 \n",
       "2610  0   -1.1  0  5.232808e-04 \n",
       "2611 13   -0.5 12  1.192779e+01 \n",
       "2612 53    1.2 48  4.759235e+01 \n",
       "2613 47    1.4 43  4.231315e+01 \n",
       "2614  0    1.3  0  5.232808e-04 \n",
       "2615  0    1.8  0  5.232808e-04 \n",
       "2616  0    2.1  0  5.232808e-04 \n",
       "2617  1    4.7  1  9.999248e-01 \n",
       "2618  0    4.4  0  5.232808e-04 \n",
       "2619  0    4.2  0  5.232808e-04 \n",
       "2620  0    3.8  0  5.232808e-04 \n",
       "2621  0    0.3  0  5.232808e-04 \n",
       "2622  0   -0.3  0  5.232808e-04 \n",
       "2623  6   -0.8  6  4.909764e+00 \n",
       "2624  7   -1.5  7  6.157676e+00 \n",
       "2625  1   -1.4  1  9.999248e-01 \n",
       "2626  0   -1.9  0  5.232808e-04 \n",
       "2627  0   -2.5  0  5.232808e-04 \n",
       "2628  0   -2.2  0  5.232808e-04 "
      ]
     },
     "metadata": {},
     "output_type": "display_data"
    }
   ],
   "source": [
    "# Extract trained workflow\n",
    "Saar_boost_model <- final_fit$.workflow[[1]]\n",
    "\n",
    "# Save trained workflow\n",
    "saveRDS(Saar_boost_model, 'Saar_boost_model.rds')\n",
    "\n",
    "# Load the model\n",
    "loaded_model <- readRDS(\"Saar_boost_model.rds\")\n",
    "\n",
    "# Extract predictors\n",
    "bike_new <- Saar_test %>% \n",
    "  dplyr::slice(5:9)\n",
    "\n",
    "# Use the model to predict rentals\n",
    "results_FN <- loaded_model %>% \n",
    "  augment(Saar_test)\n",
    "\n",
    "# See model predictions \n",
    "results_FN"
   ]
  },
  {
   "cell_type": "code",
   "execution_count": 64,
   "id": "97ca12fd",
   "metadata": {
    "vscode": {
     "languageId": "r"
    }
   },
   "outputs": [
    {
     "data": {
      "text/html": [
       "<table class=\"dataframe\">\n",
       "<caption>A tibble: 2628 × 5</caption>\n",
       "<thead>\n",
       "\t<tr><th scope=col>G_Gk</th><th scope=col>Ta</th><th scope=col>PV</th><th scope=col>.pred</th><th scope=col>predictions</th></tr>\n",
       "\t<tr><th scope=col>&lt;int&gt;</th><th scope=col>&lt;dbl&gt;</th><th scope=col>&lt;int&gt;</th><th scope=col>&lt;dbl&gt;</th><th scope=col>&lt;dbl&gt;</th></tr>\n",
       "</thead>\n",
       "<tbody>\n",
       "\t<tr><td>  0</td><td> 9.1</td><td>  0</td><td> 5.012153e-04</td><td>5.012153e-04</td></tr>\n",
       "\t<tr><td>  0</td><td>10.1</td><td>  0</td><td> 5.012153e-04</td><td>5.012153e-04</td></tr>\n",
       "\t<tr><td>  0</td><td>10.0</td><td>  0</td><td> 5.012153e-04</td><td>5.012153e-04</td></tr>\n",
       "\t<tr><td>  0</td><td> 9.8</td><td>  0</td><td> 5.012153e-04</td><td>5.012153e-04</td></tr>\n",
       "\t<tr><td>  0</td><td> 9.5</td><td>  0</td><td> 5.012153e-04</td><td>5.012153e-04</td></tr>\n",
       "\t<tr><td>  6</td><td> 9.5</td><td>  5</td><td> 5.605088e+00</td><td>5.605088e+00</td></tr>\n",
       "\t<tr><td> 12</td><td> 9.4</td><td> 11</td><td> 1.054826e+01</td><td>1.054826e+01</td></tr>\n",
       "\t<tr><td> 22</td><td> 9.5</td><td> 19</td><td> 1.922590e+01</td><td>1.922590e+01</td></tr>\n",
       "\t<tr><td> 20</td><td> 9.5</td><td> 17</td><td> 1.749993e+01</td><td>1.749993e+01</td></tr>\n",
       "\t<tr><td>  0</td><td> 8.8</td><td>  0</td><td>-3.863327e-03</td><td>0.000000e+00</td></tr>\n",
       "\t<tr><td>  0</td><td> 8.4</td><td>  0</td><td> 5.232808e-04</td><td>5.232808e-04</td></tr>\n",
       "\t<tr><td>  0</td><td> 6.9</td><td>  0</td><td> 5.232808e-04</td><td>5.232808e-04</td></tr>\n",
       "\t<tr><td>  1</td><td> 6.0</td><td>  1</td><td> 9.993303e-01</td><td>9.993303e-01</td></tr>\n",
       "\t<tr><td> 30</td><td> 6.0</td><td> 27</td><td> 2.696030e+01</td><td>2.696030e+01</td></tr>\n",
       "\t<tr><td> 27</td><td> 5.9</td><td> 24</td><td> 2.395029e+01</td><td>2.395029e+01</td></tr>\n",
       "\t<tr><td>  1</td><td> 5.6</td><td>  1</td><td> 9.999248e-01</td><td>9.999248e-01</td></tr>\n",
       "\t<tr><td>  0</td><td> 5.5</td><td>  0</td><td> 5.232808e-04</td><td>5.232808e-04</td></tr>\n",
       "\t<tr><td>  0</td><td> 4.8</td><td>  0</td><td> 5.232808e-04</td><td>5.232808e-04</td></tr>\n",
       "\t<tr><td>  0</td><td> 5.2</td><td>  0</td><td> 5.232808e-04</td><td>5.232808e-04</td></tr>\n",
       "\t<tr><td>  0</td><td> 5.9</td><td>  0</td><td> 5.232808e-04</td><td>5.232808e-04</td></tr>\n",
       "\t<tr><td>  0</td><td> 6.0</td><td>  0</td><td> 5.232808e-04</td><td>5.232808e-04</td></tr>\n",
       "\t<tr><td> 27</td><td> 7.7</td><td> 24</td><td> 2.373867e+01</td><td>2.373867e+01</td></tr>\n",
       "\t<tr><td>  0</td><td> 7.4</td><td>  0</td><td> 5.232808e-04</td><td>5.232808e-04</td></tr>\n",
       "\t<tr><td>  0</td><td> 7.1</td><td>  0</td><td> 5.232808e-04</td><td>5.232808e-04</td></tr>\n",
       "\t<tr><td>  0</td><td> 0.5</td><td>  0</td><td> 5.232808e-04</td><td>5.232808e-04</td></tr>\n",
       "\t<tr><td>  1</td><td> 0.0</td><td>  1</td><td> 9.999248e-01</td><td>9.999248e-01</td></tr>\n",
       "\t<tr><td>265</td><td> 1.3</td><td>241</td><td> 2.342449e+02</td><td>2.342449e+02</td></tr>\n",
       "\t<tr><td>530</td><td> 4.9</td><td>465</td><td> 4.550424e+02</td><td>4.550424e+02</td></tr>\n",
       "\t<tr><td>563</td><td> 4.9</td><td>496</td><td> 4.904442e+02</td><td>4.904442e+02</td></tr>\n",
       "\t<tr><td>320</td><td> 4.2</td><td>286</td><td> 2.853764e+02</td><td>2.853764e+02</td></tr>\n",
       "\t<tr><td>⋮</td><td>⋮</td><td>⋮</td><td>⋮</td><td>⋮</td></tr>\n",
       "\t<tr><td> 0</td><td>-3.4</td><td> 0</td><td>5.232808e-04</td><td>5.232808e-04</td></tr>\n",
       "\t<tr><td> 0</td><td>-3.2</td><td> 0</td><td>5.232808e-04</td><td>5.232808e-04</td></tr>\n",
       "\t<tr><td> 0</td><td>-3.1</td><td> 0</td><td>5.232808e-04</td><td>5.232808e-04</td></tr>\n",
       "\t<tr><td> 0</td><td>-3.1</td><td> 0</td><td>5.232808e-04</td><td>5.232808e-04</td></tr>\n",
       "\t<tr><td>18</td><td>-2.4</td><td>17</td><td>1.696689e+01</td><td>1.696689e+01</td></tr>\n",
       "\t<tr><td>18</td><td>-2.5</td><td>17</td><td>1.696689e+01</td><td>1.696689e+01</td></tr>\n",
       "\t<tr><td> 0</td><td>-2.6</td><td> 0</td><td>5.232808e-04</td><td>5.232808e-04</td></tr>\n",
       "\t<tr><td> 0</td><td>-2.1</td><td> 0</td><td>5.232808e-04</td><td>5.232808e-04</td></tr>\n",
       "\t<tr><td> 0</td><td>-1.9</td><td> 0</td><td>5.232808e-04</td><td>5.232808e-04</td></tr>\n",
       "\t<tr><td> 0</td><td>-1.1</td><td> 0</td><td>5.232808e-04</td><td>5.232808e-04</td></tr>\n",
       "\t<tr><td> 0</td><td>-1.1</td><td> 0</td><td>5.232808e-04</td><td>5.232808e-04</td></tr>\n",
       "\t<tr><td> 0</td><td>-1.1</td><td> 0</td><td>5.232808e-04</td><td>5.232808e-04</td></tr>\n",
       "\t<tr><td>13</td><td>-0.5</td><td>12</td><td>1.192779e+01</td><td>1.192779e+01</td></tr>\n",
       "\t<tr><td>53</td><td> 1.2</td><td>48</td><td>4.759235e+01</td><td>4.759235e+01</td></tr>\n",
       "\t<tr><td>47</td><td> 1.4</td><td>43</td><td>4.231315e+01</td><td>4.231315e+01</td></tr>\n",
       "\t<tr><td> 0</td><td> 1.3</td><td> 0</td><td>5.232808e-04</td><td>5.232808e-04</td></tr>\n",
       "\t<tr><td> 0</td><td> 1.8</td><td> 0</td><td>5.232808e-04</td><td>5.232808e-04</td></tr>\n",
       "\t<tr><td> 0</td><td> 2.1</td><td> 0</td><td>5.232808e-04</td><td>5.232808e-04</td></tr>\n",
       "\t<tr><td> 1</td><td> 4.7</td><td> 1</td><td>9.999248e-01</td><td>9.999248e-01</td></tr>\n",
       "\t<tr><td> 0</td><td> 4.4</td><td> 0</td><td>5.232808e-04</td><td>5.232808e-04</td></tr>\n",
       "\t<tr><td> 0</td><td> 4.2</td><td> 0</td><td>5.232808e-04</td><td>5.232808e-04</td></tr>\n",
       "\t<tr><td> 0</td><td> 3.8</td><td> 0</td><td>5.232808e-04</td><td>5.232808e-04</td></tr>\n",
       "\t<tr><td> 0</td><td> 0.3</td><td> 0</td><td>5.232808e-04</td><td>5.232808e-04</td></tr>\n",
       "\t<tr><td> 0</td><td>-0.3</td><td> 0</td><td>5.232808e-04</td><td>5.232808e-04</td></tr>\n",
       "\t<tr><td> 6</td><td>-0.8</td><td> 6</td><td>4.909764e+00</td><td>4.909764e+00</td></tr>\n",
       "\t<tr><td> 7</td><td>-1.5</td><td> 7</td><td>6.157676e+00</td><td>6.157676e+00</td></tr>\n",
       "\t<tr><td> 1</td><td>-1.4</td><td> 1</td><td>9.999248e-01</td><td>9.999248e-01</td></tr>\n",
       "\t<tr><td> 0</td><td>-1.9</td><td> 0</td><td>5.232808e-04</td><td>5.232808e-04</td></tr>\n",
       "\t<tr><td> 0</td><td>-2.5</td><td> 0</td><td>5.232808e-04</td><td>5.232808e-04</td></tr>\n",
       "\t<tr><td> 0</td><td>-2.2</td><td> 0</td><td>5.232808e-04</td><td>5.232808e-04</td></tr>\n",
       "</tbody>\n",
       "</table>\n"
      ],
      "text/latex": [
       "A tibble: 2628 × 5\n",
       "\\begin{tabular}{lllll}\n",
       " G\\_Gk & Ta & PV & .pred & predictions\\\\\n",
       " <int> & <dbl> & <int> & <dbl> & <dbl>\\\\\n",
       "\\hline\n",
       "\t   0 &  9.1 &   0 &  5.012153e-04 & 5.012153e-04\\\\\n",
       "\t   0 & 10.1 &   0 &  5.012153e-04 & 5.012153e-04\\\\\n",
       "\t   0 & 10.0 &   0 &  5.012153e-04 & 5.012153e-04\\\\\n",
       "\t   0 &  9.8 &   0 &  5.012153e-04 & 5.012153e-04\\\\\n",
       "\t   0 &  9.5 &   0 &  5.012153e-04 & 5.012153e-04\\\\\n",
       "\t   6 &  9.5 &   5 &  5.605088e+00 & 5.605088e+00\\\\\n",
       "\t  12 &  9.4 &  11 &  1.054826e+01 & 1.054826e+01\\\\\n",
       "\t  22 &  9.5 &  19 &  1.922590e+01 & 1.922590e+01\\\\\n",
       "\t  20 &  9.5 &  17 &  1.749993e+01 & 1.749993e+01\\\\\n",
       "\t   0 &  8.8 &   0 & -3.863327e-03 & 0.000000e+00\\\\\n",
       "\t   0 &  8.4 &   0 &  5.232808e-04 & 5.232808e-04\\\\\n",
       "\t   0 &  6.9 &   0 &  5.232808e-04 & 5.232808e-04\\\\\n",
       "\t   1 &  6.0 &   1 &  9.993303e-01 & 9.993303e-01\\\\\n",
       "\t  30 &  6.0 &  27 &  2.696030e+01 & 2.696030e+01\\\\\n",
       "\t  27 &  5.9 &  24 &  2.395029e+01 & 2.395029e+01\\\\\n",
       "\t   1 &  5.6 &   1 &  9.999248e-01 & 9.999248e-01\\\\\n",
       "\t   0 &  5.5 &   0 &  5.232808e-04 & 5.232808e-04\\\\\n",
       "\t   0 &  4.8 &   0 &  5.232808e-04 & 5.232808e-04\\\\\n",
       "\t   0 &  5.2 &   0 &  5.232808e-04 & 5.232808e-04\\\\\n",
       "\t   0 &  5.9 &   0 &  5.232808e-04 & 5.232808e-04\\\\\n",
       "\t   0 &  6.0 &   0 &  5.232808e-04 & 5.232808e-04\\\\\n",
       "\t  27 &  7.7 &  24 &  2.373867e+01 & 2.373867e+01\\\\\n",
       "\t   0 &  7.4 &   0 &  5.232808e-04 & 5.232808e-04\\\\\n",
       "\t   0 &  7.1 &   0 &  5.232808e-04 & 5.232808e-04\\\\\n",
       "\t   0 &  0.5 &   0 &  5.232808e-04 & 5.232808e-04\\\\\n",
       "\t   1 &  0.0 &   1 &  9.999248e-01 & 9.999248e-01\\\\\n",
       "\t 265 &  1.3 & 241 &  2.342449e+02 & 2.342449e+02\\\\\n",
       "\t 530 &  4.9 & 465 &  4.550424e+02 & 4.550424e+02\\\\\n",
       "\t 563 &  4.9 & 496 &  4.904442e+02 & 4.904442e+02\\\\\n",
       "\t 320 &  4.2 & 286 &  2.853764e+02 & 2.853764e+02\\\\\n",
       "\t ⋮ & ⋮ & ⋮ & ⋮ & ⋮\\\\\n",
       "\t  0 & -3.4 &  0 & 5.232808e-04 & 5.232808e-04\\\\\n",
       "\t  0 & -3.2 &  0 & 5.232808e-04 & 5.232808e-04\\\\\n",
       "\t  0 & -3.1 &  0 & 5.232808e-04 & 5.232808e-04\\\\\n",
       "\t  0 & -3.1 &  0 & 5.232808e-04 & 5.232808e-04\\\\\n",
       "\t 18 & -2.4 & 17 & 1.696689e+01 & 1.696689e+01\\\\\n",
       "\t 18 & -2.5 & 17 & 1.696689e+01 & 1.696689e+01\\\\\n",
       "\t  0 & -2.6 &  0 & 5.232808e-04 & 5.232808e-04\\\\\n",
       "\t  0 & -2.1 &  0 & 5.232808e-04 & 5.232808e-04\\\\\n",
       "\t  0 & -1.9 &  0 & 5.232808e-04 & 5.232808e-04\\\\\n",
       "\t  0 & -1.1 &  0 & 5.232808e-04 & 5.232808e-04\\\\\n",
       "\t  0 & -1.1 &  0 & 5.232808e-04 & 5.232808e-04\\\\\n",
       "\t  0 & -1.1 &  0 & 5.232808e-04 & 5.232808e-04\\\\\n",
       "\t 13 & -0.5 & 12 & 1.192779e+01 & 1.192779e+01\\\\\n",
       "\t 53 &  1.2 & 48 & 4.759235e+01 & 4.759235e+01\\\\\n",
       "\t 47 &  1.4 & 43 & 4.231315e+01 & 4.231315e+01\\\\\n",
       "\t  0 &  1.3 &  0 & 5.232808e-04 & 5.232808e-04\\\\\n",
       "\t  0 &  1.8 &  0 & 5.232808e-04 & 5.232808e-04\\\\\n",
       "\t  0 &  2.1 &  0 & 5.232808e-04 & 5.232808e-04\\\\\n",
       "\t  1 &  4.7 &  1 & 9.999248e-01 & 9.999248e-01\\\\\n",
       "\t  0 &  4.4 &  0 & 5.232808e-04 & 5.232808e-04\\\\\n",
       "\t  0 &  4.2 &  0 & 5.232808e-04 & 5.232808e-04\\\\\n",
       "\t  0 &  3.8 &  0 & 5.232808e-04 & 5.232808e-04\\\\\n",
       "\t  0 &  0.3 &  0 & 5.232808e-04 & 5.232808e-04\\\\\n",
       "\t  0 & -0.3 &  0 & 5.232808e-04 & 5.232808e-04\\\\\n",
       "\t  6 & -0.8 &  6 & 4.909764e+00 & 4.909764e+00\\\\\n",
       "\t  7 & -1.5 &  7 & 6.157676e+00 & 6.157676e+00\\\\\n",
       "\t  1 & -1.4 &  1 & 9.999248e-01 & 9.999248e-01\\\\\n",
       "\t  0 & -1.9 &  0 & 5.232808e-04 & 5.232808e-04\\\\\n",
       "\t  0 & -2.5 &  0 & 5.232808e-04 & 5.232808e-04\\\\\n",
       "\t  0 & -2.2 &  0 & 5.232808e-04 & 5.232808e-04\\\\\n",
       "\\end{tabular}\n"
      ],
      "text/markdown": [
       "\n",
       "A tibble: 2628 × 5\n",
       "\n",
       "| G_Gk &lt;int&gt; | Ta &lt;dbl&gt; | PV &lt;int&gt; | .pred &lt;dbl&gt; | predictions &lt;dbl&gt; |\n",
       "|---|---|---|---|---|\n",
       "|   0 |  9.1 |   0 |  5.012153e-04 | 5.012153e-04 |\n",
       "|   0 | 10.1 |   0 |  5.012153e-04 | 5.012153e-04 |\n",
       "|   0 | 10.0 |   0 |  5.012153e-04 | 5.012153e-04 |\n",
       "|   0 |  9.8 |   0 |  5.012153e-04 | 5.012153e-04 |\n",
       "|   0 |  9.5 |   0 |  5.012153e-04 | 5.012153e-04 |\n",
       "|   6 |  9.5 |   5 |  5.605088e+00 | 5.605088e+00 |\n",
       "|  12 |  9.4 |  11 |  1.054826e+01 | 1.054826e+01 |\n",
       "|  22 |  9.5 |  19 |  1.922590e+01 | 1.922590e+01 |\n",
       "|  20 |  9.5 |  17 |  1.749993e+01 | 1.749993e+01 |\n",
       "|   0 |  8.8 |   0 | -3.863327e-03 | 0.000000e+00 |\n",
       "|   0 |  8.4 |   0 |  5.232808e-04 | 5.232808e-04 |\n",
       "|   0 |  6.9 |   0 |  5.232808e-04 | 5.232808e-04 |\n",
       "|   1 |  6.0 |   1 |  9.993303e-01 | 9.993303e-01 |\n",
       "|  30 |  6.0 |  27 |  2.696030e+01 | 2.696030e+01 |\n",
       "|  27 |  5.9 |  24 |  2.395029e+01 | 2.395029e+01 |\n",
       "|   1 |  5.6 |   1 |  9.999248e-01 | 9.999248e-01 |\n",
       "|   0 |  5.5 |   0 |  5.232808e-04 | 5.232808e-04 |\n",
       "|   0 |  4.8 |   0 |  5.232808e-04 | 5.232808e-04 |\n",
       "|   0 |  5.2 |   0 |  5.232808e-04 | 5.232808e-04 |\n",
       "|   0 |  5.9 |   0 |  5.232808e-04 | 5.232808e-04 |\n",
       "|   0 |  6.0 |   0 |  5.232808e-04 | 5.232808e-04 |\n",
       "|  27 |  7.7 |  24 |  2.373867e+01 | 2.373867e+01 |\n",
       "|   0 |  7.4 |   0 |  5.232808e-04 | 5.232808e-04 |\n",
       "|   0 |  7.1 |   0 |  5.232808e-04 | 5.232808e-04 |\n",
       "|   0 |  0.5 |   0 |  5.232808e-04 | 5.232808e-04 |\n",
       "|   1 |  0.0 |   1 |  9.999248e-01 | 9.999248e-01 |\n",
       "| 265 |  1.3 | 241 |  2.342449e+02 | 2.342449e+02 |\n",
       "| 530 |  4.9 | 465 |  4.550424e+02 | 4.550424e+02 |\n",
       "| 563 |  4.9 | 496 |  4.904442e+02 | 4.904442e+02 |\n",
       "| 320 |  4.2 | 286 |  2.853764e+02 | 2.853764e+02 |\n",
       "| ⋮ | ⋮ | ⋮ | ⋮ | ⋮ |\n",
       "|  0 | -3.4 |  0 | 5.232808e-04 | 5.232808e-04 |\n",
       "|  0 | -3.2 |  0 | 5.232808e-04 | 5.232808e-04 |\n",
       "|  0 | -3.1 |  0 | 5.232808e-04 | 5.232808e-04 |\n",
       "|  0 | -3.1 |  0 | 5.232808e-04 | 5.232808e-04 |\n",
       "| 18 | -2.4 | 17 | 1.696689e+01 | 1.696689e+01 |\n",
       "| 18 | -2.5 | 17 | 1.696689e+01 | 1.696689e+01 |\n",
       "|  0 | -2.6 |  0 | 5.232808e-04 | 5.232808e-04 |\n",
       "|  0 | -2.1 |  0 | 5.232808e-04 | 5.232808e-04 |\n",
       "|  0 | -1.9 |  0 | 5.232808e-04 | 5.232808e-04 |\n",
       "|  0 | -1.1 |  0 | 5.232808e-04 | 5.232808e-04 |\n",
       "|  0 | -1.1 |  0 | 5.232808e-04 | 5.232808e-04 |\n",
       "|  0 | -1.1 |  0 | 5.232808e-04 | 5.232808e-04 |\n",
       "| 13 | -0.5 | 12 | 1.192779e+01 | 1.192779e+01 |\n",
       "| 53 |  1.2 | 48 | 4.759235e+01 | 4.759235e+01 |\n",
       "| 47 |  1.4 | 43 | 4.231315e+01 | 4.231315e+01 |\n",
       "|  0 |  1.3 |  0 | 5.232808e-04 | 5.232808e-04 |\n",
       "|  0 |  1.8 |  0 | 5.232808e-04 | 5.232808e-04 |\n",
       "|  0 |  2.1 |  0 | 5.232808e-04 | 5.232808e-04 |\n",
       "|  1 |  4.7 |  1 | 9.999248e-01 | 9.999248e-01 |\n",
       "|  0 |  4.4 |  0 | 5.232808e-04 | 5.232808e-04 |\n",
       "|  0 |  4.2 |  0 | 5.232808e-04 | 5.232808e-04 |\n",
       "|  0 |  3.8 |  0 | 5.232808e-04 | 5.232808e-04 |\n",
       "|  0 |  0.3 |  0 | 5.232808e-04 | 5.232808e-04 |\n",
       "|  0 | -0.3 |  0 | 5.232808e-04 | 5.232808e-04 |\n",
       "|  6 | -0.8 |  6 | 4.909764e+00 | 4.909764e+00 |\n",
       "|  7 | -1.5 |  7 | 6.157676e+00 | 6.157676e+00 |\n",
       "|  1 | -1.4 |  1 | 9.999248e-01 | 9.999248e-01 |\n",
       "|  0 | -1.9 |  0 | 5.232808e-04 | 5.232808e-04 |\n",
       "|  0 | -2.5 |  0 | 5.232808e-04 | 5.232808e-04 |\n",
       "|  0 | -2.2 |  0 | 5.232808e-04 | 5.232808e-04 |\n",
       "\n"
      ],
      "text/plain": [
       "     G_Gk Ta   PV  .pred         predictions \n",
       "1      0   9.1   0  5.012153e-04 5.012153e-04\n",
       "2      0  10.1   0  5.012153e-04 5.012153e-04\n",
       "3      0  10.0   0  5.012153e-04 5.012153e-04\n",
       "4      0   9.8   0  5.012153e-04 5.012153e-04\n",
       "5      0   9.5   0  5.012153e-04 5.012153e-04\n",
       "6      6   9.5   5  5.605088e+00 5.605088e+00\n",
       "7     12   9.4  11  1.054826e+01 1.054826e+01\n",
       "8     22   9.5  19  1.922590e+01 1.922590e+01\n",
       "9     20   9.5  17  1.749993e+01 1.749993e+01\n",
       "10     0   8.8   0 -3.863327e-03 0.000000e+00\n",
       "11     0   8.4   0  5.232808e-04 5.232808e-04\n",
       "12     0   6.9   0  5.232808e-04 5.232808e-04\n",
       "13     1   6.0   1  9.993303e-01 9.993303e-01\n",
       "14    30   6.0  27  2.696030e+01 2.696030e+01\n",
       "15    27   5.9  24  2.395029e+01 2.395029e+01\n",
       "16     1   5.6   1  9.999248e-01 9.999248e-01\n",
       "17     0   5.5   0  5.232808e-04 5.232808e-04\n",
       "18     0   4.8   0  5.232808e-04 5.232808e-04\n",
       "19     0   5.2   0  5.232808e-04 5.232808e-04\n",
       "20     0   5.9   0  5.232808e-04 5.232808e-04\n",
       "21     0   6.0   0  5.232808e-04 5.232808e-04\n",
       "22    27   7.7  24  2.373867e+01 2.373867e+01\n",
       "23     0   7.4   0  5.232808e-04 5.232808e-04\n",
       "24     0   7.1   0  5.232808e-04 5.232808e-04\n",
       "25     0   0.5   0  5.232808e-04 5.232808e-04\n",
       "26     1   0.0   1  9.999248e-01 9.999248e-01\n",
       "27   265   1.3 241  2.342449e+02 2.342449e+02\n",
       "28   530   4.9 465  4.550424e+02 4.550424e+02\n",
       "29   563   4.9 496  4.904442e+02 4.904442e+02\n",
       "30   320   4.2 286  2.853764e+02 2.853764e+02\n",
       "⋮    ⋮    ⋮    ⋮   ⋮             ⋮           \n",
       "2599  0   -3.4  0  5.232808e-04  5.232808e-04\n",
       "2600  0   -3.2  0  5.232808e-04  5.232808e-04\n",
       "2601  0   -3.1  0  5.232808e-04  5.232808e-04\n",
       "2602  0   -3.1  0  5.232808e-04  5.232808e-04\n",
       "2603 18   -2.4 17  1.696689e+01  1.696689e+01\n",
       "2604 18   -2.5 17  1.696689e+01  1.696689e+01\n",
       "2605  0   -2.6  0  5.232808e-04  5.232808e-04\n",
       "2606  0   -2.1  0  5.232808e-04  5.232808e-04\n",
       "2607  0   -1.9  0  5.232808e-04  5.232808e-04\n",
       "2608  0   -1.1  0  5.232808e-04  5.232808e-04\n",
       "2609  0   -1.1  0  5.232808e-04  5.232808e-04\n",
       "2610  0   -1.1  0  5.232808e-04  5.232808e-04\n",
       "2611 13   -0.5 12  1.192779e+01  1.192779e+01\n",
       "2612 53    1.2 48  4.759235e+01  4.759235e+01\n",
       "2613 47    1.4 43  4.231315e+01  4.231315e+01\n",
       "2614  0    1.3  0  5.232808e-04  5.232808e-04\n",
       "2615  0    1.8  0  5.232808e-04  5.232808e-04\n",
       "2616  0    2.1  0  5.232808e-04  5.232808e-04\n",
       "2617  1    4.7  1  9.999248e-01  9.999248e-01\n",
       "2618  0    4.4  0  5.232808e-04  5.232808e-04\n",
       "2619  0    4.2  0  5.232808e-04  5.232808e-04\n",
       "2620  0    3.8  0  5.232808e-04  5.232808e-04\n",
       "2621  0    0.3  0  5.232808e-04  5.232808e-04\n",
       "2622  0   -0.3  0  5.232808e-04  5.232808e-04\n",
       "2623  6   -0.8  6  4.909764e+00  4.909764e+00\n",
       "2624  7   -1.5  7  6.157676e+00  6.157676e+00\n",
       "2625  1   -1.4  1  9.999248e-01  9.999248e-01\n",
       "2626  0   -1.9  0  5.232808e-04  5.232808e-04\n",
       "2627  0   -2.5  0  5.232808e-04  5.232808e-04\n",
       "2628  0   -2.2  0  5.232808e-04  5.232808e-04"
      ]
     },
     "metadata": {},
     "output_type": "display_data"
    }
   ],
   "source": [
    "# Replace negatives in column StudyHours with the mean study hours\n",
    "results_FN <- results_FN %>%\n",
    "  mutate(predictions = replace(.pred, .pred < 0, 0))\n",
    "# Print the data frame\n",
    "results_FN\n"
   ]
  },
  {
   "cell_type": "code",
   "execution_count": 65,
   "id": "c377f870",
   "metadata": {
    "vscode": {
     "languageId": "r"
    }
   },
   "outputs": [
    {
     "ename": "ERROR",
     "evalue": "\u001b[1m\u001b[33mError\u001b[39m in \u001b[1m\u001b[1m`select()`:\u001b[22m\n\u001b[33m!\u001b[39m Can't subset columns that don't exist.\n\u001b[31m✖\u001b[39m Column `m` doesn't exist.\n",
     "output_type": "error",
     "traceback": [
      "\u001b[1m\u001b[33mError\u001b[39m in \u001b[1m\u001b[1m`select()`:\u001b[22m\n\u001b[33m!\u001b[39m Can't subset columns that don't exist.\n\u001b[31m✖\u001b[39m Column `m` doesn't exist.\nTraceback:\n",
      "1. results_FN %>% select(c(m, PV, predictions)) %>% ggplot(mapping = aes(x = m, \n .     y = PV - predictions))",
      "2. ggplot(., mapping = aes(x = m, y = PV - predictions))",
      "3. select(., c(m, PV, predictions))",
      "4. select.data.frame(., c(m, PV, predictions))",
      "5. tidyselect_fix_call(tidyselect::eval_select(expr(c(...)), .data), \n .     call = error_call)",
      "6. withCallingHandlers(expr, error = function(cnd) {\n .     cnd$call <- call\n .     cnd$parent <- NULL\n .     cnd_signal(cnd)\n . })",
      "7. tidyselect::eval_select(expr(c(...)), .data)",
      "8. eval_select_impl(data, names(data), as_quosure(expr, env), include = include, \n .     exclude = exclude, strict = strict, name_spec = name_spec, \n .     allow_rename = allow_rename, error_call = error_call, )",
      "9. with_subscript_errors(vars_select_eval(vars, expr, strict = strict, \n .     data = x, name_spec = name_spec, uniquely_named = uniquely_named, \n .     allow_rename = allow_rename, type = type, error_call = error_call), \n .     type = type)",
      "10. tryCatch(with_entraced_errors(expr), vctrs_error_subscript = function(cnd) {\n  .     cnd$subscript_action <- subscript_action(type)\n  .     cnd$subscript_elt <- \"column\"\n  .     cnd_signal(cnd)\n  . })",
      "11. tryCatchList(expr, classes, parentenv, handlers)",
      "12. tryCatchOne(expr, names, parentenv, handlers[[1L]])",
      "13. value[[3L]](cond)",
      "14. cnd_signal(cnd)",
      "15. signal_abort(cnd)",
      "16. signalCondition(cnd)",
      "17. (function (cnd) \n  . {\n  .     cnd$call <- call\n  .     cnd$parent <- NULL\n  .     cnd_signal(cnd)\n  . })(structure(list(message = \"\", trace = structure(list(call = list(\n  .     IRkernel::main(), kernel$run(), handle_shell(), executor$execute(msg), \n  .     tryCatch(evaluate(request$content$code, envir = .GlobalEnv, \n  .         output_handler = oh, stop_on_error = 1L), interrupt = function(cond) {\n  .         log_debug(\"Interrupt during execution\")\n  .         interrupted <<- TRUE\n  .     }, error = .self$handle_error), tryCatchList(expr, classes, \n  .         parentenv, handlers), tryCatchOne(tryCatchList(expr, \n  .         names[-nh], parentenv, handlers[-nh]), names[nh], parentenv, \n  .         handlers[[nh]]), doTryCatch(return(expr), name, parentenv, \n  .         handler), tryCatchList(expr, names[-nh], parentenv, handlers[-nh]), \n  .     tryCatchOne(expr, names, parentenv, handlers[[1L]]), doTryCatch(return(expr), \n  .         name, parentenv, handler), evaluate(request$content$code, \n  .         envir = .GlobalEnv, output_handler = oh, stop_on_error = 1L), \n  .     evaluate_call(expr, parsed$src[[i]], envir = envir, enclos = enclos, \n  .         debug = debug, last = i == length(out), use_try = stop_on_error != \n  .             2L, keep_warning = keep_warning, keep_message = keep_message, \n  .         output_handler = output_handler, include_timing = include_timing), \n  .     timing_fn(handle(ev <- withCallingHandlers(withVisible(eval_with_user_handlers(expr, \n  .         envir, enclos, user_handlers)), warning = wHandler, error = eHandler, \n  .         message = mHandler))), handle(ev <- withCallingHandlers(withVisible(eval_with_user_handlers(expr, \n  .         envir, enclos, user_handlers)), warning = wHandler, error = eHandler, \n  .         message = mHandler)), try(f, silent = TRUE), tryCatch(expr, \n  .         error = function(e) {\n  .             call <- conditionCall(e)\n  .             if (!is.null(call)) {\n  .                 if (identical(call[[1L]], quote(doTryCatch))) \n  .                   call <- sys.call(-4L)\n  .                 dcall <- deparse(call, nlines = 1L)\n  .                 prefix <- paste(\"Error in\", dcall, \": \")\n  .                 LONG <- 75L\n  .                 sm <- strsplit(conditionMessage(e), \"\\n\")[[1L]]\n  .                 w <- 14L + nchar(dcall, type = \"w\") + nchar(sm[1L], \n  .                   type = \"w\")\n  .                 if (is.na(w)) \n  .                   w <- 14L + nchar(dcall, type = \"b\") + nchar(sm[1L], \n  .                     type = \"b\")\n  .                 if (w > LONG) \n  .                   prefix <- paste0(prefix, \"\\n  \")\n  .             }\n  .             else prefix <- \"Error : \"\n  .             msg <- paste0(prefix, conditionMessage(e), \"\\n\")\n  .             .Internal(seterrmessage(msg[1L]))\n  .             if (!silent && isTRUE(getOption(\"show.error.messages\"))) {\n  .                 cat(msg, file = outFile)\n  .                 .Internal(printDeferredWarnings())\n  .             }\n  .             invisible(structure(msg, class = \"try-error\", condition = e))\n  .         }), tryCatchList(expr, classes, parentenv, handlers), \n  .     tryCatchOne(expr, names, parentenv, handlers[[1L]]), doTryCatch(return(expr), \n  .         name, parentenv, handler), withCallingHandlers(withVisible(eval_with_user_handlers(expr, \n  .         envir, enclos, user_handlers)), warning = wHandler, error = eHandler, \n  .         message = mHandler), withVisible(eval_with_user_handlers(expr, \n  .         envir, enclos, user_handlers)), eval_with_user_handlers(expr, \n  .         envir, enclos, user_handlers), eval(expr, envir, enclos), \n  .     eval(expr, envir, enclos), results_FN %>% select(c(m, PV, \n  .         predictions)) %>% ggplot(mapping = aes(x = m, y = PV - \n  .         predictions)), ggplot(., mapping = aes(x = m, y = PV - \n  .         predictions)), select(., c(m, PV, predictions)), select.data.frame(., \n  .         c(m, PV, predictions)), tidyselect_fix_call(tidyselect::eval_select(expr(c(...)), \n  .         .data), call = error_call), withCallingHandlers(expr, \n  .         error = function(cnd) {\n  .             cnd$call <- call\n  .             cnd$parent <- NULL\n  .             cnd_signal(cnd)\n  .         }), tidyselect::eval_select(expr(c(...)), .data), eval_select_impl(data, \n  .         names(data), as_quosure(expr, env), include = include, \n  .         exclude = exclude, strict = strict, name_spec = name_spec, \n  .         allow_rename = allow_rename, error_call = error_call, \n  .         ), with_subscript_errors(vars_select_eval(vars, expr, \n  .         strict = strict, data = x, name_spec = name_spec, uniquely_named = uniquely_named, \n  .         allow_rename = allow_rename, type = type, error_call = error_call), \n  .         type = type), tryCatch(with_entraced_errors(expr), vctrs_error_subscript = function(cnd) {\n  .         cnd$subscript_action <- subscript_action(type)\n  .         cnd$subscript_elt <- \"column\"\n  .         cnd_signal(cnd)\n  .     }), tryCatchList(expr, classes, parentenv, handlers), tryCatchOne(expr, \n  .         names, parentenv, handlers[[1L]]), doTryCatch(return(expr), \n  .         name, parentenv, handler), with_entraced_errors(expr), \n  .     try_fetch(expr, simpleError = function(cnd) {\n  .         abort(conditionMessage(cnd), call = conditionCall(cnd))\n  .     }), withCallingHandlers(expr, simpleError = function(cnd) {\n  .         {\n  .             .__handler_frame__. <- TRUE\n  .             .__setup_frame__. <- frame\n  .         }\n  .         out <- handlers[[1L]](cnd)\n  .         if (!inherits(out, \"rlang_zap\")) \n  .             throw(out)\n  .     }), vars_select_eval(vars, expr, strict = strict, data = x, \n  .         name_spec = name_spec, uniquely_named = uniquely_named, \n  .         allow_rename = allow_rename, type = type, error_call = error_call), \n  .     walk_data_tree(expr, data_mask, context_mask, error_call), \n  .     eval_c(expr, data_mask, context_mask), reduce_sels(node, \n  .         data_mask, context_mask, init = init), walk_data_tree(new, \n  .         data_mask, context_mask), eval_c(expr, data_mask, context_mask), \n  .     reduce_sels(node, data_mask, context_mask, init = init), \n  .     walk_data_tree(new, data_mask, context_mask), as_indices_sel_impl(out, \n  .         vars = vars, strict = strict, data = data, call = error_call), \n  .     as_indices_impl(x, vars, call = call, strict = strict), chr_as_locations(x, \n  .         vars, call = call), vctrs::vec_as_location(x, n = length(vars), \n  .         names = vars), `<fn>`(), stop_subscript_oob(i = i, subscript_type = subscript_type, \n  .         names = names, subscript_action = subscript_action, subscript_arg = subscript_arg, \n  .         call = call), stop_subscript(class = \"vctrs_error_subscript_oob\", \n  .         i = i, subscript_type = subscript_type, ..., call = call), \n  .     abort(class = c(class, \"vctrs_error_subscript\"), i = i, ..., \n  .         call = vctrs_error_call(call))), parent = c(0L, 1L, 2L, \n  . 3L, 4L, 5L, 6L, 7L, 6L, 9L, 10L, 4L, 12L, 13L, 13L, 15L, 16L, \n  . 17L, 18L, 19L, 13L, 13L, 13L, 23L, 24L, 0L, 0L, 0L, 0L, 29L, \n  . 30L, 29L, 32L, 33L, 34L, 35L, 36L, 37L, 34L, 39L, 40L, 33L, 42L, \n  . 43L, 44L, 45L, 46L, 47L, 48L, 49L, 50L, 51L, 52L, 53L, 54L, 55L, \n  . 56L), visible = c(TRUE, TRUE, TRUE, TRUE, TRUE, TRUE, TRUE, TRUE, \n  . TRUE, TRUE, TRUE, TRUE, TRUE, TRUE, TRUE, TRUE, TRUE, TRUE, TRUE, \n  . TRUE, TRUE, TRUE, TRUE, TRUE, TRUE, TRUE, TRUE, TRUE, TRUE, TRUE, \n  . TRUE, TRUE, TRUE, TRUE, TRUE, TRUE, TRUE, TRUE, TRUE, TRUE, TRUE, \n  . TRUE, TRUE, TRUE, TRUE, TRUE, TRUE, TRUE, TRUE, TRUE, TRUE, TRUE, \n  . FALSE, FALSE, FALSE, FALSE, FALSE), namespace = c(\"IRkernel\", \n  . NA, \"IRkernel\", NA, \"base\", \"base\", \"base\", \"base\", \"base\", \"base\", \n  . \"base\", \"evaluate\", \"evaluate\", \"evaluate\", \"evaluate\", \"base\", \n  . \"base\", \"base\", \"base\", \"base\", \"base\", \"base\", \"evaluate\", \"base\", \n  . \"base\", NA, \"ggplot2\", \"dplyr\", \"dplyr\", \"dplyr\", \"base\", \"tidyselect\", \n  . \"tidyselect\", \"tidyselect\", \"base\", \"base\", \"base\", \"base\", \"tidyselect\", \n  . \"rlang\", \"base\", \"tidyselect\", \"tidyselect\", \"tidyselect\", \"tidyselect\", \n  . \"tidyselect\", \"tidyselect\", \"tidyselect\", \"tidyselect\", \"tidyselect\", \n  . \"tidyselect\", \"tidyselect\", \"vctrs\", \"vctrs\", \"vctrs\", \"vctrs\", \n  . \"rlang\"), scope = c(\"::\", NA, \"local\", NA, \"::\", \"local\", \"local\", \n  . \"local\", \"local\", \"local\", \"local\", \"::\", \":::\", \"local\", \"local\", \n  . \"::\", \"::\", \"local\", \"local\", \"local\", \"::\", \"::\", \":::\", \"::\", \n  . \"::\", NA, \"::\", \"::\", \":::\", \":::\", \"::\", \"::\", \":::\", \":::\", \n  . \"::\", \"local\", \"local\", \"local\", \":::\", \"::\", \"::\", \":::\", \":::\", \n  . \":::\", \":::\", \":::\", \":::\", \":::\", \":::\", \":::\", \":::\", \":::\", \n  . \"::\", \"local\", \":::\", \":::\", \"::\"), error_frame = c(FALSE, FALSE, \n  . FALSE, FALSE, FALSE, FALSE, FALSE, FALSE, FALSE, FALSE, FALSE, \n  . FALSE, FALSE, FALSE, FALSE, FALSE, FALSE, FALSE, FALSE, FALSE, \n  . FALSE, FALSE, FALSE, FALSE, FALSE, FALSE, FALSE, FALSE, FALSE, \n  . FALSE, FALSE, FALSE, FALSE, FALSE, FALSE, FALSE, FALSE, FALSE, \n  . FALSE, FALSE, FALSE, FALSE, FALSE, FALSE, FALSE, FALSE, FALSE, \n  . FALSE, FALSE, FALSE, FALSE, TRUE, FALSE, FALSE, FALSE, FALSE, \n  . FALSE)), row.names = c(NA, -57L), version = 2L, class = c(\"rlang_trace\", \n  . \"rlib_trace\", \"tbl\", \"data.frame\")), parent = NULL, i = \"m\", \n  .     subscript_type = \"character\", names = c(\"G_Gk\", \"Ta\", \"PV\", \n  .     \".pred\", \"predictions\"), subscript_action = \"subset\", subscript_arg = \"x\", \n  .     call = chr_as_locations(x, vars, call = call), subscript_elt = \"column\"), class = c(\"vctrs_error_subscript_oob\", \n  . \"vctrs_error_subscript\", \"rlang_error\", \"error\", \"condition\")))",
      "18. cnd_signal(cnd)",
      "19. signal_abort(cnd)"
     ]
    }
   ],
   "source": [
    "\n",
    "theme_set(theme_light())\n",
    "Final_mplt <- results_FN %>% \n",
    "  select(c(m, PV , predictions)) %>% \n",
    "\n",
    "ggplot(mapping = aes(x = m, y = PV-predictions)) +\n",
    "  geom_boxplot()+\n",
    "  #, alpha = 0.9, show.legend = F) +\n",
    "  #facet_wrap(~ h, scales = 'free') +\n",
    "  # overlay regression line\n",
    "  ggtitle(\"\") +\n",
    "  xlab(\"Month\") +\n",
    "  ylab(\"Residuals\") +\n",
    "  paletteer::scale_fill_paletteer_d(\"tvthemes::simpsons\")+\n",
    "  theme(\n",
    "    panel.grid = element_blank(),\n",
    "    axis.text.x = element_text(angle = 60))+\n",
    "  theme(legend.position = c(0.9, 0.9), legend.background = element_blank(),\n",
    "      plot.title = element_text(color=\"black\", size=15, face=\"bold.italic\"),\n",
    "      axis.title.x = element_text(color=\"black\", size=15, face=\"bold\"),\n",
    "      axis.text.x = element_text(face=\"bold\", color=\"black\", size=14, angle = 0),\n",
    "      axis.title.y = element_text(color=\"black\", size=15, face=\"bold\"),\n",
    "      axis.text.y = element_text(face=\"bold\", color=\"black\", size=14),\n",
    "      axis.line = element_line(colour = \"darkblue\", size = 1,\n",
    "                               linetype = \"solid\"))\n",
    "\n",
    " #ggplot(mapping = aes(x = PV, y = predictions)) +\n",
    " # geom_point(color = '#4D3161FF') +\n",
    " # # overlay regression line\n",
    " # geom_smooth(method = 'lm', color = 'black', se = F) +\n",
    " # ggtitle(\"Daily Bike Share Predictions\") +\n",
    " # xlab(\"Actual Labels\") +\n",
    " # ylab(\"Predicted Labels\") +\n",
    " # theme(plot.title = element_text(hjust = 0.5))\n",
    "setwd(\"C:/Users/Daud/Google Drive/Phd Saarland/Paper by Dd/Phd_Themes/Res.2-Genration modeling (S-01.12.17)/Analysis of weather parameters/T1_RE_P2_Analysis_of_Solar_radiations-Saarbrucken_jan2018_files/New/\")\n",
    "#ggsave(\"./Pre.png\",Final_m_plt)\n",
    "ggsave(filename = \"MonRes.png\", width=10, height=5)\n",
    "#plt.plot\n",
    "\n",
    "list(Final_mplt)\n"
   ]
  },
  {
   "cell_type": "code",
   "execution_count": 46,
   "id": "63e00515",
   "metadata": {
    "vscode": {
     "languageId": "r"
    }
   },
   "outputs": [
    {
     "data": {
      "text/plain": [
       "[[1]]\n"
      ]
     },
     "metadata": {},
     "output_type": "display_data"
    },
    {
     "data": {
      "image/png": "[encoded data removed]",
      "text/plain": [
       "plot without title"
      ]
     },
     "metadata": {
      "image/png": {
       "height": 420,
       "width": 420
      }
     },
     "output_type": "display_data"
    }
   ],
   "source": [
    "theme_set(theme_light())\n",
    "Final_hplt <- results_FN %>% \n",
    "  select(c(h, PV , predictions)) %>% \n",
    "\n",
    "ggplot(mapping = aes(x = h, y = PV-predictions)) +\n",
    "  geom_boxplot()+\n",
    "  #, alpha = 0.9, show.legend = F) +\n",
    "  #facet_wrap(~ h, scales = 'free') +\n",
    "  ggtitle(\"\") +\n",
    "  xlab(\"Hour\") +\n",
    "  ylab(\"Residuals\") +\n",
    "  paletteer::scale_fill_paletteer_d(\"tvthemes::simpsons\")+\n",
    "  theme(\n",
    "    panel.grid = element_blank(),\n",
    "    axis.text.x = element_text(angle = 60))+\n",
    "  theme(legend.position = c(0.9, 0.9), legend.background = element_blank(),\n",
    "      plot.title = element_text(color=\"black\", size=15, face=\"bold.italic\"),\n",
    "      axis.title.x = element_text(color=\"black\", size=15, face=\"bold\"),\n",
    "      axis.text.x = element_text(face=\"bold\", color=\"black\", size=14, angle = 60),\n",
    "      axis.title.y = element_text(color=\"black\", size=15, face=\"bold\"),\n",
    "      axis.text.y = element_text(face=\"bold\", color=\"black\", size=14),\n",
    "      axis.line = element_line(colour = \"darkblue\", size = 1,\n",
    "                               linetype = \"solid\"))\n",
    "\n",
    "\n",
    "list(Final_hplt)\n",
    "\n",
    "setwd(\"C:/Users/Daud/Google Drive/Phd Saarland/Paper by Dd/Phd_Themes/Res.2-Genration modeling (S-01.12.17)/Analysis of weather parameters/T1_RE_P2_Analysis_of_Solar_radiations-Saarbrucken_jan2018_files/New/\")\n",
    "#ggsave(\"./Pre.png\",Final_m_plt)\n",
    "ggsave(filename = \"HrRes.png\", width=10, height=5)\n",
    "#plt.plot\n",
    "\n"
   ]
  },
  {
   "cell_type": "code",
   "execution_count": 47,
   "id": "84e093cb",
   "metadata": {
    "vscode": {
     "languageId": "r"
    }
   },
   "outputs": [
    {
     "ename": "ERROR",
     "evalue": "\u001b[1m\u001b[33mError\u001b[39m in \u001b[1m\u001b[1m`select()`:\u001b[22m\n\u001b[33m!\u001b[39m Can't subset columns that don't exist.\n\u001b[31m✖\u001b[39m Column `dm` doesn't exist.\n",
     "output_type": "error",
     "traceback": [
      "\u001b[1m\u001b[33mError\u001b[39m in \u001b[1m\u001b[1m`select()`:\u001b[22m\n\u001b[33m!\u001b[39m Can't subset columns that don't exist.\n\u001b[31m✖\u001b[39m Column `dm` doesn't exist.\nTraceback:\n",
      "1. results_FN %>% select(c(dm, PV, predictions)) %>% ggplot(mapping = aes(x = dm, \n .     y = PV - predictions))",
      "2. ggplot(., mapping = aes(x = dm, y = PV - predictions))",
      "3. select(., c(dm, PV, predictions))",
      "4. select.data.frame(., c(dm, PV, predictions))",
      "5. tidyselect_fix_call(tidyselect::eval_select(expr(c(...)), .data), \n .     call = error_call)",
      "6. withCallingHandlers(expr, error = function(cnd) {\n .     cnd$call <- call\n .     cnd$parent <- NULL\n .     cnd_signal(cnd)\n . })",
      "7. tidyselect::eval_select(expr(c(...)), .data)",
      "8. eval_select_impl(data, names(data), as_quosure(expr, env), include = include, \n .     exclude = exclude, strict = strict, name_spec = name_spec, \n .     allow_rename = allow_rename, error_call = error_call, )",
      "9. with_subscript_errors(vars_select_eval(vars, expr, strict = strict, \n .     data = x, name_spec = name_spec, uniquely_named = uniquely_named, \n .     allow_rename = allow_rename, type = type, error_call = error_call), \n .     type = type)",
      "10. tryCatch(with_entraced_errors(expr), vctrs_error_subscript = function(cnd) {\n  .     cnd$subscript_action <- subscript_action(type)\n  .     cnd$subscript_elt <- \"column\"\n  .     cnd_signal(cnd)\n  . })",
      "11. tryCatchList(expr, classes, parentenv, handlers)",
      "12. tryCatchOne(expr, names, parentenv, handlers[[1L]])",
      "13. value[[3L]](cond)",
      "14. cnd_signal(cnd)",
      "15. signal_abort(cnd)",
      "16. signalCondition(cnd)",
      "17. (function (cnd) \n  . {\n  .     cnd$call <- call\n  .     cnd$parent <- NULL\n  .     cnd_signal(cnd)\n  . })(structure(list(message = \"\", trace = structure(list(call = list(\n  .     IRkernel::main(), kernel$run(), handle_shell(), executor$execute(msg), \n  .     tryCatch(evaluate(request$content$code, envir = .GlobalEnv, \n  .         output_handler = oh, stop_on_error = 1L), interrupt = function(cond) {\n  .         log_debug(\"Interrupt during execution\")\n  .         interrupted <<- TRUE\n  .     }, error = .self$handle_error), tryCatchList(expr, classes, \n  .         parentenv, handlers), tryCatchOne(tryCatchList(expr, \n  .         names[-nh], parentenv, handlers[-nh]), names[nh], parentenv, \n  .         handlers[[nh]]), doTryCatch(return(expr), name, parentenv, \n  .         handler), tryCatchList(expr, names[-nh], parentenv, handlers[-nh]), \n  .     tryCatchOne(expr, names, parentenv, handlers[[1L]]), doTryCatch(return(expr), \n  .         name, parentenv, handler), evaluate(request$content$code, \n  .         envir = .GlobalEnv, output_handler = oh, stop_on_error = 1L), \n  .     evaluate_call(expr, parsed$src[[i]], envir = envir, enclos = enclos, \n  .         debug = debug, last = i == length(out), use_try = stop_on_error != \n  .             2L, keep_warning = keep_warning, keep_message = keep_message, \n  .         output_handler = output_handler, include_timing = include_timing), \n  .     timing_fn(handle(ev <- withCallingHandlers(withVisible(eval_with_user_handlers(expr, \n  .         envir, enclos, user_handlers)), warning = wHandler, error = eHandler, \n  .         message = mHandler))), handle(ev <- withCallingHandlers(withVisible(eval_with_user_handlers(expr, \n  .         envir, enclos, user_handlers)), warning = wHandler, error = eHandler, \n  .         message = mHandler)), try(f, silent = TRUE), tryCatch(expr, \n  .         error = function(e) {\n  .             call <- conditionCall(e)\n  .             if (!is.null(call)) {\n  .                 if (identical(call[[1L]], quote(doTryCatch))) \n  .                   call <- sys.call(-4L)\n  .                 dcall <- deparse(call, nlines = 1L)\n  .                 prefix <- paste(\"Error in\", dcall, \": \")\n  .                 LONG <- 75L\n  .                 sm <- strsplit(conditionMessage(e), \"\\n\")[[1L]]\n  .                 w <- 14L + nchar(dcall, type = \"w\") + nchar(sm[1L], \n  .                   type = \"w\")\n  .                 if (is.na(w)) \n  .                   w <- 14L + nchar(dcall, type = \"b\") + nchar(sm[1L], \n  .                     type = \"b\")\n  .                 if (w > LONG) \n  .                   prefix <- paste0(prefix, \"\\n  \")\n  .             }\n  .             else prefix <- \"Error : \"\n  .             msg <- paste0(prefix, conditionMessage(e), \"\\n\")\n  .             .Internal(seterrmessage(msg[1L]))\n  .             if (!silent && isTRUE(getOption(\"show.error.messages\"))) {\n  .                 cat(msg, file = outFile)\n  .                 .Internal(printDeferredWarnings())\n  .             }\n  .             invisible(structure(msg, class = \"try-error\", condition = e))\n  .         }), tryCatchList(expr, classes, parentenv, handlers), \n  .     tryCatchOne(expr, names, parentenv, handlers[[1L]]), doTryCatch(return(expr), \n  .         name, parentenv, handler), withCallingHandlers(withVisible(eval_with_user_handlers(expr, \n  .         envir, enclos, user_handlers)), warning = wHandler, error = eHandler, \n  .         message = mHandler), withVisible(eval_with_user_handlers(expr, \n  .         envir, enclos, user_handlers)), eval_with_user_handlers(expr, \n  .         envir, enclos, user_handlers), eval(expr, envir, enclos), \n  .     eval(expr, envir, enclos), results_FN %>% select(c(dm, PV, \n  .         predictions)) %>% ggplot(mapping = aes(x = dm, y = PV - \n  .         predictions)), ggplot(., mapping = aes(x = dm, y = PV - \n  .         predictions)), select(., c(dm, PV, predictions)), select.data.frame(., \n  .         c(dm, PV, predictions)), tidyselect_fix_call(tidyselect::eval_select(expr(c(...)), \n  .         .data), call = error_call), withCallingHandlers(expr, \n  .         error = function(cnd) {\n  .             cnd$call <- call\n  .             cnd$parent <- NULL\n  .             cnd_signal(cnd)\n  .         }), tidyselect::eval_select(expr(c(...)), .data), eval_select_impl(data, \n  .         names(data), as_quosure(expr, env), include = include, \n  .         exclude = exclude, strict = strict, name_spec = name_spec, \n  .         allow_rename = allow_rename, error_call = error_call, \n  .         ), with_subscript_errors(vars_select_eval(vars, expr, \n  .         strict = strict, data = x, name_spec = name_spec, uniquely_named = uniquely_named, \n  .         allow_rename = allow_rename, type = type, error_call = error_call), \n  .         type = type), tryCatch(with_entraced_errors(expr), vctrs_error_subscript = function(cnd) {\n  .         cnd$subscript_action <- subscript_action(type)\n  .         cnd$subscript_elt <- \"column\"\n  .         cnd_signal(cnd)\n  .     }), tryCatchList(expr, classes, parentenv, handlers), tryCatchOne(expr, \n  .         names, parentenv, handlers[[1L]]), doTryCatch(return(expr), \n  .         name, parentenv, handler), with_entraced_errors(expr), \n  .     try_fetch(expr, simpleError = function(cnd) {\n  .         abort(conditionMessage(cnd), call = conditionCall(cnd))\n  .     }), withCallingHandlers(expr, simpleError = function(cnd) {\n  .         {\n  .             .__handler_frame__. <- TRUE\n  .             .__setup_frame__. <- frame\n  .         }\n  .         out <- handlers[[1L]](cnd)\n  .         if (!inherits(out, \"rlang_zap\")) \n  .             throw(out)\n  .     }), vars_select_eval(vars, expr, strict = strict, data = x, \n  .         name_spec = name_spec, uniquely_named = uniquely_named, \n  .         allow_rename = allow_rename, type = type, error_call = error_call), \n  .     walk_data_tree(expr, data_mask, context_mask, error_call), \n  .     eval_c(expr, data_mask, context_mask), reduce_sels(node, \n  .         data_mask, context_mask, init = init), walk_data_tree(new, \n  .         data_mask, context_mask), eval_c(expr, data_mask, context_mask), \n  .     reduce_sels(node, data_mask, context_mask, init = init), \n  .     walk_data_tree(new, data_mask, context_mask), as_indices_sel_impl(out, \n  .         vars = vars, strict = strict, data = data, call = error_call), \n  .     as_indices_impl(x, vars, call = call, strict = strict), chr_as_locations(x, \n  .         vars, call = call), vctrs::vec_as_location(x, n = length(vars), \n  .         names = vars), `<fn>`(), stop_subscript_oob(i = i, subscript_type = subscript_type, \n  .         names = names, subscript_action = subscript_action, subscript_arg = subscript_arg, \n  .         call = call), stop_subscript(class = \"vctrs_error_subscript_oob\", \n  .         i = i, subscript_type = subscript_type, ..., call = call), \n  .     abort(class = c(class, \"vctrs_error_subscript\"), i = i, ..., \n  .         call = vctrs_error_call(call))), parent = c(0L, 1L, 2L, \n  . 3L, 4L, 5L, 6L, 7L, 6L, 9L, 10L, 4L, 12L, 13L, 13L, 15L, 16L, \n  . 17L, 18L, 19L, 13L, 13L, 13L, 23L, 24L, 0L, 0L, 0L, 0L, 29L, \n  . 30L, 29L, 32L, 33L, 34L, 35L, 36L, 37L, 34L, 39L, 40L, 33L, 42L, \n  . 43L, 44L, 45L, 46L, 47L, 48L, 49L, 50L, 51L, 52L, 53L, 54L, 55L, \n  . 56L), visible = c(TRUE, TRUE, TRUE, TRUE, TRUE, TRUE, TRUE, TRUE, \n  . TRUE, TRUE, TRUE, TRUE, TRUE, TRUE, TRUE, TRUE, TRUE, TRUE, TRUE, \n  . TRUE, TRUE, TRUE, TRUE, TRUE, TRUE, TRUE, TRUE, TRUE, TRUE, TRUE, \n  . TRUE, TRUE, TRUE, TRUE, TRUE, TRUE, TRUE, TRUE, TRUE, TRUE, TRUE, \n  . TRUE, TRUE, TRUE, TRUE, TRUE, TRUE, TRUE, TRUE, TRUE, TRUE, TRUE, \n  . FALSE, FALSE, FALSE, FALSE, FALSE), namespace = c(\"IRkernel\", \n  . NA, \"IRkernel\", NA, \"base\", \"base\", \"base\", \"base\", \"base\", \"base\", \n  . \"base\", \"evaluate\", \"evaluate\", \"evaluate\", \"evaluate\", \"base\", \n  . \"base\", \"base\", \"base\", \"base\", \"base\", \"base\", \"evaluate\", \"base\", \n  . \"base\", NA, \"ggplot2\", \"dplyr\", \"dplyr\", \"dplyr\", \"base\", \"tidyselect\", \n  . \"tidyselect\", \"tidyselect\", \"base\", \"base\", \"base\", \"base\", \"tidyselect\", \n  . \"rlang\", \"base\", \"tidyselect\", \"tidyselect\", \"tidyselect\", \"tidyselect\", \n  . \"tidyselect\", \"tidyselect\", \"tidyselect\", \"tidyselect\", \"tidyselect\", \n  . \"tidyselect\", \"tidyselect\", \"vctrs\", \"vctrs\", \"vctrs\", \"vctrs\", \n  . \"rlang\"), scope = c(\"::\", NA, \"local\", NA, \"::\", \"local\", \"local\", \n  . \"local\", \"local\", \"local\", \"local\", \"::\", \":::\", \"local\", \"local\", \n  . \"::\", \"::\", \"local\", \"local\", \"local\", \"::\", \"::\", \":::\", \"::\", \n  . \"::\", NA, \"::\", \"::\", \":::\", \":::\", \"::\", \"::\", \":::\", \":::\", \n  . \"::\", \"local\", \"local\", \"local\", \":::\", \"::\", \"::\", \":::\", \":::\", \n  . \":::\", \":::\", \":::\", \":::\", \":::\", \":::\", \":::\", \":::\", \":::\", \n  . \"::\", \"local\", \":::\", \":::\", \"::\"), error_frame = c(FALSE, FALSE, \n  . FALSE, FALSE, FALSE, FALSE, FALSE, FALSE, FALSE, FALSE, FALSE, \n  . FALSE, FALSE, FALSE, FALSE, FALSE, FALSE, FALSE, FALSE, FALSE, \n  . FALSE, FALSE, FALSE, FALSE, FALSE, FALSE, FALSE, FALSE, FALSE, \n  . FALSE, FALSE, FALSE, FALSE, FALSE, FALSE, FALSE, FALSE, FALSE, \n  . FALSE, FALSE, FALSE, FALSE, FALSE, FALSE, FALSE, FALSE, FALSE, \n  . FALSE, FALSE, FALSE, FALSE, TRUE, FALSE, FALSE, FALSE, FALSE, \n  . FALSE)), row.names = c(NA, -57L), version = 2L, class = c(\"rlang_trace\", \n  . \"rlib_trace\", \"tbl\", \"data.frame\")), parent = NULL, i = \"dm\", \n  .     subscript_type = \"character\", names = c(\"m\", \"h\", \"G_Gk\", \n  .     \"Ta\", \"FF\", \"PV\", \".pred\", \"predictions\"), subscript_action = \"subset\", \n  .     subscript_arg = \"x\", call = chr_as_locations(x, vars, call = call), \n  .     subscript_elt = \"column\"), class = c(\"vctrs_error_subscript_oob\", \n  . \"vctrs_error_subscript\", \"rlang_error\", \"error\", \"condition\")))",
      "18. cnd_signal(cnd)",
      "19. signal_abort(cnd)"
     ]
    }
   ],
   "source": [
    "theme_set(theme_light())\n",
    "Final_dmplt <- results_FN %>% \n",
    "  select(c(dm, PV , predictions)) %>% \n",
    "\n",
    "ggplot(mapping = aes(x = dm, y = PV-predictions)) +\n",
    "  geom_boxplot()+\n",
    "  #, alpha = 0.9, show.legend = F) +\n",
    "  #facet_wrap(~ h, scales = 'free') +\n",
    "  paletteer::scale_fill_paletteer_d(\"tvthemes::simpsons\")+\n",
    "  theme(\n",
    "    panel.grid = element_blank(),\n",
    "    axis.text.x = element_text(angle = 90))\n",
    "\n",
    " #ggplot(mapping = aes(x = PV, y = predictions)) +\n",
    " # geom_point(color = '#4D3161FF') +\n",
    " # # overlay regression line\n",
    " # geom_smooth(method = 'lm', color = 'black', se = F) +\n",
    " # ggtitle(\"Daily Bike Share Predictions\") +\n",
    " # xlab(\"Actual Labels\") +\n",
    " # ylab(\"Predicted Labels\") +\n",
    " # theme(plot.title = element_text(hjust = 0.5))\n",
    "\n",
    "\n",
    "list(Final_dmplt)"
   ]
  },
  {
   "cell_type": "code",
   "execution_count": 66,
   "id": "229af9a4",
   "metadata": {
    "vscode": {
     "languageId": "r"
    }
   },
   "outputs": [
    {
     "name": "stderr",
     "output_type": "stream",
     "text": [
      "`geom_smooth()` using formula 'y ~ x'\n",
      "\n"
     ]
    },
    {
     "data": {
      "text/plain": [
       "[[1]]\n",
       "\u001b[90m# A tibble: 4 × 3\u001b[39m\n",
       "  .metric .estimator .estimate\n",
       "  \u001b[3m\u001b[90m<chr>\u001b[39m\u001b[23m   \u001b[3m\u001b[90m<chr>\u001b[39m\u001b[23m          \u001b[3m\u001b[90m<dbl>\u001b[39m\u001b[23m\n",
       "\u001b[90m1\u001b[39m rmse    standard        2.72\n",
       "\u001b[90m2\u001b[39m rsq     standard        1.00\n",
       "\u001b[90m3\u001b[39m mae     standard        1.11\n",
       "\u001b[90m4\u001b[39m ccc     standard        1.00\n",
       "\n",
       "[[2]]\n"
      ]
     },
     "metadata": {},
     "output_type": "display_data"
    },
    {
     "data": {
      "image/png": "[encoded data removed]",
      "text/plain": [
       "plot without title"
      ]
     },
     "metadata": {
      "image/png": {
       "height": 420,
       "width": 420
      }
     },
     "output_type": "display_data"
    }
   ],
   "source": [
    "# For reproducibility\n",
    "set.seed(2056)\n",
    "\n",
    "# Evaluate the model\n",
    "boost_metrics <- eval_metrics(data = results_FN,\n",
    "                                  truth = PV,\n",
    "                                  estimate = predictions) \n",
    "\n",
    "# Plot predicted vs actual\n",
    "boost_plt <- results_FN %>% \n",
    "  ggplot(mapping = aes(x = PV, y = predictions)) +\n",
    "  geom_point(color = '#6CBE50FF') +\n",
    "  geom_smooth(method = 'lm', color = 'black', se = F) +\n",
    "  # overlay regression line\n",
    "  ggtitle(\"Normalized Boosting Ensemble Model\") +\n",
    "  xlab(\"Actual PV\") +\n",
    "  ylab(\"Predicted PV\") +\n",
    "  theme(plot.title = element_text(hjust = 0.5))+\n",
    "  theme(legend.position = c(0.9, 0.9), legend.background = element_blank(),\n",
    "      plot.title = element_text(color=\"black\", size=15, face=\"bold.italic\"),\n",
    "      axis.title.x = element_text(color=\"black\", size=15, face=\"bold\"),\n",
    "      axis.text.x = element_text(face=\"bold\", color=\"black\", size=14, angle = 0),\n",
    "      axis.title.y = element_text(color=\"black\", size=15, face=\"bold\"),\n",
    "      axis.text.y = element_text(face=\"bold\", color=\"black\", size=14),\n",
    "      axis.line = element_line(colour = \"darkblue\", size = 1,\n",
    "                               linetype = \"solid\"))\n",
    "\n",
    "# Return evaluations\n",
    "list(boost_metrics, boost_plt)"
   ]
  },
  {
   "cell_type": "code",
   "execution_count": 49,
   "id": "41affbc2",
   "metadata": {
    "vscode": {
     "languageId": "r"
    }
   },
   "outputs": [
    {
     "data": {
      "text/html": [
       "<ol>\n",
       "\t<li><table class=\"dataframe\">\n",
       "<caption>A tibble: 25 × 3</caption>\n",
       "<thead>\n",
       "\t<tr><th scope=col>h</th><th scope=col>mean_pv</th><th scope=col>mean_pre</th></tr>\n",
       "\t<tr><th scope=col>&lt;fct&gt;</th><th scope=col>&lt;dbl&gt;</th><th scope=col>&lt;dbl&gt;</th></tr>\n",
       "</thead>\n",
       "<tbody>\n",
       "\t<tr><td>0 </td><td>  0.0000000</td><td>1.518975e-04</td></tr>\n",
       "\t<tr><td>1 </td><td>  0.0000000</td><td>1.518358e-04</td></tr>\n",
       "\t<tr><td>2 </td><td>  0.0000000</td><td>1.427197e-04</td></tr>\n",
       "\t<tr><td>3 </td><td>  0.0000000</td><td>1.428477e-04</td></tr>\n",
       "\t<tr><td>4 </td><td>  0.0000000</td><td>1.777930e-04</td></tr>\n",
       "\t<tr><td>5 </td><td>  0.1081081</td><td>1.034824e-01</td></tr>\n",
       "\t<tr><td>6 </td><td>  6.6571429</td><td>6.687425e+00</td></tr>\n",
       "\t<tr><td>7 </td><td> 33.4380952</td><td>3.356073e+01</td></tr>\n",
       "\t<tr><td>8 </td><td> 84.8285714</td><td>8.490708e+01</td></tr>\n",
       "\t<tr><td>9 </td><td>161.8785047</td><td>1.616839e+02</td></tr>\n",
       "\t<tr><td>10</td><td>270.8672566</td><td>2.705080e+02</td></tr>\n",
       "\t<tr><td>11</td><td>374.6500000</td><td>3.742862e+02</td></tr>\n",
       "\t<tr><td>12</td><td>366.0434783</td><td>3.653616e+02</td></tr>\n",
       "\t<tr><td>13</td><td>376.3090909</td><td>3.760738e+02</td></tr>\n",
       "\t<tr><td>14</td><td>379.4017857</td><td>3.786888e+02</td></tr>\n",
       "\t<tr><td>15</td><td>350.6902655</td><td>3.499993e+02</td></tr>\n",
       "\t<tr><td>16</td><td>274.9702970</td><td>2.752727e+02</td></tr>\n",
       "\t<tr><td>17</td><td>161.4339623</td><td>1.612063e+02</td></tr>\n",
       "\t<tr><td>18</td><td> 93.0700000</td><td>9.338891e+01</td></tr>\n",
       "\t<tr><td>19</td><td> 29.3613445</td><td>2.956795e+01</td></tr>\n",
       "\t<tr><td>20</td><td>  7.6635514</td><td>7.666049e+00</td></tr>\n",
       "\t<tr><td>21</td><td>  0.2905983</td><td>2.876399e-01</td></tr>\n",
       "\t<tr><td>22</td><td>  0.0000000</td><td>2.452268e-04</td></tr>\n",
       "\t<tr><td>23</td><td>  0.0000000</td><td>2.005607e-04</td></tr>\n",
       "\t<tr><td>24</td><td>  0.0000000</td><td>1.654636e-04</td></tr>\n",
       "</tbody>\n",
       "</table>\n",
       "</li>\n",
       "</ol>\n"
      ],
      "text/latex": [
       "\\begin{enumerate}\n",
       "\\item A tibble: 25 × 3\n",
       "\\begin{tabular}{lll}\n",
       " h & mean\\_pv & mean\\_pre\\\\\n",
       " <fct> & <dbl> & <dbl>\\\\\n",
       "\\hline\n",
       "\t 0  &   0.0000000 & 1.518975e-04\\\\\n",
       "\t 1  &   0.0000000 & 1.518358e-04\\\\\n",
       "\t 2  &   0.0000000 & 1.427197e-04\\\\\n",
       "\t 3  &   0.0000000 & 1.428477e-04\\\\\n",
       "\t 4  &   0.0000000 & 1.777930e-04\\\\\n",
       "\t 5  &   0.1081081 & 1.034824e-01\\\\\n",
       "\t 6  &   6.6571429 & 6.687425e+00\\\\\n",
       "\t 7  &  33.4380952 & 3.356073e+01\\\\\n",
       "\t 8  &  84.8285714 & 8.490708e+01\\\\\n",
       "\t 9  & 161.8785047 & 1.616839e+02\\\\\n",
       "\t 10 & 270.8672566 & 2.705080e+02\\\\\n",
       "\t 11 & 374.6500000 & 3.742862e+02\\\\\n",
       "\t 12 & 366.0434783 & 3.653616e+02\\\\\n",
       "\t 13 & 376.3090909 & 3.760738e+02\\\\\n",
       "\t 14 & 379.4017857 & 3.786888e+02\\\\\n",
       "\t 15 & 350.6902655 & 3.499993e+02\\\\\n",
       "\t 16 & 274.9702970 & 2.752727e+02\\\\\n",
       "\t 17 & 161.4339623 & 1.612063e+02\\\\\n",
       "\t 18 &  93.0700000 & 9.338891e+01\\\\\n",
       "\t 19 &  29.3613445 & 2.956795e+01\\\\\n",
       "\t 20 &   7.6635514 & 7.666049e+00\\\\\n",
       "\t 21 &   0.2905983 & 2.876399e-01\\\\\n",
       "\t 22 &   0.0000000 & 2.452268e-04\\\\\n",
       "\t 23 &   0.0000000 & 2.005607e-04\\\\\n",
       "\t 24 &   0.0000000 & 1.654636e-04\\\\\n",
       "\\end{tabular}\n",
       "\n",
       "\\end{enumerate}\n"
      ],
      "text/markdown": [
       "1. \n",
       "A tibble: 25 × 3\n",
       "\n",
       "| h &lt;fct&gt; | mean_pv &lt;dbl&gt; | mean_pre &lt;dbl&gt; |\n",
       "|---|---|---|\n",
       "| 0  |   0.0000000 | 1.518975e-04 |\n",
       "| 1  |   0.0000000 | 1.518358e-04 |\n",
       "| 2  |   0.0000000 | 1.427197e-04 |\n",
       "| 3  |   0.0000000 | 1.428477e-04 |\n",
       "| 4  |   0.0000000 | 1.777930e-04 |\n",
       "| 5  |   0.1081081 | 1.034824e-01 |\n",
       "| 6  |   6.6571429 | 6.687425e+00 |\n",
       "| 7  |  33.4380952 | 3.356073e+01 |\n",
       "| 8  |  84.8285714 | 8.490708e+01 |\n",
       "| 9  | 161.8785047 | 1.616839e+02 |\n",
       "| 10 | 270.8672566 | 2.705080e+02 |\n",
       "| 11 | 374.6500000 | 3.742862e+02 |\n",
       "| 12 | 366.0434783 | 3.653616e+02 |\n",
       "| 13 | 376.3090909 | 3.760738e+02 |\n",
       "| 14 | 379.4017857 | 3.786888e+02 |\n",
       "| 15 | 350.6902655 | 3.499993e+02 |\n",
       "| 16 | 274.9702970 | 2.752727e+02 |\n",
       "| 17 | 161.4339623 | 1.612063e+02 |\n",
       "| 18 |  93.0700000 | 9.338891e+01 |\n",
       "| 19 |  29.3613445 | 2.956795e+01 |\n",
       "| 20 |   7.6635514 | 7.666049e+00 |\n",
       "| 21 |   0.2905983 | 2.876399e-01 |\n",
       "| 22 |   0.0000000 | 2.452268e-04 |\n",
       "| 23 |   0.0000000 | 2.005607e-04 |\n",
       "| 24 |   0.0000000 | 1.654636e-04 |\n",
       "\n",
       "\n",
       "\n",
       "\n"
      ],
      "text/plain": [
       "[[1]]\n",
       "\u001b[90m# A tibble: 25 × 3\u001b[39m\n",
       "   h     mean_pv   mean_pre\n",
       "   \u001b[3m\u001b[90m<fct>\u001b[39m\u001b[23m   \u001b[3m\u001b[90m<dbl>\u001b[39m\u001b[23m      \u001b[3m\u001b[90m<dbl>\u001b[39m\u001b[23m\n",
       "\u001b[90m 1\u001b[39m 0       0       0.000\u001b[4m1\u001b[24m\u001b[4m5\u001b[24m\u001b[4m2\u001b[24m\n",
       "\u001b[90m 2\u001b[39m 1       0       0.000\u001b[4m1\u001b[24m\u001b[4m5\u001b[24m\u001b[4m2\u001b[24m\n",
       "\u001b[90m 3\u001b[39m 2       0       0.000\u001b[4m1\u001b[24m\u001b[4m4\u001b[24m\u001b[4m3\u001b[24m\n",
       "\u001b[90m 4\u001b[39m 3       0       0.000\u001b[4m1\u001b[24m\u001b[4m4\u001b[24m\u001b[4m3\u001b[24m\n",
       "\u001b[90m 5\u001b[39m 4       0       0.000\u001b[4m1\u001b[24m\u001b[4m7\u001b[24m\u001b[4m8\u001b[24m\n",
       "\u001b[90m 6\u001b[39m 5       0.108   0.103   \n",
       "\u001b[90m 7\u001b[39m 6       6.66    6.69    \n",
       "\u001b[90m 8\u001b[39m 7      33.4    33.6     \n",
       "\u001b[90m 9\u001b[39m 8      84.8    84.9     \n",
       "\u001b[90m10\u001b[39m 9     162.    162.      \n",
       "\u001b[90m# … with 15 more rows\u001b[39m\n"
      ]
     },
     "metadata": {},
     "output_type": "display_data"
    }
   ],
   "source": [
    "Final_plt_h <- results_FN %>% \n",
    "  select(c(h, PV , predictions)) %>% \n",
    "  group_by(h)%>%\n",
    "  summarise(mean_pv = mean(PV),mean_pre = mean(predictions))\n",
    "  \n",
    "\n",
    "#ggplot(mapping = aes(x = h, y = PV)) +\n",
    "#  geom_boxplot()+\n",
    "  #, alpha = 0.9, show.legend = F) +\n",
    "  #facet_wrap(~ h, scales = 'free') +\n",
    " # paletteer::scale_fill_paletteer_d(\"tvthemes::simpsons\")+\n",
    " # theme(\n",
    " #   panel.grid = element_blank(),\n",
    " #   axis.text.x = element_text(angle = 90))\n",
    "\n",
    "list(Final_plt_h)"
   ]
  },
  {
   "cell_type": "code",
   "execution_count": 50,
   "id": "94f1c0ce",
   "metadata": {
    "vscode": {
     "languageId": "r"
    }
   },
   "outputs": [
    {
     "data": {
      "image/png": "[encoded data removed]",
      "text/plain": [
       "plot without title"
      ]
     },
     "metadata": {
      "image/png": {
       "height": 420,
       "width": 420
      }
     },
     "output_type": "display_data"
    }
   ],
   "source": [
    "df_final <- Final_plt_h %>% \n",
    "  select(h, mean_pv, mean_pre) %>%\n",
    "  #mutate(m = fct_reorder(m, .desc = TRUE)) %>% \n",
    "  pivot_longer(!h, names_to = \"Metrics\", values_to = \"Values\")\n",
    "\n",
    "# Compare numeric variables with bar plots\n",
    "ggplot(data = df_final) +\n",
    "  geom_bar(mapping = aes(x = h, y = Values, fill = factor(Metrics,labels=c(\"Predicted\",\"Measured\"))), alpha = 0.7, stat = \"identity\", position = position_dodge(width = 0.9)) +\n",
    "  xlab('Hour') +\n",
    "  ylab('PV values') +\n",
    "  scale_fill_paletteer_d(\"calecopal::kelp1\") +\n",
    "  theme(\n",
    "    panel.grid = element_blank(),\n",
    "    panel.grid.major.y = element_line(color = '#95a5a6',\n",
    "                                      linetype = 'dashed',\n",
    "                                      size = 0.5),\n",
    "    axis.text.x = element_text(angle = 90),\n",
    "    legend.title = element_blank()\n",
    "    \n",
    "  )+\n",
    "  theme(legend.position = c(0.9, 0.9), legend.background = element_blank(),\n",
    "      plot.title = element_text(color=\"black\", size=15, face=\"bold.italic\"),\n",
    "      axis.title.x = element_text(color=\"black\", size=15, face=\"bold\"),\n",
    "      axis.text.x = element_text(face=\"bold\", color=\"black\", size=14, angle = 0),\n",
    "      axis.title.y = element_text(color=\"black\", size=15, face=\"bold\"),\n",
    "      axis.text.y = element_text(face=\"bold\", color=\"black\", size=14),\n",
    "      axis.line = element_line(colour = \"darkblue\", size = 1,\n",
    "                               linetype = \"solid\"))\n",
    "\n",
    "setwd(\"C:/Users/Daud/Google Drive/Phd Saarland/Paper by Dd/Phd_Themes/Res.2-Genration modeling (S-01.12.17)/Analysis of weather parameters/T1_RE_P2_Analysis_of_Solar_radiations-Saarbrucken_jan2018_files/New/\")\n",
    "#ggsave(\"./Pre.png\",Final_m_plt)\n",
    "ggsave(filename = \"hpred.png\", width=10, height=5)\n",
    "#plt.plot\n"
   ]
  },
  {
   "cell_type": "code",
   "execution_count": 51,
   "id": "79f2f93f",
   "metadata": {
    "vscode": {
     "languageId": "r"
    }
   },
   "outputs": [],
   "source": [
    "#theme_set(theme_light())\n",
    "#r_int <- as.integer(Final_plt$mean_pre)\n",
    "#df<-data.frame(Final_plt$h,Final_plt$mean_pre, Final_plt$mean_pv)\n",
    "#g<-ggplot(df, aes(Final_plt$h, Final_plt$mean_pv))+ geom_bar(stat = \"identity\", colour=\"red\")\n",
    "#g<-g+geom_bar(data=df, aes(Final_plt$h, Final_plt$mean_pre), stat = \"identity\", colour=\"blue\")\n",
    "#print(g)"
   ]
  },
  {
   "cell_type": "code",
   "execution_count": 52,
   "id": "c926ffa4",
   "metadata": {
    "vscode": {
     "languageId": "r"
    }
   },
   "outputs": [
    {
     "ename": "ERROR",
     "evalue": "Error in data.frame(x = Final_plt$h, y = Final_plt$mean_pre): object 'Final_plt' not found\n",
     "output_type": "error",
     "traceback": [
      "Error in data.frame(x = Final_plt$h, y = Final_plt$mean_pre): object 'Final_plt' not found\nTraceback:\n",
      "1. data.frame(x = Final_plt$h, y = Final_plt$mean_pre)"
     ]
    }
   ],
   "source": [
    "df1<-data.frame(x=Final_plt$h,y=Final_plt$mean_pre)\n",
    "df2<-data.frame(x=Final_plt$h,y=Final_plt$mean_pv)\n",
    "df1\n",
    "ggplot(df1, aes(x,y))+geom_dotplot(aes(colour=\"red\"),binaxis = \"y\", stackdir = \"center\", fill = \"white\", stroke = 2)+\n",
    "  geom_dotplot(data = df2,aes(colour=\"blue\"),binaxis = \"y\", stackdir = \"center\",dotsize = 0.5)+\n",
    "  labs(color=\"Legend text\")\n",
    "\n",
    "\n",
    "#ggplot(data=Final_plt1,aes(x = h, y = mean_pre))+geom_line(aes(color=\"First line\"))+\n",
    "#  geom_line(data=Final_plt2,aes(color=\"Second line\"))+\n",
    "#  labs(color=\"Legend text\")"
   ]
  },
  {
   "cell_type": "code",
   "execution_count": 53,
   "id": "f744ec17",
   "metadata": {
    "vscode": {
     "languageId": "r"
    }
   },
   "outputs": [
    {
     "data": {
      "text/html": [
       "<table class=\"dataframe\">\n",
       "<caption>A tibble: 12 × 3</caption>\n",
       "<thead>\n",
       "\t<tr><th scope=col>m</th><th scope=col>mean_pv</th><th scope=col>mean_pre</th></tr>\n",
       "\t<tr><th scope=col>&lt;fct&gt;</th><th scope=col>&lt;dbl&gt;</th><th scope=col>&lt;dbl&gt;</th></tr>\n",
       "</thead>\n",
       "<tbody>\n",
       "\t<tr><td>1 </td><td> 59.48954</td><td> 59.00298</td></tr>\n",
       "\t<tr><td>2 </td><td> 79.57838</td><td> 79.00846</td></tr>\n",
       "\t<tr><td>3 </td><td>132.63393</td><td>132.55344</td></tr>\n",
       "\t<tr><td>4 </td><td>171.80303</td><td>171.45757</td></tr>\n",
       "\t<tr><td>5 </td><td>155.65899</td><td>156.28224</td></tr>\n",
       "\t<tr><td>6 </td><td>194.53488</td><td>194.85705</td></tr>\n",
       "\t<tr><td>7 </td><td>169.58261</td><td>169.93274</td></tr>\n",
       "\t<tr><td>8 </td><td>181.72458</td><td>181.80743</td></tr>\n",
       "\t<tr><td>9 </td><td>143.89720</td><td>143.54853</td></tr>\n",
       "\t<tr><td>10</td><td> 96.05150</td><td> 95.74863</td></tr>\n",
       "\t<tr><td>11</td><td> 53.67136</td><td> 53.35603</td></tr>\n",
       "\t<tr><td>12</td><td> 35.29018</td><td> 35.03396</td></tr>\n",
       "</tbody>\n",
       "</table>\n"
      ],
      "text/latex": [
       "A tibble: 12 × 3\n",
       "\\begin{tabular}{lll}\n",
       " m & mean\\_pv & mean\\_pre\\\\\n",
       " <fct> & <dbl> & <dbl>\\\\\n",
       "\\hline\n",
       "\t 1  &  59.48954 &  59.00298\\\\\n",
       "\t 2  &  79.57838 &  79.00846\\\\\n",
       "\t 3  & 132.63393 & 132.55344\\\\\n",
       "\t 4  & 171.80303 & 171.45757\\\\\n",
       "\t 5  & 155.65899 & 156.28224\\\\\n",
       "\t 6  & 194.53488 & 194.85705\\\\\n",
       "\t 7  & 169.58261 & 169.93274\\\\\n",
       "\t 8  & 181.72458 & 181.80743\\\\\n",
       "\t 9  & 143.89720 & 143.54853\\\\\n",
       "\t 10 &  96.05150 &  95.74863\\\\\n",
       "\t 11 &  53.67136 &  53.35603\\\\\n",
       "\t 12 &  35.29018 &  35.03396\\\\\n",
       "\\end{tabular}\n"
      ],
      "text/markdown": [
       "\n",
       "A tibble: 12 × 3\n",
       "\n",
       "| m &lt;fct&gt; | mean_pv &lt;dbl&gt; | mean_pre &lt;dbl&gt; |\n",
       "|---|---|---|\n",
       "| 1  |  59.48954 |  59.00298 |\n",
       "| 2  |  79.57838 |  79.00846 |\n",
       "| 3  | 132.63393 | 132.55344 |\n",
       "| 4  | 171.80303 | 171.45757 |\n",
       "| 5  | 155.65899 | 156.28224 |\n",
       "| 6  | 194.53488 | 194.85705 |\n",
       "| 7  | 169.58261 | 169.93274 |\n",
       "| 8  | 181.72458 | 181.80743 |\n",
       "| 9  | 143.89720 | 143.54853 |\n",
       "| 10 |  96.05150 |  95.74863 |\n",
       "| 11 |  53.67136 |  53.35603 |\n",
       "| 12 |  35.29018 |  35.03396 |\n",
       "\n"
      ],
      "text/plain": [
       "   m  mean_pv   mean_pre \n",
       "1  1   59.48954  59.00298\n",
       "2  2   79.57838  79.00846\n",
       "3  3  132.63393 132.55344\n",
       "4  4  171.80303 171.45757\n",
       "5  5  155.65899 156.28224\n",
       "6  6  194.53488 194.85705\n",
       "7  7  169.58261 169.93274\n",
       "8  8  181.72458 181.80743\n",
       "9  9  143.89720 143.54853\n",
       "10 10  96.05150  95.74863\n",
       "11 11  53.67136  53.35603\n",
       "12 12  35.29018  35.03396"
      ]
     },
     "metadata": {},
     "output_type": "display_data"
    },
    {
     "data": {
      "image/png": "[encoded data removed]",
      "text/plain": [
       "plot without title"
      ]
     },
     "metadata": {
      "image/png": {
       "height": 420,
       "width": 420
      }
     },
     "output_type": "display_data"
    }
   ],
   "source": [
    "Final_m_plt <- results_FN %>% \n",
    "  select(c(m, PV , predictions)) %>% \n",
    "  group_by(m)%>%\n",
    "  summarise(mean_pv = mean(PV),mean_pre = mean(predictions))\n",
    "  \n",
    "Final_m_plt\n",
    "\n",
    "dff_final <- Final_m_plt %>% \n",
    "  select(m, mean_pv, mean_pre) %>%\n",
    "  #mutate(m = fct_reorder(m, .desc = TRUE)) %>% \n",
    "  pivot_longer(!m, names_to = \"Metrics\", values_to = \"Values\")\n",
    "\n",
    "# Compare numeric variables with bar plots\n",
    "ggplot(data = dff_final) +\n",
    "  geom_bar(mapping = aes(x = m, y = Values, fill = factor(Metrics,labels=c(\"Predicted\",\"Measured\"))), alpha = 0.7, stat = \"identity\", position = position_dodge(width = 0.9)) +\n",
    "  xlab('Month') +\n",
    "  ylab('PV values') +\n",
    "  scale_fill_paletteer_d(\"calecopal::kelp1\") +\n",
    "  theme(\n",
    "    panel.grid = element_blank(),\n",
    "    panel.grid.major.y = element_line(color = '#95a5a6',\n",
    "                                      linetype = 'dashed',\n",
    "                                      size = 0.5),\n",
    "    axis.text.x = element_text(angle = 90),\n",
    "    legend.title = element_blank()\n",
    "    \n",
    "  )+\n",
    "  theme(legend.position = c(0.9, 0.9), legend.background = element_blank(),\n",
    "      plot.title = element_text(color=\"black\", size=15, face=\"bold.italic\"),\n",
    "      axis.title.x = element_text(color=\"black\", size=15, face=\"bold\"),\n",
    "      axis.text.x = element_text(face=\"bold\", color=\"black\", size=14, angle = 0),\n",
    "      axis.title.y = element_text(color=\"black\", size=15, face=\"bold\"),\n",
    "      axis.text.y = element_text(face=\"bold\", color=\"black\", size=14),\n",
    "      axis.line = element_line(colour = \"darkblue\", size = 1,\n",
    "                               linetype = \"solid\"))\n",
    "\n",
    "setwd(\"C:/Users/Daud/Google Drive/Phd Saarland/Paper by Dd/Phd_Themes/Res.2-Genration modeling (S-01.12.17)/Analysis of weather parameters/T1_RE_P2_Analysis_of_Solar_radiations-Saarbrucken_jan2018_files/New/\")\n",
    "#ggsave(\"./Pre.png\",Final_m_plt)\n",
    "ggsave(filename = \"mpred.png\", width=10, height=5)\n",
    "#plt.plot"
   ]
  }
 ],
 "metadata": {
  "kernelspec": {
   "display_name": "R",
   "language": "R",
   "name": "ir"
  },
  "language_info": {
   "codemirror_mode": "r",
   "file_extension": ".r",
   "mimetype": "text/x-r-source",
   "name": "R",
   "pygments_lexer": "r",
   "version": "4.2.1"
  }
 },
 "nbformat": 4,
 "nbformat_minor": 5
}
